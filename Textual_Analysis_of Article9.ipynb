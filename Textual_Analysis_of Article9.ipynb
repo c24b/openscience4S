{
 "cells": [
  {
   "cell_type": "markdown",
   "metadata": {},
   "source": [
    "# Textual analysis of the Article 9\n",
    "\n",
    "Analyse the main keywords relationship on the debate to find out the key and core concept of the debate on Open Science\n",
    "that took place inside the Digital Consultation on the French \n",
    "\n",
    "We will try then to enlight the main argument position of the groups involved in this debate\n",
    "\n",
    "\n"
   ]
  },
  {
   "cell_type": "code",
   "execution_count": 13,
   "metadata": {
    "collapsed": true
   },
   "outputs": [],
   "source": [
    "#coding: utf-8\n",
    "#importing modules\n",
    "#lecture des json\n",
    "#text-minig\n",
    "import re\n",
    "#viz\n",
    "import matplotlib\n",
    "import matplotlib.pyplot as plt\n",
    "#calcul\n",
    "import numpy as np\n",
    "from itertools import combinations\n",
    "%matplotlib inline"
   ]
  },
  {
   "cell_type": "markdown",
   "metadata": {},
   "source": [
    "## Text proposal on Article9: Versions of the text\n",
    "\n",
    "We will load the text law\n",
    "as it has been originally proposed by the governement inside **article9**\n",
    "* In a first draft we will concentrate ourself in the different modification proposed by the participants\n",
    "\n",
    "\n"
   ]
  },
  {
   "cell_type": "code",
   "execution_count": 14,
   "metadata": {
    "collapsed": true
   },
   "outputs": [],
   "source": [
    "def load_vo(art_file = \"./article_9.json\"):\n",
    "    with open(art_file, \"r\") as f:\n",
    "        article9 = json.load(f)\n",
    "    return article9\n",
    "article9 = load_vo()\n",
    "#remembering it for later\n",
    "#versions = article9[\"versions\"]\n",
    "#arguments = article9[\"arguments\"]\n",
    "#sources = article9[\"sources\"]\n"
   ]
  },
  {
   "cell_type": "code",
   "execution_count": 66,
   "metadata": {
    "collapsed": false
   },
   "outputs": [
    {
     "name": "stdout",
     "output_type": "stream",
     "text": [
      "KEYS OF THE ARTICLE: ['votes_nok', 'title', 'votes_ok', 'body_links', 'versions', 'article_link', 'arguments', 'sources_count', 'subtitle', 'ranking', 'sources', 'article_id', 'votes_total', 'arguments_count', 'updated_at', 'author', 'cat_id', 'versions_count', 'answer', 'body', 'body_anchors', 'created_at', 'votes_mitige']\n",
      "\ttitle:\n",
      " Section 2\n",
      "\tsubtitle:\n",
      " Travaux de recherche et de statistique\n",
      "\ttext:\n",
      " Au chapitre 3 du titre 3 du livre V du code de la recherche, il est inséré un article L. 533-4 ainsi rédigé :«Art. L. 533-4 –I. Lorsque un écrit scientifique, issu d’une activité de recherche financée au moins pour moitié par des fonds publics, est publié dans un périodique, un ouvrage paraissant au moins une fois par an, des actes de congrès ou de colloques ou des recueils de mélanges, son auteur, même en cas de cession exclusive à un éditeur, dispose du droit de mettre à disposition gratuitement sous une forme numérique, sous réserve des droits des éventuels coauteurs, la dernière version acceptée de son manuscrit par son éditeur et à l’exclusion du travail de mise en forme qui incombe à ce dernier, au terme d’un délai de douze mois pour les sciences, la technique et la médecine et de vingt-quatre mois pour les sciences humaines et sociales, à compter de date de la première publication. Cette mise à disposition ne peut donner lieu à aucune exploitation commerciale.« II. – Les dispositions du présent article sont d’ordre public et toute clause contraire à celles-ci est réputée non écrite. Elles ne s’appliquent pas aux contrats en cours. »\n",
      "\treferences:\n",
      " []\n"
     ]
    }
   ],
   "source": [
    "# here all the information keys on the article 9 in it's original version\n",
    "print(\"KEYS OF THE ARTICLE:\", list(article9.keys()))\n",
    "print(\"\\ttitle:\\n\", article9[\"title\"])\n",
    "print(\"\\tsubtitle:\\n\", article9[\"subtitle\"])\n",
    "print(\"\\ttext:\\n\", article9[\"body\"])\n",
    "print(\"\\treferences:\\n\", article9[\"body_anchors\"])\n",
    "#print(\"arguments\", article9[\"arguments\"])\n",
    "\n"
   ]
  },
  {
   "cell_type": "markdown",
   "metadata": {},
   "source": [
    "Let's concentrate ourself on the main body of the article. We will call it **VO** as it is the main original version.\n"
   ]
  },
  {
   "cell_type": "code",
   "execution_count": 49,
   "metadata": {
    "collapsed": false
   },
   "outputs": [],
   "source": [
    "V0 = article9[\"body\"]\n"
   ]
  },
  {
   "cell_type": "markdown",
   "metadata": {},
   "source": [
    "We will clean out the text removing all the ponctuation, number and small words by creating a function"
   ]
  },
  {
   "cell_type": "code",
   "execution_count": 58,
   "metadata": {
    "collapsed": false
   },
   "outputs": [],
   "source": [
    "def clean_text(text):\n",
    "    #text = text.decode(\"utf-8\")\n",
    "    #regex expression that says remove all the non alpha caracters\n",
    "    clean_text = re.sub('[^\\w]', ' ', text)\n",
    "    #split word\n",
    "    words = clean_text.split(' ')\n",
    "    #lowercas + filter small words such as article or prepositions\n",
    "    return [w.lower() for w in words if len(w) > 3 and w != '']"
   ]
  },
  {
   "cell_type": "code",
   "execution_count": 62,
   "metadata": {
    "collapsed": false
   },
   "outputs": [
    {
     "name": "stdout",
     "output_type": "stream",
     "text": [
      "106 keywords\n",
      "['chapitre', 'titre', 'livre', 'code', 'recherche', 'inséré', 'article', 'ainsi', 'rédigé', 'lorsque', 'écrit', 'scientifique', 'issu', 'activité', 'recherche', 'financée', 'moins', 'pour', 'moitié', 'fonds', 'publics', 'publié', 'dans', 'périodique', 'ouvrage', 'paraissant', 'moins', 'fois', 'actes', 'congrès', 'colloques', 'recueils', 'mélanges', 'auteur', 'même', 'cession', 'exclusive', 'éditeur', 'dispose', 'droit', 'mettre', 'disposition', 'gratuitement', 'sous', 'forme', 'numérique', 'sous', 'réserve', 'droits', 'éventuels', 'coauteurs', 'dernière', 'version', 'acceptée', 'manuscrit', 'éditeur', 'exclusion', 'travail', 'mise', 'forme', 'incombe', 'dernier', 'terme', 'délai', 'douze', 'mois', 'pour', 'sciences', 'technique', 'médecine', 'vingt', 'quatre', 'mois', 'pour', 'sciences', 'humaines', 'sociales', 'compter', 'date', 'première', 'publication', 'cette', 'mise', 'disposition', 'peut', 'donner', 'lieu', 'aucune', 'exploitation', 'commerciale', 'dispositions', 'présent', 'article', 'sont', 'ordre', 'public', 'toute', 'clause', 'contraire', 'celles', 'réputée', 'écrite', 'elles', 'appliquent', 'contrats', 'cours']\n"
     ]
    }
   ],
   "source": [
    "clean_V0 = clean_text(V0)\n",
    "print(len(clean_V0),\"keywords\")\n",
    "print(clean_V0)"
   ]
  },
  {
   "cell_type": "markdown",
   "metadata": {},
   "source": [
    "Ok so now we have a function to clean up text will will apply it to **ALL** versions of the article\n",
    "Remember: They are stored in 'versions' key of the main article9 dictionnary and they are composed with the same information of the original article but the main body text is stored in after. \n",
    "It means that for the moment we will make 2 operations:\n",
    "* create a main list with all the keywords\n",
    "* agregate in a list all the text of the different versions to differenciate them will will store the date of the version, the title and the bunch of words from the cleaned text.\n",
    "Let's do it first with the original version\n"
   ]
  },
  {
   "cell_type": "code",
   "execution_count": 100,
   "metadata": {
    "collapsed": false
   },
   "outputs": [],
   "source": [
    "versions_text = []\n",
    "keywords = []\n",
    "versions_text.append([0, article9[\"created_at\"], clean_text(article9[\"body\"])])\n",
    "keywords.extend([w for w in clean_text(article9[\"body\"])])"
   ]
  },
  {
   "cell_type": "code",
   "execution_count": 101,
   "metadata": {
    "collapsed": false
   },
   "outputs": [],
   "source": [
    "for i,version in enumerate(article9[\"versions\"]):\n",
    "    #i is the number of the version but we already have the original version at 0\n",
    "    i = i+1\n",
    "    #print(version.keys())\n",
    "    versions_text.append([i, version[\"created_at\"], clean_text(version[\"after\"])])\n",
    "    \n",
    "    \n",
    "    keywords.extend(clean_text(version[\"after\"]))\n",
    "    "
   ]
  },
  {
   "cell_type": "code",
   "execution_count": 102,
   "metadata": {
    "collapsed": false
   },
   "outputs": [
    {
     "name": "stdout",
     "output_type": "stream",
     "text": [
      "109 versions\n"
     ]
    }
   ],
   "source": [
    "print(len(versions_text), \"versions\")"
   ]
  },
  {
   "cell_type": "code",
   "execution_count": 105,
   "metadata": {
    "collapsed": false
   },
   "outputs": [
    {
     "name": "stdout",
     "output_type": "stream",
     "text": [
      "Counter({'pour': 327, 'forme': 218, 'moins': 218, 'disposition': 218, 'mise': 218, 'sciences': 218, 'sous': 218, 'éditeur': 218, 'mois': 218, 'article': 110, 'recherche': 110, 'droits': 109, 'dans': 109, 'financée': 109, 'ouvrage': 109, 'même': 109, 'recueils': 109, 'exclusion': 109, 'aucune': 109, 'clause': 109, 'publication': 109, 'gratuitement': 109, 'ordre': 109, 'manuscrit': 109, 'cours': 109, 'activité': 109, 'numérique': 109, 'éventuels': 109, 'lieu': 109, 'mélanges': 109, 'médecine': 109, 'cession': 109, 'colloques': 109, 'dernière': 109, 'quatre': 109, 'dispositions': 109, 'sociales': 109, 'contraire': 109, 'dernier': 109, 'public': 109, 'moitié': 109, 'actes': 109, 'réputée': 109, 'technique': 109, 'congrès': 109, 'contrats': 109, 'écrite': 109, 'douze': 109, 'périodique': 109, 'vingt': 109, 'dispose': 109, 'humaines': 109, 'cette': 109, 'paraissant': 109, 'sont': 109, 'compter': 109, 'publics': 109, 'incombe': 109, 'exploitation': 109, 'écrit': 109, 'appliquent': 109, 'commerciale': 109, 'issu': 109, 'elles': 109, 'exclusive': 109, 'fois': 109, 'auteur': 109, 'première': 109, 'lorsque': 109, 'version': 109, 'date': 109, 'délai': 109, 'mettre': 109, 'scientifique': 109, 'réserve': 109, 'travail': 109, 'présent': 109, 'fonds': 109, 'acceptée': 109, 'publié': 109, 'celles': 109, 'toute': 109, 'peut': 109, 'terme': 109, 'donner': 109, 'auteurs': 108, 'dudroit': 108, 'coauteurs': 1, 'livre': 1, 'ainsi': 1, 'droit': 1, 'code': 1, 'inséré': 1, 'titre': 1, 'chapitre': 1, 'rédigé': 1})\n"
     ]
    }
   ],
   "source": [
    "#Let's first agregate all the keywords of all the version and discover the top keywords\n",
    "from collections import Counter\n",
    "#print(len(keywords))\n",
    "#print(keywords)\n",
    "keywords_freq = Counter(keywords)\n",
    "print(keywords_freq)"
   ]
  },
  {
   "cell_type": "code",
   "execution_count": 117,
   "metadata": {
    "collapsed": false
   },
   "outputs": [
    {
     "name": "stdout",
     "output_type": "stream",
     "text": [
      "Version 2 changed this ['coauteurs', 'livre', 'ainsi', 'auteurs', 'droit', 'code', 'inséré', 'titre', 'dudroit', 'chapitre', 'rédigé']\n",
      "Version 3 changed this []\n",
      "Version 4 changed this []\n",
      "Version 5 changed this []\n",
      "Version 6 changed this []\n",
      "Version 7 changed this []\n",
      "Version 8 changed this []\n",
      "Version 9 changed this []\n",
      "Version 10 changed this []\n",
      "Version 11 changed this []\n",
      "Version 12 changed this []\n",
      "Version 13 changed this []\n",
      "Version 14 changed this []\n",
      "Version 15 changed this []\n",
      "Version 16 changed this []\n",
      "Version 17 changed this []\n",
      "Version 18 changed this []\n",
      "Version 19 changed this []\n",
      "Version 20 changed this []\n",
      "Version 21 changed this []\n",
      "Version 22 changed this []\n",
      "Version 23 changed this []\n",
      "Version 24 changed this []\n",
      "Version 25 changed this []\n",
      "Version 26 changed this []\n",
      "Version 27 changed this []\n",
      "Version 28 changed this []\n",
      "Version 29 changed this []\n",
      "Version 30 changed this []\n",
      "Version 31 changed this []\n",
      "Version 32 changed this []\n",
      "Version 33 changed this []\n",
      "Version 34 changed this []\n",
      "Version 35 changed this []\n",
      "Version 36 changed this []\n",
      "Version 37 changed this []\n",
      "Version 38 changed this []\n",
      "Version 39 changed this []\n",
      "Version 40 changed this []\n",
      "Version 41 changed this []\n",
      "Version 42 changed this []\n",
      "Version 43 changed this []\n",
      "Version 44 changed this []\n",
      "Version 45 changed this []\n",
      "Version 46 changed this []\n",
      "Version 47 changed this []\n",
      "Version 48 changed this []\n",
      "Version 49 changed this []\n",
      "Version 50 changed this []\n",
      "Version 51 changed this []\n",
      "Version 52 changed this []\n",
      "Version 53 changed this []\n",
      "Version 54 changed this []\n",
      "Version 55 changed this []\n",
      "Version 56 changed this []\n",
      "Version 57 changed this []\n",
      "Version 58 changed this []\n",
      "Version 59 changed this []\n",
      "Version 60 changed this []\n",
      "Version 61 changed this []\n",
      "Version 62 changed this []\n",
      "Version 63 changed this []\n",
      "Version 64 changed this []\n",
      "Version 65 changed this []\n",
      "Version 66 changed this []\n",
      "Version 67 changed this []\n",
      "Version 68 changed this []\n",
      "Version 69 changed this []\n",
      "Version 70 changed this []\n",
      "Version 71 changed this []\n",
      "Version 72 changed this []\n",
      "Version 73 changed this []\n",
      "Version 74 changed this []\n",
      "Version 75 changed this []\n",
      "Version 76 changed this []\n",
      "Version 77 changed this []\n",
      "Version 78 changed this []\n",
      "Version 79 changed this []\n",
      "Version 80 changed this []\n",
      "Version 81 changed this []\n",
      "Version 82 changed this []\n",
      "Version 83 changed this []\n",
      "Version 84 changed this []\n",
      "Version 85 changed this []\n",
      "Version 86 changed this []\n",
      "Version 87 changed this []\n",
      "Version 88 changed this []\n",
      "Version 89 changed this []\n",
      "Version 90 changed this []\n",
      "Version 91 changed this []\n",
      "Version 92 changed this []\n",
      "Version 93 changed this []\n",
      "Version 94 changed this []\n",
      "Version 95 changed this []\n",
      "Version 96 changed this []\n",
      "Version 97 changed this []\n",
      "Version 98 changed this []\n",
      "Version 99 changed this []\n",
      "Version 100 changed this []\n",
      "Version 101 changed this []\n",
      "Version 102 changed this []\n",
      "Version 103 changed this []\n",
      "Version 104 changed this []\n",
      "Version 105 changed this []\n",
      "Version 106 changed this []\n",
      "Version 107 changed this []\n",
      "Version 108 changed this []\n",
      "Version 109 changed this []\n"
     ]
    }
   ],
   "source": [
    "#Lets see the changes between versions\n",
    "\n",
    "for version in versions_text:\n",
    "    #we already stored 3 info nb, data and keywords\n",
    "    nb, date, keywords = version\n",
    "    \n",
    "    \n",
    "    if nb == 0:\n",
    "        pass\n",
    "    else:\n",
    "        \n",
    "        old_kw = versions_text[int(nb-1)][2]\n",
    "        \n",
    "        #let's compare what they didn't change\n",
    "        commons = set(keywords).intersection(old_kw)\n",
    "        changed = set(old_kw) ^ set(keywords)\n",
    "        print(\"Version\", nb+1, \"changed this\", list(changed))\n",
    "        #print(commons)\n",
    "    "
   ]
  },
  {
   "cell_type": "markdown",
   "metadata": {},
   "source": [
    "Nothing changed between versions so far. the debate is not focused on the text then but on the arguments and the comment of the modifications. We can see changes maybe because the may modification were light and not included in our filter system for word."
   ]
  },
  {
   "cell_type": "markdown",
   "metadata": {},
   "source": [
    "* In a second darft we will concentrate on arguments proposed to enlight a particular position.\n",
    "\n",
    "## Text proposal on Article9: Arguments"
   ]
  },
  {
   "cell_type": "code",
   "execution_count": null,
   "metadata": {
    "collapsed": true
   },
   "outputs": [],
   "source": []
  }
 ],
 "metadata": {
  "kernelspec": {
   "display_name": "Python 3",
   "language": "python",
   "name": "python3"
  },
  "language_info": {
   "codemirror_mode": {
    "name": "ipython",
    "version": 3
   },
   "file_extension": ".py",
   "mimetype": "text/x-python",
   "name": "python",
   "nbconvert_exporter": "python",
   "pygments_lexer": "ipython3",
   "version": "3.5.2"
  }
 },
 "nbformat": 4,
 "nbformat_minor": 0
}
