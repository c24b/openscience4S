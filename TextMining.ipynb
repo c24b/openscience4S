{
 "cells": [
  {
   "cell_type": "markdown",
   "metadata": {},
   "source": [
    "## Analyse textuelle du débat sur l'Article 9"
   ]
  },
  {
   "cell_type": "code",
   "execution_count": 95,
   "metadata": {
    "collapsed": true
   },
   "outputs": [],
   "source": [
    "#coding: utf-8\n",
    "#importing modules\n",
    "#lecture des json\n",
    "import json\n",
    "#text-minig\n",
    "import re\n",
    "#viz\n",
    "import matplotlib\n",
    "import matplotlib.pyplot as plt\n",
    "#calcul\n",
    "import numpy as np\n",
    "from itertools import combinations\n",
    "%matplotlib inline"
   ]
  },
  {
   "cell_type": "markdown",
   "metadata": {},
   "source": [
    "## Article 9: version originale\n",
    "\n",
    "Les valeurs sont stockées dans un fichier en ```json``` nous allons les stocker dans la variable ```article9```"
   ]
  },
  {
   "cell_type": "code",
   "execution_count": 96,
   "metadata": {
    "collapsed": true
   },
   "outputs": [],
   "source": [
    "def load_vo(art_file = \"./article_9.json\"):\n",
    "    with open(art_file, \"r\") as f:\n",
    "        article9 = json.load(f)\n",
    "    return article9\n",
    "article9 = load_vo()\n"
   ]
  },
  {
   "cell_type": "markdown",
   "metadata": {},
   "source": [
    "### ** Découverte de l'article9**"
   ]
  },
  {
   "cell_type": "code",
   "execution_count": 97,
   "metadata": {
    "collapsed": false
   },
   "outputs": [
    {
     "name": "stdout",
     "output_type": "stream",
     "text": [
      "Clés de l'ARTICLE 9:\n",
      "-sources <class 'list'>\n",
      "-ranking <class 'NoneType'>\n",
      "-votes_ok <class 'int'>\n",
      "-body_links <class 'list'>\n",
      "-body <class 'str'>\n",
      "-versions_count <class 'int'>\n",
      "-sources_count <class 'int'>\n",
      "-cat_id <class 'int'>\n",
      "-votes_nok <class 'int'>\n",
      "-updated_at <class 'str'>\n",
      "-arguments_count <class 'int'>\n",
      "-article_link <class 'str'>\n",
      "-votes_mitige <class 'int'>\n",
      "-body_anchors <class 'list'>\n",
      "-answer <class 'dict'>\n",
      "-title <class 'str'>\n",
      "-author <class 'str'>\n",
      "-subtitle <class 'str'>\n",
      "-arguments <class 'list'>\n",
      "-versions <class 'list'>\n",
      "-article_id <class 'int'>\n",
      "-created_at <class 'str'>\n",
      "-votes_total <class 'int'>\n"
     ]
    }
   ],
   "source": [
    "# toutes les clés du dictionnaire de l'article9\n",
    "print(\"Clés de l'ARTICLE 9:\")\n",
    "for clé, valeur in list(article9.items()):\n",
    "    print(\"-\"+clé, type(valeur))"
   ]
  },
  {
   "cell_type": "markdown",
   "metadata": {},
   "source": [
    "L'article9 stocke à la fois les informations contextuelles sur l'article dans sa version originale mais encore\n",
    "tous les **arguments**, les **sources** et toutes les **versions** de cet article.\n",
    "On note que les **votes** sont pour le moment dans un fichier à part.\n",
    "\n",
    "Nous allons garder de coté les **arguments**, **sources** et **versions** pour les manipuler "
   ]
  },
  {
   "cell_type": "markdown",
   "metadata": {},
   "source": [
    "**NB** \n",
    "##### Vocabulaire utilisé\n",
    "entre le nom de variables, la dénomination technique et les concepts manipulés on note des différences\n",
    "* votes: exprimé en pour contre mitigé ok nok\n",
    "* versions / amendements\n",
    "* arguments ok nok pour contre\n",
    "* sources\n",
    "De même que la notation informatique commence à 0 et non à 1."
   ]
  },
  {
   "cell_type": "code",
   "execution_count": 98,
   "metadata": {
    "collapsed": true
   },
   "outputs": [],
   "source": [
    "#on stocke les informations dans des variables simples\n",
    "versions = article9[\"versions\"] #toutes les versions sans la version originale\n",
    "arguments = article9[\"arguments\"] #tous les arguments (version orginale+ versions complémentaires??? a verifier)\n",
    "sources = article9[\"sources\"] #toutes les sources\n"
   ]
  },
  {
   "cell_type": "markdown",
   "metadata": {},
   "source": [
    "## Amendements de l'article 9\n",
    "\n",
    "Ici nous allons nous concentrer sur les différentes amendements (versions) de l'article \n",
    "ainsi que les **explications** qui justifient ces modifications (commentaires des versions)\n",
    "\n",
    "La structure du fichier stocke à la fois les informations contextuelles de l'article original et les amendements\n",
    "que nous avons volontairement stocké les amendements (versions complémentaires) dans une variables **```versions```** à oart\n",
    "\n",
    "Nous n'alons retenir que ce qui nous intéresse de la version originale de l'article.\n"
   ]
  },
  {
   "cell_type": "markdown",
   "metadata": {},
   "source": [
    "### Découverte des amendements\n",
    "\n",
    "*pour l'exemple nous allons prendre le premier amendement de l'article 9 (soit V1)*\n"
   ]
  },
  {
   "cell_type": "code",
   "execution_count": 99,
   "metadata": {
    "collapsed": false
   },
   "outputs": [
    {
     "name": "stdout",
     "output_type": "stream",
     "text": [
      "Les informations pour une version\n",
      "-link <class 'str'>\n",
      "-arguments_yes_count <class 'int'>\n",
      "-votes_nok <class 'int'>\n",
      "-votes_mitige <class 'int'>\n",
      "-before <class 'str'>\n",
      "-slug <class 'str'>\n",
      "-id <class 'int'>\n",
      "-votes_total <class 'int'>\n",
      "-title <class 'str'>\n",
      "-author <class 'str'>\n",
      "-after <class 'str'>\n",
      "-arguments_count <class 'int'>\n",
      "-article_id <class 'int'>\n",
      "-arguments_no_count <class 'int'>\n",
      "-created_at <class 'str'>\n",
      "-comment <class 'str'>\n",
      "-updated_at <class 'str'>\n"
     ]
    }
   ],
   "source": [
    "v1 = versions[0]\n",
    "print(\"Les informations pour une version\")\n",
    "for clé, valeur in v1.items():\n",
    "    print(\"-\"+clé, type(valeur))"
   ]
  },
  {
   "cell_type": "markdown",
   "metadata": {},
   "source": [
    "Les valeurs qui vont nous intéresser dans un premier temps vont être:\n",
    "* le titre: la version originale porte le nom générique de l'article dans ```title``` tandis que les amendements (versions ) complémentaires sont identifiées par un ```slug``` (soit un racourci: un titre séparé par des tirets présents dans l'url)\n",
    "* l'explication/ justification de la modification (```comment```)\n",
    "* date de création (```started_at```)\n",
    "* auteur (```author```)"
   ]
  },
  {
   "cell_type": "markdown",
   "metadata": {},
   "source": [
    "#### combien d'amendements?\n"
   ]
  },
  {
   "cell_type": "code",
   "execution_count": 100,
   "metadata": {
    "collapsed": false
   },
   "outputs": [
    {
     "name": "stdout",
     "output_type": "stream",
     "text": [
      "108 amendements + 1 version originale\n"
     ]
    }
   ],
   "source": [
    "print(len(versions), \"amendements + 1 version originale\")  \n"
   ]
  },
  {
   "cell_type": "markdown",
   "metadata": {},
   "source": [
    "#### Comparaison avec la version originale\n",
    "\n",
    "La structure du fichier stocke à la fois les informations contextuelles de l'article original et les amendements\n",
    "que nous avons volontairement stocké les amendements (versions complémentaires) dans une variables ```versions```\n",
    "Nous n'alons retenir que ce qui nous intéresse de la version originale de l'article.\n",
    "\n",
    "Pour rappel:"
   ]
  },
  {
   "cell_type": "code",
   "execution_count": 101,
   "metadata": {
    "collapsed": false
   },
   "outputs": [
    {
     "name": "stdout",
     "output_type": "stream",
     "text": [
      "Toutes les informations de l'article9\n",
      "-sources <class 'list'>\n",
      "-ranking <class 'NoneType'>\n",
      "-votes_ok <class 'int'>\n",
      "-body_links <class 'list'>\n",
      "-body <class 'str'>\n",
      "-versions_count <class 'int'>\n",
      "-sources_count <class 'int'>\n",
      "-cat_id <class 'int'>\n",
      "-votes_nok <class 'int'>\n",
      "-updated_at <class 'str'>\n",
      "-arguments_count <class 'int'>\n",
      "-article_link <class 'str'>\n",
      "-votes_mitige <class 'int'>\n",
      "-body_anchors <class 'list'>\n",
      "-answer <class 'dict'>\n",
      "-title <class 'str'>\n",
      "-author <class 'str'>\n",
      "-subtitle <class 'str'>\n",
      "-arguments <class 'list'>\n",
      "-versions <class 'list'>\n",
      "-article_id <class 'int'>\n",
      "-created_at <class 'str'>\n",
      "-votes_total <class 'int'>\n"
     ]
    }
   ],
   "source": [
    "\n",
    "print(\"Toutes les informations de l'article9\")\n",
    "for clé, valeur in article9.items():\n",
    "    print(\"-\"+clé, type(valeur))"
   ]
  },
  {
   "cell_type": "markdown",
   "metadata": {},
   "source": [
    "Nous pouvons voir donc que seules certaines valeurs sont intéressantes pour les comparer aux autres amendements (versions)\n",
    "\n",
    "### Formater la version originale comme un amendement\n",
    "\n",
    "\n",
    "Nous allons dans un premier temps formater la version originale de la même manière que les amendements (versions complémentaires) avec les mêmes informations disponibles dans chaque amendement(version).\n",
    "\n",
    "La version originale avec les informations qui nous intéressent sont stockées sous forme de dictionnaire (de la même manière que les autres amendements)\n",
    "\n",
    "En sachant que :\n",
    "* la version originale n'a pas d'explication ('```commentaire```') mais une explication de l'article (```body```)\n",
    "* le titre complet n'est pas stocké dans la version originale on se servira dans un premier temps du ```subtitle``` pour la VO et des ```slugs``` pour les v(n)\n",
    "* les votes mitigés ne sont pas comptabilisés\n",
    "* la répartition des votes pour les arguments entre ok et nok n'est pas disponible\n",
    "\n"
   ]
  },
  {
   "cell_type": "code",
   "execution_count": 102,
   "metadata": {
    "collapsed": true
   },
   "outputs": [],
   "source": [
    "v0 = {\"link\": article9[\"article_link\"], \n",
    "      \"title\": article9[\"subtitle\"], \n",
    "      \"before\": article9[\"body\"],  \n",
    "      \"after\": article9[\"body\"], \n",
    "      \"comment\": article9[\"body\"], \n",
    "      \"votes_ok\": article9[\"votes_ok\"],\n",
    "      \"votes_nok\": article9[\"votes_nok\"],\n",
    "      \"votes_mitige\": article9[\"votes_total\"] - (article9[\"votes_ok\"]+article9[\"votes_nok\"]),\n",
    "      \"votes_total\": article9[\"votes_total\"], \n",
    "      \"created_at\": article9[\"created_at\"],\n",
    "      \"udpated_at\": article9[\"updated_at\"],\n",
    "      \"author\": \"gouvernement\",\n",
    "      \"id\": article9[\"article_id\"],\n",
    "      \"arguments_count\": article9[\"arguments_count\"],\n",
    "      #manque \n",
    "      #arguments_yes_count\n",
    "      #arguments_no_count\n",
    "     }"
   ]
  },
  {
   "cell_type": "markdown",
   "metadata": {},
   "source": [
    "### Rapatrier la version originale dans les amendements\n",
    "\n",
    "Nous allons donc rappatrier **v0** (notre version originale) dans notre variable **versions** qui est une *liste*.\n",
    "\n",
    "La variable version est une liste ordonnée qui respecte l'ordre de stockage inital des versions:\n",
    "nous allons donc insérer en position 0 la version originale."
   ]
  },
  {
   "cell_type": "code",
   "execution_count": 103,
   "metadata": {
    "collapsed": false
   },
   "outputs": [],
   "source": [
    "versions.insert(0, v0)\n"
   ]
  },
  {
   "cell_type": "code",
   "execution_count": 104,
   "metadata": {
    "collapsed": false
   },
   "outputs": [
    {
     "name": "stdout",
     "output_type": "stream",
     "text": [
      "{'title': 'Travaux de recherche et de statistique', 'votes_mitige': 282, 'votes_ok': 1320, 'before': 'Au chapitre 3 du titre 3 du livre V du code de la recherche, il est inséré un article L. 533-4 ainsi rédigé\\xa0:«Art. L. 533-4 –I. Lorsque un écrit scientifique, issu d’une activité de recherche financée au moins pour moitié par des fonds publics, est publié dans un périodique, un ouvrage paraissant au moins une fois par an, des actes de congrès ou de colloques ou des recueils de mélanges, son auteur, même en cas de cession exclusive à un éditeur, dispose du droit de mettre à disposition gratuitement sous une forme numérique, sous réserve des droits des éventuels coauteurs, la dernière version acceptée de son manuscrit par son éditeur et à l’exclusion du travail de mise en forme qui incombe à ce dernier, au terme d’un délai de douze mois pour les sciences, la technique et la médecine et de vingt-quatre mois pour les sciences humaines et sociales, à compter de date de la première publication. Cette mise à disposition ne peut donner lieu à aucune exploitation commerciale.«\\xa0II. – Les dispositions du présent article sont d’ordre public et toute clause contraire à celles-ci est réputée non écrite. Elles ne s’appliquent pas aux contrats en cours.\\xa0»', 'id': 69, 'votes_total': 3334, 'link': 'http://www.republique-numerique.fr/projects/projet-de-loi-numerique/consultation/consultation/opinions/section-2-travaux-de-recherche-et-de-statistique/article-9-acces-aux-travaux-de-la-recherche-financee-par-des-fonds-publics', 'udpated_at': '2015-09-26T07:31:38+0200', 'author': 'gouvernement', 'after': 'Au chapitre 3 du titre 3 du livre V du code de la recherche, il est inséré un article L. 533-4 ainsi rédigé\\xa0:«Art. L. 533-4 –I. Lorsque un écrit scientifique, issu d’une activité de recherche financée au moins pour moitié par des fonds publics, est publié dans un périodique, un ouvrage paraissant au moins une fois par an, des actes de congrès ou de colloques ou des recueils de mélanges, son auteur, même en cas de cession exclusive à un éditeur, dispose du droit de mettre à disposition gratuitement sous une forme numérique, sous réserve des droits des éventuels coauteurs, la dernière version acceptée de son manuscrit par son éditeur et à l’exclusion du travail de mise en forme qui incombe à ce dernier, au terme d’un délai de douze mois pour les sciences, la technique et la médecine et de vingt-quatre mois pour les sciences humaines et sociales, à compter de date de la première publication. Cette mise à disposition ne peut donner lieu à aucune exploitation commerciale.«\\xa0II. – Les dispositions du présent article sont d’ordre public et toute clause contraire à celles-ci est réputée non écrite. Elles ne s’appliquent pas aux contrats en cours.\\xa0»', 'arguments_count': 132, 'votes_nok': 1732, 'created_at': '2015-09-26T02:27:57+0200', 'comment': 'Au chapitre 3 du titre 3 du livre V du code de la recherche, il est inséré un article L. 533-4 ainsi rédigé\\xa0:«Art. L. 533-4 –I. Lorsque un écrit scientifique, issu d’une activité de recherche financée au moins pour moitié par des fonds publics, est publié dans un périodique, un ouvrage paraissant au moins une fois par an, des actes de congrès ou de colloques ou des recueils de mélanges, son auteur, même en cas de cession exclusive à un éditeur, dispose du droit de mettre à disposition gratuitement sous une forme numérique, sous réserve des droits des éventuels coauteurs, la dernière version acceptée de son manuscrit par son éditeur et à l’exclusion du travail de mise en forme qui incombe à ce dernier, au terme d’un délai de douze mois pour les sciences, la technique et la médecine et de vingt-quatre mois pour les sciences humaines et sociales, à compter de date de la première publication. Cette mise à disposition ne peut donner lieu à aucune exploitation commerciale.«\\xa0II. – Les dispositions du présent article sont d’ordre public et toute clause contraire à celles-ci est réputée non écrite. Elles ne s’appliquent pas aux contrats en cours.\\xa0»'}\n"
     ]
    }
   ],
   "source": [
    "print(versions[0])"
   ]
  },
  {
   "cell_type": "code",
   "execution_count": 105,
   "metadata": {
    "collapsed": false
   },
   "outputs": [
    {
     "name": "stdout",
     "output_type": "stream",
     "text": [
      "{'link': 'http://www.republique-numerique.fr/projects/projet-de-loi-numerique/consultation/consultation/opinions/section-2-travaux-de-recherche-et-de-statistique/article-9-acces-aux-travaux-de-la-recherche-financee-par-des-fonds-publics/versions/mise-a-disposition-systematique-des-resultats-de-la-recherche-financee-par-des-fonds-publics', 'arguments_yes_count': 4, 'votes_nok': 29, 'votes_mitige': 1, 'before': '', 'slug': 'mise-a-disposition-systematique-des-resultats-de-la-recherche-financee-par-des-fonds-publics', 'id': 181, 'votes_total': 66, 'title': 'Création du nouvel article L 533-4 du code de la recherche (Livre V, Titre III, Chapitre 3)', 'author': 'philippegambette', 'after': 'I. Lorsque un écrit scientifique, issu d’une activité de recherche financée au moins pour moitié par des fonds publics est publié dans un périodique, un ouvrage paraissant au moins une fois par an, des actes de congrès ou de colloques ou des recueils de mélanges,son auteur, même en cas de cession exclusive à un éditeur, dispose dudroit de mettre à disposition gratuitement sous une forme numérique, sous réserve des droits des éventuels co-auteurs, la dernière version acceptée de son manuscrit par son éditeur et à l’exclusion du travail de mise en forme qui incombe à ce dernier, au terme d’un délai de douze mois pour les sciences, la technique et la médecine et de vingt-quatre mois pour les sciences humaines et sociales, à compter de date de la première publication. Cette mise à disposition ne peut donner lieu à aucune exploitation commerciale.« II. – Les dispositions du présent article sont d’ordre public et toute clause contraire à celles-ci est réputée non écrite. Elles ne s’appliquent pas aux contrats en cours. »', 'arguments_count': 9, 'article_id': 69, 'arguments_no_count': 5, 'created_at': '2015-09-26T23:16:53+0200', 'comment': 'Cette modification vise à rendre systématique la mise à disposition des publications relatives à des travaux de recherche financées par des fonds publics. Si l\\'article L533-4 se contente d\\'une formule incitative\\xa0en permettant simplement aux auteurs de mettre à disposition leurs publications, une grande partie ne le fera pas, comme c\\'est actuellement le cas dans de nombreux établissements français qui mettent pourtant en place des politiques d\\'incitation au dépôt dans le système HAL, par exemple.\\nIl serait bien entendu nécessaire, si un tel mandat de dépôt était instauré au niveau national, que l\\'interface utilisée pour mettre les publications à disposition soit facile et rapide d\\'utilisation pour les chercheurs. Des moyens spécifiques devraient donc être alloués à ces développements informatiques, et à la maintenance de ces développements.\\xa0Ces moyens pourraient résulter de l\\'économie des frais de publication avec l\\'option \"open access gold\" actuellement payés par certains auteurs d\\'articles scientifiques pour\\xa0rendre ces derniers publiquement disponibles sur le site de l\\'éditeur (option qui deviendrait inutile).', 'updated_at': '2015-12-02T22:16:44+0100'}\n"
     ]
    }
   ],
   "source": [
    "print(versions[1])"
   ]
  },
  {
   "cell_type": "markdown",
   "metadata": {},
   "source": [
    "* ** Combien de versions?**:"
   ]
  },
  {
   "cell_type": "code",
   "execution_count": 107,
   "metadata": {
    "collapsed": false
   },
   "outputs": [
    {
     "name": "stdout",
     "output_type": "stream",
     "text": [
      "109 versions\n"
     ]
    }
   ],
   "source": [
    "print(len(versions),\"versions\")"
   ]
  },
  {
   "cell_type": "markdown",
   "metadata": {},
   "source": [
    "* **Ordonner les versions par date**\n",
    "\n",
    "Si la v0 est bien la version originale, tachons d'ordonner les versions par ordre chronologique"
   ]
  },
  {
   "cell_type": "code",
   "execution_count": 108,
   "metadata": {
    "collapsed": false
   },
   "outputs": [
    {
     "name": "stdout",
     "output_type": "stream",
     "text": [
      "V0: 2015-09-26T02:27:57+0200 V1: 2015-10-18T21:15:23+0200\n"
     ]
    }
   ],
   "source": [
    "versions = sorted(versions, key=lambda v: v[\"created_at\"])\n",
    "print(\"V0:\", versions[0][\"created_at\"], \"V1:\", versions[-1][\"created_at\"])"
   ]
  },
  {
   "cell_type": "markdown",
   "metadata": {},
   "source": [
    "* **Combien de votes et d'arguments par version?**"
   ]
  },
  {
   "cell_type": "code",
   "execution_count": 109,
   "metadata": {
    "collapsed": false
   },
   "outputs": [
    {
     "name": "stdout",
     "output_type": "stream",
     "text": [
      "version  |date\t\t\t    |votes nb\t|arguments nb\t| auteur\n",
      "---------------------------------------------------------------------\n",
      "version_0| 2015-09-26T02:27:57+0200 | 3334 \t| 132 \t\t| gouvernement\n",
      "version_1| 2015-09-26T11:43:24+0200 | 24 \t| 4 \t\t| jeanbaptistesoufron\n",
      "version_2| 2015-09-26T11:49:47+0200 | 69 \t| 13 \t\t| cellular1988\n",
      "version_3| 2015-09-26T13:04:01+0200 | 22 \t| 2 \t\t| annelaureroux\n",
      "version_4| 2015-09-26T14:11:03+0200 | 4 \t| 2 \t\t| hayekvalerie\n",
      "version_5| 2015-09-26T15:03:11+0200 | 31 \t| 4 \t\t| solarus\n",
      "version_6| 2015-09-26T16:15:43+0200 | 123 \t| 5 \t\t| benoitrkloeckner\n",
      "version_7| 2015-09-26T21:17:13+0200 | 33 \t| 0 \t\t| oliviermauco\n",
      "version_8| 2015-09-26T23:16:53+0200 | 66 \t| 9 \t\t| philippegambette\n",
      "version_9| 2015-09-27T08:34:33+0200 | 41 \t| 13 \t\t| laurentliegeois\n",
      "version_10| 2015-09-27T12:04:30+0200 | 87 \t| 7 \t\t| danielbourrion\n",
      "version_11| 2015-09-28T10:29:48+0200 | 4 \t| 1 \t\t| cbernault\n",
      "version_12| 2015-09-28T10:30:59+0200 | 27 \t| 6 \t\t| cbernault\n",
      "version_13| 2015-09-28T11:02:16+0200 | 77 \t| 3 \t\t| hipparkhos\n",
      "version_14| 2015-09-28T11:09:23+0200 | 4 \t| 1 \t\t| cbernault\n",
      "version_15| 2015-09-28T11:21:10+0200 | 200 \t| 12 \t\t| christineollendorff\n",
      "version_16| 2015-09-28T15:25:01+0200 | 22 \t| 1 \t\t| ericfabre\n",
      "version_17| 2015-09-28T17:14:25+0200 | 6 \t| 0 \t\t| jeremylucas\n",
      "version_18| 2015-09-28T18:09:45+0200 | 40 \t| 2 \t\t| michelraymond\n",
      "version_19| 2015-09-29T08:16:42+0200 | 25 \t| 4 \t\t| huguesvanbesien\n",
      "version_20| 2015-09-29T13:40:28+0200 | 5 \t| 3 \t\t| serayamaouche\n",
      "version_21| 2015-09-29T14:04:58+0200 | 22 \t| 1 \t\t| pierrefrancoisjan\n",
      "version_22| 2015-09-29T14:06:41+0200 | 7 \t| 0 \t\t| pierrefrancoisjan\n",
      "version_23| 2015-09-29T15:45:20+0200 | 24 \t| 1 \t\t| olivierjacquot\n",
      "version_24| 2015-09-29T18:29:17+0200 | 44 \t| 1 \t\t| merlet\n",
      "version_25| 2015-09-30T10:19:46+0200 | 131 \t| 5 \t\t| fontaine\n",
      "version_26| 2015-09-30T10:39:08+0200 | 1749 \t| 59 \t\t| cnrsdistrenaudfabre\n",
      "version_27| 2015-09-30T14:47:21+0200 | 116 \t| 5 \t\t| dehee\n",
      "version_28| 2015-09-30T20:57:54+0200 | 19 \t| 0 \t\t| samsond\n",
      "version_29| 2015-09-30T23:15:23+0200 | 27 \t| 0 \t\t| saintaubin\n",
      "version_30| 2015-10-01T10:38:35+0200 | 24 \t| 0 \t\t| sylviegrandeuryburon\n",
      "version_31| 2015-10-01T11:13:36+0200 | 26 \t| 1 \t\t| emmanuellesigne\n",
      "version_32| 2015-10-01T19:06:31+0200 | 21 \t| 0 \t\t| samsond\n",
      "version_33| 2015-10-02T16:04:11+0200 | 18 \t| 0 \t\t| benigni\n",
      "version_34| 2015-10-02T16:54:48+0200 | 780 \t| 15 \t\t| consortiumcouperin\n",
      "version_35| 2015-10-02T16:59:44+0200 | 362 \t| 4 \t\t| consortiumcouperin\n",
      "version_36| 2015-10-02T17:03:10+0200 | 287 \t| 2 \t\t| consortiumcouperin\n",
      "version_37| 2015-10-03T17:01:33+0200 | 45 \t| 6 \t\t| oliviermorin1\n",
      "version_38| 2015-10-03T19:29:29+0200 | 28 \t| 2 \t\t| lionelbarbe\n",
      "version_39| 2015-10-04T17:33:12+0200 | 4 \t| 1 \t\t| bernard\n",
      "version_40| 2015-10-04T23:05:37+0200 | 49 \t| 1 \t\t| dansperber\n",
      "version_41| 2015-10-05T11:40:19+0200 | 28 \t| 1 \t\t| martinelegrisrevel\n",
      "version_42| 2015-10-05T14:06:31+0200 | 3 \t| 1 \t\t| elliotmaccarinelli\n",
      "version_43| 2015-10-05T15:25:56+0200 | 32 \t| 1 \t\t| blaisegenest\n",
      "version_44| 2015-10-06T14:11:03+0200 | 32 \t| 0 \t\t| jjohnsoundarjerome\n",
      "version_45| 2015-10-06T16:43:33+0200 | 35 \t| 1 \t\t| gaellekrikorian\n",
      "version_46| 2015-10-06T21:06:55+0200 | 28 \t| 5 \t\t| jeromevalluy\n",
      "version_47| 2015-10-07T09:31:51+0200 | 211 \t| 1 \t\t| savoircom1\n",
      "version_48| 2015-10-07T11:34:12+0200 | 21 \t| 0 \t\t| christianingrao\n",
      "version_49| 2015-10-08T10:09:35+0200 | 170 \t| 5 \t\t| inptoulouseinstitutnationalpolytechniquedetoulouse\n",
      "version_50| 2015-10-08T14:19:25+0200 | 1511 \t| 30 \t\t| robertodicosmo\n",
      "version_51| 2015-10-08T21:55:23+0200 | 13 \t| 0 \t\t| jeanfrancoisnomine\n",
      "version_52| 2015-10-09T06:41:56+0200 | 14 \t| 2 \t\t| remicaillot\n",
      "version_53| 2015-10-09T10:01:39+0200 | 2 \t| 1 \t\t| cecilemichel\n",
      "version_54| 2015-10-09T10:25:04+0200 | 15 \t| 2 \t\t| kante\n",
      "version_55| 2015-10-09T11:16:44+0200 | 14 \t| 1 \t\t| marclipinski1\n",
      "version_56| 2015-10-09T12:22:12+0200 | 274 \t| 8 \t\t| membresbsn4etbsn7\n",
      "version_57| 2015-10-09T16:17:53+0200 | 8 \t| 0 \t\t| gobinemma\n",
      "version_58| 2015-10-10T15:06:01+0200 | 12 \t| 3 \t\t| sylvainribault\n",
      "version_59| 2015-10-10T19:52:33+0200 | 14 \t| 4 \t\t| thierrypairault\n",
      "version_60| 2015-10-11T14:45:53+0200 | 11 \t| 1 \t\t| lemarierieusset\n",
      "version_61| 2015-10-11T15:33:35+0200 | 2 \t| 0 \t\t| aymericpoulainmaubant\n",
      "version_62| 2015-10-11T22:14:51+0200 | 67 \t| 1 \t\t| francoisgeze\n",
      "version_63| 2015-10-12T12:13:25+0200 | 218 \t| 5 \t\t| syndicatnationaldeledition\n",
      "version_64| 2015-10-12T13:49:59+0200 | 7 \t| 0 \t\t| teddythebest\n",
      "version_65| 2015-10-12T16:16:16+0200 | 517 \t| 6 \t\t| inria\n",
      "version_66| 2015-10-12T16:46:41+0200 | 7 \t| 0 \t\t| dominiqueillien\n",
      "version_67| 2015-10-12T19:56:40+0200 | 7 \t| 1 \t\t| thiebautdevergranne\n",
      "version_68| 2015-10-13T21:44:46+0200 | 180 \t| 2 \t\t| inradistodilehologne\n",
      "version_69| 2015-10-13T22:32:29+0200 | 2 \t| 0 \t\t| whynot\n",
      "version_70| 2015-10-13T22:53:08+0200 | 167 \t| 4 \t\t| gfii\n",
      "version_71| 2015-10-14T11:16:36+0200 | 17 \t| 0 \t\t| eniramaal\n",
      "version_72| 2015-10-14T11:56:46+0200 | 21 \t| 0 \t\t| jubeau\n",
      "version_73| 2015-10-14T12:08:53+0200 | 58 \t| 3 \t\t| christinedemazieres\n",
      "version_74| 2015-10-14T18:49:29+0200 | 74 \t| 3 \t\t| universitepierreetmariecurie\n",
      "version_75| 2015-10-14T22:51:30+0200 | 72 \t| 0 \t\t| iabd\n",
      "version_76| 2015-10-15T08:09:34+0200 | 22 \t| 0 \t\t| jamessebastien\n",
      "version_77| 2015-10-15T09:34:53+0200 | 1 \t| 0 \t\t| fredericrotella\n",
      "version_78| 2015-10-15T10:42:00+0200 | 0 \t| 0 \t\t| sbauin\n",
      "version_79| 2015-10-15T11:57:23+0200 | 10 \t| 1 \t\t| abharmach\n",
      "version_80| 2015-10-15T12:28:59+0200 | 63 \t| 2 \t\t| alainberetzpresidentdeluniversitedestrasbourg\n",
      "version_81| 2015-10-15T12:57:42+0200 | 402 \t| 37 \t\t| cairninfo\n",
      "version_82| 2015-10-15T15:43:50+0200 | 4 \t| 1 \t\t| nicolaslemoine\n",
      "version_83| 2015-10-15T16:18:34+0200 | 50 \t| 1 \t\t| regardscitoyens\n",
      "version_84| 2015-10-15T18:30:22+0200 | 15 \t| 0 \t\t| brennerjan\n",
      "version_85| 2015-10-15T19:45:43+0200 | 1 \t| 1 \t\t| omarhenrygomeztunque\n",
      "version_86| 2015-10-15T21:59:23+0200 | 29 \t| 0 \t\t| associationdesarchivistesfrancais\n",
      "version_87| 2015-10-16T01:58:01+0200 | 96 \t| 2 \t\t| snesup\n",
      "version_88| 2015-10-16T09:23:45+0200 | 7 \t| 0 \t\t| amauryvanespen\n",
      "version_89| 2015-10-16T10:13:00+0200 | 6 \t| 0 \t\t| jeanpierrekahane\n",
      "version_90| 2015-10-16T10:16:04+0200 | 3 \t| 1 \t\t| michelvalensi\n",
      "version_91| 2015-10-16T10:29:09+0200 | 35 \t| 1 \t\t| claudeguthmann\n",
      "version_92| 2015-10-16T10:38:24+0200 | 4 \t| 1 \t\t| talalmallah\n",
      "version_93| 2015-10-16T11:43:12+0200 | 71 \t| 3 \t\t| federationnationaledelapressedinformationspecialisee\n",
      "version_94| 2015-10-16T13:51:30+0200 | 8 \t| 1 \t\t| hervemorel\n",
      "version_95| 2015-10-16T15:05:46+0200 | 11 \t| 2 \t\t| alainlecavelier\n",
      "version_96| 2015-10-16T15:07:29+0200 | 4 \t| 2 \t\t| dominiquelecomte\n",
      "version_97| 2015-10-16T19:45:25+0200 | 17 \t| 0 \t\t| durandaline\n",
      "version_98| 2015-10-17T12:04:11+0200 | 7 \t| 0 \t\t| julianbh\n",
      "version_99| 2015-10-17T12:14:14+0200 | 3 \t| 2 \t\t| jeannevarasco\n",
      "version_100| 2015-10-17T14:42:23+0200 | 78 \t| 2 \t\t| epristassociationdesresponsablesistdesorganismesderecherchefrancais\n",
      "version_101| 2015-10-17T17:45:37+0200 | 2 \t| 0 \t\t| nicolaslarchet\n",
      "version_102| 2015-10-18T14:42:36+0200 | 6 \t| 0 \t\t| adbsassociationdesprofessionnelsdelinformationetdeladocumentation1\n",
      "version_103| 2015-10-18T18:35:52+0200 | 0 \t| 0 \t\t| watine\n",
      "version_104| 2015-10-18T19:04:42+0200 | 0 \t| 0 \t\t| tanataricoalessandra\n",
      "version_105| 2015-10-18T19:23:32+0200 | 1 \t| 0 \t\t| lefebvrenarefrederic\n",
      "version_106| 2015-10-18T20:29:01+0200 | 1 \t| 0 \t\t| melaniedulongderosnay\n",
      "version_107| 2015-10-18T21:14:36+0200 | 3 \t| 1 \t\t| alainbensoussan\n",
      "version_108| 2015-10-18T21:15:23+0200 | 0 \t| 0 \t\t| melaniedulongderosnay\n"
     ]
    }
   ],
   "source": [
    "print (\"version  |date\\t\\t\\t    |votes nb\\t|arguments nb\\t| auteur\")\n",
    "print(\"---------------------------------------------------------------------\")\n",
    "for i,v in enumerate(versions):\n",
    "    print (\"version_\"+str(i)+\"|\", v[\"created_at\"],\"|\", v[\"votes_total\"], \"\\t|\", v[\"arguments_count\"], \"\\t\\t|\", v[\"author\"])"
   ]
  },
  {
   "cell_type": "markdown",
   "metadata": {},
   "source": [
    "Ecrivons les données qui nous intéressent dans un **fichier** qui nous servira de référentiel\n",
    "ici une version minimale à savoir\n",
    "* le numero de version **```version_nb```**\n",
    "* le titre: la version originale porte le nom générique de l'article dans title tandis que les amendements (versions) complémentaires sont identifiées par un slug (soit un racourci: un titre séparé par des tirets présents dans l'url) **```title```**\n",
    "* la modification opérée dans chaque version\n",
    "* l'explication/ justification de la modification **```comment```**\n",
    "* la date de création **```date```** que nous allons rendre zoulie\n",
    "* l'auteur **```author```**\n",
    "* le nombre de votes **```nb_votes```**\n",
    "* le nombre d'arguments **```nb_args```**\n",
    "\n",
    "**Attention!**\n",
    "Entre la version originale et les amendements quelques changements ont déjà été notés:\n",
    "* title => slug dans les VS\n"
   ]
  },
  {
   "cell_type": "code",
   "execution_count": 142,
   "metadata": {
    "collapsed": false
   },
   "outputs": [],
   "source": [
    "amendements = {}\n",
    "entete = [\"version_nb\", \"title\", \"comment\",\"modification\", \"date\", \"author\", \"nb_votes\", \"nb_args\"]\n",
    "with open(\"amendements.csv\", \"w\") as f:\n",
    "    f.write(\"\\t\".join(entete)+'\\n')\n",
    "    for i,v in enumerate(versions):\n",
    "        version_nb = \"v_\"+str(i)\n",
    "        if i == 0:\n",
    "            title = v[\"title\"]\n",
    "        else:\n",
    "            title = str(v[\"slug\"]).replace(\"-\", \" \")\n",
    "            \n",
    "        \n",
    "        comment = str(v[\"comment\"])\n",
    "        #print(comment)\n",
    "        modification = v[\"before\"]\n",
    "        date = v[\"created_at\"].replace(\"T\", \" \").split(\"+\")[0]\n",
    "        #print(date)\n",
    "        author = v[\"author\"]\n",
    "        nb_votes = str(v[\"votes_total\"])\n",
    "        nb_args = str(v[\"arguments_count\"])\n",
    "        ligne = [version_nb, title, comment,modification, date, author, nb_votes, nb_args]\n",
    "        f.write(\"\\t\".join(ligne)+'\\n')\n",
    "        amendements[i] = {\"title\": title,\"comment\": comment, \"date\":date, \"author\":author, \"nb_votes\":nb_votes,  \"nb_args\":nb_args}"
   ]
  },
  {
   "cell_type": "markdown",
   "metadata": {},
   "source": [
    "#### Ajout/ suppression dans le texte original\n",
    "Nous allons ici vérifier les modifications opérées par chaque ammendements à l'article originel\n",
    "\n",
    "* Y-a-t-il eu beaucoup de modification du texte original? \n",
    "* Combien de mots ajoutés retirés par rapport de la version originale ?\n",
    "* Combien de mots au total de la version initiale à la version finale?\n"
   ]
  },
  {
   "cell_type": "code",
   "execution_count": 138,
   "metadata": {
    "collapsed": false
   },
   "outputs": [
    {
     "name": "stdout",
     "output_type": "stream",
     "text": [
      "v0 set()\n",
      "v1 {'co-auteurs,', 'publics', 'dudroit', 'I.', 'commerciale.«', '»', 'cours.', 'II.', 'mélanges,son'}\n",
      "v2 {'co-auteurs,', 'publics', 'dudroit', 'I.', 'commerciale.«', '»', 'cours.', 'II.', 'mélanges,son'}\n",
      "v3 {'co-auteurs,', 'publics', 'dudroit', 'I.', 'commerciale.«', '»', 'cours.', 'II.', 'mélanges,son'}\n",
      "v4 {'co-auteurs,', 'publics', 'dudroit', 'I.', 'commerciale.«', '»', 'cours.', 'II.', 'mélanges,son'}\n",
      "v5 {'co-auteurs,', 'publics', 'dudroit', 'I.', 'commerciale.«', '»', 'cours.', 'II.', 'mélanges,son'}\n",
      "v6 {'co-auteurs,', 'publics', 'dudroit', 'I.', 'commerciale.«', '»', 'cours.', 'II.', 'mélanges,son'}\n",
      "v7 {'co-auteurs,', 'publics', 'dudroit', 'I.', 'commerciale.«', '»', 'cours.', 'II.', 'mélanges,son'}\n",
      "v8 {'co-auteurs,', 'publics', 'dudroit', 'I.', 'commerciale.«', '»', 'cours.', 'II.', 'mélanges,son'}\n",
      "v9 {'co-auteurs,', 'publics', 'dudroit', 'I.', 'commerciale.«', '»', 'cours.', 'II.', 'mélanges,son'}\n",
      "v10 {'co-auteurs,', 'publics', 'dudroit', 'I.', 'commerciale.«', '»', 'cours.', 'II.', 'mélanges,son'}\n",
      "v11 {'co-auteurs,', 'publics', 'dudroit', 'I.', 'commerciale.«', '»', 'cours.', 'II.', 'mélanges,son'}\n",
      "v12 {'co-auteurs,', 'publics', 'dudroit', 'I.', 'commerciale.«', '»', 'cours.', 'II.', 'mélanges,son'}\n",
      "v13 {'co-auteurs,', 'publics', 'dudroit', 'I.', 'commerciale.«', '»', 'cours.', 'II.', 'mélanges,son'}\n",
      "v14 {'co-auteurs,', 'publics', 'dudroit', 'I.', 'commerciale.«', '»', 'cours.', 'II.', 'mélanges,son'}\n",
      "v15 {'co-auteurs,', 'publics', 'dudroit', 'I.', 'commerciale.«', '»', 'cours.', 'II.', 'mélanges,son'}\n",
      "v16 {'co-auteurs,', 'publics', 'dudroit', 'I.', 'commerciale.«', '»', 'cours.', 'II.', 'mélanges,son'}\n",
      "v17 {'co-auteurs,', 'publics', 'dudroit', 'I.', 'commerciale.«', '»', 'cours.', 'II.', 'mélanges,son'}\n",
      "v18 {'co-auteurs,', 'publics', 'dudroit', 'I.', 'commerciale.«', '»', 'cours.', 'II.', 'mélanges,son'}\n",
      "v19 {'co-auteurs,', 'publics', 'dudroit', 'I.', 'commerciale.«', '»', 'cours.', 'II.', 'mélanges,son'}\n",
      "v20 {'co-auteurs,', 'publics', 'dudroit', 'I.', 'commerciale.«', '»', 'cours.', 'II.', 'mélanges,son'}\n",
      "v21 {'co-auteurs,', 'publics', 'dudroit', 'I.', 'commerciale.«', '»', 'cours.', 'II.', 'mélanges,son'}\n",
      "v22 {'co-auteurs,', 'publics', 'dudroit', 'I.', 'commerciale.«', '»', 'cours.', 'II.', 'mélanges,son'}\n",
      "v23 {'co-auteurs,', 'publics', 'dudroit', 'I.', 'commerciale.«', '»', 'cours.', 'II.', 'mélanges,son'}\n",
      "v24 {'co-auteurs,', 'publics', 'dudroit', 'I.', 'commerciale.«', '»', 'cours.', 'II.', 'mélanges,son'}\n",
      "v25 {'co-auteurs,', 'publics', 'dudroit', 'I.', 'commerciale.«', '»', 'cours.', 'II.', 'mélanges,son'}\n",
      "v26 {'co-auteurs,', 'publics', 'dudroit', 'I.', 'commerciale.«', '»', 'cours.', 'II.', 'mélanges,son'}\n",
      "v27 {'co-auteurs,', 'publics', 'dudroit', 'I.', 'commerciale.«', '»', 'cours.', 'II.', 'mélanges,son'}\n",
      "v28 {'co-auteurs,', 'publics', 'dudroit', 'I.', 'commerciale.«', '»', 'cours.', 'II.', 'mélanges,son'}\n",
      "v29 {'co-auteurs,', 'publics', 'dudroit', 'I.', 'commerciale.«', '»', 'cours.', 'II.', 'mélanges,son'}\n",
      "v30 {'co-auteurs,', 'publics', 'dudroit', 'I.', 'commerciale.«', '»', 'cours.', 'II.', 'mélanges,son'}\n",
      "v31 {'co-auteurs,', 'publics', 'dudroit', 'I.', 'commerciale.«', '»', 'cours.', 'II.', 'mélanges,son'}\n",
      "v32 {'co-auteurs,', 'publics', 'dudroit', 'I.', 'commerciale.«', '»', 'cours.', 'II.', 'mélanges,son'}\n",
      "v33 {'co-auteurs,', 'publics', 'dudroit', 'I.', 'commerciale.«', '»', 'cours.', 'II.', 'mélanges,son'}\n",
      "v34 {'co-auteurs,', 'publics', 'dudroit', 'I.', 'commerciale.«', '»', 'cours.', 'II.', 'mélanges,son'}\n",
      "v35 {'co-auteurs,', 'publics', 'dudroit', 'I.', 'commerciale.«', '»', 'cours.', 'II.', 'mélanges,son'}\n",
      "v36 {'co-auteurs,', 'publics', 'dudroit', 'I.', 'commerciale.«', '»', 'cours.', 'II.', 'mélanges,son'}\n",
      "v37 {'co-auteurs,', 'publics', 'dudroit', 'I.', 'commerciale.«', '»', 'cours.', 'II.', 'mélanges,son'}\n",
      "v38 {'co-auteurs,', 'publics', 'dudroit', 'I.', 'commerciale.«', '»', 'cours.', 'II.', 'mélanges,son'}\n",
      "v39 {'co-auteurs,', 'publics', 'dudroit', 'I.', 'commerciale.«', '»', 'cours.', 'II.', 'mélanges,son'}\n",
      "v40 {'co-auteurs,', 'publics', 'dudroit', 'I.', 'commerciale.«', '»', 'cours.', 'II.', 'mélanges,son'}\n",
      "v41 {'co-auteurs,', 'publics', 'dudroit', 'I.', 'commerciale.«', '»', 'cours.', 'II.', 'mélanges,son'}\n",
      "v42 {'co-auteurs,', 'publics', 'dudroit', 'I.', 'commerciale.«', '»', 'cours.', 'II.', 'mélanges,son'}\n",
      "v43 {'co-auteurs,', 'publics', 'dudroit', 'I.', 'commerciale.«', '»', 'cours.', 'II.', 'mélanges,son'}\n",
      "v44 {'co-auteurs,', 'publics', 'dudroit', 'I.', 'commerciale.«', '»', 'cours.', 'II.', 'mélanges,son'}\n",
      "v45 {'co-auteurs,', 'publics', 'dudroit', 'I.', 'commerciale.«', '»', 'cours.', 'II.', 'mélanges,son'}\n",
      "v46 {'co-auteurs,', 'publics', 'dudroit', 'I.', 'commerciale.«', '»', 'cours.', 'II.', 'mélanges,son'}\n",
      "v47 {'co-auteurs,', 'publics', 'dudroit', 'I.', 'commerciale.«', '»', 'cours.', 'II.', 'mélanges,son'}\n",
      "v48 {'co-auteurs,', 'publics', 'dudroit', 'I.', 'commerciale.«', '»', 'cours.', 'II.', 'mélanges,son'}\n",
      "v49 {'co-auteurs,', 'publics', 'dudroit', 'I.', 'commerciale.«', '»', 'cours.', 'II.', 'mélanges,son'}\n",
      "v50 {'co-auteurs,', 'publics', 'dudroit', 'I.', 'commerciale.«', '»', 'cours.', 'II.', 'mélanges,son'}\n",
      "v51 {'co-auteurs,', 'publics', 'dudroit', 'I.', 'commerciale.«', '»', 'cours.', 'II.', 'mélanges,son'}\n",
      "v52 {'co-auteurs,', 'publics', 'dudroit', 'I.', 'commerciale.«', '»', 'cours.', 'II.', 'mélanges,son'}\n",
      "v53 {'co-auteurs,', 'publics', 'dudroit', 'I.', 'commerciale.«', '»', 'cours.', 'II.', 'mélanges,son'}\n",
      "v54 {'co-auteurs,', 'publics', 'dudroit', 'I.', 'commerciale.«', '»', 'cours.', 'II.', 'mélanges,son'}\n",
      "v55 {'co-auteurs,', 'publics', 'dudroit', 'I.', 'commerciale.«', '»', 'cours.', 'II.', 'mélanges,son'}\n",
      "v56 {'co-auteurs,', 'publics', 'dudroit', 'I.', 'commerciale.«', '»', 'cours.', 'II.', 'mélanges,son'}\n",
      "v57 {'co-auteurs,', 'publics', 'dudroit', 'I.', 'commerciale.«', '»', 'cours.', 'II.', 'mélanges,son'}\n",
      "v58 {'co-auteurs,', 'publics', 'dudroit', 'I.', 'commerciale.«', '»', 'cours.', 'II.', 'mélanges,son'}\n",
      "v59 {'co-auteurs,', 'publics', 'dudroit', 'I.', 'commerciale.«', '»', 'cours.', 'II.', 'mélanges,son'}\n",
      "v60 {'co-auteurs,', 'publics', 'dudroit', 'I.', 'commerciale.«', '»', 'cours.', 'II.', 'mélanges,son'}\n",
      "v61 {'co-auteurs,', 'publics', 'dudroit', 'I.', 'commerciale.«', '»', 'cours.', 'II.', 'mélanges,son'}\n",
      "v62 {'co-auteurs,', 'publics', 'dudroit', 'I.', 'commerciale.«', '»', 'cours.', 'II.', 'mélanges,son'}\n",
      "v63 {'co-auteurs,', 'publics', 'dudroit', 'I.', 'commerciale.«', '»', 'cours.', 'II.', 'mélanges,son'}\n",
      "v64 {'co-auteurs,', 'publics', 'dudroit', 'I.', 'commerciale.«', '»', 'cours.', 'II.', 'mélanges,son'}\n",
      "v65 {'co-auteurs,', 'publics', 'dudroit', 'I.', 'commerciale.«', '»', 'cours.', 'II.', 'mélanges,son'}\n",
      "v66 {'co-auteurs,', 'publics', 'dudroit', 'I.', 'commerciale.«', '»', 'cours.', 'II.', 'mélanges,son'}\n",
      "v67 {'co-auteurs,', 'publics', 'dudroit', 'I.', 'commerciale.«', '»', 'cours.', 'II.', 'mélanges,son'}\n",
      "v68 {'co-auteurs,', 'publics', 'dudroit', 'I.', 'commerciale.«', '»', 'cours.', 'II.', 'mélanges,son'}\n",
      "v69 {'co-auteurs,', 'publics', 'dudroit', 'I.', 'commerciale.«', '»', 'cours.', 'II.', 'mélanges,son'}\n",
      "v70 {'co-auteurs,', 'publics', 'dudroit', 'I.', 'commerciale.«', '»', 'cours.', 'II.', 'mélanges,son'}\n",
      "v71 {'co-auteurs,', 'publics', 'dudroit', 'I.', 'commerciale.«', '»', 'cours.', 'II.', 'mélanges,son'}\n",
      "v72 {'co-auteurs,', 'publics', 'dudroit', 'I.', 'commerciale.«', '»', 'cours.', 'II.', 'mélanges,son'}\n",
      "v73 {'co-auteurs,', 'publics', 'dudroit', 'I.', 'commerciale.«', '»', 'cours.', 'II.', 'mélanges,son'}\n",
      "v74 {'co-auteurs,', 'publics', 'dudroit', 'I.', 'commerciale.«', '»', 'cours.', 'II.', 'mélanges,son'}\n",
      "v75 {'co-auteurs,', 'publics', 'dudroit', 'I.', 'commerciale.«', '»', 'cours.', 'II.', 'mélanges,son'}\n",
      "v76 {'co-auteurs,', 'publics', 'dudroit', 'I.', 'commerciale.«', '»', 'cours.', 'II.', 'mélanges,son'}\n",
      "v77 {'co-auteurs,', 'publics', 'dudroit', 'I.', 'commerciale.«', '»', 'cours.', 'II.', 'mélanges,son'}\n",
      "v78 {'co-auteurs,', 'publics', 'dudroit', 'I.', 'commerciale.«', '»', 'cours.', 'II.', 'mélanges,son'}\n",
      "v79 {'co-auteurs,', 'publics', 'dudroit', 'I.', 'commerciale.«', '»', 'cours.', 'II.', 'mélanges,son'}\n",
      "v80 {'co-auteurs,', 'publics', 'dudroit', 'I.', 'commerciale.«', '»', 'cours.', 'II.', 'mélanges,son'}\n",
      "v81 {'co-auteurs,', 'publics', 'dudroit', 'I.', 'commerciale.«', '»', 'cours.', 'II.', 'mélanges,son'}\n",
      "v82 {'co-auteurs,', 'publics', 'dudroit', 'I.', 'commerciale.«', '»', 'cours.', 'II.', 'mélanges,son'}\n",
      "v83 {'co-auteurs,', 'publics', 'dudroit', 'I.', 'commerciale.«', '»', 'cours.', 'II.', 'mélanges,son'}\n",
      "v84 {'co-auteurs,', 'publics', 'dudroit', 'I.', 'commerciale.«', '»', 'cours.', 'II.', 'mélanges,son'}\n",
      "v85 {'co-auteurs,', 'publics', 'dudroit', 'I.', 'commerciale.«', '»', 'cours.', 'II.', 'mélanges,son'}\n",
      "v86 {'co-auteurs,', 'publics', 'dudroit', 'I.', 'commerciale.«', '»', 'cours.', 'II.', 'mélanges,son'}\n",
      "v87 {'co-auteurs,', 'publics', 'dudroit', 'I.', 'commerciale.«', '»', 'cours.', 'II.', 'mélanges,son'}\n",
      "v88 {'co-auteurs,', 'publics', 'dudroit', 'I.', 'commerciale.«', '»', 'cours.', 'II.', 'mélanges,son'}\n",
      "v89 {'co-auteurs,', 'publics', 'dudroit', 'I.', 'commerciale.«', '»', 'cours.', 'II.', 'mélanges,son'}\n",
      "v90 {'co-auteurs,', 'publics', 'dudroit', 'I.', 'commerciale.«', '»', 'cours.', 'II.', 'mélanges,son'}\n",
      "v91 {'co-auteurs,', 'publics', 'dudroit', 'I.', 'commerciale.«', '»', 'cours.', 'II.', 'mélanges,son'}\n",
      "v92 {'co-auteurs,', 'publics', 'dudroit', 'I.', 'commerciale.«', '»', 'cours.', 'II.', 'mélanges,son'}\n",
      "v93 {'co-auteurs,', 'publics', 'dudroit', 'I.', 'commerciale.«', '»', 'cours.', 'II.', 'mélanges,son'}\n",
      "v94 {'co-auteurs,', 'publics', 'dudroit', 'I.', 'commerciale.«', '»', 'cours.', 'II.', 'mélanges,son'}\n",
      "v95 {'co-auteurs,', 'publics', 'dudroit', 'I.', 'commerciale.«', '»', 'cours.', 'II.', 'mélanges,son'}\n",
      "v96 {'co-auteurs,', 'publics', 'dudroit', 'I.', 'commerciale.«', '»', 'cours.', 'II.', 'mélanges,son'}\n",
      "v97 {'co-auteurs,', 'publics', 'dudroit', 'I.', 'commerciale.«', '»', 'cours.', 'II.', 'mélanges,son'}\n",
      "v98 {'co-auteurs,', 'publics', 'dudroit', 'I.', 'commerciale.«', '»', 'cours.', 'II.', 'mélanges,son'}\n",
      "v99 {'co-auteurs,', 'publics', 'dudroit', 'I.', 'commerciale.«', '»', 'cours.', 'II.', 'mélanges,son'}\n",
      "v100 {'co-auteurs,', 'publics', 'dudroit', 'I.', 'commerciale.«', '»', 'cours.', 'II.', 'mélanges,son'}\n",
      "v101 {'co-auteurs,', 'publics', 'dudroit', 'I.', 'commerciale.«', '»', 'cours.', 'II.', 'mélanges,son'}\n",
      "v102 {'co-auteurs,', 'publics', 'dudroit', 'I.', 'commerciale.«', '»', 'cours.', 'II.', 'mélanges,son'}\n",
      "v103 {'co-auteurs,', 'publics', 'dudroit', 'I.', 'commerciale.«', '»', 'cours.', 'II.', 'mélanges,son'}\n",
      "v104 {'co-auteurs,', 'publics', 'dudroit', 'I.', 'commerciale.«', '»', 'cours.', 'II.', 'mélanges,son'}\n",
      "v105 {'co-auteurs,', 'publics', 'dudroit', 'I.', 'commerciale.«', '»', 'cours.', 'II.', 'mélanges,son'}\n",
      "v106 {'co-auteurs,', 'publics', 'dudroit', 'I.', 'commerciale.«', '»', 'cours.', 'II.', 'mélanges,son'}\n",
      "v107 {'co-auteurs,', 'publics', 'dudroit', 'I.', 'commerciale.«', '»', 'cours.', 'II.', 'mélanges,son'}\n",
      "v108 {'co-auteurs,', 'publics', 'dudroit', 'I.', 'commerciale.«', '»', 'cours.', 'II.', 'mélanges,son'}\n"
     ]
    }
   ],
   "source": [
    "for i, v in enumerate(versions):\n",
    "    print( \"v\"+str(i), (set(v[\"after\"].split(\" \")) - set(v[\"before\"].split(\" \")) - set(versions[0][\"comment\"].split(\" \"))))\n",
    "    #print( \"v\"+str(i), (set(v[\"after\"].split(\" \"))  - set(versions[0][\"comment\"].split(\" \"))))"
   ]
  },
  {
   "cell_type": "markdown",
   "metadata": {},
   "source": [
    "**PROBLEME** On ne voit pas les changements opérés dans le texte de chaque versions"
   ]
  },
  {
   "cell_type": "markdown",
   "metadata": {},
   "source": [
    "#### Les commentaires des versions\n",
    "\n",
    "Faute d'information sur les modifications apportées au texte de loi\n",
    "Il s'agira de plonger dans le détail des *titres*\n",
    "puis des *commentaires justificatifs* apportés par chaque auteur\n",
    "\n",
    "et regarder les mots communs et différents à chaque versions\n",
    "* Combien de mots en commun de version a version0\n",
    "* Combien de mots différents de version a version0\n",
    "* Quels sont les mots les plus utilisés?\n",
    "\n",
    "\n"
   ]
  },
  {
   "cell_type": "markdown",
   "metadata": {
    "collapsed": true
   },
   "source": [
    "### Identifier les mots clés \n",
    "\n",
    "Nous allons donc regarder les titres des ammendements proposés comme des modifications apportées texte original.\n",
    "\n",
    "Nous avons besoin d'une fonction qui transforme un texte en une liste de mots à travers une opération qu'on appelle **chunking**\n",
    "i.e découper le texte en petit bout. Ici on va découper les mots simplement en utilisant le caractère distinctif de l'espace ou de la ponctuation.\n",
    "Un mot est donc ici défini comme une suite de lettres ou de chiffres séparés par un espace, ou un point de ponctuation.\n",
    "Créons notre fonction **get_words** \n",
    "qui nous servira à multiples reprises: elle prend en entrée un texte (n'importe lequel l'avantage de créer une fonction) et renvoie une liste de mots\n"
   ]
  },
  {
   "cell_type": "code",
   "execution_count": 139,
   "metadata": {
    "collapsed": true
   },
   "outputs": [],
   "source": [
    "def get_words(text):\n",
    "    #on se sert du module regex trèèèèèès puissant\n",
    "    #avec une notation propre W\n",
    "    #tout ce qui est un espace et tout ce qui n'est pas une lettre\n",
    "    words = re.split('\\W', text)\n",
    "    #print(words)\n",
    "    return words\n",
    "    "
   ]
  },
  {
   "cell_type": "code",
   "execution_count": 134,
   "metadata": {
    "collapsed": false
   },
   "outputs": [
    {
     "data": {
      "text/plain": [
       "['La', 'vie', 'n', 'est', 'pas', 'un', 'long', 'fleuve', 'tranquille']"
      ]
     },
     "execution_count": 134,
     "metadata": {},
     "output_type": "execute_result"
    }
   ],
   "source": [
    "#test\n",
    "get_words(\"La vie n'est pas un long fleuve tranquille\")"
   ]
  },
  {
   "cell_type": "markdown",
   "metadata": {},
   "source": [
    "Nous avons une variable amendements nous allons nous en servir\n",
    "* **Analyse des titres **"
   ]
  },
  {
   "cell_type": "code",
   "execution_count": 158,
   "metadata": {
    "collapsed": false
   },
   "outputs": [
    {
     "name": "stdout",
     "output_type": "stream",
     "text": [
      "top1 \t| de \t\t| 67 fois\n",
      "top2 \t| la \t\t| 42 fois\n",
      "top3 \t| et \t\t| 36 fois\n",
      "top4 \t| les \t\t| 34 fois\n",
      "top5 \t| d \t\t| 32 fois\n",
      "top6 \t| des \t\t| 30 fois\n",
      "top7 \t| le \t\t| 29 fois\n",
      "top8 \t| l \t\t| 27 fois\n",
      "top9 \t| a \t\t| 24 fois\n",
      "top10 \t| une \t\t| 21 fois\n",
      "top11 \t| pas \t\t| 21 fois\n",
      "top12 \t| embargo \t\t| 20 fois\n",
      "top13 \t| pour \t\t| 19 fois\n",
      "top14 \t| acces \t\t| 19 fois\n",
      "top15 \t| recherche \t\t| 18 fois\n",
      "top16 \t| en \t\t| 14 fois\n",
      "top17 \t| libre \t\t| 14 fois\n",
      "top18 \t| ne \t\t| 13 fois\n",
      "top19 \t| du \t\t| 13 fois\n",
      "top20 \t| scientifiques \t\t| 12 fois\n",
      "top21 \t| aux \t\t| 12 fois\n",
      "top22 \t| delai \t\t| 11 fois\n",
      "top23 \t| scientifique \t\t| 10 fois\n",
      "top24 \t| au \t\t| 10 fois\n",
      "top25 \t| plus \t\t| 10 fois\n",
      "top26 \t| duree \t\t| 9 fois\n",
      "top27 \t| dans \t\t| 9 fois\n",
      "top28 \t| mois \t\t| 9 fois\n",
      "top29 \t| donnees \t\t| 8 fois\n",
      "top30 \t| publications \t\t| 7 fois\n",
      "top31 \t| sur \t\t| 7 fois\n",
      "top32 \t| tdm \t\t| 7 fois\n",
      "top33 \t| public \t\t| 7 fois\n",
      "top34 \t| par \t\t| 7 fois\n",
      "top35 \t| un \t\t| 7 fois\n",
      "top36 \t| ouverte \t\t| 6 fois\n",
      "top37 \t| publics \t\t| 6 fois\n",
      "top38 \t| mise \t\t| 6 fois\n",
      "top39 \t| delais \t\t| 6 fois\n",
      "top40 \t| disposition \t\t| 6 fois\n",
      "top41 \t| publication \t\t| 6 fois\n",
      "top42 \t| article \t\t| 6 fois\n",
      "top43 \t| depot \t\t| 6 fois\n",
      "top44 \t| courte \t\t| 5 fois\n",
      "top45 \t| data \t\t| 5 fois\n",
      "top46 \t| resultats \t\t| 5 fois\n",
      "top47 \t| entraver \t\t| 5 fois\n",
      "top48 \t| mettre \t\t| 5 fois\n",
      "top49 \t| archive \t\t| 5 fois\n",
      "top50 \t| publique \t\t| 5 fois\n",
      "top51 \t| 6 \t\t| 5 fois\n",
      "top52 \t| fonds \t\t| 5 fois\n",
      "top53 \t| text \t\t| 5 fois\n",
      "top54 \t| exploitation \t\t| 5 fois\n",
      "top55 \t| sans \t\t| 5 fois\n",
      "top56 \t| qui \t\t| 5 fois\n",
      "top57 \t| est \t\t| 5 fois\n",
      "top58 \t| obligation \t\t| 4 fois\n",
      "top59 \t| commerciale \t\t| 4 fois\n",
      "top60 \t| impact \t\t| 4 fois\n",
      "top61 \t| propositions \t\t| 4 fois\n",
      "top62 \t| trop \t\t| 4 fois\n",
      "top63 \t| droit \t\t| 4 fois\n",
      "top64 \t| auteurs \t\t| 4 fois\n",
      "top65 \t| mining \t\t| 4 fois\n",
      "top66 \t| auteur \t\t| 4 fois\n",
      "top67 \t| 12 \t\t| 4 fois\n",
      "top68 \t| and \t\t| 4 fois\n",
      "top69 \t| ajout \t\t| 3 fois\n",
      "top70 \t| etudes \t\t| 3 fois\n",
      "top71 \t| doivent \t\t| 3 fois\n",
      "top72 \t| long \t\t| 3 fois\n",
      "top73 \t| sont \t\t| 3 fois\n",
      "top74 \t| diffusion \t\t| 3 fois\n",
      "top75 \t| financee \t\t| 3 fois\n",
      "top76 \t| editeur \t\t| 3 fois\n",
      "top77 \t| garantir \t\t| 3 fois\n",
      "top78 \t| shs \t\t| 3 fois\n",
      "top79 \t| etre \t\t| 3 fois\n",
      "top80 \t| appartient \t\t| 3 fois\n",
      "top81 \t| articles \t\t| 3 fois\n",
      "top82 \t| droits \t\t| 3 fois\n",
      "top83 \t| interdire \t\t| 3 fois\n",
      "top84 \t| connaissance \t\t| 3 fois\n",
      "top85 \t| communs \t\t| 3 fois\n",
      "top86 \t| domaine \t\t| 3 fois\n",
      "top87 \t| point \t\t| 2 fois\n",
      "top88 \t| financees \t\t| 2 fois\n",
      "top89 \t| que \t\t| 2 fois\n",
      "top90 \t| attention \t\t| 2 fois\n",
      "top91 \t| etc \t\t| 2 fois\n",
      "top92 \t| europeenne \t\t| 2 fois\n",
      "top93 \t| temps \t\t| 2 fois\n",
      "top94 \t| quelle \t\t| 2 fois\n",
      "top95 \t| tous \t\t| 2 fois\n",
      "top96 \t| domaines \t\t| 2 fois\n",
      "top97 \t| lorsque \t\t| 2 fois\n",
      "top98 \t| rallie \t\t| 2 fois\n",
      "top99 \t| ouvert \t\t| 2 fois\n",
      "top100 \t| restriction \t\t| 2 fois\n"
     ]
    }
   ],
   "source": [
    "from collections import Counter\n",
    "title_words = []\n",
    "for a in amendements.values():\n",
    "    title_words.extend(get_words(a[\"title\"]))\n",
    "top_100 = Counter(title_words).most_common(100)\n",
    "for i, w in enumerate(top_100):\n",
    "    print (\"top\"+str(i+1), \"\\t|\", w[0], \"\\t\\t\\t|\", w[1], \"fois\")"
   ]
  },
  {
   "cell_type": "markdown",
   "metadata": {},
   "source": [
    "* **Transformons les titres des version 0 et la version 109 en liste de mots**\n",
    "\n",
    "Le titre de la version transformé est stocké dans ```'title'```"
   ]
  },
  {
   "cell_type": "code",
   "execution_count": 136,
   "metadata": {
    "collapsed": false
   },
   "outputs": [
    {
     "name": "stdout",
     "output_type": "stream",
     "text": [
      "['Travaux', 'de', 'recherche', 'et', 'de', 'statistique']\n",
      "['Création', 'du', 'nouvel', 'article', 'L', '533', '4', 'du', 'code', 'de', 'la', 'recherche', '', 'Livre', 'V', '', 'Titre', 'III', '', 'Chapitre', '3', '']\n"
     ]
    }
   ],
   "source": [
    "#print (versions[0][\"after\"])\n",
    "#la premiere\n",
    "motsv0 = get_words(versions[0][\"title\"])\n",
    "print(motsv0)\n",
    "#la derniere\n",
    "motsv108 = get_words(versions[-1][\"slug\"])\n",
    "print(motsv108)\n",
    "\n"
   ]
  },
  {
   "cell_type": "markdown",
   "metadata": {},
   "source": [
    "On remarque ici qu'il y a des élements vides dans la liste. \n",
    "On va donc affiner notre fonction préalable en filtrant les élements vides:"
   ]
  },
  {
   "cell_type": "code",
   "execution_count": 18,
   "metadata": {
    "collapsed": true
   },
   "outputs": [],
   "source": [
    "def get_words(text):\n",
    "    #on se sert du module regex trèèèèèès puissant\n",
    "    #avec une notation propre W\n",
    "    #tout ce qui est un espace et tout ce qui n'est pas une lettre\n",
    "    words = re.split('\\W', text)\n",
    "    #print(words)\n",
    "    return [w for w in words if w != \"\"]"
   ]
  },
  {
   "cell_type": "code",
   "execution_count": 39,
   "metadata": {
    "collapsed": false
   },
   "outputs": [
    {
     "name": "stdout",
     "output_type": "stream",
     "text": [
      "['Au', 'chapitre', '3', 'du', 'titre', '3', 'du', 'livre', 'V', 'du', 'code', 'de', 'la', 'recherche', '', 'il', 'est', 'inséré', 'un', 'article', 'L', '', '533', '4', 'ainsi', 'rédigé', '', '', 'Art', '', 'L', '', '533', '4', '', 'I', '', 'Lorsque', 'un', 'écrit', 'scientifique', '', 'issu', 'd', 'une', 'activité', 'de', 'recherche', 'financée', 'au', 'moins', 'pour', 'moitié', 'par', 'des', 'fonds', 'publics', '', 'est', 'publié', 'dans', 'un', 'périodique', '', 'un', 'ouvrage', 'paraissant', 'au', 'moins', 'une', 'fois', 'par', 'an', '', 'des', 'actes', 'de', 'congrès', 'ou', 'de', 'colloques', 'ou', 'des', 'recueils', 'de', 'mélanges', '', 'son', 'auteur', '', 'même', 'en', 'cas', 'de', 'cession', 'exclusive', 'à', 'un', 'éditeur', '', 'dispose', 'du', 'droit', 'de', 'mettre', 'à', 'disposition', 'gratuitement', 'sous', 'une', 'forme', 'numérique', '', 'sous', 'réserve', 'des', 'droits', 'des', 'éventuels', 'coauteurs', '', 'la', 'dernière', 'version', 'acceptée', 'de', 'son', 'manuscrit', 'par', 'son', 'éditeur', 'et', 'à', 'l', 'exclusion', 'du', 'travail', 'de', 'mise', 'en', 'forme', 'qui', 'incombe', 'à', 'ce', 'dernier', '', 'au', 'terme', 'd', 'un', 'délai', 'de', 'douze', 'mois', 'pour', 'les', 'sciences', '', 'la', 'technique', 'et', 'la', 'médecine', 'et', 'de', 'vingt', 'quatre', 'mois', 'pour', 'les', 'sciences', 'humaines', 'et', 'sociales', '', 'à', 'compter', 'de', 'date', 'de', 'la', 'première', 'publication', '', 'Cette', 'mise', 'à', 'disposition', 'ne', 'peut', 'donner', 'lieu', 'à', 'aucune', 'exploitation', 'commerciale', '', '', 'II', '', '', '', 'Les', 'dispositions', 'du', 'présent', 'article', 'sont', 'd', 'ordre', 'public', 'et', 'toute', 'clause', 'contraire', 'à', 'celles', 'ci', 'est', 'réputée', 'non', 'écrite', '', 'Elles', 'ne', 's', 'appliquent', 'pas', 'aux', 'contrats', 'en', 'cours', '', '', '']\n",
      "['I', '', 'Lorsque', 'un', 'écrit', 'scientifique', '', 'issu', 'd', 'une', 'activité', 'de', 'recherche', 'financée', 'au', 'moins', 'pour', 'moitié', 'par', 'des', 'fonds', 'publics', 'est', 'publié', 'dans', 'un', 'périodique', '', 'un', 'ouvrage', 'paraissant', 'au', 'moins', 'une', 'fois', 'par', 'an', '', 'des', 'actes', 'de', 'congrès', 'ou', 'de', 'colloques', 'ou', 'des', 'recueils', 'de', 'mélanges', 'son', 'auteur', '', 'même', 'en', 'cas', 'de', 'cession', 'exclusive', 'à', 'un', 'éditeur', '', 'dispose', 'dudroit', 'de', 'mettre', 'à', 'disposition', 'gratuitement', 'sous', 'une', 'forme', 'numérique', '', 'sous', 'réserve', 'des', 'droits', 'des', 'éventuels', 'co', 'auteurs', '', 'la', 'dernière', 'version', 'acceptée', 'de', 'son', 'manuscrit', 'par', 'son', 'éditeur', 'et', 'à', 'l', 'exclusion', 'du', 'travail', 'de', 'mise', 'en', 'forme', 'qui', 'incombe', 'à', 'ce', 'dernier', '', 'au', 'terme', 'd', 'un', 'délai', 'de', 'douze', 'mois', 'pour', 'les', 'sciences', '', 'la', 'technique', 'et', 'la', 'médecine', 'et', 'de', 'vingt', 'quatre', 'mois', 'pour', 'les', 'sciences', 'humaines', 'et', 'sociales', '', 'à', 'compter', 'de', 'date', 'de', 'la', 'première', 'publication', '', 'Cette', 'mise', 'à', 'disposition', 'ne', 'peut', 'donner', 'lieu', 'à', 'aucune', 'exploitation', 'commerciale', '', '', 'II', '', '', '', 'Les', 'dispositions', 'du', 'présent', 'article', 'sont', 'd', 'ordre', 'public', 'et', 'toute', 'clause', 'contraire', 'à', 'celles', 'ci', 'est', 'réputée', 'non', 'écrite', '', 'Elles', 'ne', 's', 'appliquent', 'pas', 'aux', 'contrats', 'en', 'cours', '', '', '']\n"
     ]
    }
   ],
   "source": [
    "motsv0 = get_words(versions[0][\"after\"])\n",
    "print(motsv0)\n",
    "#la derniere on commence à 0 donc c'est la version 1O8 ;)\n",
    "motsv108 = get_words(versions[-1][\"after\"])\n",
    "print(motsv108)"
   ]
  },
  {
   "cell_type": "code",
   "execution_count": null,
   "metadata": {
    "collapsed": true
   },
   "outputs": [],
   "source": []
  },
  {
   "cell_type": "markdown",
   "metadata": {},
   "source": [
    "* **Combien de mots?**"
   ]
  },
  {
   "cell_type": "code",
   "execution_count": 40,
   "metadata": {
    "collapsed": false
   },
   "outputs": [
    {
     "name": "stdout",
     "output_type": "stream",
     "text": [
      "La version 0 compte 236 mots\n",
      "La version 109 compte 199 mots\n",
      "-37\n"
     ]
    }
   ],
   "source": [
    "print(\"La version 0 compte\", len(motsv0), \"mots\")\n",
    "print(\"La version 109 compte\", len(motsv108), \"mots\")\n",
    "print(len(motsv109) - len(motsv0))\n"
   ]
  },
  {
   "cell_type": "markdown",
   "metadata": {},
   "source": [
    "Il y a donc des mots qui ont été enlevés plus qu'ajoutés entre les deux versions:\n",
    "quels sont_il?"
   ]
  },
  {
   "cell_type": "code",
   "execution_count": 41,
   "metadata": {
    "collapsed": false
   },
   "outputs": [
    {
     "name": "stdout",
     "output_type": "stream",
     "text": [
      "['co', 'dudroit', 'auteurs']\n",
      "['titre', 'V', 'il', 'Au', 'coauteurs', 'dudroit', 'livre', 'Art', '533', 'code', 'L', 'rédigé', 'chapitre', 'inséré', '3', '4', 'auteurs', 'co', 'ainsi', 'droit']\n"
     ]
    }
   ],
   "source": [
    "diff = set(motsv108) - set(motsv0)\n",
    "symetric_diff = set(motsv0) ^ set(motsv108)\n",
    "print(list(diff))\n",
    "print(list(symetric_diff))\n"
   ]
  },
  {
   "cell_type": "markdown",
   "metadata": {},
   "source": [
    "On remarque ici que les seuls mots retirés de la version sont des mots liés au contexte dans lequel s'ajoute la loi.\n",
    "On vérifie cette assertion en regarder la variation des mots non pas version par version mais en comparant chaque version avec la version originale. "
   ]
  },
  {
   "cell_type": "code",
   "execution_count": 44,
   "metadata": {
    "collapsed": false,
    "scrolled": true
   },
   "outputs": [
    {
     "name": "stdout",
     "output_type": "stream",
     "text": [
      "version 0 a ajouté [] et retiré []\n",
      "version 1 a ajouté ['co', 'dudroit', 'auteurs'] et retiré ['titre', 'Au', 'code', 'livre', 'L', 'inséré', 'coauteurs', 'Art', '3', 'ainsi', '4', '533', 'droit', 'V', 'il', 'rédigé', 'chapitre']\n",
      "version 2 a ajouté ['co', 'dudroit', 'auteurs'] et retiré ['titre', 'Au', 'code', 'livre', 'L', 'inséré', 'coauteurs', 'Art', '3', 'ainsi', '4', '533', 'droit', 'V', 'il', 'rédigé', 'chapitre']\n",
      "version 3 a ajouté ['co', 'dudroit', 'auteurs'] et retiré ['titre', 'Au', 'code', 'livre', 'L', 'inséré', 'coauteurs', 'Art', '3', 'ainsi', '4', '533', 'droit', 'V', 'il', 'rédigé', 'chapitre']\n",
      "version 4 a ajouté ['co', 'dudroit', 'auteurs'] et retiré ['titre', 'Au', 'code', 'livre', 'L', 'inséré', 'coauteurs', 'Art', '3', 'ainsi', '4', '533', 'droit', 'V', 'il', 'rédigé', 'chapitre']\n",
      "version 5 a ajouté ['co', 'dudroit', 'auteurs'] et retiré ['titre', 'Au', 'code', 'livre', 'L', 'inséré', 'coauteurs', 'Art', '3', 'ainsi', '4', '533', 'droit', 'V', 'il', 'rédigé', 'chapitre']\n",
      "version 6 a ajouté ['co', 'dudroit', 'auteurs'] et retiré ['titre', 'Au', 'code', 'livre', 'L', 'inséré', 'coauteurs', 'Art', '3', 'ainsi', '4', '533', 'droit', 'V', 'il', 'rédigé', 'chapitre']\n",
      "version 7 a ajouté ['co', 'dudroit', 'auteurs'] et retiré ['titre', 'Au', 'code', 'livre', 'L', 'inséré', 'coauteurs', 'Art', '3', 'ainsi', '4', '533', 'droit', 'V', 'il', 'rédigé', 'chapitre']\n",
      "version 8 a ajouté ['co', 'dudroit', 'auteurs'] et retiré ['titre', 'Au', 'code', 'livre', 'L', 'inséré', 'coauteurs', 'Art', '3', 'ainsi', '4', '533', 'droit', 'V', 'il', 'rédigé', 'chapitre']\n",
      "version 9 a ajouté ['co', 'dudroit', 'auteurs'] et retiré ['titre', 'Au', 'code', 'livre', 'L', 'inséré', 'coauteurs', 'Art', '3', 'ainsi', '4', '533', 'droit', 'V', 'il', 'rédigé', 'chapitre']\n",
      "version 10 a ajouté ['co', 'dudroit', 'auteurs'] et retiré ['titre', 'Au', 'code', 'livre', 'L', 'inséré', 'coauteurs', 'Art', '3', 'ainsi', '4', '533', 'droit', 'V', 'il', 'rédigé', 'chapitre']\n",
      "version 11 a ajouté ['co', 'dudroit', 'auteurs'] et retiré ['titre', 'Au', 'code', 'livre', 'L', 'inséré', 'coauteurs', 'Art', '3', 'ainsi', '4', '533', 'droit', 'V', 'il', 'rédigé', 'chapitre']\n",
      "version 12 a ajouté ['co', 'dudroit', 'auteurs'] et retiré ['titre', 'Au', 'code', 'livre', 'L', 'inséré', 'coauteurs', 'Art', '3', 'ainsi', '4', '533', 'droit', 'V', 'il', 'rédigé', 'chapitre']\n",
      "version 13 a ajouté ['co', 'dudroit', 'auteurs'] et retiré ['titre', 'Au', 'code', 'livre', 'L', 'inséré', 'coauteurs', 'Art', '3', 'ainsi', '4', '533', 'droit', 'V', 'il', 'rédigé', 'chapitre']\n",
      "version 14 a ajouté ['co', 'dudroit', 'auteurs'] et retiré ['titre', 'Au', 'code', 'livre', 'L', 'inséré', 'coauteurs', 'Art', '3', 'ainsi', '4', '533', 'droit', 'V', 'il', 'rédigé', 'chapitre']\n",
      "version 15 a ajouté ['co', 'dudroit', 'auteurs'] et retiré ['titre', 'Au', 'code', 'livre', 'L', 'inséré', 'coauteurs', 'Art', '3', 'ainsi', '4', '533', 'droit', 'V', 'il', 'rédigé', 'chapitre']\n",
      "version 16 a ajouté ['co', 'dudroit', 'auteurs'] et retiré ['titre', 'Au', 'code', 'livre', 'L', 'inséré', 'coauteurs', 'Art', '3', 'ainsi', '4', '533', 'droit', 'V', 'il', 'rédigé', 'chapitre']\n",
      "version 17 a ajouté ['co', 'dudroit', 'auteurs'] et retiré ['titre', 'Au', 'code', 'livre', 'L', 'inséré', 'coauteurs', 'Art', '3', 'ainsi', '4', '533', 'droit', 'V', 'il', 'rédigé', 'chapitre']\n",
      "version 18 a ajouté ['co', 'dudroit', 'auteurs'] et retiré ['titre', 'Au', 'code', 'livre', 'L', 'inséré', 'coauteurs', 'Art', '3', 'ainsi', '4', '533', 'droit', 'V', 'il', 'rédigé', 'chapitre']\n",
      "version 19 a ajouté ['co', 'dudroit', 'auteurs'] et retiré ['titre', 'Au', 'code', 'livre', 'L', 'inséré', 'coauteurs', 'Art', '3', 'ainsi', '4', '533', 'droit', 'V', 'il', 'rédigé', 'chapitre']\n",
      "version 20 a ajouté ['co', 'dudroit', 'auteurs'] et retiré ['titre', 'Au', 'code', 'livre', 'L', 'inséré', 'coauteurs', 'Art', '3', 'ainsi', '4', '533', 'droit', 'V', 'il', 'rédigé', 'chapitre']\n",
      "version 21 a ajouté ['co', 'dudroit', 'auteurs'] et retiré ['titre', 'Au', 'code', 'livre', 'L', 'inséré', 'coauteurs', 'Art', '3', 'ainsi', '4', '533', 'droit', 'V', 'il', 'rédigé', 'chapitre']\n",
      "version 22 a ajouté ['co', 'dudroit', 'auteurs'] et retiré ['titre', 'Au', 'code', 'livre', 'L', 'inséré', 'coauteurs', 'Art', '3', 'ainsi', '4', '533', 'droit', 'V', 'il', 'rédigé', 'chapitre']\n",
      "version 23 a ajouté ['co', 'dudroit', 'auteurs'] et retiré ['titre', 'Au', 'code', 'livre', 'L', 'inséré', 'coauteurs', 'Art', '3', 'ainsi', '4', '533', 'droit', 'V', 'il', 'rédigé', 'chapitre']\n",
      "version 24 a ajouté ['co', 'dudroit', 'auteurs'] et retiré ['titre', 'Au', 'code', 'livre', 'L', 'inséré', 'coauteurs', 'Art', '3', 'ainsi', '4', '533', 'droit', 'V', 'il', 'rédigé', 'chapitre']\n",
      "version 25 a ajouté ['co', 'dudroit', 'auteurs'] et retiré ['titre', 'Au', 'code', 'livre', 'L', 'inséré', 'coauteurs', 'Art', '3', 'ainsi', '4', '533', 'droit', 'V', 'il', 'rédigé', 'chapitre']\n",
      "version 26 a ajouté ['co', 'dudroit', 'auteurs'] et retiré ['titre', 'Au', 'code', 'livre', 'L', 'inséré', 'coauteurs', 'Art', '3', 'ainsi', '4', '533', 'droit', 'V', 'il', 'rédigé', 'chapitre']\n",
      "version 27 a ajouté ['co', 'dudroit', 'auteurs'] et retiré ['titre', 'Au', 'code', 'livre', 'L', 'inséré', 'coauteurs', 'Art', '3', 'ainsi', '4', '533', 'droit', 'V', 'il', 'rédigé', 'chapitre']\n",
      "version 28 a ajouté ['co', 'dudroit', 'auteurs'] et retiré ['titre', 'Au', 'code', 'livre', 'L', 'inséré', 'coauteurs', 'Art', '3', 'ainsi', '4', '533', 'droit', 'V', 'il', 'rédigé', 'chapitre']\n",
      "version 29 a ajouté ['co', 'dudroit', 'auteurs'] et retiré ['titre', 'Au', 'code', 'livre', 'L', 'inséré', 'coauteurs', 'Art', '3', 'ainsi', '4', '533', 'droit', 'V', 'il', 'rédigé', 'chapitre']\n",
      "version 30 a ajouté ['co', 'dudroit', 'auteurs'] et retiré ['titre', 'Au', 'code', 'livre', 'L', 'inséré', 'coauteurs', 'Art', '3', 'ainsi', '4', '533', 'droit', 'V', 'il', 'rédigé', 'chapitre']\n",
      "version 31 a ajouté ['co', 'dudroit', 'auteurs'] et retiré ['titre', 'Au', 'code', 'livre', 'L', 'inséré', 'coauteurs', 'Art', '3', 'ainsi', '4', '533', 'droit', 'V', 'il', 'rédigé', 'chapitre']\n",
      "version 32 a ajouté ['co', 'dudroit', 'auteurs'] et retiré ['titre', 'Au', 'code', 'livre', 'L', 'inséré', 'coauteurs', 'Art', '3', 'ainsi', '4', '533', 'droit', 'V', 'il', 'rédigé', 'chapitre']\n",
      "version 33 a ajouté ['co', 'dudroit', 'auteurs'] et retiré ['titre', 'Au', 'code', 'livre', 'L', 'inséré', 'coauteurs', 'Art', '3', 'ainsi', '4', '533', 'droit', 'V', 'il', 'rédigé', 'chapitre']\n",
      "version 34 a ajouté ['co', 'dudroit', 'auteurs'] et retiré ['titre', 'Au', 'code', 'livre', 'L', 'inséré', 'coauteurs', 'Art', '3', 'ainsi', '4', '533', 'droit', 'V', 'il', 'rédigé', 'chapitre']\n",
      "version 35 a ajouté ['co', 'dudroit', 'auteurs'] et retiré ['titre', 'Au', 'code', 'livre', 'L', 'inséré', 'coauteurs', 'Art', '3', 'ainsi', '4', '533', 'droit', 'V', 'il', 'rédigé', 'chapitre']\n",
      "version 36 a ajouté ['co', 'dudroit', 'auteurs'] et retiré ['titre', 'Au', 'code', 'livre', 'L', 'inséré', 'coauteurs', 'Art', '3', 'ainsi', '4', '533', 'droit', 'V', 'il', 'rédigé', 'chapitre']\n",
      "version 37 a ajouté ['co', 'dudroit', 'auteurs'] et retiré ['titre', 'Au', 'code', 'livre', 'L', 'inséré', 'coauteurs', 'Art', '3', 'ainsi', '4', '533', 'droit', 'V', 'il', 'rédigé', 'chapitre']\n",
      "version 38 a ajouté ['co', 'dudroit', 'auteurs'] et retiré ['titre', 'Au', 'code', 'livre', 'L', 'inséré', 'coauteurs', 'Art', '3', 'ainsi', '4', '533', 'droit', 'V', 'il', 'rédigé', 'chapitre']\n",
      "version 39 a ajouté ['co', 'dudroit', 'auteurs'] et retiré ['titre', 'Au', 'code', 'livre', 'L', 'inséré', 'coauteurs', 'Art', '3', 'ainsi', '4', '533', 'droit', 'V', 'il', 'rédigé', 'chapitre']\n",
      "version 40 a ajouté ['co', 'dudroit', 'auteurs'] et retiré ['titre', 'Au', 'code', 'livre', 'L', 'inséré', 'coauteurs', 'Art', '3', 'ainsi', '4', '533', 'droit', 'V', 'il', 'rédigé', 'chapitre']\n",
      "version 41 a ajouté ['co', 'dudroit', 'auteurs'] et retiré ['titre', 'Au', 'code', 'livre', 'L', 'inséré', 'coauteurs', 'Art', '3', 'ainsi', '4', '533', 'droit', 'V', 'il', 'rédigé', 'chapitre']\n",
      "version 42 a ajouté ['co', 'dudroit', 'auteurs'] et retiré ['titre', 'Au', 'code', 'livre', 'L', 'inséré', 'coauteurs', 'Art', '3', 'ainsi', '4', '533', 'droit', 'V', 'il', 'rédigé', 'chapitre']\n",
      "version 43 a ajouté ['co', 'dudroit', 'auteurs'] et retiré ['titre', 'Au', 'code', 'livre', 'L', 'inséré', 'coauteurs', 'Art', '3', 'ainsi', '4', '533', 'droit', 'V', 'il', 'rédigé', 'chapitre']\n",
      "version 44 a ajouté ['co', 'dudroit', 'auteurs'] et retiré ['titre', 'Au', 'code', 'livre', 'L', 'inséré', 'coauteurs', 'Art', '3', 'ainsi', '4', '533', 'droit', 'V', 'il', 'rédigé', 'chapitre']\n",
      "version 45 a ajouté ['co', 'dudroit', 'auteurs'] et retiré ['titre', 'Au', 'code', 'livre', 'L', 'inséré', 'coauteurs', 'Art', '3', 'ainsi', '4', '533', 'droit', 'V', 'il', 'rédigé', 'chapitre']\n",
      "version 46 a ajouté ['co', 'dudroit', 'auteurs'] et retiré ['titre', 'Au', 'code', 'livre', 'L', 'inséré', 'coauteurs', 'Art', '3', 'ainsi', '4', '533', 'droit', 'V', 'il', 'rédigé', 'chapitre']\n",
      "version 47 a ajouté ['co', 'dudroit', 'auteurs'] et retiré ['titre', 'Au', 'code', 'livre', 'L', 'inséré', 'coauteurs', 'Art', '3', 'ainsi', '4', '533', 'droit', 'V', 'il', 'rédigé', 'chapitre']\n",
      "version 48 a ajouté ['co', 'dudroit', 'auteurs'] et retiré ['titre', 'Au', 'code', 'livre', 'L', 'inséré', 'coauteurs', 'Art', '3', 'ainsi', '4', '533', 'droit', 'V', 'il', 'rédigé', 'chapitre']\n",
      "version 49 a ajouté ['co', 'dudroit', 'auteurs'] et retiré ['titre', 'Au', 'code', 'livre', 'L', 'inséré', 'coauteurs', 'Art', '3', 'ainsi', '4', '533', 'droit', 'V', 'il', 'rédigé', 'chapitre']\n",
      "version 50 a ajouté ['co', 'dudroit', 'auteurs'] et retiré ['titre', 'Au', 'code', 'livre', 'L', 'inséré', 'coauteurs', 'Art', '3', 'ainsi', '4', '533', 'droit', 'V', 'il', 'rédigé', 'chapitre']\n",
      "version 51 a ajouté ['co', 'dudroit', 'auteurs'] et retiré ['titre', 'Au', 'code', 'livre', 'L', 'inséré', 'coauteurs', 'Art', '3', 'ainsi', '4', '533', 'droit', 'V', 'il', 'rédigé', 'chapitre']\n",
      "version 52 a ajouté ['co', 'dudroit', 'auteurs'] et retiré ['titre', 'Au', 'code', 'livre', 'L', 'inséré', 'coauteurs', 'Art', '3', 'ainsi', '4', '533', 'droit', 'V', 'il', 'rédigé', 'chapitre']\n",
      "version 53 a ajouté ['co', 'dudroit', 'auteurs'] et retiré ['titre', 'Au', 'code', 'livre', 'L', 'inséré', 'coauteurs', 'Art', '3', 'ainsi', '4', '533', 'droit', 'V', 'il', 'rédigé', 'chapitre']\n",
      "version 54 a ajouté ['co', 'dudroit', 'auteurs'] et retiré ['titre', 'Au', 'code', 'livre', 'L', 'inséré', 'coauteurs', 'Art', '3', 'ainsi', '4', '533', 'droit', 'V', 'il', 'rédigé', 'chapitre']\n",
      "version 55 a ajouté ['co', 'dudroit', 'auteurs'] et retiré ['titre', 'Au', 'code', 'livre', 'L', 'inséré', 'coauteurs', 'Art', '3', 'ainsi', '4', '533', 'droit', 'V', 'il', 'rédigé', 'chapitre']\n",
      "version 56 a ajouté ['co', 'dudroit', 'auteurs'] et retiré ['titre', 'Au', 'code', 'livre', 'L', 'inséré', 'coauteurs', 'Art', '3', 'ainsi', '4', '533', 'droit', 'V', 'il', 'rédigé', 'chapitre']\n",
      "version 57 a ajouté ['co', 'dudroit', 'auteurs'] et retiré ['titre', 'Au', 'code', 'livre', 'L', 'inséré', 'coauteurs', 'Art', '3', 'ainsi', '4', '533', 'droit', 'V', 'il', 'rédigé', 'chapitre']\n",
      "version 58 a ajouté ['co', 'dudroit', 'auteurs'] et retiré ['titre', 'Au', 'code', 'livre', 'L', 'inséré', 'coauteurs', 'Art', '3', 'ainsi', '4', '533', 'droit', 'V', 'il', 'rédigé', 'chapitre']\n",
      "version 59 a ajouté ['co', 'dudroit', 'auteurs'] et retiré ['titre', 'Au', 'code', 'livre', 'L', 'inséré', 'coauteurs', 'Art', '3', 'ainsi', '4', '533', 'droit', 'V', 'il', 'rédigé', 'chapitre']\n",
      "version 60 a ajouté ['co', 'dudroit', 'auteurs'] et retiré ['titre', 'Au', 'code', 'livre', 'L', 'inséré', 'coauteurs', 'Art', '3', 'ainsi', '4', '533', 'droit', 'V', 'il', 'rédigé', 'chapitre']\n",
      "version 61 a ajouté ['co', 'dudroit', 'auteurs'] et retiré ['titre', 'Au', 'code', 'livre', 'L', 'inséré', 'coauteurs', 'Art', '3', 'ainsi', '4', '533', 'droit', 'V', 'il', 'rédigé', 'chapitre']\n",
      "version 62 a ajouté ['co', 'dudroit', 'auteurs'] et retiré ['titre', 'Au', 'code', 'livre', 'L', 'inséré', 'coauteurs', 'Art', '3', 'ainsi', '4', '533', 'droit', 'V', 'il', 'rédigé', 'chapitre']\n",
      "version 63 a ajouté ['co', 'dudroit', 'auteurs'] et retiré ['titre', 'Au', 'code', 'livre', 'L', 'inséré', 'coauteurs', 'Art', '3', 'ainsi', '4', '533', 'droit', 'V', 'il', 'rédigé', 'chapitre']\n",
      "version 64 a ajouté ['co', 'dudroit', 'auteurs'] et retiré ['titre', 'Au', 'code', 'livre', 'L', 'inséré', 'coauteurs', 'Art', '3', 'ainsi', '4', '533', 'droit', 'V', 'il', 'rédigé', 'chapitre']\n",
      "version 65 a ajouté ['co', 'dudroit', 'auteurs'] et retiré ['titre', 'Au', 'code', 'livre', 'L', 'inséré', 'coauteurs', 'Art', '3', 'ainsi', '4', '533', 'droit', 'V', 'il', 'rédigé', 'chapitre']\n",
      "version 66 a ajouté ['co', 'dudroit', 'auteurs'] et retiré ['titre', 'Au', 'code', 'livre', 'L', 'inséré', 'coauteurs', 'Art', '3', 'ainsi', '4', '533', 'droit', 'V', 'il', 'rédigé', 'chapitre']\n",
      "version 67 a ajouté ['co', 'dudroit', 'auteurs'] et retiré ['titre', 'Au', 'code', 'livre', 'L', 'inséré', 'coauteurs', 'Art', '3', 'ainsi', '4', '533', 'droit', 'V', 'il', 'rédigé', 'chapitre']\n",
      "version 68 a ajouté ['co', 'dudroit', 'auteurs'] et retiré ['titre', 'Au', 'code', 'livre', 'L', 'inséré', 'coauteurs', 'Art', '3', 'ainsi', '4', '533', 'droit', 'V', 'il', 'rédigé', 'chapitre']\n",
      "version 69 a ajouté ['co', 'dudroit', 'auteurs'] et retiré ['titre', 'Au', 'code', 'livre', 'L', 'inséré', 'coauteurs', 'Art', '3', 'ainsi', '4', '533', 'droit', 'V', 'il', 'rédigé', 'chapitre']\n",
      "version 70 a ajouté ['co', 'dudroit', 'auteurs'] et retiré ['titre', 'Au', 'code', 'livre', 'L', 'inséré', 'coauteurs', 'Art', '3', 'ainsi', '4', '533', 'droit', 'V', 'il', 'rédigé', 'chapitre']\n",
      "version 71 a ajouté ['co', 'dudroit', 'auteurs'] et retiré ['titre', 'Au', 'code', 'livre', 'L', 'inséré', 'coauteurs', 'Art', '3', 'ainsi', '4', '533', 'droit', 'V', 'il', 'rédigé', 'chapitre']\n",
      "version 72 a ajouté ['co', 'dudroit', 'auteurs'] et retiré ['titre', 'Au', 'code', 'livre', 'L', 'inséré', 'coauteurs', 'Art', '3', 'ainsi', '4', '533', 'droit', 'V', 'il', 'rédigé', 'chapitre']\n",
      "version 73 a ajouté ['co', 'dudroit', 'auteurs'] et retiré ['titre', 'Au', 'code', 'livre', 'L', 'inséré', 'coauteurs', 'Art', '3', 'ainsi', '4', '533', 'droit', 'V', 'il', 'rédigé', 'chapitre']\n",
      "version 74 a ajouté ['co', 'dudroit', 'auteurs'] et retiré ['titre', 'Au', 'code', 'livre', 'L', 'inséré', 'coauteurs', 'Art', '3', 'ainsi', '4', '533', 'droit', 'V', 'il', 'rédigé', 'chapitre']\n",
      "version 75 a ajouté ['co', 'dudroit', 'auteurs'] et retiré ['titre', 'Au', 'code', 'livre', 'L', 'inséré', 'coauteurs', 'Art', '3', 'ainsi', '4', '533', 'droit', 'V', 'il', 'rédigé', 'chapitre']\n",
      "version 76 a ajouté ['co', 'dudroit', 'auteurs'] et retiré ['titre', 'Au', 'code', 'livre', 'L', 'inséré', 'coauteurs', 'Art', '3', 'ainsi', '4', '533', 'droit', 'V', 'il', 'rédigé', 'chapitre']\n",
      "version 77 a ajouté ['co', 'dudroit', 'auteurs'] et retiré ['titre', 'Au', 'code', 'livre', 'L', 'inséré', 'coauteurs', 'Art', '3', 'ainsi', '4', '533', 'droit', 'V', 'il', 'rédigé', 'chapitre']\n",
      "version 78 a ajouté ['co', 'dudroit', 'auteurs'] et retiré ['titre', 'Au', 'code', 'livre', 'L', 'inséré', 'coauteurs', 'Art', '3', 'ainsi', '4', '533', 'droit', 'V', 'il', 'rédigé', 'chapitre']\n",
      "version 79 a ajouté ['co', 'dudroit', 'auteurs'] et retiré ['titre', 'Au', 'code', 'livre', 'L', 'inséré', 'coauteurs', 'Art', '3', 'ainsi', '4', '533', 'droit', 'V', 'il', 'rédigé', 'chapitre']\n",
      "version 80 a ajouté ['co', 'dudroit', 'auteurs'] et retiré ['titre', 'Au', 'code', 'livre', 'L', 'inséré', 'coauteurs', 'Art', '3', 'ainsi', '4', '533', 'droit', 'V', 'il', 'rédigé', 'chapitre']\n",
      "version 81 a ajouté ['co', 'dudroit', 'auteurs'] et retiré ['titre', 'Au', 'code', 'livre', 'L', 'inséré', 'coauteurs', 'Art', '3', 'ainsi', '4', '533', 'droit', 'V', 'il', 'rédigé', 'chapitre']\n",
      "version 82 a ajouté ['co', 'dudroit', 'auteurs'] et retiré ['titre', 'Au', 'code', 'livre', 'L', 'inséré', 'coauteurs', 'Art', '3', 'ainsi', '4', '533', 'droit', 'V', 'il', 'rédigé', 'chapitre']\n",
      "version 83 a ajouté ['co', 'dudroit', 'auteurs'] et retiré ['titre', 'Au', 'code', 'livre', 'L', 'inséré', 'coauteurs', 'Art', '3', 'ainsi', '4', '533', 'droit', 'V', 'il', 'rédigé', 'chapitre']\n",
      "version 84 a ajouté ['co', 'dudroit', 'auteurs'] et retiré ['titre', 'Au', 'code', 'livre', 'L', 'inséré', 'coauteurs', 'Art', '3', 'ainsi', '4', '533', 'droit', 'V', 'il', 'rédigé', 'chapitre']\n",
      "version 85 a ajouté ['co', 'dudroit', 'auteurs'] et retiré ['titre', 'Au', 'code', 'livre', 'L', 'inséré', 'coauteurs', 'Art', '3', 'ainsi', '4', '533', 'droit', 'V', 'il', 'rédigé', 'chapitre']\n",
      "version 86 a ajouté ['co', 'dudroit', 'auteurs'] et retiré ['titre', 'Au', 'code', 'livre', 'L', 'inséré', 'coauteurs', 'Art', '3', 'ainsi', '4', '533', 'droit', 'V', 'il', 'rédigé', 'chapitre']\n",
      "version 87 a ajouté ['co', 'dudroit', 'auteurs'] et retiré ['titre', 'Au', 'code', 'livre', 'L', 'inséré', 'coauteurs', 'Art', '3', 'ainsi', '4', '533', 'droit', 'V', 'il', 'rédigé', 'chapitre']\n",
      "version 88 a ajouté ['co', 'dudroit', 'auteurs'] et retiré ['titre', 'Au', 'code', 'livre', 'L', 'inséré', 'coauteurs', 'Art', '3', 'ainsi', '4', '533', 'droit', 'V', 'il', 'rédigé', 'chapitre']\n",
      "version 89 a ajouté ['co', 'dudroit', 'auteurs'] et retiré ['titre', 'Au', 'code', 'livre', 'L', 'inséré', 'coauteurs', 'Art', '3', 'ainsi', '4', '533', 'droit', 'V', 'il', 'rédigé', 'chapitre']\n",
      "version 90 a ajouté ['co', 'dudroit', 'auteurs'] et retiré ['titre', 'Au', 'code', 'livre', 'L', 'inséré', 'coauteurs', 'Art', '3', 'ainsi', '4', '533', 'droit', 'V', 'il', 'rédigé', 'chapitre']\n",
      "version 91 a ajouté ['co', 'dudroit', 'auteurs'] et retiré ['titre', 'Au', 'code', 'livre', 'L', 'inséré', 'coauteurs', 'Art', '3', 'ainsi', '4', '533', 'droit', 'V', 'il', 'rédigé', 'chapitre']\n",
      "version 92 a ajouté ['co', 'dudroit', 'auteurs'] et retiré ['titre', 'Au', 'code', 'livre', 'L', 'inséré', 'coauteurs', 'Art', '3', 'ainsi', '4', '533', 'droit', 'V', 'il', 'rédigé', 'chapitre']\n",
      "version 93 a ajouté ['co', 'dudroit', 'auteurs'] et retiré ['titre', 'Au', 'code', 'livre', 'L', 'inséré', 'coauteurs', 'Art', '3', 'ainsi', '4', '533', 'droit', 'V', 'il', 'rédigé', 'chapitre']\n",
      "version 94 a ajouté ['co', 'dudroit', 'auteurs'] et retiré ['titre', 'Au', 'code', 'livre', 'L', 'inséré', 'coauteurs', 'Art', '3', 'ainsi', '4', '533', 'droit', 'V', 'il', 'rédigé', 'chapitre']\n",
      "version 95 a ajouté ['co', 'dudroit', 'auteurs'] et retiré ['titre', 'Au', 'code', 'livre', 'L', 'inséré', 'coauteurs', 'Art', '3', 'ainsi', '4', '533', 'droit', 'V', 'il', 'rédigé', 'chapitre']\n",
      "version 96 a ajouté ['co', 'dudroit', 'auteurs'] et retiré ['titre', 'Au', 'code', 'livre', 'L', 'inséré', 'coauteurs', 'Art', '3', 'ainsi', '4', '533', 'droit', 'V', 'il', 'rédigé', 'chapitre']\n",
      "version 97 a ajouté ['co', 'dudroit', 'auteurs'] et retiré ['titre', 'Au', 'code', 'livre', 'L', 'inséré', 'coauteurs', 'Art', '3', 'ainsi', '4', '533', 'droit', 'V', 'il', 'rédigé', 'chapitre']\n",
      "version 98 a ajouté ['co', 'dudroit', 'auteurs'] et retiré ['titre', 'Au', 'code', 'livre', 'L', 'inséré', 'coauteurs', 'Art', '3', 'ainsi', '4', '533', 'droit', 'V', 'il', 'rédigé', 'chapitre']\n",
      "version 99 a ajouté ['co', 'dudroit', 'auteurs'] et retiré ['titre', 'Au', 'code', 'livre', 'L', 'inséré', 'coauteurs', 'Art', '3', 'ainsi', '4', '533', 'droit', 'V', 'il', 'rédigé', 'chapitre']\n",
      "version 100 a ajouté ['co', 'dudroit', 'auteurs'] et retiré ['titre', 'Au', 'code', 'livre', 'L', 'inséré', 'coauteurs', 'Art', '3', 'ainsi', '4', '533', 'droit', 'V', 'il', 'rédigé', 'chapitre']\n",
      "version 101 a ajouté ['co', 'dudroit', 'auteurs'] et retiré ['titre', 'Au', 'code', 'livre', 'L', 'inséré', 'coauteurs', 'Art', '3', 'ainsi', '4', '533', 'droit', 'V', 'il', 'rédigé', 'chapitre']\n",
      "version 102 a ajouté ['co', 'dudroit', 'auteurs'] et retiré ['titre', 'Au', 'code', 'livre', 'L', 'inséré', 'coauteurs', 'Art', '3', 'ainsi', '4', '533', 'droit', 'V', 'il', 'rédigé', 'chapitre']\n",
      "version 103 a ajouté ['co', 'dudroit', 'auteurs'] et retiré ['titre', 'Au', 'code', 'livre', 'L', 'inséré', 'coauteurs', 'Art', '3', 'ainsi', '4', '533', 'droit', 'V', 'il', 'rédigé', 'chapitre']\n",
      "version 104 a ajouté ['co', 'dudroit', 'auteurs'] et retiré ['titre', 'Au', 'code', 'livre', 'L', 'inséré', 'coauteurs', 'Art', '3', 'ainsi', '4', '533', 'droit', 'V', 'il', 'rédigé', 'chapitre']\n",
      "version 105 a ajouté ['co', 'dudroit', 'auteurs'] et retiré ['titre', 'Au', 'code', 'livre', 'L', 'inséré', 'coauteurs', 'Art', '3', 'ainsi', '4', '533', 'droit', 'V', 'il', 'rédigé', 'chapitre']\n",
      "version 106 a ajouté ['co', 'dudroit', 'auteurs'] et retiré ['titre', 'Au', 'code', 'livre', 'L', 'inséré', 'coauteurs', 'Art', '3', 'ainsi', '4', '533', 'droit', 'V', 'il', 'rédigé', 'chapitre']\n",
      "version 107 a ajouté ['co', 'dudroit', 'auteurs'] et retiré ['titre', 'Au', 'code', 'livre', 'L', 'inséré', 'coauteurs', 'Art', '3', 'ainsi', '4', '533', 'droit', 'V', 'il', 'rédigé', 'chapitre']\n",
      "version 108 a ajouté ['co', 'dudroit', 'auteurs'] et retiré ['titre', 'Au', 'code', 'livre', 'L', 'inséré', 'coauteurs', 'Art', '3', 'ainsi', '4', '533', 'droit', 'V', 'il', 'rédigé', 'chapitre']\n"
     ]
    }
   ],
   "source": [
    "#on fait une liste avec tout les mots de la même manière que précédemment\n",
    "mots_v = [get_words(v[\"after\"]) for v in versions]\n",
    "#et on compare v(i) a v0\n",
    "\n",
    "diff_v = [[list(set(mots_v[i])- set(mots_v[0])), list(set(mots_v[0]) - set(mots_v[i]))] for i in range(len(mots_v))]\n",
    "#symetric_diff_v = [set(mots_v[i+1]) ^ set(mots_v[i]) for i in range(len(mots_v)-1)]\n",
    "for i, diff in enumerate(diff_v):\n",
    "    ajout, supp = diff\n",
    "    print(\"version\", i,\"a ajouté\", ajout,\"et retiré\", supp)\n",
    "    \n",
    "    \n",
    "    "
   ]
  },
  {
   "cell_type": "markdown",
   "metadata": {},
   "source": [
    "Très peu de changement comme on peut le voir...\n",
    "\n",
    "Ce n'est donc pas dans le texte lui même que le débat sur l'article de loi c'est joué"
   ]
  },
  {
   "cell_type": "markdown",
   "metadata": {},
   "source": [
    "### Commentaires des versions\n",
    "La première version n'a pas de commentaire en revanche certaines modifications ont fait l'objet de commentaires\n",
    "\n",
    "stockées dans ```'comment'```"
   ]
  },
  {
   "cell_type": "code",
   "execution_count": 23,
   "metadata": {
    "collapsed": false
   },
   "outputs": [
    {
     "name": "stdout",
     "output_type": "stream",
     "text": [
      "Version 0 {}\n",
      "Version 108 La recherche financée par l'Etat appartient à tous, tous doivent pouvoir l'utiliser à des fins commerciales ou non !\n"
     ]
    }
   ],
   "source": [
    "#ici on compare v0 et V108\n",
    "print(\"Version 0\", versions[0][\"comment\"])\n",
    "print(\"Version 108\", versions[-1][\"comment\"])\n"
   ]
  },
  {
   "cell_type": "markdown",
   "metadata": {
    "collapsed": true
   },
   "source": [
    "On remarque que la version originale n'a pas de commentaire. Ce qui est logique!\n",
    "On va se concentrer donc sur les commentaires liés à la réécriture du texte de loi comme un moyen de justifier \n",
    "les changements opérés sur le texte de loi qui eux n'ont pas été bien stockés."
   ]
  },
  {
   "cell_type": "code",
   "execution_count": 25,
   "metadata": {
    "collapsed": false
   },
   "outputs": [
    {
     "name": "stdout",
     "output_type": "stream",
     "text": [
      "108 commentaires de versions\n",
      "commentaire de v 1 \t\t 174 \tmots\n",
      "commentaire de v 2 \t\t 104 \tmots\n",
      "commentaire de v 3 \t\t 578 \tmots\n",
      "commentaire de v 4 \t\t 46 \tmots\n",
      "commentaire de v 5 \t\t 27 \tmots\n",
      "commentaire de v 6 \t\t 54 \tmots\n",
      "commentaire de v 7 \t\t 1 \tmots\n",
      "commentaire de v 8 \t\t 1 \tmots\n",
      "commentaire de v 9 \t\t 1 \tmots\n",
      "commentaire de v 10 \t\t 1 \tmots\n",
      "commentaire de v 11 \t\t 105 \tmots\n",
      "commentaire de v 12 \t\t 88 \tmots\n",
      "commentaire de v 13 \t\t 23 \tmots\n",
      "commentaire de v 14 \t\t 56 \tmots\n",
      "commentaire de v 15 \t\t 22 \tmots\n",
      "commentaire de v 16 \t\t 460 \tmots\n",
      "commentaire de v 17 \t\t 172 \tmots\n",
      "commentaire de v 18 \t\t 756 \tmots\n",
      "commentaire de v 19 \t\t 1 \tmots\n",
      "commentaire de v 20 \t\t 1 \tmots\n",
      "commentaire de v 21 \t\t 164 \tmots\n",
      "commentaire de v 22 \t\t 3 \tmots\n",
      "commentaire de v 23 \t\t 62 \tmots\n",
      "commentaire de v 24 \t\t 136 \tmots\n",
      "commentaire de v 25 \t\t 34 \tmots\n",
      "commentaire de v 26 \t\t 1 \tmots\n",
      "commentaire de v 27 \t\t 1 \tmots\n",
      "commentaire de v 28 \t\t 394 \tmots\n",
      "commentaire de v 29 \t\t 34 \tmots\n",
      "commentaire de v 30 \t\t 357 \tmots\n",
      "commentaire de v 31 \t\t 40 \tmots\n",
      "commentaire de v 32 \t\t 349 \tmots\n",
      "commentaire de v 33 \t\t 394 \tmots\n",
      "commentaire de v 34 \t\t 63 \tmots\n",
      "commentaire de v 35 \t\t 19 \tmots\n",
      "commentaire de v 36 \t\t 86 \tmots\n",
      "commentaire de v 37 \t\t 168 \tmots\n",
      "commentaire de v 38 \t\t 1 \tmots\n",
      "commentaire de v 39 \t\t 27 \tmots\n",
      "commentaire de v 40 \t\t 371 \tmots\n",
      "commentaire de v 41 \t\t 1 \tmots\n",
      "commentaire de v 42 \t\t 108 \tmots\n",
      "commentaire de v 43 \t\t 42 \tmots\n",
      "commentaire de v 44 \t\t 1 \tmots\n",
      "commentaire de v 45 \t\t 273 \tmots\n",
      "commentaire de v 46 \t\t 213 \tmots\n",
      "commentaire de v 47 \t\t 241 \tmots\n",
      "commentaire de v 48 \t\t 10 \tmots\n",
      "commentaire de v 49 \t\t 59 \tmots\n",
      "commentaire de v 50 \t\t 31 \tmots\n",
      "commentaire de v 51 \t\t 1 \tmots\n",
      "commentaire de v 52 \t\t 219 \tmots\n",
      "commentaire de v 53 \t\t 34 \tmots\n",
      "commentaire de v 54 \t\t 1220 \tmots\n",
      "commentaire de v 55 \t\t 83 \tmots\n",
      "commentaire de v 56 \t\t 91 \tmots\n",
      "commentaire de v 57 \t\t 91 \tmots\n",
      "commentaire de v 58 \t\t 32 \tmots\n",
      "commentaire de v 59 \t\t 206 \tmots\n",
      "commentaire de v 60 \t\t 227 \tmots\n",
      "commentaire de v 61 \t\t 287 \tmots\n",
      "commentaire de v 62 \t\t 26 \tmots\n",
      "commentaire de v 63 \t\t 114 \tmots\n",
      "commentaire de v 64 \t\t 53 \tmots\n",
      "commentaire de v 65 \t\t 47 \tmots\n",
      "commentaire de v 66 \t\t 1 \tmots\n",
      "commentaire de v 67 \t\t 85 \tmots\n",
      "commentaire de v 68 \t\t 334 \tmots\n",
      "commentaire de v 69 \t\t 1 \tmots\n",
      "commentaire de v 70 \t\t 52 \tmots\n",
      "commentaire de v 71 \t\t 141 \tmots\n",
      "commentaire de v 72 \t\t 1 \tmots\n",
      "commentaire de v 73 \t\t 1 \tmots\n",
      "commentaire de v 74 \t\t 90 \tmots\n",
      "commentaire de v 75 \t\t 392 \tmots\n",
      "commentaire de v 76 \t\t 254 \tmots\n",
      "commentaire de v 77 \t\t 1 \tmots\n",
      "commentaire de v 78 \t\t 20 \tmots\n",
      "commentaire de v 79 \t\t 1 \tmots\n",
      "commentaire de v 80 \t\t 9 \tmots\n",
      "commentaire de v 81 \t\t 761 \tmots\n",
      "commentaire de v 82 \t\t 423 \tmots\n",
      "commentaire de v 83 \t\t 181 \tmots\n",
      "commentaire de v 84 \t\t 160 \tmots\n",
      "commentaire de v 85 \t\t 426 \tmots\n",
      "commentaire de v 86 \t\t 218 \tmots\n",
      "commentaire de v 87 \t\t 34 \tmots\n",
      "commentaire de v 88 \t\t 15 \tmots\n",
      "commentaire de v 89 \t\t 23 \tmots\n",
      "commentaire de v 90 \t\t 83 \tmots\n",
      "commentaire de v 91 \t\t 313 \tmots\n",
      "commentaire de v 92 \t\t 110 \tmots\n",
      "commentaire de v 93 \t\t 68 \tmots\n",
      "commentaire de v 94 \t\t 137 \tmots\n",
      "commentaire de v 95 \t\t 109 \tmots\n",
      "commentaire de v 96 \t\t 120 \tmots\n",
      "commentaire de v 97 \t\t 64 \tmots\n",
      "commentaire de v 98 \t\t 93 \tmots\n",
      "commentaire de v 99 \t\t 245 \tmots\n",
      "commentaire de v 100 \t\t 70 \tmots\n",
      "commentaire de v 101 \t\t 1 \tmots\n",
      "commentaire de v 102 \t\t 30 \tmots\n",
      "commentaire de v 103 \t\t 267 \tmots\n",
      "commentaire de v 104 \t\t 23 \tmots\n",
      "commentaire de v 105 \t\t 42 \tmots\n",
      "commentaire de v 106 \t\t 78 \tmots\n",
      "commentaire de v 107 \t\t 115 \tmots\n",
      "commentaire de v 108 \t\t 20 \tmots\n"
     ]
    }
   ],
   "source": [
    "comments_v = [get_words(str(v[\"comment\"])) for v in versions[1:]]\n",
    "print(len(comments_v),\"commentaires de versions\")\n",
    "for i,co in enumerate(comments_v):\n",
    "    print (\"commentaire de v\", i+1,\"\\t\\t\", len(co), \"\\tmots\")"
   ]
  },
  {
   "cell_type": "code",
   "execution_count": 58,
   "metadata": {
    "collapsed": false
   },
   "outputs": [],
   "source": [
    "stats_modifications = []\n",
    "with open(\"liste_des_commentaires.csv\", \"w\") as f:\n",
    "    header = [\"version_\"+str(i+1), \"commentaire\",\"mots\", \"nb_mots\", \"auteur\", \"votes_pour\", \"votes_contre\", \"votes_neutre\", \"votes_total\", \"arguments_pour\", \"arguments_contre\", \"arguments_total\"]\n",
    "    f.write(\"\\t\".join(header))\n",
    "    \n",
    "    for i,v in enumerate(versions[1:]):\n",
    "        auteur = v[\"author\"]\n",
    "        votes_total = v[\"votes_total\"]\n",
    "        #votes_pour = v[\"votes_ok\"]\n",
    "        votes_contre = v[\"votes_nok\"]\n",
    "        votes_neutre = v[\"votes_mitige\"]\n",
    "        votes_pour = votes_total-(votes_contre+votes_neutre)\n",
    "        commentaire = v[\"comment\"]\n",
    "        words = get_words(str(v[\"comment\"]))\n",
    "        arguments_total = v[\"arguments_count\"]\n",
    "        arguments_pour = v[\"arguments_yes_count\"]\n",
    "        arguments_contre = v[\"arguments_no_count\"]\n",
    "        #print(\"version_\"+str(i+1),str(len(get_words(v[\"comment\"]))),  v[\"author\"], str(v[\"votes_total\"])) \n",
    "        row = [\"version_\"+str(i+1), commentaire, len(words), auteur, votes_pour, votes_contre, votes_neutre, votes_total, arguments_pour, arguments_contre, arguments_total]\n",
    "        f.write(\"\\t\".join([str(n) for n in row]))\n",
    "        stats_modifications.append(row)"
   ]
  },
  {
   "cell_type": "code",
   "execution_count": 28,
   "metadata": {
    "collapsed": false
   },
   "outputs": [
    {
     "ename": "ValueError",
     "evalue": "could not convert string to float: 'ne'",
     "output_type": "error",
     "traceback": [
      "\u001b[0;31m---------------------------------------------------------------------------\u001b[0m",
      "\u001b[0;31mValueError\u001b[0m                                Traceback (most recent call last)",
      "\u001b[0;32m<ipython-input-28-251542e0759d>\u001b[0m in \u001b[0;36m<module>\u001b[0;34m()\u001b[0m\n\u001b[1;32m     11\u001b[0m     \u001b[0mdiff\u001b[0m \u001b[0;34m=\u001b[0m \u001b[0mlist\u001b[0m\u001b[0;34m(\u001b[0m\u001b[0mset\u001b[0m\u001b[0;34m(\u001b[0m\u001b[0mcomments_v\u001b[0m\u001b[0;34m[\u001b[0m\u001b[0mi\u001b[0m\u001b[0;34m+\u001b[0m\u001b[0;36m1\u001b[0m\u001b[0;34m]\u001b[0m\u001b[0;34m)\u001b[0m \u001b[0;34m^\u001b[0m \u001b[0mset\u001b[0m\u001b[0;34m(\u001b[0m\u001b[0mcomments_v\u001b[0m\u001b[0;34m[\u001b[0m\u001b[0mi\u001b[0m\u001b[0;34m]\u001b[0m\u001b[0;34m)\u001b[0m\u001b[0;34m)\u001b[0m\u001b[0;34m\u001b[0m\u001b[0m\n\u001b[1;32m     12\u001b[0m     \u001b[0mmodif\u001b[0m \u001b[0;34m=\u001b[0m \u001b[0;34m[\u001b[0m\u001b[0mcommun\u001b[0m\u001b[0;34m,\u001b[0m \u001b[0mdiff\u001b[0m\u001b[0;34m]\u001b[0m\u001b[0;34m\u001b[0m\u001b[0m\n\u001b[0;32m---> 13\u001b[0;31m     \u001b[0mplt\u001b[0m\u001b[0;34m.\u001b[0m\u001b[0mplot\u001b[0m\u001b[0;34m(\u001b[0m\u001b[0mcommun\u001b[0m\u001b[0;34m,\u001b[0m \u001b[0mcolor\u001b[0m\u001b[0;34m=\u001b[0m\u001b[0;34m\"b\"\u001b[0m\u001b[0;34m)\u001b[0m\u001b[0;34m\u001b[0m\u001b[0m\n\u001b[0m\u001b[1;32m     14\u001b[0m     \u001b[0;31m#plt.plot(diff, color=\"b\")\u001b[0m\u001b[0;34m\u001b[0m\u001b[0;34m\u001b[0m\u001b[0m\n\u001b[1;32m     15\u001b[0m     \u001b[0;31m#modif_stats = [len(ajout), len(supp), len(commun), len(diff)]\u001b[0m\u001b[0;34m\u001b[0m\u001b[0;34m\u001b[0m\u001b[0m\n",
      "\u001b[0;32m/home/c24b/.local/lib/python3.5/site-packages/matplotlib/pyplot.py\u001b[0m in \u001b[0;36mplot\u001b[0;34m(*args, **kwargs)\u001b[0m\n\u001b[1;32m   3152\u001b[0m         \u001b[0max\u001b[0m\u001b[0;34m.\u001b[0m\u001b[0mhold\u001b[0m\u001b[0;34m(\u001b[0m\u001b[0mhold\u001b[0m\u001b[0;34m)\u001b[0m\u001b[0;34m\u001b[0m\u001b[0m\n\u001b[1;32m   3153\u001b[0m     \u001b[0;32mtry\u001b[0m\u001b[0;34m:\u001b[0m\u001b[0;34m\u001b[0m\u001b[0m\n\u001b[0;32m-> 3154\u001b[0;31m         \u001b[0mret\u001b[0m \u001b[0;34m=\u001b[0m \u001b[0max\u001b[0m\u001b[0;34m.\u001b[0m\u001b[0mplot\u001b[0m\u001b[0;34m(\u001b[0m\u001b[0;34m*\u001b[0m\u001b[0margs\u001b[0m\u001b[0;34m,\u001b[0m \u001b[0;34m**\u001b[0m\u001b[0mkwargs\u001b[0m\u001b[0;34m)\u001b[0m\u001b[0;34m\u001b[0m\u001b[0m\n\u001b[0m\u001b[1;32m   3155\u001b[0m     \u001b[0;32mfinally\u001b[0m\u001b[0;34m:\u001b[0m\u001b[0;34m\u001b[0m\u001b[0m\n\u001b[1;32m   3156\u001b[0m         \u001b[0max\u001b[0m\u001b[0;34m.\u001b[0m\u001b[0mhold\u001b[0m\u001b[0;34m(\u001b[0m\u001b[0mwashold\u001b[0m\u001b[0;34m)\u001b[0m\u001b[0;34m\u001b[0m\u001b[0m\n",
      "\u001b[0;32m/home/c24b/.local/lib/python3.5/site-packages/matplotlib/__init__.py\u001b[0m in \u001b[0;36minner\u001b[0;34m(ax, *args, **kwargs)\u001b[0m\n\u001b[1;32m   1810\u001b[0m                     warnings.warn(msg % (label_namer, func.__name__),\n\u001b[1;32m   1811\u001b[0m                                   RuntimeWarning, stacklevel=2)\n\u001b[0;32m-> 1812\u001b[0;31m             \u001b[0;32mreturn\u001b[0m \u001b[0mfunc\u001b[0m\u001b[0;34m(\u001b[0m\u001b[0max\u001b[0m\u001b[0;34m,\u001b[0m \u001b[0;34m*\u001b[0m\u001b[0margs\u001b[0m\u001b[0;34m,\u001b[0m \u001b[0;34m**\u001b[0m\u001b[0mkwargs\u001b[0m\u001b[0;34m)\u001b[0m\u001b[0;34m\u001b[0m\u001b[0m\n\u001b[0m\u001b[1;32m   1813\u001b[0m         \u001b[0mpre_doc\u001b[0m \u001b[0;34m=\u001b[0m \u001b[0minner\u001b[0m\u001b[0;34m.\u001b[0m\u001b[0m__doc__\u001b[0m\u001b[0;34m\u001b[0m\u001b[0m\n\u001b[1;32m   1814\u001b[0m         \u001b[0;32mif\u001b[0m \u001b[0mpre_doc\u001b[0m \u001b[0;32mis\u001b[0m \u001b[0;32mNone\u001b[0m\u001b[0;34m:\u001b[0m\u001b[0;34m\u001b[0m\u001b[0m\n",
      "\u001b[0;32m/home/c24b/.local/lib/python3.5/site-packages/matplotlib/axes/_axes.py\u001b[0m in \u001b[0;36mplot\u001b[0;34m(self, *args, **kwargs)\u001b[0m\n\u001b[1;32m   1423\u001b[0m \u001b[0;34m\u001b[0m\u001b[0m\n\u001b[1;32m   1424\u001b[0m         \u001b[0;32mfor\u001b[0m \u001b[0mline\u001b[0m \u001b[0;32min\u001b[0m \u001b[0mself\u001b[0m\u001b[0;34m.\u001b[0m\u001b[0m_get_lines\u001b[0m\u001b[0;34m(\u001b[0m\u001b[0;34m*\u001b[0m\u001b[0margs\u001b[0m\u001b[0;34m,\u001b[0m \u001b[0;34m**\u001b[0m\u001b[0mkwargs\u001b[0m\u001b[0;34m)\u001b[0m\u001b[0;34m:\u001b[0m\u001b[0;34m\u001b[0m\u001b[0m\n\u001b[0;32m-> 1425\u001b[0;31m             \u001b[0mself\u001b[0m\u001b[0;34m.\u001b[0m\u001b[0madd_line\u001b[0m\u001b[0;34m(\u001b[0m\u001b[0mline\u001b[0m\u001b[0;34m)\u001b[0m\u001b[0;34m\u001b[0m\u001b[0m\n\u001b[0m\u001b[1;32m   1426\u001b[0m             \u001b[0mlines\u001b[0m\u001b[0;34m.\u001b[0m\u001b[0mappend\u001b[0m\u001b[0;34m(\u001b[0m\u001b[0mline\u001b[0m\u001b[0;34m)\u001b[0m\u001b[0;34m\u001b[0m\u001b[0m\n\u001b[1;32m   1427\u001b[0m \u001b[0;34m\u001b[0m\u001b[0m\n",
      "\u001b[0;32m/home/c24b/.local/lib/python3.5/site-packages/matplotlib/axes/_base.py\u001b[0m in \u001b[0;36madd_line\u001b[0;34m(self, line)\u001b[0m\n\u001b[1;32m   1706\u001b[0m             \u001b[0mline\u001b[0m\u001b[0;34m.\u001b[0m\u001b[0mset_clip_path\u001b[0m\u001b[0;34m(\u001b[0m\u001b[0mself\u001b[0m\u001b[0;34m.\u001b[0m\u001b[0mpatch\u001b[0m\u001b[0;34m)\u001b[0m\u001b[0;34m\u001b[0m\u001b[0m\n\u001b[1;32m   1707\u001b[0m \u001b[0;34m\u001b[0m\u001b[0m\n\u001b[0;32m-> 1708\u001b[0;31m         \u001b[0mself\u001b[0m\u001b[0;34m.\u001b[0m\u001b[0m_update_line_limits\u001b[0m\u001b[0;34m(\u001b[0m\u001b[0mline\u001b[0m\u001b[0;34m)\u001b[0m\u001b[0;34m\u001b[0m\u001b[0m\n\u001b[0m\u001b[1;32m   1709\u001b[0m         \u001b[0;32mif\u001b[0m \u001b[0;32mnot\u001b[0m \u001b[0mline\u001b[0m\u001b[0;34m.\u001b[0m\u001b[0mget_label\u001b[0m\u001b[0;34m(\u001b[0m\u001b[0;34m)\u001b[0m\u001b[0;34m:\u001b[0m\u001b[0;34m\u001b[0m\u001b[0m\n\u001b[1;32m   1710\u001b[0m             \u001b[0mline\u001b[0m\u001b[0;34m.\u001b[0m\u001b[0mset_label\u001b[0m\u001b[0;34m(\u001b[0m\u001b[0;34m'_line%d'\u001b[0m \u001b[0;34m%\u001b[0m \u001b[0mlen\u001b[0m\u001b[0;34m(\u001b[0m\u001b[0mself\u001b[0m\u001b[0;34m.\u001b[0m\u001b[0mlines\u001b[0m\u001b[0;34m)\u001b[0m\u001b[0;34m)\u001b[0m\u001b[0;34m\u001b[0m\u001b[0m\n",
      "\u001b[0;32m/home/c24b/.local/lib/python3.5/site-packages/matplotlib/axes/_base.py\u001b[0m in \u001b[0;36m_update_line_limits\u001b[0;34m(self, line)\u001b[0m\n\u001b[1;32m   1728\u001b[0m         \u001b[0mFigures\u001b[0m \u001b[0mout\u001b[0m \u001b[0mthe\u001b[0m \u001b[0mdata\u001b[0m \u001b[0mlimit\u001b[0m \u001b[0mof\u001b[0m \u001b[0mthe\u001b[0m \u001b[0mgiven\u001b[0m \u001b[0mline\u001b[0m\u001b[0;34m,\u001b[0m \u001b[0mupdating\u001b[0m \u001b[0mself\u001b[0m\u001b[0;34m.\u001b[0m\u001b[0mdataLim\u001b[0m\u001b[0;34m.\u001b[0m\u001b[0;34m\u001b[0m\u001b[0m\n\u001b[1;32m   1729\u001b[0m         \"\"\"\n\u001b[0;32m-> 1730\u001b[0;31m         \u001b[0mpath\u001b[0m \u001b[0;34m=\u001b[0m \u001b[0mline\u001b[0m\u001b[0;34m.\u001b[0m\u001b[0mget_path\u001b[0m\u001b[0;34m(\u001b[0m\u001b[0;34m)\u001b[0m\u001b[0;34m\u001b[0m\u001b[0m\n\u001b[0m\u001b[1;32m   1731\u001b[0m         \u001b[0;32mif\u001b[0m \u001b[0mpath\u001b[0m\u001b[0;34m.\u001b[0m\u001b[0mvertices\u001b[0m\u001b[0;34m.\u001b[0m\u001b[0msize\u001b[0m \u001b[0;34m==\u001b[0m \u001b[0;36m0\u001b[0m\u001b[0;34m:\u001b[0m\u001b[0;34m\u001b[0m\u001b[0m\n\u001b[1;32m   1732\u001b[0m             \u001b[0;32mreturn\u001b[0m\u001b[0;34m\u001b[0m\u001b[0m\n",
      "\u001b[0;32m/home/c24b/.local/lib/python3.5/site-packages/matplotlib/lines.py\u001b[0m in \u001b[0;36mget_path\u001b[0;34m(self)\u001b[0m\n\u001b[1;32m    923\u001b[0m         \"\"\"\n\u001b[1;32m    924\u001b[0m         \u001b[0;32mif\u001b[0m \u001b[0mself\u001b[0m\u001b[0;34m.\u001b[0m\u001b[0m_invalidy\u001b[0m \u001b[0;32mor\u001b[0m \u001b[0mself\u001b[0m\u001b[0;34m.\u001b[0m\u001b[0m_invalidx\u001b[0m\u001b[0;34m:\u001b[0m\u001b[0;34m\u001b[0m\u001b[0m\n\u001b[0;32m--> 925\u001b[0;31m             \u001b[0mself\u001b[0m\u001b[0;34m.\u001b[0m\u001b[0mrecache\u001b[0m\u001b[0;34m(\u001b[0m\u001b[0;34m)\u001b[0m\u001b[0;34m\u001b[0m\u001b[0m\n\u001b[0m\u001b[1;32m    926\u001b[0m         \u001b[0;32mreturn\u001b[0m \u001b[0mself\u001b[0m\u001b[0;34m.\u001b[0m\u001b[0m_path\u001b[0m\u001b[0;34m\u001b[0m\u001b[0m\n\u001b[1;32m    927\u001b[0m \u001b[0;34m\u001b[0m\u001b[0m\n",
      "\u001b[0;32m/home/c24b/.local/lib/python3.5/site-packages/matplotlib/lines.py\u001b[0m in \u001b[0;36mrecache\u001b[0;34m(self, always)\u001b[0m\n\u001b[1;32m    619\u001b[0m                 \u001b[0my\u001b[0m \u001b[0;34m=\u001b[0m \u001b[0mma\u001b[0m\u001b[0;34m.\u001b[0m\u001b[0masarray\u001b[0m\u001b[0;34m(\u001b[0m\u001b[0myconv\u001b[0m\u001b[0;34m,\u001b[0m \u001b[0mnp\u001b[0m\u001b[0;34m.\u001b[0m\u001b[0mfloat_\u001b[0m\u001b[0;34m)\u001b[0m\u001b[0;34m.\u001b[0m\u001b[0mfilled\u001b[0m\u001b[0;34m(\u001b[0m\u001b[0mnp\u001b[0m\u001b[0;34m.\u001b[0m\u001b[0mnan\u001b[0m\u001b[0;34m)\u001b[0m\u001b[0;34m\u001b[0m\u001b[0m\n\u001b[1;32m    620\u001b[0m             \u001b[0;32melse\u001b[0m\u001b[0;34m:\u001b[0m\u001b[0;34m\u001b[0m\u001b[0m\n\u001b[0;32m--> 621\u001b[0;31m                 \u001b[0my\u001b[0m \u001b[0;34m=\u001b[0m \u001b[0mnp\u001b[0m\u001b[0;34m.\u001b[0m\u001b[0masarray\u001b[0m\u001b[0;34m(\u001b[0m\u001b[0myconv\u001b[0m\u001b[0;34m,\u001b[0m \u001b[0mnp\u001b[0m\u001b[0;34m.\u001b[0m\u001b[0mfloat_\u001b[0m\u001b[0;34m)\u001b[0m\u001b[0;34m\u001b[0m\u001b[0m\n\u001b[0m\u001b[1;32m    622\u001b[0m             \u001b[0my\u001b[0m \u001b[0;34m=\u001b[0m \u001b[0my\u001b[0m\u001b[0;34m.\u001b[0m\u001b[0mravel\u001b[0m\u001b[0;34m(\u001b[0m\u001b[0;34m)\u001b[0m\u001b[0;34m\u001b[0m\u001b[0m\n\u001b[1;32m    623\u001b[0m         \u001b[0;32melse\u001b[0m\u001b[0;34m:\u001b[0m\u001b[0;34m\u001b[0m\u001b[0m\n",
      "\u001b[0;32m/usr/local/lib/python3.5/dist-packages/numpy/core/numeric.py\u001b[0m in \u001b[0;36masarray\u001b[0;34m(a, dtype, order)\u001b[0m\n\u001b[1;32m    472\u001b[0m \u001b[0;34m\u001b[0m\u001b[0m\n\u001b[1;32m    473\u001b[0m     \"\"\"\n\u001b[0;32m--> 474\u001b[0;31m     \u001b[0;32mreturn\u001b[0m \u001b[0marray\u001b[0m\u001b[0;34m(\u001b[0m\u001b[0ma\u001b[0m\u001b[0;34m,\u001b[0m \u001b[0mdtype\u001b[0m\u001b[0;34m,\u001b[0m \u001b[0mcopy\u001b[0m\u001b[0;34m=\u001b[0m\u001b[0;32mFalse\u001b[0m\u001b[0;34m,\u001b[0m \u001b[0morder\u001b[0m\u001b[0;34m=\u001b[0m\u001b[0morder\u001b[0m\u001b[0;34m)\u001b[0m\u001b[0;34m\u001b[0m\u001b[0m\n\u001b[0m\u001b[1;32m    475\u001b[0m \u001b[0;34m\u001b[0m\u001b[0m\n\u001b[1;32m    476\u001b[0m \u001b[0;32mdef\u001b[0m \u001b[0masanyarray\u001b[0m\u001b[0;34m(\u001b[0m\u001b[0ma\u001b[0m\u001b[0;34m,\u001b[0m \u001b[0mdtype\u001b[0m\u001b[0;34m=\u001b[0m\u001b[0;32mNone\u001b[0m\u001b[0;34m,\u001b[0m \u001b[0morder\u001b[0m\u001b[0;34m=\u001b[0m\u001b[0;32mNone\u001b[0m\u001b[0;34m)\u001b[0m\u001b[0;34m:\u001b[0m\u001b[0;34m\u001b[0m\u001b[0m\n",
      "\u001b[0;31mValueError\u001b[0m: could not convert string to float: 'ne'"
     ]
    },
    {
     "data": {
      "image/png": "[encoded data removed]",
      "text/plain": [
       "<matplotlib.figure.Figure at 0x7f4460a887b8>"
      ]
     },
     "metadata": {},
     "output_type": "display_data"
    }
   ],
   "source": [
    "modifs_comments = []\n",
    "#modifs_stats = []\n",
    "for i in range(len(comments_v)-1):\n",
    "    #ajout = list(set(comments_v[i+1])- set(comments_v[i]))\n",
    "    #supp = list(set(comments_v[i]) - set(comments_v[i+1]))\n",
    "    commun = list(set(comments_v[i+1]) & set(comments_v[i]))\n",
    "    diff = list(set(comments_v[i+1]) ^ set(comments_v[i]))\n",
    "    modif = [commun, diff]\n",
    "    #modif_stats = [len(ajout), len(supp), len(commun), len(diff)]\n",
    "    modifs_comments.append(modif)\n",
    "    #modifs_stats.append(modif_stats)\n",
    "\n",
    "for i, v in enumerate(modifs_comments):\n",
    "    print(\"*comparaison de version\", str(i+2),\"avec\", str(i+1), \":\") \n",
    "    print(\"\\t-nombre de mots communs\", len(v[0]))\n",
    "    print(\"\\t-nombre de mots differents\", len(v[1]))\n",
    "  \n",
    "    \n"
   ]
  },
  {
   "cell_type": "code",
   "execution_count": null,
   "metadata": {
    "collapsed": true
   },
   "outputs": [],
   "source": [
    "### Vérifions donc la repartition des \n",
    "\n",
    "def show_nb_votes_by_versions(vs):\n",
    "    #for k,v in vs.items():\n",
    "    #    print(len(v[\"votes\"]),\"votes sur la version:\" , k )\n",
    "    N = len(vs)\n",
    "    votes_nb = [len(v[\"votes\"])  for v in vs.values()]\n",
    "    \n",
    "    plt.title(\"Repartition des votes simples par version\")\n",
    "    plt.ylabel('Nb votes')\n",
    "    #pylab.xlim([0,108])\n",
    "    #pylab.xlim([0,N])\n",
    "    plt.plot(votes_nb,color='r')\n",
    "    #votes_declares = [v[\"total_votes\"] for v in vs.values()]\n",
    "        \n",
    "    #votes_declares = [len(v[\"total_votes\"]) for v in vs.values()]\n",
    "    #plt.plot(votes_declares,color='b')\n",
    "    plt.show()\n",
    "    \n",
    "    return\n",
    "show_nb_votes_by_versions(versions)"
   ]
  },
  {
   "cell_type": "code",
   "execution_count": 12,
   "metadata": {
    "collapsed": false
   },
   "outputs": [
    {
     "name": "stdout",
     "output_type": "stream",
     "text": [
      "version 0 \t| Création du nouvel article L 533-4 du code de la recherche (Livre V, Titre III, Chapitre 3)\n",
      "version 1 \t| distinguer shs et stem ne reconnait pas les recherches interdisplinaires quelle premiere publication quelle version\n",
      "version 2 \t| compte rendu du groupe gouv camp article 9\n",
      "version 3 \t| ouvrages collectifs\n",
      "version 4 \t| modif du titre\n",
      "version 5 \t| les etudiantes et la recherche\n",
      "version 6 \t| ajout production scolaire\n",
      "version 7 \t| ajout des rapports dans la liste des formes de publication prises en charge\n",
      "version 8 \t| attention vous ne voyez que 50 propositions utiliser l outil de tri pour voir les plus anciennes les plus votees etc\n",
      "version 9 \t| taxer les grands editeurs etrangers qui profitent des investissements publics\n",
      "version 10 \t| pour une science ouverte l acces et l exploitation des bien communs de la connaissance ne doivent pas etre entraves\n",
      "version 11 \t| grande encyclopedie collaborative de la recherche scientifique\n",
      "version 12 \t| rattacher les publications de recherche financees par l argent public au domaine commun informationnel de l article 8\n",
      "version 13 \t| proposition 2 nouvel article obligation de depot des publications scientifiques dans une archive ouverte\n",
      "version 14 \t| contre l article 9\n",
      "version 15 \t| pour une redaction equilibree qui reconnaisse la contribution de chacun auteurs fonds publics et editeurs et les droits qui y sont associes a l auteur peut mettre dans le domaine public immediatement son manuscript a l exclusion du travail de l editeur b \n",
      "version 16 \t| inapplicable\n",
      "version 17 \t| il est indispensable de realiser des etudes d impact au plus vite delais d embargos pas inferieurs a 12 mois en stm et a 24 mois en shs\n",
      "version 18 \t| je ma rallie aux propositions du conseil scientifique du cnrs\n",
      "version 19 \t| supprimer le delai d embargo la recherche publique appartient au public les donnees et les publications aussi acces libre a la connaissance scientifique\n",
      "version 20 \t| donner le vin vendre les bouteilles\n",
      "version 21 \t| je me rallie aux remarques et propositions faites par le comseil scientifique du cnrs\n",
      "version 22 \t| instituer les contributions scientifiques au rang de biens communs\n",
      "version 23 \t| aucune cession a l editeur lorsque les ecrits sont non remuneres et possible a 6 mois lorsque remuneres sans distinction de champs disciplinaires\n",
      "version 24 \t| mentionner les donnees de la recherche\n",
      "version 25 \t| d abord droteger le droit des auteurs\n",
      "version 26 \t| pas de delai du tout la recherche publique appartient au public les donnees et les publications aussi\n",
      "version 27 \t| une duree d embargo plus courte et ne pas entraver le tdm text and data mining\n",
      "version 28 \t| assurer la compatibilite avec les licences libres\n",
      "version 29 \t| clarifions la publication scientifique\n",
      "version 30 \t| mettre a disposition egalement la correspondance entre les auteurs et l editeur examinateurs reviewers pour enrichir la publication et mettre en valeur le travail des examinateurs\n",
      "version 31 \t| favoriser le libre acces sans mettre en peril les revues shs imaginer de nouveaux modeles de diffusion de la science\n",
      "version 32 \t| pour l acces libre aux resultats de la recherche scientifique\n",
      "version 33 \t| modification\n",
      "version 34 \t| recherches financees par des fonds publics accessibles sans delai\n",
      "version 35 \t| mention supplementaire conforme aux preconnisations de l ocde\n",
      "version 36 \t| pour legiferer sur le libre acces une etude d impact est necessaire\n",
      "version 37 \t| reduire la duree d embargo\n",
      "version 38 \t| acces public gratuit et embargo plus court\n",
      "version 39 \t| duree d embargo et tdm 1\n",
      "version 40 \t| duree d embargo et tdm\n",
      "version 41 \t| les articles scientifiques sont des biens communs de la connaissance\n",
      "version 42 \t| met a disposition pas dispose du droit\n",
      "version 43 \t| attention a la qualite et a la securite des textes scientifiques qui doivent etre valides en amont promus et enrichis ensuite par le biais de bases de donnees\n",
      "version 44 \t| garantir l autorisation du depot immediat de la version auteur dans une archive ouverte\n",
      "version 45 \t| licence libre de paternite\n",
      "version 46 \t| les delais d embargo doivent etre conditionnes a des etudes d impact\n",
      "version 47 \t| conditionner la definition des durees d embargo a la realisation d etudes d impact sur l economie des revues scientifiques concernees\n",
      "version 48 \t| au point ii en cours de quand\n",
      "version 49 \t| delais trop longs\n",
      "version 50 \t| recherche publique acces public\n",
      "version 51 \t| un principe simple la recherche publique dans le domaine public\n",
      "version 52 \t| sans delai de mise a disposition ou au terme d un delai de 6 mois\n",
      "version 53 \t| pour une garantie de diffusion en acces ouvert\n",
      "version 54 \t| flou dans la notion de moitie du financement\n",
      "version 55 \t| pas de delai de mise a disposition\n",
      "version 56 \t| libre acces aux resultats de la production scientifique\n",
      "version 57 \t| enrichir wikipedia\n",
      "version 58 \t| la collectivite doit pouvoir acceder sans entrave aux donnees et informations scientifiques et les utiliser librement\n",
      "version 59 \t| proteger le droit des auteurs d articles scientifiques pour permettre le libre acces a la recherche scientifique\n",
      "version 60 \t| garantir le depot en archive ouverte seul dispositif assurant un libre acces perenne conformite aux recommandations europeennes embargo e\n",
      "version 61 \t| affirmer la coherence des logiques de mise en place de l open access reduire le temps de carence rendre moins monolithique les droits d exploitation commerciale\n",
      "version 62 \t| pour une obligation de depot et le libre acces assorti de la libre reutilisation des resultats de la recherche\n",
      "version 63 \t| pour le libre acces contre tout archive unique\n",
      "version 64 \t| raccourcir la duree dans le respect de h2020\n",
      "version 65 \t| obligation du libre acces aux publications scientifiques de la recherche publique\n",
      "version 66 \t| le delai d embargo est beaucoup trop long\n",
      "version 67 \t| garantir le libre acces aux resultats de la recherche financee par des fonds publics\n",
      "version 68 \t| pas de delais d embargo pour les etudiants\n",
      "version 69 \t| delai d embargo bien trop long\n",
      "version 70 \t| aucun delai pour la mise a disposition gratuite sous forme numerique\n",
      "version 71 \t| domaines sensibles\n",
      "version 72 \t| 24 mois pour les sciences humaines c est trop long quid de l etude d internet des reseaux sociaux du big data etc 12 mois pour tous\n",
      "version 73 \t| acces libre integral et obligatoire\n",
      "version 74 \t| poir un droit de fouiller les textes autoriser le text et datamining\n",
      "version 75 \t| pour une obligation de depot des publications scientifiques dans une archive ouverte\n",
      "version 76 \t| une duree d embargo plus courte ne pas entraver le tdm text and data mining et ne pas s approprier a titre exclusif des benefices de toutes natures qui pourraient decouler d une publication scientifique\n",
      "version 77 \t| mettre en place un depot institutionnel\n",
      "version 78 \t| une duree d embargo plus courte ne pas entraver le tdm text and data mining et ne pas interdire une exploitation commerciale 1\n",
      "version 79 \t| une duree d embargo plus courte ne pas entraver le tdm text and data mining et ne pas interdire une exploitation commerciale\n",
      "version 80 \t| du gouvernement ouvert a l universite ouverte en redonnant aux chercheurs le controle de leurs droits d auteur\n",
      "version 81 \t| synthese des propositions ajout sur l egalite de l acces\n",
      "version 82 \t| code de la propriete intellectuelle plutot que code de la recherche\n",
      "version 83 \t| trente six mois pour les sciences humaines et sociales\n",
      "version 84 \t| une duree d embargo plus courte ne pas entraver le tdm fouille de texte et de donnees et ne pas interdire une exploitation commerciale\n",
      "version 85 \t| proteger l edition scientifique francaise\n",
      "version 86 \t| pas d embargo ou tres reduit\n",
      "version 87 \t| aligner les delais d embargo sur ceux de la communaute europeenne 6 et 12 mois maximum\n",
      "version 88 \t| correction syntaxique\n",
      "version 89 \t| egalite de l acces aux ecrits scientifiques\n",
      "version 90 \t| les donnees issues d une activite de recherche\n",
      "version 91 \t| limitation des prerogatives de l auteur pour les travaux fiances sur des fonds publics\n",
      "version 92 \t| pas de differences entre les domaines scientifiques\n",
      "version 93 \t| unification de la diffusion des connaissances\n",
      "version 94 \t| pourquoi une limitation au point ii\n",
      "version 95 \t| aligner les delais d embargo sur ceux de la communaute europeenne 6 et 12 mois\n",
      "version 96 \t| permettre au moins un delai d embargo plus court grace au contrat\n",
      "version 97 \t| supprimer le delai\n",
      "version 98 \t| redaction a ameliorer\n",
      "version 99 \t| ne pas oublier les sets de donnees lies a un article\n",
      "version 100 \t| mise en ligne des theses de doctorat\n",
      "version 101 \t| pas de restriction de temps pour les financements europeens et francais\n",
      "version 102 \t| toute restriction a l acces aux publications scientifiques est nefaste et couteuse\n",
      "version 103 \t| publicite des articles et retroactivite sur les contrats en cours\n",
      "version 104 \t| une publication dans le strict respect de la confidentialite\n",
      "version 105 \t| modification article initial l 533 4 pour l 112 6 cr\n",
      "version 106 \t| le texte n atteint pas ses objectifs et presentent des difficultes\n",
      "version 107 \t| la recherche financee par l etat appartient a tous\n"
     ]
    }
   ],
   "source": [
    "for i,v in enumerate(versions):\n",
    "    if i == 0:\n",
    "        #la version originale n'a pas de 'slug'\n",
    "        print(\"version \"+str(i),\"\\t|\", v[\"title\"])\n",
    "        \n",
    "    else:\n",
    "        #les amendements (versions) ont tous le même titre mais un slug différent avec des tirets qu'on remplace par des espace\n",
    "        #print(\"version \"+str(i), v[\"title\"], v[\"slug\"].replace(\"-\", \" \"))\n",
    "        print(\"version \"+str(i),\"\\t|\", v[\"slug\"].replace(\"-\", \" \"))\n",
    "    \n",
    "    "
   ]
  },
  {
   "cell_type": "code",
   "execution_count": null,
   "metadata": {
    "collapsed": true
   },
   "outputs": [],
   "source": [
    "Dans un troisième temps, il faudra plonger dans le détail des auteurs\n",
    "en effet un auteur a parfois fait plusieurs modifications.\n",
    "* Combien d'auteur unique?\n",
    "* Combien de versions par auteurs?\n",
    "* Chaque auteur a-t-il un vocabulaire particulier? \n",
    "* Analyser la proximité/distance lexicale des auteurs entre eux (mots communs/mots différents)\n",
    "\n",
    "\n",
    "Dans un quatrième temps, il faudra rappatrier tous les electeurs qui ont voté pour la modification de versions\n",
    "* Quels sont les auteur les plus populaires en nombre de votes absolus?\n",
    "* Quels sont les auteurs les plus proches (en regardant les electeurs qui ont voté pour la même personne)\n",
    "\n"
   ]
  }
 ],
 "metadata": {
  "kernelspec": {
   "display_name": "Python 3",
   "language": "python",
   "name": "python3"
  },
  "language_info": {
   "codemirror_mode": {
    "name": "ipython",
    "version": 3
   },
   "file_extension": ".py",
   "mimetype": "text/x-python",
   "name": "python",
   "nbconvert_exporter": "python",
   "pygments_lexer": "ipython3",
   "version": "3.5.2"
  }
 },
 "nbformat": 4,
 "nbformat_minor": 0
}
