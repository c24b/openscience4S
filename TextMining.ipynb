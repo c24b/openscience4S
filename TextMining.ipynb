{
 "cells": [
  {
   "cell_type": "markdown",
   "metadata": {},
   "source": [
    "## Analyse textuelle du débat sur l'Article 9"
   ]
  },
  {
   "cell_type": "code",
   "execution_count": 1,
   "metadata": {
    "collapsed": true
   },
   "outputs": [],
   "source": [
    "#coding: utf-8\n",
    "#importing modules\n",
    "#lecture des json\n",
    "import json\n",
    "#text-minig\n",
    "import re\n",
    "#viz\n",
    "import matplotlib\n",
    "import matplotlib.pyplot as plt\n",
    "#calcul\n",
    "import numpy as np\n",
    "from itertools import combinations\n",
    "%matplotlib inline"
   ]
  },
  {
   "cell_type": "markdown",
   "metadata": {},
   "source": [
    "## Article 9: version originale"
   ]
  },
  {
   "cell_type": "code",
   "execution_count": 2,
   "metadata": {
    "collapsed": true
   },
   "outputs": [],
   "source": [
    "def load_vo(art_file = \"./article_9.json\"):\n",
    "    with open(art_file, \"r\") as f:\n",
    "        article9 = json.load(f)\n",
    "    return article9\n",
    "article9 = load_vo()\n"
   ]
  },
  {
   "cell_type": "markdown",
   "metadata": {},
   "source": [
    "* **découvrir les informations disponibles dans l'article9**"
   ]
  },
  {
   "cell_type": "code",
   "execution_count": 3,
   "metadata": {
    "collapsed": false
   },
   "outputs": [
    {
     "name": "stdout",
     "output_type": "stream",
     "text": [
      "Clés de l'ARTICLE 9:\n",
      "-author <class 'str'>\n",
      "-ranking <class 'NoneType'>\n",
      "-versions_count <class 'int'>\n",
      "-created_at <class 'str'>\n",
      "-sources <class 'list'>\n",
      "-versions <class 'list'>\n",
      "-article_link <class 'str'>\n",
      "-body <class 'str'>\n",
      "-updated_at <class 'str'>\n",
      "-title <class 'str'>\n",
      "-answer <class 'dict'>\n",
      "-article_id <class 'int'>\n",
      "-votes_ok <class 'int'>\n",
      "-arguments <class 'list'>\n",
      "-sources_count <class 'int'>\n",
      "-body_anchors <class 'list'>\n",
      "-votes_nok <class 'int'>\n",
      "-cat_id <class 'int'>\n",
      "-votes_mitige <class 'int'>\n",
      "-arguments_count <class 'int'>\n",
      "-body_links <class 'list'>\n",
      "-votes_total <class 'int'>\n",
      "-subtitle <class 'str'>\n"
     ]
    }
   ],
   "source": [
    "# toutes les clés du dictionnaire de l'article9\n",
    "print(\"Clés de l'ARTICLE 9:\")\n",
    "for clé, valeur in list(article9.items()):\n",
    "    print(\"-\"+clé, type(valeur))"
   ]
  },
  {
   "cell_type": "markdown",
   "metadata": {},
   "source": [
    "L'article9 stocke à la fois les informations contextuelles sur l'article dans sa version originale mais encore\n",
    "tous les **arguments**, les **sources** et toutes les **versions** de cet article.\n",
    "On note que les **votes** sont pour le moment dans un fichier à part.\n",
    "Nous allons garder de coté les arguments, sources et versions pour les manipuler "
   ]
  },
  {
   "cell_type": "code",
   "execution_count": 4,
   "metadata": {
    "collapsed": true
   },
   "outputs": [],
   "source": [
    "#on stocke les informations dans des variables simples\n",
    "versions = article9[\"versions\"] #toutes les versions sans la version originale\n",
    "arguments = article9[\"arguments\"] #tous les arguments (version orginale+ versions complémentaires??? a verifier)\n",
    "sources = article9[\"sources\"] #toutes les sources\n"
   ]
  },
  {
   "cell_type": "markdown",
   "metadata": {},
   "source": [
    "### Versions de l'article 9\n",
    "\n",
    "Ici nous allons nous concentrer sur les différentes versions (amendements) de l'article \n",
    "ainsi que les **commentaires** qui justifient ces modifications\n"
   ]
  },
  {
   "cell_type": "markdown",
   "metadata": {},
   "source": [
    "* **découvrir les informations contenues dans les versions**:\n",
    "\n",
    "*pour l'exemple nous allons prendre la première version de ses versions complémentaires (soit V1)*\n"
   ]
  },
  {
   "cell_type": "code",
   "execution_count": 5,
   "metadata": {
    "collapsed": false
   },
   "outputs": [
    {
     "name": "stdout",
     "output_type": "stream",
     "text": [
      "Les informations pour une version\n",
      "-author <class 'str'>\n",
      "-before <class 'str'>\n",
      "-id <class 'int'>\n",
      "-link <class 'str'>\n",
      "-after <class 'str'>\n",
      "-created_at <class 'str'>\n",
      "-arguments_count <class 'int'>\n",
      "-votes_nok <class 'int'>\n",
      "-arguments_no_count <class 'int'>\n",
      "-votes_mitige <class 'int'>\n",
      "-votes_total <class 'int'>\n",
      "-updated_at <class 'str'>\n",
      "-arguments_yes_count <class 'int'>\n",
      "-slug <class 'str'>\n",
      "-comment <class 'str'>\n",
      "-title <class 'str'>\n",
      "-article_id <class 'int'>\n"
     ]
    }
   ],
   "source": [
    "v1 = versions[0]\n",
    "print(\"Les informations pour une version\")\n",
    "for clé, valeur in v1.items():\n",
    "    print(\"-\"+clé, type(valeur))"
   ]
  },
  {
   "cell_type": "markdown",
   "metadata": {},
   "source": [
    "Les valeurs qui vont nous intéresser dans un premier temps vont etre:\n",
    "* le titre\n",
    "* le comment"
   ]
  },
  {
   "cell_type": "markdown",
   "metadata": {},
   "source": [
    "* ** combien de versions? **\n"
   ]
  },
  {
   "cell_type": "code",
   "execution_count": 6,
   "metadata": {
    "collapsed": false
   },
   "outputs": [
    {
     "name": "stdout",
     "output_type": "stream",
     "text": [
      "108 versions complémentaires + 1 version originale\n"
     ]
    }
   ],
   "source": [
    "print(len(versions), \"versions complémentaires + 1 version originale\")  "
   ]
  },
  {
   "cell_type": "markdown",
   "metadata": {},
   "source": [
    "### Formatter la version originale\n",
    "Nous allons dans un premier temps formatter la version originale de la même manière que les versions complémentaire.\n",
    "avec les mêmes informations disponibles dans chaque version\n",
    "La version originale avec les informations qui nous intéressent sous forme de dictionnaire (de la même manière que les autres versions)\n",
    "\n",
    "En sachant que :\n",
    "* la version originale n'a pas de comment mais une explication de l'article (body) ainsi qu'une réponse aux multiples arguments (answer)\n",
    "* le titre complet n'est pas stocké dans l'article on se servira dans un premier temps du subtitle\n",
    "* les votes mitigés ne sont pas comptabilisés\n",
    "* la repartition des arguments entre ok et pas ok n'est pas disponible (il faudrait mapper chaque argument de cette version pour en avoir le coeur net (plus tard)\n",
    "\n"
   ]
  },
  {
   "cell_type": "code",
   "execution_count": 7,
   "metadata": {
    "collapsed": true
   },
   "outputs": [],
   "source": [
    "v0 = {\"link\": article9[\"article_link\"], \n",
    "      \"title\": article9[\"subtitle\"], \n",
    "      \"after\": article9[\"body\"], \n",
    "      \"comment\": article9[\"answer\"], \n",
    "      \"votes_ok\": article9[\"votes_ok\"],\n",
    "      \"votes_nok\": article9[\"votes_nok\"],\n",
    "      \"votes_mitige\": article9[\"votes_total\"] - (article9[\"votes_ok\"]+article9[\"votes_nok\"]),\n",
    "      \"votes_total\": article9[\"votes_total\"], \n",
    "      \"created_at\": article9[\"created_at\"],\n",
    "      \"udpated_at\": article9[\"updated_at\"],\n",
    "      \"author\": \"gouvernement\",\n",
    "      \"id\": article9[\"article_id\"],\n",
    "      \"arguments_count\": article9[\"arguments_count\"],\n",
    "      #manque \n",
    "      #arguments_yes_count\n",
    "      #arguments_no_count\n",
    "     }"
   ]
  },
  {
   "cell_type": "markdown",
   "metadata": {},
   "source": [
    "### Rappatrier la version originale dans les versions\n",
    "\n",
    "Nous allons donc rappatrier **v0** (notre version originale) dans notre variable **versions** qui est une *liste*.\n",
    "La variable version est une liste ordonnée qui respecte l'ordre chronologique des version:\n",
    "nous allons donc insérer en position 0"
   ]
  },
  {
   "cell_type": "code",
   "execution_count": 8,
   "metadata": {
    "collapsed": true
   },
   "outputs": [],
   "source": [
    "versions.insert(0, v0)\n"
   ]
  },
  {
   "cell_type": "code",
   "execution_count": 9,
   "metadata": {
    "collapsed": false
   },
   "outputs": [
    {
     "name": "stdout",
     "output_type": "stream",
     "text": [
      "{'author': 'gouvernement', 'id': 69, 'link': 'http://www.republique-numerique.fr/projects/projet-de-loi-numerique/consultation/consultation/opinions/section-2-travaux-de-recherche-et-de-statistique/article-9-acces-aux-travaux-de-la-recherche-financee-par-des-fonds-publics', 'after': 'Au chapitre 3 du titre 3 du livre V du code de la recherche, il est inséré un article L. 533-4 ainsi rédigé\\xa0:«Art. L. 533-4 –I. Lorsque un écrit scientifique, issu d’une activité de recherche financée au moins pour moitié par des fonds publics, est publié dans un périodique, un ouvrage paraissant au moins une fois par an, des actes de congrès ou de colloques ou des recueils de mélanges, son auteur, même en cas de cession exclusive à un éditeur, dispose du droit de mettre à disposition gratuitement sous une forme numérique, sous réserve des droits des éventuels coauteurs, la dernière version acceptée de son manuscrit par son éditeur et à l’exclusion du travail de mise en forme qui incombe à ce dernier, au terme d’un délai de douze mois pour les sciences, la technique et la médecine et de vingt-quatre mois pour les sciences humaines et sociales, à compter de date de la première publication. Cette mise à disposition ne peut donner lieu à aucune exploitation commerciale.«\\xa0II. – Les dispositions du présent article sont d’ordre public et toute clause contraire à celles-ci est réputée non écrite. Elles ne s’appliquent pas aux contrats en cours.\\xa0»', 'votes_ok': 1320, 'created_at': '2015-09-26T02:27:57+0200', 'arguments_count': 132, 'votes_nok': 1732, 'votes_mitige': 282, 'votes_total': 3334, 'title': 'Travaux de recherche et de statistique', 'comment': {}, 'udpated_at': '2015-09-26T07:31:38+0200'}\n"
     ]
    }
   ],
   "source": [
    "print(versions[0])"
   ]
  },
  {
   "cell_type": "code",
   "execution_count": 10,
   "metadata": {
    "collapsed": false
   },
   "outputs": [
    {
     "name": "stdout",
     "output_type": "stream",
     "text": [
      "{'author': 'philippegambette', 'before': '', 'id': 181, 'link': 'http://www.republique-numerique.fr/projects/projet-de-loi-numerique/consultation/consultation/opinions/section-2-travaux-de-recherche-et-de-statistique/article-9-acces-aux-travaux-de-la-recherche-financee-par-des-fonds-publics/versions/mise-a-disposition-systematique-des-resultats-de-la-recherche-financee-par-des-fonds-publics', 'after': 'I. Lorsque un écrit scientifique, issu d’une activité de recherche financée au moins pour moitié par des fonds publics est publié dans un périodique, un ouvrage paraissant au moins une fois par an, des actes de congrès ou de colloques ou des recueils de mélanges,son auteur, même en cas de cession exclusive à un éditeur, dispose dudroit de mettre à disposition gratuitement sous une forme numérique, sous réserve des droits des éventuels co-auteurs, la dernière version acceptée de son manuscrit par son éditeur et à l’exclusion du travail de mise en forme qui incombe à ce dernier, au terme d’un délai de douze mois pour les sciences, la technique et la médecine et de vingt-quatre mois pour les sciences humaines et sociales, à compter de date de la première publication. Cette mise à disposition ne peut donner lieu à aucune exploitation commerciale.« II. – Les dispositions du présent article sont d’ordre public et toute clause contraire à celles-ci est réputée non écrite. Elles ne s’appliquent pas aux contrats en cours. »', 'created_at': '2015-09-26T23:16:53+0200', 'arguments_count': 9, 'votes_nok': 29, 'arguments_no_count': 5, 'votes_mitige': 1, 'votes_total': 66, 'updated_at': '2015-12-02T22:16:44+0100', 'arguments_yes_count': 4, 'slug': 'mise-a-disposition-systematique-des-resultats-de-la-recherche-financee-par-des-fonds-publics', 'comment': 'Cette modification vise à rendre systématique la mise à disposition des publications relatives à des travaux de recherche financées par des fonds publics. Si l\\'article L533-4 se contente d\\'une formule incitative\\xa0en permettant simplement aux auteurs de mettre à disposition leurs publications, une grande partie ne le fera pas, comme c\\'est actuellement le cas dans de nombreux établissements français qui mettent pourtant en place des politiques d\\'incitation au dépôt dans le système HAL, par exemple.\\nIl serait bien entendu nécessaire, si un tel mandat de dépôt était instauré au niveau national, que l\\'interface utilisée pour mettre les publications à disposition soit facile et rapide d\\'utilisation pour les chercheurs. Des moyens spécifiques devraient donc être alloués à ces développements informatiques, et à la maintenance de ces développements.\\xa0Ces moyens pourraient résulter de l\\'économie des frais de publication avec l\\'option \"open access gold\" actuellement payés par certains auteurs d\\'articles scientifiques pour\\xa0rendre ces derniers publiquement disponibles sur le site de l\\'éditeur (option qui deviendrait inutile).', 'title': 'Création du nouvel article L 533-4 du code de la recherche (Livre V, Titre III, Chapitre 3)', 'article_id': 69}\n"
     ]
    }
   ],
   "source": [
    "print(versions[1])"
   ]
  },
  {
   "cell_type": "markdown",
   "metadata": {},
   "source": [
    "* ** Combien de versions?**:"
   ]
  },
  {
   "cell_type": "code",
   "execution_count": 11,
   "metadata": {
    "collapsed": false
   },
   "outputs": [
    {
     "name": "stdout",
     "output_type": "stream",
     "text": [
      "109 versions\n"
     ]
    }
   ],
   "source": [
    "print(len(versions),\"versions\")"
   ]
  },
  {
   "cell_type": "markdown",
   "metadata": {},
   "source": [
    "* **Combien de votes et d'arguments par version?**"
   ]
  },
  {
   "cell_type": "code",
   "execution_count": 27,
   "metadata": {
    "collapsed": false
   },
   "outputs": [
    {
     "name": "stdout",
     "output_type": "stream",
     "text": [
      "version_nb\t|votes nb\t|arguments nb\t|auteur\n",
      "---------------------------------------------------------------------\n",
      "version_0\t| 3334 \t\t| 132 \t\t| gouvernement\n",
      "version_1\t| 66 \t\t| 9 \t\t| philippegambette\n",
      "version_2\t| 0 \t\t| 0 \t\t| melaniedulongderosnay\n",
      "version_3\t| 3 \t\t| 1 \t\t| alainbensoussan\n",
      "version_4\t| 1 \t\t| 0 \t\t| melaniedulongderosnay\n",
      "version_5\t| 1 \t\t| 0 \t\t| lefebvrenarefrederic\n",
      "version_6\t| 0 \t\t| 0 \t\t| tanataricoalessandra\n",
      "version_7\t| 0 \t\t| 0 \t\t| watine\n",
      "version_8\t| 6 \t\t| 0 \t\t| adbsassociationdesprofessionnelsdelinformationetdeladocumentation1\n",
      "version_9\t| 0 \t\t| 0 \t\t| sbauin\n",
      "version_10\t| 2 \t\t| 0 \t\t| nicolaslarchet\n",
      "version_11\t| 78 \t\t| 2 \t\t| epristassociationdesresponsablesistdesorganismesderecherchefrancais\n",
      "version_12\t| 3 \t\t| 2 \t\t| jeannevarasco\n",
      "version_13\t| 7 \t\t| 0 \t\t| julianbh\n",
      "version_14\t| 17 \t\t| 0 \t\t| durandaline\n",
      "version_15\t| 4 \t\t| 2 \t\t| dominiquelecomte\n",
      "version_16\t| 11 \t\t| 2 \t\t| alainlecavelier\n",
      "version_17\t| 8 \t\t| 1 \t\t| hervemorel\n",
      "version_18\t| 71 \t\t| 3 \t\t| federationnationaledelapressedinformationspecialisee\n",
      "version_19\t| 4 \t\t| 1 \t\t| talalmallah\n",
      "version_20\t| 35 \t\t| 1 \t\t| claudeguthmann\n",
      "version_21\t| 3 \t\t| 1 \t\t| michelvalensi\n",
      "version_22\t| 6 \t\t| 0 \t\t| jeanpierrekahane\n",
      "version_23\t| 7 \t\t| 0 \t\t| amauryvanespen\n",
      "version_24\t| 96 \t\t| 2 \t\t| snesup\n",
      "version_25\t| 29 \t\t| 0 \t\t| associationdesarchivistesfrancais\n",
      "version_26\t| 1 \t\t| 1 \t\t| omarhenrygomeztunque\n",
      "version_27\t| 15 \t\t| 0 \t\t| brennerjan\n",
      "version_28\t| 74 \t\t| 3 \t\t| universitepierreetmariecurie\n",
      "version_29\t| 50 \t\t| 1 \t\t| regardscitoyens\n",
      "version_30\t| 4 \t\t| 1 \t\t| nicolaslemoine\n",
      "version_31\t| 10 \t\t| 1 \t\t| abharmach\n",
      "version_32\t| 402 \t\t| 37 \t\t| cairninfo\n",
      "version_33\t| 63 \t\t| 2 \t\t| alainberetzpresidentdeluniversitedestrasbourg\n",
      "version_34\t| 1 \t\t| 0 \t\t| fredericrotella\n",
      "version_35\t| 22 \t\t| 0 \t\t| jamessebastien\n",
      "version_36\t| 72 \t\t| 0 \t\t| iabd\n",
      "version_37\t| 58 \t\t| 3 \t\t| christinedemazieres\n",
      "version_38\t| 21 \t\t| 0 \t\t| jubeau\n",
      "version_39\t| 17 \t\t| 0 \t\t| eniramaal\n",
      "version_40\t| 167 \t\t| 4 \t\t| gfii\n",
      "version_41\t| 2 \t\t| 0 \t\t| whynot\n",
      "version_42\t| 180 \t\t| 2 \t\t| inradistodilehologne\n",
      "version_43\t| 7 \t\t| 1 \t\t| thiebautdevergranne\n",
      "version_44\t| 7 \t\t| 0 \t\t| dominiqueillien\n",
      "version_45\t| 517 \t\t| 6 \t\t| inria\n",
      "version_46\t| 7 \t\t| 0 \t\t| teddythebest\n",
      "version_47\t| 218 \t\t| 5 \t\t| syndicatnationaldeledition\n",
      "version_48\t| 67 \t\t| 1 \t\t| francoisgeze\n",
      "version_49\t| 2 \t\t| 0 \t\t| aymericpoulainmaubant\n",
      "version_50\t| 11 \t\t| 1 \t\t| lemarierieusset\n",
      "version_51\t| 14 \t\t| 4 \t\t| thierrypairault\n",
      "version_52\t| 12 \t\t| 3 \t\t| sylvainribault\n",
      "version_53\t| 8 \t\t| 0 \t\t| gobinemma\n",
      "version_54\t| 274 \t\t| 8 \t\t| membresbsn4etbsn7\n",
      "version_55\t| 14 \t\t| 1 \t\t| marclipinski1\n",
      "version_56\t| 15 \t\t| 2 \t\t| kante\n",
      "version_57\t| 2 \t\t| 1 \t\t| cecilemichel\n",
      "version_58\t| 14 \t\t| 2 \t\t| remicaillot\n",
      "version_59\t| 13 \t\t| 0 \t\t| jeanfrancoisnomine\n",
      "version_60\t| 1511 \t\t| 30 \t\t| robertodicosmo\n",
      "version_61\t| 170 \t\t| 5 \t\t| inptoulouseinstitutnationalpolytechniquedetoulouse\n",
      "version_62\t| 21 \t\t| 0 \t\t| christianingrao\n",
      "version_63\t| 211 \t\t| 1 \t\t| savoircom1\n",
      "version_64\t| 28 \t\t| 5 \t\t| jeromevalluy\n",
      "version_65\t| 35 \t\t| 1 \t\t| gaellekrikorian\n",
      "version_66\t| 32 \t\t| 0 \t\t| jjohnsoundarjerome\n",
      "version_67\t| 32 \t\t| 1 \t\t| blaisegenest\n",
      "version_68\t| 780 \t\t| 15 \t\t| consortiumcouperin\n",
      "version_69\t| 3 \t\t| 1 \t\t| elliotmaccarinelli\n",
      "version_70\t| 28 \t\t| 1 \t\t| martinelegrisrevel\n",
      "version_71\t| 49 \t\t| 1 \t\t| dansperber\n",
      "version_72\t| 4 \t\t| 1 \t\t| bernard\n",
      "version_73\t| 28 \t\t| 2 \t\t| lionelbarbe\n",
      "version_74\t| 45 \t\t| 6 \t\t| oliviermorin1\n",
      "version_75\t| 287 \t\t| 2 \t\t| consortiumcouperin\n",
      "version_76\t| 362 \t\t| 4 \t\t| consortiumcouperin\n",
      "version_77\t| 18 \t\t| 0 \t\t| benigni\n",
      "version_78\t| 21 \t\t| 0 \t\t| samsond\n",
      "version_79\t| 26 \t\t| 1 \t\t| emmanuellesigne\n",
      "version_80\t| 24 \t\t| 0 \t\t| sylviegrandeuryburon\n",
      "version_81\t| 27 \t\t| 0 \t\t| saintaubin\n",
      "version_82\t| 19 \t\t| 0 \t\t| samsond\n",
      "version_83\t| 27 \t\t| 6 \t\t| cbernault\n",
      "version_84\t| 116 \t\t| 5 \t\t| dehee\n",
      "version_85\t| 1749 \t\t| 59 \t\t| cnrsdistrenaudfabre\n",
      "version_86\t| 131 \t\t| 5 \t\t| fontaine\n",
      "version_87\t| 44 \t\t| 1 \t\t| merlet\n",
      "version_88\t| 24 \t\t| 1 \t\t| olivierjacquot\n",
      "version_89\t| 7 \t\t| 0 \t\t| pierrefrancoisjan\n",
      "version_90\t| 22 \t\t| 1 \t\t| pierrefrancoisjan\n",
      "version_91\t| 5 \t\t| 3 \t\t| serayamaouche\n",
      "version_92\t| 25 \t\t| 4 \t\t| huguesvanbesien\n",
      "version_93\t| 40 \t\t| 2 \t\t| michelraymond\n",
      "version_94\t| 6 \t\t| 0 \t\t| jeremylucas\n",
      "version_95\t| 22 \t\t| 1 \t\t| ericfabre\n",
      "version_96\t| 200 \t\t| 12 \t\t| christineollendorff\n",
      "version_97\t| 4 \t\t| 1 \t\t| cbernault\n",
      "version_98\t| 77 \t\t| 3 \t\t| hipparkhos\n",
      "version_99\t| 4 \t\t| 1 \t\t| cbernault\n",
      "version_100\t| 87 \t\t| 7 \t\t| danielbourrion\n",
      "version_101\t| 41 \t\t| 13 \t\t| laurentliegeois\n",
      "version_102\t| 33 \t\t| 0 \t\t| oliviermauco\n",
      "version_103\t| 123 \t\t| 5 \t\t| benoitrkloeckner\n",
      "version_104\t| 31 \t\t| 4 \t\t| solarus\n",
      "version_105\t| 4 \t\t| 2 \t\t| hayekvalerie\n",
      "version_106\t| 22 \t\t| 2 \t\t| annelaureroux\n",
      "version_107\t| 24 \t\t| 4 \t\t| jeanbaptistesoufron\n",
      "version_108\t| 69 \t\t| 13 \t\t| cellular1988\n"
     ]
    }
   ],
   "source": [
    "print (\"version_nb\\t|votes nb\\t|arguments nb\\t|auteur\")\n",
    "print(\"---------------------------------------------------------------------\")\n",
    "for i,v in enumerate(versions):\n",
    "    print (\"version_\"+str(i)+\"\\t|\", v[\"votes_total\"], \"\\t\\t|\", v[\"arguments_count\"], \"\\t\\t|\", v[\"author\"])"
   ]
  },
  {
   "cell_type": "markdown",
   "metadata": {},
   "source": [
    "Ecrivons ces données dans un fichier pour plus tard (on ne sait jamais)\n",
    "ici une version minimale:"
   ]
  },
  {
   "cell_type": "code",
   "execution_count": 28,
   "metadata": {
    "collapsed": true
   },
   "outputs": [],
   "source": [
    "\n",
    "with open(\"liste_des_versions.csv\", \"w\") as f:\n",
    "    f.write(\"version_nb\\tvotes nb\\targuments nb\\tauteur\\n\")\n",
    "    for i,v in enumerate(versions):\n",
    "        f.write(\"version_\"+str(i)+\"\\t\"+str(v[\"votes_total\"])+\"\\t\"+str(v[\"arguments_count\"])+\"\\t\"+v[\"author\"]+\"\\n\")\n",
    "#NB: vu qu'on manipule des listes on pourrait l'écrire grace à la fonction join() qui va avec les listes\n",
    "#Si on voulait faire de la visualisation le Notebook \n",
    "Cartographie%20des%20comportements%20des%20electeurs.ipynb\n"
   ]
  },
  {
   "cell_type": "markdown",
   "metadata": {},
   "source": [
    "#### Les commentaires des versions\n",
    "L'objectif ici est de faire un état des lieux des mots employés pour justifier les modifications apportés à la version originale \n",
    "dans une version complémentaire:\n",
    "\n",
    "Dans un premier temps, il s'agit de vérifier l'état des modifications:\n",
    "* Y-a-t-il eu beaucoup de modification du texte original? \n",
    "* Combien de mots d'une version à l'autre ?\n",
    "* Combien de mots au total de la version initiale à la version finale?\n",
    "\n",
    "Dans un deuxième temps, il s'agira de plonger dans le détail et regarder les mots communs et différents à chaque versions\n",
    "* Combien de mots en commun de version a version+1\n",
    "* Combien de mots différents de version a version+1\n",
    "* Combien de mots communs/différents au total de la version initiale à la version finale?\n",
    "\n",
    "\n",
    "Dans un troisième temps, il faudra plonger dans le détail des auteurs et des électeurs\n",
    "en effet un auteur a parfois fait plusieurs modifications.\n",
    "* Combien d'auteur unique?\n",
    "* Combien de versions par auteurs?\n",
    "* Chaque auteur a-t-il un vocabulaire particulier? \n",
    "* Analyser la proximité/distance lexicale des auteurs entre eux (mots communs/mots différents)\n",
    "\n",
    "\n",
    "\n",
    "Dans un quatrième temps, il faudra rappatrier tous les electeurs qui ont voté pour la modification de versions\n",
    "* Quels sont les auteur les plus populaires en nombre de votes absolus?\n",
    "* Quels sont les auteurs les plus proches (en regardant les electeurs qui ont voté pour la même personne)\n",
    "\n"
   ]
  },
  {
   "cell_type": "code",
   "execution_count": null,
   "metadata": {
    "collapsed": true
   },
   "outputs": [],
   "source": []
  }
 ],
 "metadata": {
  "kernelspec": {
   "display_name": "Python 3",
   "language": "python",
   "name": "python3"
  },
  "language_info": {
   "codemirror_mode": {
    "name": "ipython",
    "version": 3
   },
   "file_extension": ".py",
   "mimetype": "text/x-python",
   "name": "python",
   "nbconvert_exporter": "python",
   "pygments_lexer": "ipython3",
   "version": "3.5.2"
  }
 },
 "nbformat": 4,
 "nbformat_minor": 0
}
