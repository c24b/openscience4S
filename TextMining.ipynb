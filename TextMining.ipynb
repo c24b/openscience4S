{
 "cells": [
  {
   "cell_type": "markdown",
   "metadata": {},
   "source": [
    "## Analyse textuelle du débat sur l'Article 9"
   ]
  },
  {
   "cell_type": "code",
   "execution_count": 2,
   "metadata": {
    "collapsed": true
   },
   "outputs": [],
   "source": [
    "#coding: utf-8\n",
    "#importing modules\n",
    "#lecture des json\n",
    "import json\n",
    "#text-minig\n",
    "import re\n",
    "#viz\n",
    "import matplotlib\n",
    "import matplotlib.pyplot as plt\n",
    "#calcul\n",
    "import numpy as np\n",
    "from itertools import combinations\n",
    "%matplotlib inline"
   ]
  },
  {
   "cell_type": "markdown",
   "metadata": {},
   "source": [
    "## Article 9: version originale"
   ]
  },
  {
   "cell_type": "code",
   "execution_count": 3,
   "metadata": {
    "collapsed": true
   },
   "outputs": [],
   "source": [
    "def load_vo(art_file = \"./article_9.json\"):\n",
    "    with open(art_file, \"r\") as f:\n",
    "        article9 = json.load(f)\n",
    "    return article9\n",
    "article9 = load_vo()\n"
   ]
  },
  {
   "cell_type": "markdown",
   "metadata": {},
   "source": [
    "* **découvrir les informations disponibles dans l'article9**"
   ]
  },
  {
   "cell_type": "code",
   "execution_count": 4,
   "metadata": {
    "collapsed": false
   },
   "outputs": [
    {
     "name": "stdout",
     "output_type": "stream",
     "text": [
      "Clés de l'ARTICLE 9:\n",
      "-arguments <class 'list'>\n",
      "-article_link <class 'str'>\n",
      "-votes_nok <class 'int'>\n",
      "-author <class 'str'>\n",
      "-body <class 'str'>\n",
      "-ranking <class 'NoneType'>\n",
      "-votes_ok <class 'int'>\n",
      "-updated_at <class 'str'>\n",
      "-subtitle <class 'str'>\n",
      "-sources_count <class 'int'>\n",
      "-versions <class 'list'>\n",
      "-sources <class 'list'>\n",
      "-cat_id <class 'int'>\n",
      "-votes_total <class 'int'>\n",
      "-answer <class 'dict'>\n",
      "-body_anchors <class 'list'>\n",
      "-body_links <class 'list'>\n",
      "-arguments_count <class 'int'>\n",
      "-created_at <class 'str'>\n",
      "-title <class 'str'>\n",
      "-versions_count <class 'int'>\n",
      "-votes_mitige <class 'int'>\n",
      "-article_id <class 'int'>\n"
     ]
    }
   ],
   "source": [
    "# toutes les clés du dictionnaire de l'article9\n",
    "print(\"Clés de l'ARTICLE 9:\")\n",
    "for clé, valeur in list(article9.items()):\n",
    "    print(\"-\"+clé, type(valeur))"
   ]
  },
  {
   "cell_type": "markdown",
   "metadata": {},
   "source": [
    "L'article9 stocke à la fois les informations contextuelles sur l'article dans sa version originale mais encore\n",
    "tous les **arguments**, les **sources** et toutes les **versions** de cet article.\n",
    "On note que les **votes** sont pour le moment dans un fichier à part.\n",
    "Nous allons garder de coté les arguments, sources et versions pour les manipuler "
   ]
  },
  {
   "cell_type": "code",
   "execution_count": 5,
   "metadata": {
    "collapsed": true
   },
   "outputs": [],
   "source": [
    "#on stocke les informations dans des variables simples\n",
    "versions = article9[\"versions\"] #toutes les versions sans la version originale\n",
    "arguments = article9[\"arguments\"] #tous les arguments (version orginale+ versions complémentaires??? a verifier)\n",
    "sources = article9[\"sources\"] #toutes les sources\n"
   ]
  },
  {
   "cell_type": "markdown",
   "metadata": {},
   "source": [
    "### Amendements de l'article 9\n",
    "\n",
    "Ici nous allons nous concentrer sur les différentes amendements (versions) de l'article \n",
    "ainsi que les **explications** qui justifient ces modifications (commentaires des versions)\n"
   ]
  },
  {
   "cell_type": "markdown",
   "metadata": {},
   "source": [
    "* **découvrir les informations contenues dans les amendements**:\n",
    "\n",
    "*pour l'exemple nous allons prendre le premier amendement de l'article 9 (soit V1)*\n"
   ]
  },
  {
   "cell_type": "code",
   "execution_count": 6,
   "metadata": {
    "collapsed": false
   },
   "outputs": [
    {
     "name": "stdout",
     "output_type": "stream",
     "text": [
      "Les informations pour une version\n",
      "-comment <class 'str'>\n",
      "-votes_nok <class 'int'>\n",
      "-author <class 'str'>\n",
      "-arguments_count <class 'int'>\n",
      "-after <class 'str'>\n",
      "-article_id <class 'int'>\n",
      "-votes_total <class 'int'>\n",
      "-arguments_yes_count <class 'int'>\n",
      "-slug <class 'str'>\n",
      "-created_at <class 'str'>\n",
      "-title <class 'str'>\n",
      "-votes_mitige <class 'int'>\n",
      "-link <class 'str'>\n",
      "-updated_at <class 'str'>\n",
      "-before <class 'str'>\n",
      "-arguments_no_count <class 'int'>\n",
      "-id <class 'int'>\n"
     ]
    }
   ],
   "source": [
    "v1 = versions[0]\n",
    "print(\"Les informations pour une version\")\n",
    "for clé, valeur in v1.items():\n",
    "    print(\"-\"+clé, type(valeur))"
   ]
  },
  {
   "cell_type": "markdown",
   "metadata": {},
   "source": [
    "Les valeurs qui vont nous intéresser dans un premier temps vont être:\n",
    "* le titre (dans le slug)\n",
    "\n"
   ]
  },
  {
   "cell_type": "code",
   "execution_count": 28,
   "metadata": {
    "collapsed": false
   },
   "outputs": [
    {
     "name": "stdout",
     "output_type": "stream",
     "text": [
      "version 0 Travaux de recherche et de statistique\n",
      "version 1 mise a disposition systematique des resultats de la recherche financee par des fonds publics\n",
      "version 2 distinguer shs et stem ne reconnait pas les recherches interdisplinaires quelle premiere publication quelle version\n",
      "version 3 compte rendu du groupe gouv camp article 9\n",
      "version 4 ouvrages collectifs\n",
      "version 5 modif du titre\n",
      "version 6 les etudiantes et la recherche\n",
      "version 7 ajout production scolaire\n",
      "version 8 ajout des rapports dans la liste des formes de publication prises en charge\n",
      "version 9 attention vous ne voyez que 50 propositions utiliser l outil de tri pour voir les plus anciennes les plus votees etc\n",
      "version 10 taxer les grands editeurs etrangers qui profitent des investissements publics\n",
      "version 11 pour une science ouverte l acces et l exploitation des bien communs de la connaissance ne doivent pas etre entraves\n",
      "version 12 grande encyclopedie collaborative de la recherche scientifique\n",
      "version 13 rattacher les publications de recherche financees par l argent public au domaine commun informationnel de l article 8\n",
      "version 14 proposition 2 nouvel article obligation de depot des publications scientifiques dans une archive ouverte\n",
      "version 15 contre l article 9\n",
      "version 16 pour une redaction equilibree qui reconnaisse la contribution de chacun auteurs fonds publics et editeurs et les droits qui y sont associes a l auteur peut mettre dans le domaine public immediatement son manuscript a l exclusion du travail de l editeur b \n",
      "version 17 inapplicable\n",
      "version 18 il est indispensable de realiser des etudes d impact au plus vite delais d embargos pas inferieurs a 12 mois en stm et a 24 mois en shs\n",
      "version 19 je ma rallie aux propositions du conseil scientifique du cnrs\n",
      "version 20 supprimer le delai d embargo la recherche publique appartient au public les donnees et les publications aussi acces libre a la connaissance scientifique\n",
      "version 21 donner le vin vendre les bouteilles\n",
      "version 22 je me rallie aux remarques et propositions faites par le comseil scientifique du cnrs\n",
      "version 23 instituer les contributions scientifiques au rang de biens communs\n",
      "version 24 aucune cession a l editeur lorsque les ecrits sont non remuneres et possible a 6 mois lorsque remuneres sans distinction de champs disciplinaires\n",
      "version 25 mentionner les donnees de la recherche\n",
      "version 26 d abord droteger le droit des auteurs\n",
      "version 27 pas de delai du tout la recherche publique appartient au public les donnees et les publications aussi\n",
      "version 28 une duree d embargo plus courte et ne pas entraver le tdm text and data mining\n",
      "version 29 assurer la compatibilite avec les licences libres\n",
      "version 30 clarifions la publication scientifique\n",
      "version 31 mettre a disposition egalement la correspondance entre les auteurs et l editeur examinateurs reviewers pour enrichir la publication et mettre en valeur le travail des examinateurs\n",
      "version 32 favoriser le libre acces sans mettre en peril les revues shs imaginer de nouveaux modeles de diffusion de la science\n",
      "version 33 pour l acces libre aux resultats de la recherche scientifique\n",
      "version 34 modification\n",
      "version 35 recherches financees par des fonds publics accessibles sans delai\n",
      "version 36 mention supplementaire conforme aux preconnisations de l ocde\n",
      "version 37 pour legiferer sur le libre acces une etude d impact est necessaire\n",
      "version 38 reduire la duree d embargo\n",
      "version 39 acces public gratuit et embargo plus court\n",
      "version 40 duree d embargo et tdm 1\n",
      "version 41 duree d embargo et tdm\n",
      "version 42 les articles scientifiques sont des biens communs de la connaissance\n",
      "version 43 met a disposition pas dispose du droit\n",
      "version 44 attention a la qualite et a la securite des textes scientifiques qui doivent etre valides en amont promus et enrichis ensuite par le biais de bases de donnees\n",
      "version 45 garantir l autorisation du depot immediat de la version auteur dans une archive ouverte\n",
      "version 46 licence libre de paternite\n",
      "version 47 les delais d embargo doivent etre conditionnes a des etudes d impact\n",
      "version 48 conditionner la definition des durees d embargo a la realisation d etudes d impact sur l economie des revues scientifiques concernees\n",
      "version 49 au point ii en cours de quand\n",
      "version 50 delais trop longs\n",
      "version 51 recherche publique acces public\n",
      "version 52 un principe simple la recherche publique dans le domaine public\n",
      "version 53 sans delai de mise a disposition ou au terme d un delai de 6 mois\n",
      "version 54 pour une garantie de diffusion en acces ouvert\n",
      "version 55 flou dans la notion de moitie du financement\n",
      "version 56 pas de delai de mise a disposition\n",
      "version 57 libre acces aux resultats de la production scientifique\n",
      "version 58 enrichir wikipedia\n",
      "version 59 la collectivite doit pouvoir acceder sans entrave aux donnees et informations scientifiques et les utiliser librement\n",
      "version 60 proteger le droit des auteurs d articles scientifiques pour permettre le libre acces a la recherche scientifique\n",
      "version 61 garantir le depot en archive ouverte seul dispositif assurant un libre acces perenne conformite aux recommandations europeennes embargo e\n",
      "version 62 affirmer la coherence des logiques de mise en place de l open access reduire le temps de carence rendre moins monolithique les droits d exploitation commerciale\n",
      "version 63 pour une obligation de depot et le libre acces assorti de la libre reutilisation des resultats de la recherche\n",
      "version 64 pour le libre acces contre tout archive unique\n",
      "version 65 raccourcir la duree dans le respect de h2020\n",
      "version 66 obligation du libre acces aux publications scientifiques de la recherche publique\n",
      "version 67 le delai d embargo est beaucoup trop long\n",
      "version 68 garantir le libre acces aux resultats de la recherche financee par des fonds publics\n",
      "version 69 pas de delais d embargo pour les etudiants\n",
      "version 70 delai d embargo bien trop long\n",
      "version 71 aucun delai pour la mise a disposition gratuite sous forme numerique\n",
      "version 72 domaines sensibles\n",
      "version 73 24 mois pour les sciences humaines c est trop long quid de l etude d internet des reseaux sociaux du big data etc 12 mois pour tous\n",
      "version 74 acces libre integral et obligatoire\n",
      "version 75 poir un droit de fouiller les textes autoriser le text et datamining\n",
      "version 76 pour une obligation de depot des publications scientifiques dans une archive ouverte\n",
      "version 77 une duree d embargo plus courte ne pas entraver le tdm text and data mining et ne pas s approprier a titre exclusif des benefices de toutes natures qui pourraient decouler d une publication scientifique\n",
      "version 78 mettre en place un depot institutionnel\n",
      "version 79 une duree d embargo plus courte ne pas entraver le tdm text and data mining et ne pas interdire une exploitation commerciale 1\n",
      "version 80 une duree d embargo plus courte ne pas entraver le tdm text and data mining et ne pas interdire une exploitation commerciale\n",
      "version 81 du gouvernement ouvert a l universite ouverte en redonnant aux chercheurs le controle de leurs droits d auteur\n",
      "version 82 synthese des propositions ajout sur l egalite de l acces\n",
      "version 83 code de la propriete intellectuelle plutot que code de la recherche\n",
      "version 84 trente six mois pour les sciences humaines et sociales\n",
      "version 85 une duree d embargo plus courte ne pas entraver le tdm fouille de texte et de donnees et ne pas interdire une exploitation commerciale\n",
      "version 86 proteger l edition scientifique francaise\n",
      "version 87 pas d embargo ou tres reduit\n",
      "version 88 aligner les delais d embargo sur ceux de la communaute europeenne 6 et 12 mois maximum\n",
      "version 89 correction syntaxique\n",
      "version 90 egalite de l acces aux ecrits scientifiques\n",
      "version 91 les donnees issues d une activite de recherche\n",
      "version 92 limitation des prerogatives de l auteur pour les travaux fiances sur des fonds publics\n",
      "version 93 pas de differences entre les domaines scientifiques\n",
      "version 94 unification de la diffusion des connaissances\n",
      "version 95 pourquoi une limitation au point ii\n",
      "version 96 aligner les delais d embargo sur ceux de la communaute europeenne 6 et 12 mois\n",
      "version 97 permettre au moins un delai d embargo plus court grace au contrat\n",
      "version 98 supprimer le delai\n",
      "version 99 redaction a ameliorer\n",
      "version 100 ne pas oublier les sets de donnees lies a un article\n",
      "version 101 mise en ligne des theses de doctorat\n",
      "version 102 pas de restriction de temps pour les financements europeens et francais\n",
      "version 103 toute restriction a l acces aux publications scientifiques est nefaste et couteuse\n",
      "version 104 publicite des articles et retroactivite sur les contrats en cours\n",
      "version 105 une publication dans le strict respect de la confidentialite\n",
      "version 106 modification article initial l 533 4 pour l 112 6 cr\n",
      "version 107 le texte n atteint pas ses objectifs et presentent des difficultes\n",
      "version 108 la recherche financee par l etat appartient a tous\n"
     ]
    }
   ],
   "source": [
    "for i,v in enumerate(versions):\n",
    "    if i == 0:\n",
    "        #la version originale n'a pas de 'slug'\n",
    "        print(\"version \"+str(i), v[\"title\"])\n",
    "        \n",
    "    else:\n",
    "        #les amendements (versions) ont tous le même titre mais un slug différent avec des tirets qu'on remplace par des espace\n",
    "        #print(\"version \"+str(i), v[\"title\"], v[\"slug\"].replace(\"-\", \" \"))\n",
    "        print(\"version \"+str(i), v[\"slug\"].replace(\"-\", \" \"))\n",
    "    \n",
    "    "
   ]
  },
  {
   "cell_type": "code",
   "execution_count": null,
   "metadata": {
    "collapsed": true
   },
   "outputs": [],
   "source": [
    "* l'explication (comment)\n",
    "* date de création\n",
    "* auteur\n",
    "\n",
    "\n",
    "* **quels sont les titres**?"
   ]
  },
  {
   "cell_type": "markdown",
   "metadata": {},
   "source": [
    "* ** combien d'amendements? **\n"
   ]
  },
  {
   "cell_type": "code",
   "execution_count": 7,
   "metadata": {
    "collapsed": false
   },
   "outputs": [
    {
     "name": "stdout",
     "output_type": "stream",
     "text": [
      "108 amendements + 1 version originale\n"
     ]
    }
   ],
   "source": [
    "print(len(versions), \"amendements + 1 version originale\")  \n"
   ]
  },
  {
   "cell_type": "markdown",
   "metadata": {},
   "source": [
    "### Formater la version originale\n",
    "Nous allons dans un premier temps formater la version originale de la même manière que les ammendements (versions complémentaires) avec les mêmes informations disponibles dans chaque amendement(version).\n",
    "\n",
    "La version originale avec les informations qui nous intéressent sont stockées sous forme de dictionnaire (de la même manière que les autres amendements)\n",
    "\n",
    "En sachant que :\n",
    "* la version originale n'a pas d'explication ('commentaire') mais une explication de l'article (body)\n",
    "* le titre complet n'est pas stocké dans l'article on se servira dans un premier temps du subtitle\n",
    "* les votes mitigés ne sont pas comptabilisés\n",
    "* la répartition des arguments entre ok et pas ok n'est pas disponible (il faudrait mapper chaque argument de cette version pour en avoir le coeur net (plus tard)\n",
    "\n"
   ]
  },
  {
   "cell_type": "code",
   "execution_count": 8,
   "metadata": {
    "collapsed": true
   },
   "outputs": [],
   "source": [
    "v0 = {\"link\": article9[\"article_link\"], \n",
    "      \"title\": article9[\"subtitle\"], \n",
    "      \"after\": article9[\"body\"], \n",
    "      \"comment\": article9[\"answer\"], \n",
    "      \"votes_ok\": article9[\"votes_ok\"],\n",
    "      \"votes_nok\": article9[\"votes_nok\"],\n",
    "      \"votes_mitige\": article9[\"votes_total\"] - (article9[\"votes_ok\"]+article9[\"votes_nok\"]),\n",
    "      \"votes_total\": article9[\"votes_total\"], \n",
    "      \"created_at\": article9[\"created_at\"],\n",
    "      \"udpated_at\": article9[\"updated_at\"],\n",
    "      \"author\": \"gouvernement\",\n",
    "      \"id\": article9[\"article_id\"],\n",
    "      \"arguments_count\": article9[\"arguments_count\"],\n",
    "      #manque \n",
    "      #arguments_yes_count\n",
    "      #arguments_no_count\n",
    "     }"
   ]
  },
  {
   "cell_type": "markdown",
   "metadata": {},
   "source": [
    "### Rapatrier la version originale dans les amendements\n",
    "\n",
    "Nous allons donc rappatrier **v0** (notre version originale) dans notre variable **versions** qui est une *liste*.\n",
    "La variable version est une liste ordonnée qui respecte l'ordre chronologique des version:\n",
    "nous allons donc insérer en position 0 la version originale."
   ]
  },
  {
   "cell_type": "code",
   "execution_count": 9,
   "metadata": {
    "collapsed": true
   },
   "outputs": [],
   "source": [
    "versions.insert(0, v0)\n"
   ]
  },
  {
   "cell_type": "code",
   "execution_count": 10,
   "metadata": {
    "collapsed": false
   },
   "outputs": [
    {
     "name": "stdout",
     "output_type": "stream",
     "text": [
      "{'comment': {}, 'votes_nok': 1732, 'author': 'gouvernement', 'votes_total': 3334, 'after': 'Au chapitre 3 du titre 3 du livre V du code de la recherche, il est inséré un article L. 533-4 ainsi rédigé\\xa0:«Art. L. 533-4 –I. Lorsque un écrit scientifique, issu d’une activité de recherche financée au moins pour moitié par des fonds publics, est publié dans un périodique, un ouvrage paraissant au moins une fois par an, des actes de congrès ou de colloques ou des recueils de mélanges, son auteur, même en cas de cession exclusive à un éditeur, dispose du droit de mettre à disposition gratuitement sous une forme numérique, sous réserve des droits des éventuels coauteurs, la dernière version acceptée de son manuscrit par son éditeur et à l’exclusion du travail de mise en forme qui incombe à ce dernier, au terme d’un délai de douze mois pour les sciences, la technique et la médecine et de vingt-quatre mois pour les sciences humaines et sociales, à compter de date de la première publication. Cette mise à disposition ne peut donner lieu à aucune exploitation commerciale.«\\xa0II. – Les dispositions du présent article sont d’ordre public et toute clause contraire à celles-ci est réputée non écrite. Elles ne s’appliquent pas aux contrats en cours.\\xa0»', 'udpated_at': '2015-09-26T07:31:38+0200', 'arguments_count': 132, 'created_at': '2015-09-26T02:27:57+0200', 'title': 'Travaux de recherche et de statistique', 'votes_ok': 1320, 'link': 'http://www.republique-numerique.fr/projects/projet-de-loi-numerique/consultation/consultation/opinions/section-2-travaux-de-recherche-et-de-statistique/article-9-acces-aux-travaux-de-la-recherche-financee-par-des-fonds-publics', 'votes_mitige': 282, 'id': 69}\n"
     ]
    }
   ],
   "source": [
    "print(versions[0])"
   ]
  },
  {
   "cell_type": "code",
   "execution_count": 11,
   "metadata": {
    "collapsed": false
   },
   "outputs": [
    {
     "name": "stdout",
     "output_type": "stream",
     "text": [
      "{'comment': 'Cette modification vise à rendre systématique la mise à disposition des publications relatives à des travaux de recherche financées par des fonds publics. Si l\\'article L533-4 se contente d\\'une formule incitative\\xa0en permettant simplement aux auteurs de mettre à disposition leurs publications, une grande partie ne le fera pas, comme c\\'est actuellement le cas dans de nombreux établissements français qui mettent pourtant en place des politiques d\\'incitation au dépôt dans le système HAL, par exemple.\\nIl serait bien entendu nécessaire, si un tel mandat de dépôt était instauré au niveau national, que l\\'interface utilisée pour mettre les publications à disposition soit facile et rapide d\\'utilisation pour les chercheurs. Des moyens spécifiques devraient donc être alloués à ces développements informatiques, et à la maintenance de ces développements.\\xa0Ces moyens pourraient résulter de l\\'économie des frais de publication avec l\\'option \"open access gold\" actuellement payés par certains auteurs d\\'articles scientifiques pour\\xa0rendre ces derniers publiquement disponibles sur le site de l\\'éditeur (option qui deviendrait inutile).', 'votes_nok': 29, 'author': 'philippegambette', 'arguments_count': 9, 'after': 'I. Lorsque un écrit scientifique, issu d’une activité de recherche financée au moins pour moitié par des fonds publics est publié dans un périodique, un ouvrage paraissant au moins une fois par an, des actes de congrès ou de colloques ou des recueils de mélanges,son auteur, même en cas de cession exclusive à un éditeur, dispose dudroit de mettre à disposition gratuitement sous une forme numérique, sous réserve des droits des éventuels co-auteurs, la dernière version acceptée de son manuscrit par son éditeur et à l’exclusion du travail de mise en forme qui incombe à ce dernier, au terme d’un délai de douze mois pour les sciences, la technique et la médecine et de vingt-quatre mois pour les sciences humaines et sociales, à compter de date de la première publication. Cette mise à disposition ne peut donner lieu à aucune exploitation commerciale.« II. – Les dispositions du présent article sont d’ordre public et toute clause contraire à celles-ci est réputée non écrite. Elles ne s’appliquent pas aux contrats en cours. »', 'article_id': 69, 'votes_total': 66, 'arguments_yes_count': 4, 'slug': 'mise-a-disposition-systematique-des-resultats-de-la-recherche-financee-par-des-fonds-publics', 'created_at': '2015-09-26T23:16:53+0200', 'title': 'Création du nouvel article L 533-4 du code de la recherche (Livre V, Titre III, Chapitre 3)', 'votes_mitige': 1, 'link': 'http://www.republique-numerique.fr/projects/projet-de-loi-numerique/consultation/consultation/opinions/section-2-travaux-de-recherche-et-de-statistique/article-9-acces-aux-travaux-de-la-recherche-financee-par-des-fonds-publics/versions/mise-a-disposition-systematique-des-resultats-de-la-recherche-financee-par-des-fonds-publics', 'updated_at': '2015-12-02T22:16:44+0100', 'before': '', 'arguments_no_count': 5, 'id': 181}\n"
     ]
    }
   ],
   "source": [
    "print(versions[1])"
   ]
  },
  {
   "cell_type": "markdown",
   "metadata": {},
   "source": [
    "* ** Combien de versions?**:"
   ]
  },
  {
   "cell_type": "code",
   "execution_count": 12,
   "metadata": {
    "collapsed": false
   },
   "outputs": [
    {
     "name": "stdout",
     "output_type": "stream",
     "text": [
      "109 versions\n"
     ]
    }
   ],
   "source": [
    "print(len(versions),\"versions\")"
   ]
  },
  {
   "cell_type": "markdown",
   "metadata": {},
   "source": [
    "* **Combien de votes et d'arguments par version?**"
   ]
  },
  {
   "cell_type": "code",
   "execution_count": 17,
   "metadata": {
    "collapsed": false
   },
   "outputs": [
    {
     "name": "stdout",
     "output_type": "stream",
     "text": [
      "version_nb\t|votes nb\t|arguments nb\t|auteur|\tdate\n",
      "---------------------------------------------------------------------\n",
      "version_0\t| 3334 \t\t| 132 \t\t| gouvernement \t| 2015-09-26T02:27:57+0200\n",
      "version_1\t| 66 \t\t| 9 \t\t| philippegambette \t| 2015-09-26T23:16:53+0200\n",
      "version_2\t| 0 \t\t| 0 \t\t| melaniedulongderosnay \t| 2015-10-18T21:15:23+0200\n",
      "version_3\t| 3 \t\t| 1 \t\t| alainbensoussan \t| 2015-10-18T21:14:36+0200\n",
      "version_4\t| 1 \t\t| 0 \t\t| melaniedulongderosnay \t| 2015-10-18T20:29:01+0200\n",
      "version_5\t| 1 \t\t| 0 \t\t| lefebvrenarefrederic \t| 2015-10-18T19:23:32+0200\n",
      "version_6\t| 0 \t\t| 0 \t\t| tanataricoalessandra \t| 2015-10-18T19:04:42+0200\n",
      "version_7\t| 0 \t\t| 0 \t\t| watine \t| 2015-10-18T18:35:52+0200\n",
      "version_8\t| 6 \t\t| 0 \t\t| adbsassociationdesprofessionnelsdelinformationetdeladocumentation1 \t| 2015-10-18T14:42:36+0200\n",
      "version_9\t| 0 \t\t| 0 \t\t| sbauin \t| 2015-10-15T10:42:00+0200\n",
      "version_10\t| 2 \t\t| 0 \t\t| nicolaslarchet \t| 2015-10-17T17:45:37+0200\n",
      "version_11\t| 78 \t\t| 2 \t\t| epristassociationdesresponsablesistdesorganismesderecherchefrancais \t| 2015-10-17T14:42:23+0200\n",
      "version_12\t| 3 \t\t| 2 \t\t| jeannevarasco \t| 2015-10-17T12:14:14+0200\n",
      "version_13\t| 7 \t\t| 0 \t\t| julianbh \t| 2015-10-17T12:04:11+0200\n",
      "version_14\t| 17 \t\t| 0 \t\t| durandaline \t| 2015-10-16T19:45:25+0200\n",
      "version_15\t| 4 \t\t| 2 \t\t| dominiquelecomte \t| 2015-10-16T15:07:29+0200\n",
      "version_16\t| 11 \t\t| 2 \t\t| alainlecavelier \t| 2015-10-16T15:05:46+0200\n",
      "version_17\t| 8 \t\t| 1 \t\t| hervemorel \t| 2015-10-16T13:51:30+0200\n",
      "version_18\t| 71 \t\t| 3 \t\t| federationnationaledelapressedinformationspecialisee \t| 2015-10-16T11:43:12+0200\n",
      "version_19\t| 4 \t\t| 1 \t\t| talalmallah \t| 2015-10-16T10:38:24+0200\n",
      "version_20\t| 35 \t\t| 1 \t\t| claudeguthmann \t| 2015-10-16T10:29:09+0200\n",
      "version_21\t| 3 \t\t| 1 \t\t| michelvalensi \t| 2015-10-16T10:16:04+0200\n",
      "version_22\t| 6 \t\t| 0 \t\t| jeanpierrekahane \t| 2015-10-16T10:13:00+0200\n",
      "version_23\t| 7 \t\t| 0 \t\t| amauryvanespen \t| 2015-10-16T09:23:45+0200\n",
      "version_24\t| 96 \t\t| 2 \t\t| snesup \t| 2015-10-16T01:58:01+0200\n",
      "version_25\t| 29 \t\t| 0 \t\t| associationdesarchivistesfrancais \t| 2015-10-15T21:59:23+0200\n",
      "version_26\t| 1 \t\t| 1 \t\t| omarhenrygomeztunque \t| 2015-10-15T19:45:43+0200\n",
      "version_27\t| 15 \t\t| 0 \t\t| brennerjan \t| 2015-10-15T18:30:22+0200\n",
      "version_28\t| 74 \t\t| 3 \t\t| universitepierreetmariecurie \t| 2015-10-14T18:49:29+0200\n",
      "version_29\t| 50 \t\t| 1 \t\t| regardscitoyens \t| 2015-10-15T16:18:34+0200\n",
      "version_30\t| 4 \t\t| 1 \t\t| nicolaslemoine \t| 2015-10-15T15:43:50+0200\n",
      "version_31\t| 10 \t\t| 1 \t\t| abharmach \t| 2015-10-15T11:57:23+0200\n",
      "version_32\t| 402 \t\t| 37 \t\t| cairninfo \t| 2015-10-15T12:57:42+0200\n",
      "version_33\t| 63 \t\t| 2 \t\t| alainberetzpresidentdeluniversitedestrasbourg \t| 2015-10-15T12:28:59+0200\n",
      "version_34\t| 1 \t\t| 0 \t\t| fredericrotella \t| 2015-10-15T09:34:53+0200\n",
      "version_35\t| 22 \t\t| 0 \t\t| jamessebastien \t| 2015-10-15T08:09:34+0200\n",
      "version_36\t| 72 \t\t| 0 \t\t| iabd \t| 2015-10-14T22:51:30+0200\n",
      "version_37\t| 58 \t\t| 3 \t\t| christinedemazieres \t| 2015-10-14T12:08:53+0200\n",
      "version_38\t| 21 \t\t| 0 \t\t| jubeau \t| 2015-10-14T11:56:46+0200\n",
      "version_39\t| 17 \t\t| 0 \t\t| eniramaal \t| 2015-10-14T11:16:36+0200\n",
      "version_40\t| 167 \t\t| 4 \t\t| gfii \t| 2015-10-13T22:53:08+0200\n",
      "version_41\t| 2 \t\t| 0 \t\t| whynot \t| 2015-10-13T22:32:29+0200\n",
      "version_42\t| 180 \t\t| 2 \t\t| inradistodilehologne \t| 2015-10-13T21:44:46+0200\n",
      "version_43\t| 7 \t\t| 1 \t\t| thiebautdevergranne \t| 2015-10-12T19:56:40+0200\n",
      "version_44\t| 7 \t\t| 0 \t\t| dominiqueillien \t| 2015-10-12T16:46:41+0200\n",
      "version_45\t| 517 \t\t| 6 \t\t| inria \t| 2015-10-12T16:16:16+0200\n",
      "version_46\t| 7 \t\t| 0 \t\t| teddythebest \t| 2015-10-12T13:49:59+0200\n",
      "version_47\t| 218 \t\t| 5 \t\t| syndicatnationaldeledition \t| 2015-10-12T12:13:25+0200\n",
      "version_48\t| 67 \t\t| 1 \t\t| francoisgeze \t| 2015-10-11T22:14:51+0200\n",
      "version_49\t| 2 \t\t| 0 \t\t| aymericpoulainmaubant \t| 2015-10-11T15:33:35+0200\n",
      "version_50\t| 11 \t\t| 1 \t\t| lemarierieusset \t| 2015-10-11T14:45:53+0200\n",
      "version_51\t| 14 \t\t| 4 \t\t| thierrypairault \t| 2015-10-10T19:52:33+0200\n",
      "version_52\t| 12 \t\t| 3 \t\t| sylvainribault \t| 2015-10-10T15:06:01+0200\n",
      "version_53\t| 8 \t\t| 0 \t\t| gobinemma \t| 2015-10-09T16:17:53+0200\n",
      "version_54\t| 274 \t\t| 8 \t\t| membresbsn4etbsn7 \t| 2015-10-09T12:22:12+0200\n",
      "version_55\t| 14 \t\t| 1 \t\t| marclipinski1 \t| 2015-10-09T11:16:44+0200\n",
      "version_56\t| 15 \t\t| 2 \t\t| kante \t| 2015-10-09T10:25:04+0200\n",
      "version_57\t| 2 \t\t| 1 \t\t| cecilemichel \t| 2015-10-09T10:01:39+0200\n",
      "version_58\t| 14 \t\t| 2 \t\t| remicaillot \t| 2015-10-09T06:41:56+0200\n",
      "version_59\t| 13 \t\t| 0 \t\t| jeanfrancoisnomine \t| 2015-10-08T21:55:23+0200\n",
      "version_60\t| 1511 \t\t| 30 \t\t| robertodicosmo \t| 2015-10-08T14:19:25+0200\n",
      "version_61\t| 170 \t\t| 5 \t\t| inptoulouseinstitutnationalpolytechniquedetoulouse \t| 2015-10-08T10:09:35+0200\n",
      "version_62\t| 21 \t\t| 0 \t\t| christianingrao \t| 2015-10-07T11:34:12+0200\n",
      "version_63\t| 211 \t\t| 1 \t\t| savoircom1 \t| 2015-10-07T09:31:51+0200\n",
      "version_64\t| 28 \t\t| 5 \t\t| jeromevalluy \t| 2015-10-06T21:06:55+0200\n",
      "version_65\t| 35 \t\t| 1 \t\t| gaellekrikorian \t| 2015-10-06T16:43:33+0200\n",
      "version_66\t| 32 \t\t| 0 \t\t| jjohnsoundarjerome \t| 2015-10-06T14:11:03+0200\n",
      "version_67\t| 32 \t\t| 1 \t\t| blaisegenest \t| 2015-10-05T15:25:56+0200\n",
      "version_68\t| 780 \t\t| 15 \t\t| consortiumcouperin \t| 2015-10-02T16:54:48+0200\n",
      "version_69\t| 3 \t\t| 1 \t\t| elliotmaccarinelli \t| 2015-10-05T14:06:31+0200\n",
      "version_70\t| 28 \t\t| 1 \t\t| martinelegrisrevel \t| 2015-10-05T11:40:19+0200\n",
      "version_71\t| 49 \t\t| 1 \t\t| dansperber \t| 2015-10-04T23:05:37+0200\n",
      "version_72\t| 4 \t\t| 1 \t\t| bernard \t| 2015-10-04T17:33:12+0200\n",
      "version_73\t| 28 \t\t| 2 \t\t| lionelbarbe \t| 2015-10-03T19:29:29+0200\n",
      "version_74\t| 45 \t\t| 6 \t\t| oliviermorin1 \t| 2015-10-03T17:01:33+0200\n",
      "version_75\t| 287 \t\t| 2 \t\t| consortiumcouperin \t| 2015-10-02T17:03:10+0200\n",
      "version_76\t| 362 \t\t| 4 \t\t| consortiumcouperin \t| 2015-10-02T16:59:44+0200\n",
      "version_77\t| 18 \t\t| 0 \t\t| benigni \t| 2015-10-02T16:04:11+0200\n",
      "version_78\t| 21 \t\t| 0 \t\t| samsond \t| 2015-10-01T19:06:31+0200\n",
      "version_79\t| 26 \t\t| 1 \t\t| emmanuellesigne \t| 2015-10-01T11:13:36+0200\n",
      "version_80\t| 24 \t\t| 0 \t\t| sylviegrandeuryburon \t| 2015-10-01T10:38:35+0200\n",
      "version_81\t| 27 \t\t| 0 \t\t| saintaubin \t| 2015-09-30T23:15:23+0200\n",
      "version_82\t| 19 \t\t| 0 \t\t| samsond \t| 2015-09-30T20:57:54+0200\n",
      "version_83\t| 27 \t\t| 6 \t\t| cbernault \t| 2015-09-28T10:30:59+0200\n",
      "version_84\t| 116 \t\t| 5 \t\t| dehee \t| 2015-09-30T14:47:21+0200\n",
      "version_85\t| 1749 \t\t| 59 \t\t| cnrsdistrenaudfabre \t| 2015-09-30T10:39:08+0200\n",
      "version_86\t| 131 \t\t| 5 \t\t| fontaine \t| 2015-09-30T10:19:46+0200\n",
      "version_87\t| 44 \t\t| 1 \t\t| merlet \t| 2015-09-29T18:29:17+0200\n",
      "version_88\t| 24 \t\t| 1 \t\t| olivierjacquot \t| 2015-09-29T15:45:20+0200\n",
      "version_89\t| 7 \t\t| 0 \t\t| pierrefrancoisjan \t| 2015-09-29T14:06:41+0200\n",
      "version_90\t| 22 \t\t| 1 \t\t| pierrefrancoisjan \t| 2015-09-29T14:04:58+0200\n",
      "version_91\t| 5 \t\t| 3 \t\t| serayamaouche \t| 2015-09-29T13:40:28+0200\n",
      "version_92\t| 25 \t\t| 4 \t\t| huguesvanbesien \t| 2015-09-29T08:16:42+0200\n",
      "version_93\t| 40 \t\t| 2 \t\t| michelraymond \t| 2015-09-28T18:09:45+0200\n",
      "version_94\t| 6 \t\t| 0 \t\t| jeremylucas \t| 2015-09-28T17:14:25+0200\n",
      "version_95\t| 22 \t\t| 1 \t\t| ericfabre \t| 2015-09-28T15:25:01+0200\n",
      "version_96\t| 200 \t\t| 12 \t\t| christineollendorff \t| 2015-09-28T11:21:10+0200\n",
      "version_97\t| 4 \t\t| 1 \t\t| cbernault \t| 2015-09-28T11:09:23+0200\n",
      "version_98\t| 77 \t\t| 3 \t\t| hipparkhos \t| 2015-09-28T11:02:16+0200\n",
      "version_99\t| 4 \t\t| 1 \t\t| cbernault \t| 2015-09-28T10:29:48+0200\n",
      "version_100\t| 87 \t\t| 7 \t\t| danielbourrion \t| 2015-09-27T12:04:30+0200\n",
      "version_101\t| 41 \t\t| 13 \t\t| laurentliegeois \t| 2015-09-27T08:34:33+0200\n",
      "version_102\t| 33 \t\t| 0 \t\t| oliviermauco \t| 2015-09-26T21:17:13+0200\n",
      "version_103\t| 123 \t\t| 5 \t\t| benoitrkloeckner \t| 2015-09-26T16:15:43+0200\n",
      "version_104\t| 31 \t\t| 4 \t\t| solarus \t| 2015-09-26T15:03:11+0200\n",
      "version_105\t| 4 \t\t| 2 \t\t| hayekvalerie \t| 2015-09-26T14:11:03+0200\n",
      "version_106\t| 22 \t\t| 2 \t\t| annelaureroux \t| 2015-09-26T13:04:01+0200\n",
      "version_107\t| 24 \t\t| 4 \t\t| jeanbaptistesoufron \t| 2015-09-26T11:43:24+0200\n",
      "version_108\t| 69 \t\t| 13 \t\t| cellular1988 \t| 2015-09-26T11:49:47+0200\n"
     ]
    }
   ],
   "source": [
    "print (\"version_nb\\t|votes nb\\t|arguments nb\\t|auteur|\\tdate\")\n",
    "print(\"---------------------------------------------------------------------\")\n",
    "for i,v in enumerate(versions):\n",
    "    print (\"version_\"+str(i)+\"\\t|\", v[\"votes_total\"], \"\\t\\t|\", v[\"arguments_count\"], \"\\t\\t|\", v[\"author\"], \"\\t|\", v[\"created_at\"])"
   ]
  },
  {
   "cell_type": "markdown",
   "metadata": {},
   "source": [
    "Ecrivons ces données dans un fichier pour plus tard (on ne sait jamais)\n",
    "ici une version minimale:"
   ]
  },
  {
   "cell_type": "code",
   "execution_count": 14,
   "metadata": {
    "collapsed": false
   },
   "outputs": [],
   "source": [
    "\n",
    "with open(\"liste_des_versions.csv\", \"w\") as f:\n",
    "    f.write(\"version_nb\\tvotes nb\\targuments nb\\tauteur\\n\")\n",
    "    for i,v in enumerate(versions):\n",
    "        f.write(\"version_\"+str(i)+\"\\t\"+str(v[\"votes_total\"])+\"\\t\"+str(v[\"arguments_count\"])+\"\\t\"+v[\"author\"]+\"\\n\")\n",
    "#NB: vu qu'on manipule des listes on pourrait l'écrire grace à la fonction join() qui va avec les listes\n",
    "#Si on voulait faire de la visualisation le Notebook \n",
    "#Cartographie%20des%20comportements%20des%20electeurs.ipynb\n"
   ]
  },
  {
   "cell_type": "markdown",
   "metadata": {},
   "source": [
    "#### Les commentaires des versions\n",
    "L'objectif ici est de faire un état des lieux des mots employés pour justifier les modifications apportés à la version originale \n",
    "dans une version complémentaire:\n",
    "\n",
    "Dans un premier temps, il s'agit de vérifier l'état des modifications (les modifications appportés par chacune des versions par rapport au texte de loi original):\n",
    "* Y-a-t-il eu beaucoup de modification du texte original? \n",
    "* Combien de mots ajoutés retirés par rapport de la version originale ?\n",
    "* Combien de mots au total de la version initiale à la version finale?\n",
    "**PROBLEMATIQUE:** les données ne sont pas révélatrices de la réalité\n",
    "\n",
    "Dans un deuxième temps, il s'agira de plonger dans le détail des *commentaires justificatifs* \n",
    "et regarder les mots communs et différents à chaque versions\n",
    "* Combien de mots en commun de version a version0\n",
    "* Combien de mots différents de version a version0\n",
    "* Quels sont les mots les plus utilisés?\n",
    "\n",
    "\n",
    "Dans un troisième temps, il faudra plonger dans le détail des auteurs\n",
    "en effet un auteur a parfois fait plusieurs modifications.\n",
    "* Combien d'auteur unique?\n",
    "* Combien de versions par auteurs?\n",
    "* Chaque auteur a-t-il un vocabulaire particulier? \n",
    "* Analyser la proximité/distance lexicale des auteurs entre eux (mots communs/mots différents)\n",
    "\n",
    "\n",
    "Dans un quatrième temps, il faudra rappatrier tous les electeurs qui ont voté pour la modification de versions\n",
    "* Quels sont les auteur les plus populaires en nombre de votes absolus?\n",
    "* Quels sont les auteurs les plus proches (en regardant les electeurs qui ont voté pour la même personne)\n",
    "\n"
   ]
  },
  {
   "cell_type": "markdown",
   "metadata": {
    "collapsed": true
   },
   "source": [
    "### Etat des modifications de l'article par amendements (versions)\n",
    "\n",
    "Nous allons donc dans un premier temps vérifier les modifications du texte original.\n",
    "Nous avons besoin d'une fonction qui transforme un texte en une liste de mots à travers une opération qu'on appelle **chunking**\n",
    "i.e découper le texte en petit bout. Ici on va découper les mots simplement en utilisant le caractère distinctif de l'espace ou de la ponctuation.\n",
    "Un mot est donc ici défini comme une suite de lettres ou de chiffres séparés par un espace, ou un point de ponctuation.\n",
    "Créons notre fonction **get_words** \n",
    "qui nous servira à multiples reprises: elle prend en entrée un texte (n'importe lequel l'avantage de créer une fonction) et renvoie une liste de mots\n"
   ]
  },
  {
   "cell_type": "code",
   "execution_count": 29,
   "metadata": {
    "collapsed": true
   },
   "outputs": [],
   "source": [
    "def get_words(text):\n",
    "    #on se sert du module regex trèèèèèès puissant\n",
    "    #avec une notation propre W\n",
    "    #tout ce qui est un espace et tout ce qui n'est pas une lettre\n",
    "    words = re.split('\\W', text)\n",
    "    #print(words)\n",
    "    return words\n",
    "    "
   ]
  },
  {
   "cell_type": "code",
   "execution_count": 16,
   "metadata": {
    "collapsed": false
   },
   "outputs": [
    {
     "data": {
      "text/plain": [
       "['La', 'vie', 'n', 'est', 'pas', 'un', 'long', 'fleuve', 'tranquille']"
      ]
     },
     "execution_count": 16,
     "metadata": {},
     "output_type": "execute_result"
    }
   ],
   "source": [
    "#test\n",
    "get_words(\"La vie n'est pas un long fleuve tranquille\")"
   ]
  },
  {
   "cell_type": "markdown",
   "metadata": {},
   "source": [
    "* **Transformons la version 0 et la version 109 en liste de mots**\n",
    "\n",
    "Le texte dans sa version transformé est stocké dans ```'after'```"
   ]
  },
  {
   "cell_type": "code",
   "execution_count": 47,
   "metadata": {
    "collapsed": false
   },
   "outputs": [
    {
     "name": "stdout",
     "output_type": "stream",
     "text": [
      "['Au', 'chapitre', '3', 'du', 'titre', '3', 'du', 'livre', 'V', 'du', 'code', 'de', 'la', 'recherche', '', 'il', 'est', 'inséré', 'un', 'article', 'L', '', '533', '4', 'ainsi', 'rédigé', '', '', 'Art', '', 'L', '', '533', '4', '', 'I', '', 'Lorsque', 'un', 'écrit', 'scientifique', '', 'issu', 'd', 'une', 'activité', 'de', 'recherche', 'financée', 'au', 'moins', 'pour', 'moitié', 'par', 'des', 'fonds', 'publics', '', 'est', 'publié', 'dans', 'un', 'périodique', '', 'un', 'ouvrage', 'paraissant', 'au', 'moins', 'une', 'fois', 'par', 'an', '', 'des', 'actes', 'de', 'congrès', 'ou', 'de', 'colloques', 'ou', 'des', 'recueils', 'de', 'mélanges', '', 'son', 'auteur', '', 'même', 'en', 'cas', 'de', 'cession', 'exclusive', 'à', 'un', 'éditeur', '', 'dispose', 'du', 'droit', 'de', 'mettre', 'à', 'disposition', 'gratuitement', 'sous', 'une', 'forme', 'numérique', '', 'sous', 'réserve', 'des', 'droits', 'des', 'éventuels', 'coauteurs', '', 'la', 'dernière', 'version', 'acceptée', 'de', 'son', 'manuscrit', 'par', 'son', 'éditeur', 'et', 'à', 'l', 'exclusion', 'du', 'travail', 'de', 'mise', 'en', 'forme', 'qui', 'incombe', 'à', 'ce', 'dernier', '', 'au', 'terme', 'd', 'un', 'délai', 'de', 'douze', 'mois', 'pour', 'les', 'sciences', '', 'la', 'technique', 'et', 'la', 'médecine', 'et', 'de', 'vingt', 'quatre', 'mois', 'pour', 'les', 'sciences', 'humaines', 'et', 'sociales', '', 'à', 'compter', 'de', 'date', 'de', 'la', 'première', 'publication', '', 'Cette', 'mise', 'à', 'disposition', 'ne', 'peut', 'donner', 'lieu', 'à', 'aucune', 'exploitation', 'commerciale', '', '', 'II', '', '', '', 'Les', 'dispositions', 'du', 'présent', 'article', 'sont', 'd', 'ordre', 'public', 'et', 'toute', 'clause', 'contraire', 'à', 'celles', 'ci', 'est', 'réputée', 'non', 'écrite', '', 'Elles', 'ne', 's', 'appliquent', 'pas', 'aux', 'contrats', 'en', 'cours', '', '', '']\n",
      "['']\n",
      "['']\n"
     ]
    }
   ],
   "source": [
    "#print (versions[0][\"after\"])\n",
    "#la premiere\n",
    "motsv0 = get_words(versions[0][\"after\"])\n",
    "print(motsv0)\n",
    "#la derniere\n",
    "motsv108 = get_words(versions[-1][\"after\"])\n",
    "print(motsv109)\n",
    "motsv109 = get_words(versions[-1][\"before\"])\n"
   ]
  },
  {
   "cell_type": "markdown",
   "metadata": {},
   "source": [
    "On remarque ici qu'il y a des élements vides dans la liste. \n",
    "On va donc affiner notre fonction préalable en filtrant les élements vides:"
   ]
  },
  {
   "cell_type": "code",
   "execution_count": 18,
   "metadata": {
    "collapsed": true
   },
   "outputs": [],
   "source": [
    "def get_words(text):\n",
    "    #on se sert du module regex trèèèèèès puissant\n",
    "    #avec une notation propre W\n",
    "    #tout ce qui est un espace et tout ce qui n'est pas une lettre\n",
    "    words = re.split('\\W', text)\n",
    "    #print(words)\n",
    "    return [w for w in words if w != \"\"]"
   ]
  },
  {
   "cell_type": "code",
   "execution_count": 39,
   "metadata": {
    "collapsed": false
   },
   "outputs": [
    {
     "name": "stdout",
     "output_type": "stream",
     "text": [
      "['Au', 'chapitre', '3', 'du', 'titre', '3', 'du', 'livre', 'V', 'du', 'code', 'de', 'la', 'recherche', '', 'il', 'est', 'inséré', 'un', 'article', 'L', '', '533', '4', 'ainsi', 'rédigé', '', '', 'Art', '', 'L', '', '533', '4', '', 'I', '', 'Lorsque', 'un', 'écrit', 'scientifique', '', 'issu', 'd', 'une', 'activité', 'de', 'recherche', 'financée', 'au', 'moins', 'pour', 'moitié', 'par', 'des', 'fonds', 'publics', '', 'est', 'publié', 'dans', 'un', 'périodique', '', 'un', 'ouvrage', 'paraissant', 'au', 'moins', 'une', 'fois', 'par', 'an', '', 'des', 'actes', 'de', 'congrès', 'ou', 'de', 'colloques', 'ou', 'des', 'recueils', 'de', 'mélanges', '', 'son', 'auteur', '', 'même', 'en', 'cas', 'de', 'cession', 'exclusive', 'à', 'un', 'éditeur', '', 'dispose', 'du', 'droit', 'de', 'mettre', 'à', 'disposition', 'gratuitement', 'sous', 'une', 'forme', 'numérique', '', 'sous', 'réserve', 'des', 'droits', 'des', 'éventuels', 'coauteurs', '', 'la', 'dernière', 'version', 'acceptée', 'de', 'son', 'manuscrit', 'par', 'son', 'éditeur', 'et', 'à', 'l', 'exclusion', 'du', 'travail', 'de', 'mise', 'en', 'forme', 'qui', 'incombe', 'à', 'ce', 'dernier', '', 'au', 'terme', 'd', 'un', 'délai', 'de', 'douze', 'mois', 'pour', 'les', 'sciences', '', 'la', 'technique', 'et', 'la', 'médecine', 'et', 'de', 'vingt', 'quatre', 'mois', 'pour', 'les', 'sciences', 'humaines', 'et', 'sociales', '', 'à', 'compter', 'de', 'date', 'de', 'la', 'première', 'publication', '', 'Cette', 'mise', 'à', 'disposition', 'ne', 'peut', 'donner', 'lieu', 'à', 'aucune', 'exploitation', 'commerciale', '', '', 'II', '', '', '', 'Les', 'dispositions', 'du', 'présent', 'article', 'sont', 'd', 'ordre', 'public', 'et', 'toute', 'clause', 'contraire', 'à', 'celles', 'ci', 'est', 'réputée', 'non', 'écrite', '', 'Elles', 'ne', 's', 'appliquent', 'pas', 'aux', 'contrats', 'en', 'cours', '', '', '']\n",
      "['I', '', 'Lorsque', 'un', 'écrit', 'scientifique', '', 'issu', 'd', 'une', 'activité', 'de', 'recherche', 'financée', 'au', 'moins', 'pour', 'moitié', 'par', 'des', 'fonds', 'publics', 'est', 'publié', 'dans', 'un', 'périodique', '', 'un', 'ouvrage', 'paraissant', 'au', 'moins', 'une', 'fois', 'par', 'an', '', 'des', 'actes', 'de', 'congrès', 'ou', 'de', 'colloques', 'ou', 'des', 'recueils', 'de', 'mélanges', 'son', 'auteur', '', 'même', 'en', 'cas', 'de', 'cession', 'exclusive', 'à', 'un', 'éditeur', '', 'dispose', 'dudroit', 'de', 'mettre', 'à', 'disposition', 'gratuitement', 'sous', 'une', 'forme', 'numérique', '', 'sous', 'réserve', 'des', 'droits', 'des', 'éventuels', 'co', 'auteurs', '', 'la', 'dernière', 'version', 'acceptée', 'de', 'son', 'manuscrit', 'par', 'son', 'éditeur', 'et', 'à', 'l', 'exclusion', 'du', 'travail', 'de', 'mise', 'en', 'forme', 'qui', 'incombe', 'à', 'ce', 'dernier', '', 'au', 'terme', 'd', 'un', 'délai', 'de', 'douze', 'mois', 'pour', 'les', 'sciences', '', 'la', 'technique', 'et', 'la', 'médecine', 'et', 'de', 'vingt', 'quatre', 'mois', 'pour', 'les', 'sciences', 'humaines', 'et', 'sociales', '', 'à', 'compter', 'de', 'date', 'de', 'la', 'première', 'publication', '', 'Cette', 'mise', 'à', 'disposition', 'ne', 'peut', 'donner', 'lieu', 'à', 'aucune', 'exploitation', 'commerciale', '', '', 'II', '', '', '', 'Les', 'dispositions', 'du', 'présent', 'article', 'sont', 'd', 'ordre', 'public', 'et', 'toute', 'clause', 'contraire', 'à', 'celles', 'ci', 'est', 'réputée', 'non', 'écrite', '', 'Elles', 'ne', 's', 'appliquent', 'pas', 'aux', 'contrats', 'en', 'cours', '', '', '']\n"
     ]
    }
   ],
   "source": [
    "motsv0 = get_words(versions[0][\"after\"])\n",
    "print(motsv0)\n",
    "#la derniere on commence à 0 donc c'est la version 1O8 ;)\n",
    "motsv108 = get_words(versions[-1][\"after\"])\n",
    "print(motsv108)"
   ]
  },
  {
   "cell_type": "code",
   "execution_count": null,
   "metadata": {
    "collapsed": true
   },
   "outputs": [],
   "source": []
  },
  {
   "cell_type": "markdown",
   "metadata": {},
   "source": [
    "* **Combien de mots?**"
   ]
  },
  {
   "cell_type": "code",
   "execution_count": 40,
   "metadata": {
    "collapsed": false
   },
   "outputs": [
    {
     "name": "stdout",
     "output_type": "stream",
     "text": [
      "La version 0 compte 236 mots\n",
      "La version 109 compte 199 mots\n",
      "-37\n"
     ]
    }
   ],
   "source": [
    "print(\"La version 0 compte\", len(motsv0), \"mots\")\n",
    "print(\"La version 109 compte\", len(motsv108), \"mots\")\n",
    "print(len(motsv109) - len(motsv0))\n"
   ]
  },
  {
   "cell_type": "markdown",
   "metadata": {},
   "source": [
    "Il y a donc des mots qui ont été enlevés plus qu'ajoutés entre les deux versions:\n",
    "quels sont_il?"
   ]
  },
  {
   "cell_type": "code",
   "execution_count": 41,
   "metadata": {
    "collapsed": false
   },
   "outputs": [
    {
     "name": "stdout",
     "output_type": "stream",
     "text": [
      "['co', 'dudroit', 'auteurs']\n",
      "['titre', 'V', 'il', 'Au', 'coauteurs', 'dudroit', 'livre', 'Art', '533', 'code', 'L', 'rédigé', 'chapitre', 'inséré', '3', '4', 'auteurs', 'co', 'ainsi', 'droit']\n"
     ]
    }
   ],
   "source": [
    "diff = set(motsv108) - set(motsv0)\n",
    "symetric_diff = set(motsv0) ^ set(motsv108)\n",
    "print(list(diff))\n",
    "print(list(symetric_diff))\n"
   ]
  },
  {
   "cell_type": "markdown",
   "metadata": {},
   "source": [
    "On remarque ici que les seuls mots retirés de la version sont des mots liés au contexte dans lequel s'ajoute la loi.\n",
    "On vérifie cette assertion en regarder la variation des mots non pas version par version mais en comparant chaque version avec la version originale. "
   ]
  },
  {
   "cell_type": "code",
   "execution_count": 44,
   "metadata": {
    "collapsed": false,
    "scrolled": true
   },
   "outputs": [
    {
     "name": "stdout",
     "output_type": "stream",
     "text": [
      "version 0 a ajouté [] et retiré []\n",
      "version 1 a ajouté ['co', 'dudroit', 'auteurs'] et retiré ['titre', 'Au', 'code', 'livre', 'L', 'inséré', 'coauteurs', 'Art', '3', 'ainsi', '4', '533', 'droit', 'V', 'il', 'rédigé', 'chapitre']\n",
      "version 2 a ajouté ['co', 'dudroit', 'auteurs'] et retiré ['titre', 'Au', 'code', 'livre', 'L', 'inséré', 'coauteurs', 'Art', '3', 'ainsi', '4', '533', 'droit', 'V', 'il', 'rédigé', 'chapitre']\n",
      "version 3 a ajouté ['co', 'dudroit', 'auteurs'] et retiré ['titre', 'Au', 'code', 'livre', 'L', 'inséré', 'coauteurs', 'Art', '3', 'ainsi', '4', '533', 'droit', 'V', 'il', 'rédigé', 'chapitre']\n",
      "version 4 a ajouté ['co', 'dudroit', 'auteurs'] et retiré ['titre', 'Au', 'code', 'livre', 'L', 'inséré', 'coauteurs', 'Art', '3', 'ainsi', '4', '533', 'droit', 'V', 'il', 'rédigé', 'chapitre']\n",
      "version 5 a ajouté ['co', 'dudroit', 'auteurs'] et retiré ['titre', 'Au', 'code', 'livre', 'L', 'inséré', 'coauteurs', 'Art', '3', 'ainsi', '4', '533', 'droit', 'V', 'il', 'rédigé', 'chapitre']\n",
      "version 6 a ajouté ['co', 'dudroit', 'auteurs'] et retiré ['titre', 'Au', 'code', 'livre', 'L', 'inséré', 'coauteurs', 'Art', '3', 'ainsi', '4', '533', 'droit', 'V', 'il', 'rédigé', 'chapitre']\n",
      "version 7 a ajouté ['co', 'dudroit', 'auteurs'] et retiré ['titre', 'Au', 'code', 'livre', 'L', 'inséré', 'coauteurs', 'Art', '3', 'ainsi', '4', '533', 'droit', 'V', 'il', 'rédigé', 'chapitre']\n",
      "version 8 a ajouté ['co', 'dudroit', 'auteurs'] et retiré ['titre', 'Au', 'code', 'livre', 'L', 'inséré', 'coauteurs', 'Art', '3', 'ainsi', '4', '533', 'droit', 'V', 'il', 'rédigé', 'chapitre']\n",
      "version 9 a ajouté ['co', 'dudroit', 'auteurs'] et retiré ['titre', 'Au', 'code', 'livre', 'L', 'inséré', 'coauteurs', 'Art', '3', 'ainsi', '4', '533', 'droit', 'V', 'il', 'rédigé', 'chapitre']\n",
      "version 10 a ajouté ['co', 'dudroit', 'auteurs'] et retiré ['titre', 'Au', 'code', 'livre', 'L', 'inséré', 'coauteurs', 'Art', '3', 'ainsi', '4', '533', 'droit', 'V', 'il', 'rédigé', 'chapitre']\n",
      "version 11 a ajouté ['co', 'dudroit', 'auteurs'] et retiré ['titre', 'Au', 'code', 'livre', 'L', 'inséré', 'coauteurs', 'Art', '3', 'ainsi', '4', '533', 'droit', 'V', 'il', 'rédigé', 'chapitre']\n",
      "version 12 a ajouté ['co', 'dudroit', 'auteurs'] et retiré ['titre', 'Au', 'code', 'livre', 'L', 'inséré', 'coauteurs', 'Art', '3', 'ainsi', '4', '533', 'droit', 'V', 'il', 'rédigé', 'chapitre']\n",
      "version 13 a ajouté ['co', 'dudroit', 'auteurs'] et retiré ['titre', 'Au', 'code', 'livre', 'L', 'inséré', 'coauteurs', 'Art', '3', 'ainsi', '4', '533', 'droit', 'V', 'il', 'rédigé', 'chapitre']\n",
      "version 14 a ajouté ['co', 'dudroit', 'auteurs'] et retiré ['titre', 'Au', 'code', 'livre', 'L', 'inséré', 'coauteurs', 'Art', '3', 'ainsi', '4', '533', 'droit', 'V', 'il', 'rédigé', 'chapitre']\n",
      "version 15 a ajouté ['co', 'dudroit', 'auteurs'] et retiré ['titre', 'Au', 'code', 'livre', 'L', 'inséré', 'coauteurs', 'Art', '3', 'ainsi', '4', '533', 'droit', 'V', 'il', 'rédigé', 'chapitre']\n",
      "version 16 a ajouté ['co', 'dudroit', 'auteurs'] et retiré ['titre', 'Au', 'code', 'livre', 'L', 'inséré', 'coauteurs', 'Art', '3', 'ainsi', '4', '533', 'droit', 'V', 'il', 'rédigé', 'chapitre']\n",
      "version 17 a ajouté ['co', 'dudroit', 'auteurs'] et retiré ['titre', 'Au', 'code', 'livre', 'L', 'inséré', 'coauteurs', 'Art', '3', 'ainsi', '4', '533', 'droit', 'V', 'il', 'rédigé', 'chapitre']\n",
      "version 18 a ajouté ['co', 'dudroit', 'auteurs'] et retiré ['titre', 'Au', 'code', 'livre', 'L', 'inséré', 'coauteurs', 'Art', '3', 'ainsi', '4', '533', 'droit', 'V', 'il', 'rédigé', 'chapitre']\n",
      "version 19 a ajouté ['co', 'dudroit', 'auteurs'] et retiré ['titre', 'Au', 'code', 'livre', 'L', 'inséré', 'coauteurs', 'Art', '3', 'ainsi', '4', '533', 'droit', 'V', 'il', 'rédigé', 'chapitre']\n",
      "version 20 a ajouté ['co', 'dudroit', 'auteurs'] et retiré ['titre', 'Au', 'code', 'livre', 'L', 'inséré', 'coauteurs', 'Art', '3', 'ainsi', '4', '533', 'droit', 'V', 'il', 'rédigé', 'chapitre']\n",
      "version 21 a ajouté ['co', 'dudroit', 'auteurs'] et retiré ['titre', 'Au', 'code', 'livre', 'L', 'inséré', 'coauteurs', 'Art', '3', 'ainsi', '4', '533', 'droit', 'V', 'il', 'rédigé', 'chapitre']\n",
      "version 22 a ajouté ['co', 'dudroit', 'auteurs'] et retiré ['titre', 'Au', 'code', 'livre', 'L', 'inséré', 'coauteurs', 'Art', '3', 'ainsi', '4', '533', 'droit', 'V', 'il', 'rédigé', 'chapitre']\n",
      "version 23 a ajouté ['co', 'dudroit', 'auteurs'] et retiré ['titre', 'Au', 'code', 'livre', 'L', 'inséré', 'coauteurs', 'Art', '3', 'ainsi', '4', '533', 'droit', 'V', 'il', 'rédigé', 'chapitre']\n",
      "version 24 a ajouté ['co', 'dudroit', 'auteurs'] et retiré ['titre', 'Au', 'code', 'livre', 'L', 'inséré', 'coauteurs', 'Art', '3', 'ainsi', '4', '533', 'droit', 'V', 'il', 'rédigé', 'chapitre']\n",
      "version 25 a ajouté ['co', 'dudroit', 'auteurs'] et retiré ['titre', 'Au', 'code', 'livre', 'L', 'inséré', 'coauteurs', 'Art', '3', 'ainsi', '4', '533', 'droit', 'V', 'il', 'rédigé', 'chapitre']\n",
      "version 26 a ajouté ['co', 'dudroit', 'auteurs'] et retiré ['titre', 'Au', 'code', 'livre', 'L', 'inséré', 'coauteurs', 'Art', '3', 'ainsi', '4', '533', 'droit', 'V', 'il', 'rédigé', 'chapitre']\n",
      "version 27 a ajouté ['co', 'dudroit', 'auteurs'] et retiré ['titre', 'Au', 'code', 'livre', 'L', 'inséré', 'coauteurs', 'Art', '3', 'ainsi', '4', '533', 'droit', 'V', 'il', 'rédigé', 'chapitre']\n",
      "version 28 a ajouté ['co', 'dudroit', 'auteurs'] et retiré ['titre', 'Au', 'code', 'livre', 'L', 'inséré', 'coauteurs', 'Art', '3', 'ainsi', '4', '533', 'droit', 'V', 'il', 'rédigé', 'chapitre']\n",
      "version 29 a ajouté ['co', 'dudroit', 'auteurs'] et retiré ['titre', 'Au', 'code', 'livre', 'L', 'inséré', 'coauteurs', 'Art', '3', 'ainsi', '4', '533', 'droit', 'V', 'il', 'rédigé', 'chapitre']\n",
      "version 30 a ajouté ['co', 'dudroit', 'auteurs'] et retiré ['titre', 'Au', 'code', 'livre', 'L', 'inséré', 'coauteurs', 'Art', '3', 'ainsi', '4', '533', 'droit', 'V', 'il', 'rédigé', 'chapitre']\n",
      "version 31 a ajouté ['co', 'dudroit', 'auteurs'] et retiré ['titre', 'Au', 'code', 'livre', 'L', 'inséré', 'coauteurs', 'Art', '3', 'ainsi', '4', '533', 'droit', 'V', 'il', 'rédigé', 'chapitre']\n",
      "version 32 a ajouté ['co', 'dudroit', 'auteurs'] et retiré ['titre', 'Au', 'code', 'livre', 'L', 'inséré', 'coauteurs', 'Art', '3', 'ainsi', '4', '533', 'droit', 'V', 'il', 'rédigé', 'chapitre']\n",
      "version 33 a ajouté ['co', 'dudroit', 'auteurs'] et retiré ['titre', 'Au', 'code', 'livre', 'L', 'inséré', 'coauteurs', 'Art', '3', 'ainsi', '4', '533', 'droit', 'V', 'il', 'rédigé', 'chapitre']\n",
      "version 34 a ajouté ['co', 'dudroit', 'auteurs'] et retiré ['titre', 'Au', 'code', 'livre', 'L', 'inséré', 'coauteurs', 'Art', '3', 'ainsi', '4', '533', 'droit', 'V', 'il', 'rédigé', 'chapitre']\n",
      "version 35 a ajouté ['co', 'dudroit', 'auteurs'] et retiré ['titre', 'Au', 'code', 'livre', 'L', 'inséré', 'coauteurs', 'Art', '3', 'ainsi', '4', '533', 'droit', 'V', 'il', 'rédigé', 'chapitre']\n",
      "version 36 a ajouté ['co', 'dudroit', 'auteurs'] et retiré ['titre', 'Au', 'code', 'livre', 'L', 'inséré', 'coauteurs', 'Art', '3', 'ainsi', '4', '533', 'droit', 'V', 'il', 'rédigé', 'chapitre']\n",
      "version 37 a ajouté ['co', 'dudroit', 'auteurs'] et retiré ['titre', 'Au', 'code', 'livre', 'L', 'inséré', 'coauteurs', 'Art', '3', 'ainsi', '4', '533', 'droit', 'V', 'il', 'rédigé', 'chapitre']\n",
      "version 38 a ajouté ['co', 'dudroit', 'auteurs'] et retiré ['titre', 'Au', 'code', 'livre', 'L', 'inséré', 'coauteurs', 'Art', '3', 'ainsi', '4', '533', 'droit', 'V', 'il', 'rédigé', 'chapitre']\n",
      "version 39 a ajouté ['co', 'dudroit', 'auteurs'] et retiré ['titre', 'Au', 'code', 'livre', 'L', 'inséré', 'coauteurs', 'Art', '3', 'ainsi', '4', '533', 'droit', 'V', 'il', 'rédigé', 'chapitre']\n",
      "version 40 a ajouté ['co', 'dudroit', 'auteurs'] et retiré ['titre', 'Au', 'code', 'livre', 'L', 'inséré', 'coauteurs', 'Art', '3', 'ainsi', '4', '533', 'droit', 'V', 'il', 'rédigé', 'chapitre']\n",
      "version 41 a ajouté ['co', 'dudroit', 'auteurs'] et retiré ['titre', 'Au', 'code', 'livre', 'L', 'inséré', 'coauteurs', 'Art', '3', 'ainsi', '4', '533', 'droit', 'V', 'il', 'rédigé', 'chapitre']\n",
      "version 42 a ajouté ['co', 'dudroit', 'auteurs'] et retiré ['titre', 'Au', 'code', 'livre', 'L', 'inséré', 'coauteurs', 'Art', '3', 'ainsi', '4', '533', 'droit', 'V', 'il', 'rédigé', 'chapitre']\n",
      "version 43 a ajouté ['co', 'dudroit', 'auteurs'] et retiré ['titre', 'Au', 'code', 'livre', 'L', 'inséré', 'coauteurs', 'Art', '3', 'ainsi', '4', '533', 'droit', 'V', 'il', 'rédigé', 'chapitre']\n",
      "version 44 a ajouté ['co', 'dudroit', 'auteurs'] et retiré ['titre', 'Au', 'code', 'livre', 'L', 'inséré', 'coauteurs', 'Art', '3', 'ainsi', '4', '533', 'droit', 'V', 'il', 'rédigé', 'chapitre']\n",
      "version 45 a ajouté ['co', 'dudroit', 'auteurs'] et retiré ['titre', 'Au', 'code', 'livre', 'L', 'inséré', 'coauteurs', 'Art', '3', 'ainsi', '4', '533', 'droit', 'V', 'il', 'rédigé', 'chapitre']\n",
      "version 46 a ajouté ['co', 'dudroit', 'auteurs'] et retiré ['titre', 'Au', 'code', 'livre', 'L', 'inséré', 'coauteurs', 'Art', '3', 'ainsi', '4', '533', 'droit', 'V', 'il', 'rédigé', 'chapitre']\n",
      "version 47 a ajouté ['co', 'dudroit', 'auteurs'] et retiré ['titre', 'Au', 'code', 'livre', 'L', 'inséré', 'coauteurs', 'Art', '3', 'ainsi', '4', '533', 'droit', 'V', 'il', 'rédigé', 'chapitre']\n",
      "version 48 a ajouté ['co', 'dudroit', 'auteurs'] et retiré ['titre', 'Au', 'code', 'livre', 'L', 'inséré', 'coauteurs', 'Art', '3', 'ainsi', '4', '533', 'droit', 'V', 'il', 'rédigé', 'chapitre']\n",
      "version 49 a ajouté ['co', 'dudroit', 'auteurs'] et retiré ['titre', 'Au', 'code', 'livre', 'L', 'inséré', 'coauteurs', 'Art', '3', 'ainsi', '4', '533', 'droit', 'V', 'il', 'rédigé', 'chapitre']\n",
      "version 50 a ajouté ['co', 'dudroit', 'auteurs'] et retiré ['titre', 'Au', 'code', 'livre', 'L', 'inséré', 'coauteurs', 'Art', '3', 'ainsi', '4', '533', 'droit', 'V', 'il', 'rédigé', 'chapitre']\n",
      "version 51 a ajouté ['co', 'dudroit', 'auteurs'] et retiré ['titre', 'Au', 'code', 'livre', 'L', 'inséré', 'coauteurs', 'Art', '3', 'ainsi', '4', '533', 'droit', 'V', 'il', 'rédigé', 'chapitre']\n",
      "version 52 a ajouté ['co', 'dudroit', 'auteurs'] et retiré ['titre', 'Au', 'code', 'livre', 'L', 'inséré', 'coauteurs', 'Art', '3', 'ainsi', '4', '533', 'droit', 'V', 'il', 'rédigé', 'chapitre']\n",
      "version 53 a ajouté ['co', 'dudroit', 'auteurs'] et retiré ['titre', 'Au', 'code', 'livre', 'L', 'inséré', 'coauteurs', 'Art', '3', 'ainsi', '4', '533', 'droit', 'V', 'il', 'rédigé', 'chapitre']\n",
      "version 54 a ajouté ['co', 'dudroit', 'auteurs'] et retiré ['titre', 'Au', 'code', 'livre', 'L', 'inséré', 'coauteurs', 'Art', '3', 'ainsi', '4', '533', 'droit', 'V', 'il', 'rédigé', 'chapitre']\n",
      "version 55 a ajouté ['co', 'dudroit', 'auteurs'] et retiré ['titre', 'Au', 'code', 'livre', 'L', 'inséré', 'coauteurs', 'Art', '3', 'ainsi', '4', '533', 'droit', 'V', 'il', 'rédigé', 'chapitre']\n",
      "version 56 a ajouté ['co', 'dudroit', 'auteurs'] et retiré ['titre', 'Au', 'code', 'livre', 'L', 'inséré', 'coauteurs', 'Art', '3', 'ainsi', '4', '533', 'droit', 'V', 'il', 'rédigé', 'chapitre']\n",
      "version 57 a ajouté ['co', 'dudroit', 'auteurs'] et retiré ['titre', 'Au', 'code', 'livre', 'L', 'inséré', 'coauteurs', 'Art', '3', 'ainsi', '4', '533', 'droit', 'V', 'il', 'rédigé', 'chapitre']\n",
      "version 58 a ajouté ['co', 'dudroit', 'auteurs'] et retiré ['titre', 'Au', 'code', 'livre', 'L', 'inséré', 'coauteurs', 'Art', '3', 'ainsi', '4', '533', 'droit', 'V', 'il', 'rédigé', 'chapitre']\n",
      "version 59 a ajouté ['co', 'dudroit', 'auteurs'] et retiré ['titre', 'Au', 'code', 'livre', 'L', 'inséré', 'coauteurs', 'Art', '3', 'ainsi', '4', '533', 'droit', 'V', 'il', 'rédigé', 'chapitre']\n",
      "version 60 a ajouté ['co', 'dudroit', 'auteurs'] et retiré ['titre', 'Au', 'code', 'livre', 'L', 'inséré', 'coauteurs', 'Art', '3', 'ainsi', '4', '533', 'droit', 'V', 'il', 'rédigé', 'chapitre']\n",
      "version 61 a ajouté ['co', 'dudroit', 'auteurs'] et retiré ['titre', 'Au', 'code', 'livre', 'L', 'inséré', 'coauteurs', 'Art', '3', 'ainsi', '4', '533', 'droit', 'V', 'il', 'rédigé', 'chapitre']\n",
      "version 62 a ajouté ['co', 'dudroit', 'auteurs'] et retiré ['titre', 'Au', 'code', 'livre', 'L', 'inséré', 'coauteurs', 'Art', '3', 'ainsi', '4', '533', 'droit', 'V', 'il', 'rédigé', 'chapitre']\n",
      "version 63 a ajouté ['co', 'dudroit', 'auteurs'] et retiré ['titre', 'Au', 'code', 'livre', 'L', 'inséré', 'coauteurs', 'Art', '3', 'ainsi', '4', '533', 'droit', 'V', 'il', 'rédigé', 'chapitre']\n",
      "version 64 a ajouté ['co', 'dudroit', 'auteurs'] et retiré ['titre', 'Au', 'code', 'livre', 'L', 'inséré', 'coauteurs', 'Art', '3', 'ainsi', '4', '533', 'droit', 'V', 'il', 'rédigé', 'chapitre']\n",
      "version 65 a ajouté ['co', 'dudroit', 'auteurs'] et retiré ['titre', 'Au', 'code', 'livre', 'L', 'inséré', 'coauteurs', 'Art', '3', 'ainsi', '4', '533', 'droit', 'V', 'il', 'rédigé', 'chapitre']\n",
      "version 66 a ajouté ['co', 'dudroit', 'auteurs'] et retiré ['titre', 'Au', 'code', 'livre', 'L', 'inséré', 'coauteurs', 'Art', '3', 'ainsi', '4', '533', 'droit', 'V', 'il', 'rédigé', 'chapitre']\n",
      "version 67 a ajouté ['co', 'dudroit', 'auteurs'] et retiré ['titre', 'Au', 'code', 'livre', 'L', 'inséré', 'coauteurs', 'Art', '3', 'ainsi', '4', '533', 'droit', 'V', 'il', 'rédigé', 'chapitre']\n",
      "version 68 a ajouté ['co', 'dudroit', 'auteurs'] et retiré ['titre', 'Au', 'code', 'livre', 'L', 'inséré', 'coauteurs', 'Art', '3', 'ainsi', '4', '533', 'droit', 'V', 'il', 'rédigé', 'chapitre']\n",
      "version 69 a ajouté ['co', 'dudroit', 'auteurs'] et retiré ['titre', 'Au', 'code', 'livre', 'L', 'inséré', 'coauteurs', 'Art', '3', 'ainsi', '4', '533', 'droit', 'V', 'il', 'rédigé', 'chapitre']\n",
      "version 70 a ajouté ['co', 'dudroit', 'auteurs'] et retiré ['titre', 'Au', 'code', 'livre', 'L', 'inséré', 'coauteurs', 'Art', '3', 'ainsi', '4', '533', 'droit', 'V', 'il', 'rédigé', 'chapitre']\n",
      "version 71 a ajouté ['co', 'dudroit', 'auteurs'] et retiré ['titre', 'Au', 'code', 'livre', 'L', 'inséré', 'coauteurs', 'Art', '3', 'ainsi', '4', '533', 'droit', 'V', 'il', 'rédigé', 'chapitre']\n",
      "version 72 a ajouté ['co', 'dudroit', 'auteurs'] et retiré ['titre', 'Au', 'code', 'livre', 'L', 'inséré', 'coauteurs', 'Art', '3', 'ainsi', '4', '533', 'droit', 'V', 'il', 'rédigé', 'chapitre']\n",
      "version 73 a ajouté ['co', 'dudroit', 'auteurs'] et retiré ['titre', 'Au', 'code', 'livre', 'L', 'inséré', 'coauteurs', 'Art', '3', 'ainsi', '4', '533', 'droit', 'V', 'il', 'rédigé', 'chapitre']\n",
      "version 74 a ajouté ['co', 'dudroit', 'auteurs'] et retiré ['titre', 'Au', 'code', 'livre', 'L', 'inséré', 'coauteurs', 'Art', '3', 'ainsi', '4', '533', 'droit', 'V', 'il', 'rédigé', 'chapitre']\n",
      "version 75 a ajouté ['co', 'dudroit', 'auteurs'] et retiré ['titre', 'Au', 'code', 'livre', 'L', 'inséré', 'coauteurs', 'Art', '3', 'ainsi', '4', '533', 'droit', 'V', 'il', 'rédigé', 'chapitre']\n",
      "version 76 a ajouté ['co', 'dudroit', 'auteurs'] et retiré ['titre', 'Au', 'code', 'livre', 'L', 'inséré', 'coauteurs', 'Art', '3', 'ainsi', '4', '533', 'droit', 'V', 'il', 'rédigé', 'chapitre']\n",
      "version 77 a ajouté ['co', 'dudroit', 'auteurs'] et retiré ['titre', 'Au', 'code', 'livre', 'L', 'inséré', 'coauteurs', 'Art', '3', 'ainsi', '4', '533', 'droit', 'V', 'il', 'rédigé', 'chapitre']\n",
      "version 78 a ajouté ['co', 'dudroit', 'auteurs'] et retiré ['titre', 'Au', 'code', 'livre', 'L', 'inséré', 'coauteurs', 'Art', '3', 'ainsi', '4', '533', 'droit', 'V', 'il', 'rédigé', 'chapitre']\n",
      "version 79 a ajouté ['co', 'dudroit', 'auteurs'] et retiré ['titre', 'Au', 'code', 'livre', 'L', 'inséré', 'coauteurs', 'Art', '3', 'ainsi', '4', '533', 'droit', 'V', 'il', 'rédigé', 'chapitre']\n",
      "version 80 a ajouté ['co', 'dudroit', 'auteurs'] et retiré ['titre', 'Au', 'code', 'livre', 'L', 'inséré', 'coauteurs', 'Art', '3', 'ainsi', '4', '533', 'droit', 'V', 'il', 'rédigé', 'chapitre']\n",
      "version 81 a ajouté ['co', 'dudroit', 'auteurs'] et retiré ['titre', 'Au', 'code', 'livre', 'L', 'inséré', 'coauteurs', 'Art', '3', 'ainsi', '4', '533', 'droit', 'V', 'il', 'rédigé', 'chapitre']\n",
      "version 82 a ajouté ['co', 'dudroit', 'auteurs'] et retiré ['titre', 'Au', 'code', 'livre', 'L', 'inséré', 'coauteurs', 'Art', '3', 'ainsi', '4', '533', 'droit', 'V', 'il', 'rédigé', 'chapitre']\n",
      "version 83 a ajouté ['co', 'dudroit', 'auteurs'] et retiré ['titre', 'Au', 'code', 'livre', 'L', 'inséré', 'coauteurs', 'Art', '3', 'ainsi', '4', '533', 'droit', 'V', 'il', 'rédigé', 'chapitre']\n",
      "version 84 a ajouté ['co', 'dudroit', 'auteurs'] et retiré ['titre', 'Au', 'code', 'livre', 'L', 'inséré', 'coauteurs', 'Art', '3', 'ainsi', '4', '533', 'droit', 'V', 'il', 'rédigé', 'chapitre']\n",
      "version 85 a ajouté ['co', 'dudroit', 'auteurs'] et retiré ['titre', 'Au', 'code', 'livre', 'L', 'inséré', 'coauteurs', 'Art', '3', 'ainsi', '4', '533', 'droit', 'V', 'il', 'rédigé', 'chapitre']\n",
      "version 86 a ajouté ['co', 'dudroit', 'auteurs'] et retiré ['titre', 'Au', 'code', 'livre', 'L', 'inséré', 'coauteurs', 'Art', '3', 'ainsi', '4', '533', 'droit', 'V', 'il', 'rédigé', 'chapitre']\n",
      "version 87 a ajouté ['co', 'dudroit', 'auteurs'] et retiré ['titre', 'Au', 'code', 'livre', 'L', 'inséré', 'coauteurs', 'Art', '3', 'ainsi', '4', '533', 'droit', 'V', 'il', 'rédigé', 'chapitre']\n",
      "version 88 a ajouté ['co', 'dudroit', 'auteurs'] et retiré ['titre', 'Au', 'code', 'livre', 'L', 'inséré', 'coauteurs', 'Art', '3', 'ainsi', '4', '533', 'droit', 'V', 'il', 'rédigé', 'chapitre']\n",
      "version 89 a ajouté ['co', 'dudroit', 'auteurs'] et retiré ['titre', 'Au', 'code', 'livre', 'L', 'inséré', 'coauteurs', 'Art', '3', 'ainsi', '4', '533', 'droit', 'V', 'il', 'rédigé', 'chapitre']\n",
      "version 90 a ajouté ['co', 'dudroit', 'auteurs'] et retiré ['titre', 'Au', 'code', 'livre', 'L', 'inséré', 'coauteurs', 'Art', '3', 'ainsi', '4', '533', 'droit', 'V', 'il', 'rédigé', 'chapitre']\n",
      "version 91 a ajouté ['co', 'dudroit', 'auteurs'] et retiré ['titre', 'Au', 'code', 'livre', 'L', 'inséré', 'coauteurs', 'Art', '3', 'ainsi', '4', '533', 'droit', 'V', 'il', 'rédigé', 'chapitre']\n",
      "version 92 a ajouté ['co', 'dudroit', 'auteurs'] et retiré ['titre', 'Au', 'code', 'livre', 'L', 'inséré', 'coauteurs', 'Art', '3', 'ainsi', '4', '533', 'droit', 'V', 'il', 'rédigé', 'chapitre']\n",
      "version 93 a ajouté ['co', 'dudroit', 'auteurs'] et retiré ['titre', 'Au', 'code', 'livre', 'L', 'inséré', 'coauteurs', 'Art', '3', 'ainsi', '4', '533', 'droit', 'V', 'il', 'rédigé', 'chapitre']\n",
      "version 94 a ajouté ['co', 'dudroit', 'auteurs'] et retiré ['titre', 'Au', 'code', 'livre', 'L', 'inséré', 'coauteurs', 'Art', '3', 'ainsi', '4', '533', 'droit', 'V', 'il', 'rédigé', 'chapitre']\n",
      "version 95 a ajouté ['co', 'dudroit', 'auteurs'] et retiré ['titre', 'Au', 'code', 'livre', 'L', 'inséré', 'coauteurs', 'Art', '3', 'ainsi', '4', '533', 'droit', 'V', 'il', 'rédigé', 'chapitre']\n",
      "version 96 a ajouté ['co', 'dudroit', 'auteurs'] et retiré ['titre', 'Au', 'code', 'livre', 'L', 'inséré', 'coauteurs', 'Art', '3', 'ainsi', '4', '533', 'droit', 'V', 'il', 'rédigé', 'chapitre']\n",
      "version 97 a ajouté ['co', 'dudroit', 'auteurs'] et retiré ['titre', 'Au', 'code', 'livre', 'L', 'inséré', 'coauteurs', 'Art', '3', 'ainsi', '4', '533', 'droit', 'V', 'il', 'rédigé', 'chapitre']\n",
      "version 98 a ajouté ['co', 'dudroit', 'auteurs'] et retiré ['titre', 'Au', 'code', 'livre', 'L', 'inséré', 'coauteurs', 'Art', '3', 'ainsi', '4', '533', 'droit', 'V', 'il', 'rédigé', 'chapitre']\n",
      "version 99 a ajouté ['co', 'dudroit', 'auteurs'] et retiré ['titre', 'Au', 'code', 'livre', 'L', 'inséré', 'coauteurs', 'Art', '3', 'ainsi', '4', '533', 'droit', 'V', 'il', 'rédigé', 'chapitre']\n",
      "version 100 a ajouté ['co', 'dudroit', 'auteurs'] et retiré ['titre', 'Au', 'code', 'livre', 'L', 'inséré', 'coauteurs', 'Art', '3', 'ainsi', '4', '533', 'droit', 'V', 'il', 'rédigé', 'chapitre']\n",
      "version 101 a ajouté ['co', 'dudroit', 'auteurs'] et retiré ['titre', 'Au', 'code', 'livre', 'L', 'inséré', 'coauteurs', 'Art', '3', 'ainsi', '4', '533', 'droit', 'V', 'il', 'rédigé', 'chapitre']\n",
      "version 102 a ajouté ['co', 'dudroit', 'auteurs'] et retiré ['titre', 'Au', 'code', 'livre', 'L', 'inséré', 'coauteurs', 'Art', '3', 'ainsi', '4', '533', 'droit', 'V', 'il', 'rédigé', 'chapitre']\n",
      "version 103 a ajouté ['co', 'dudroit', 'auteurs'] et retiré ['titre', 'Au', 'code', 'livre', 'L', 'inséré', 'coauteurs', 'Art', '3', 'ainsi', '4', '533', 'droit', 'V', 'il', 'rédigé', 'chapitre']\n",
      "version 104 a ajouté ['co', 'dudroit', 'auteurs'] et retiré ['titre', 'Au', 'code', 'livre', 'L', 'inséré', 'coauteurs', 'Art', '3', 'ainsi', '4', '533', 'droit', 'V', 'il', 'rédigé', 'chapitre']\n",
      "version 105 a ajouté ['co', 'dudroit', 'auteurs'] et retiré ['titre', 'Au', 'code', 'livre', 'L', 'inséré', 'coauteurs', 'Art', '3', 'ainsi', '4', '533', 'droit', 'V', 'il', 'rédigé', 'chapitre']\n",
      "version 106 a ajouté ['co', 'dudroit', 'auteurs'] et retiré ['titre', 'Au', 'code', 'livre', 'L', 'inséré', 'coauteurs', 'Art', '3', 'ainsi', '4', '533', 'droit', 'V', 'il', 'rédigé', 'chapitre']\n",
      "version 107 a ajouté ['co', 'dudroit', 'auteurs'] et retiré ['titre', 'Au', 'code', 'livre', 'L', 'inséré', 'coauteurs', 'Art', '3', 'ainsi', '4', '533', 'droit', 'V', 'il', 'rédigé', 'chapitre']\n",
      "version 108 a ajouté ['co', 'dudroit', 'auteurs'] et retiré ['titre', 'Au', 'code', 'livre', 'L', 'inséré', 'coauteurs', 'Art', '3', 'ainsi', '4', '533', 'droit', 'V', 'il', 'rédigé', 'chapitre']\n"
     ]
    }
   ],
   "source": [
    "#on fait une liste avec tout les mots de la même manière que précédemment\n",
    "mots_v = [get_words(v[\"after\"]) for v in versions]\n",
    "#et on compare v(i) a v0\n",
    "\n",
    "diff_v = [[list(set(mots_v[i])- set(mots_v[0])), list(set(mots_v[0]) - set(mots_v[i]))] for i in range(len(mots_v))]\n",
    "#symetric_diff_v = [set(mots_v[i+1]) ^ set(mots_v[i]) for i in range(len(mots_v)-1)]\n",
    "for i, diff in enumerate(diff_v):\n",
    "    ajout, supp = diff\n",
    "    print(\"version\", i,\"a ajouté\", ajout,\"et retiré\", supp)\n",
    "    \n",
    "    \n",
    "    "
   ]
  },
  {
   "cell_type": "markdown",
   "metadata": {},
   "source": [
    "Très peu de changement comme on peut le voir...\n",
    "\n",
    "Ce n'est donc pas dans le texte lui même que le débat sur l'article de loi c'est joué"
   ]
  },
  {
   "cell_type": "markdown",
   "metadata": {},
   "source": [
    "### Commentaires des versions\n",
    "La première version n'a pas de commentaire en revanche certaines modifications ont fait l'objet de commentaires\n",
    "\n",
    "stockées dans ```'comment'```"
   ]
  },
  {
   "cell_type": "code",
   "execution_count": 23,
   "metadata": {
    "collapsed": false
   },
   "outputs": [
    {
     "name": "stdout",
     "output_type": "stream",
     "text": [
      "Version 0 {}\n",
      "Version 108 La recherche financée par l'Etat appartient à tous, tous doivent pouvoir l'utiliser à des fins commerciales ou non !\n"
     ]
    }
   ],
   "source": [
    "#ici on compare v0 et V108\n",
    "print(\"Version 0\", versions[0][\"comment\"])\n",
    "print(\"Version 108\", versions[-1][\"comment\"])\n"
   ]
  },
  {
   "cell_type": "markdown",
   "metadata": {
    "collapsed": true
   },
   "source": [
    "On remarque que la version originale n'a pas de commentaire. Ce qui est logique!\n",
    "On va se concentrer donc sur les commentaires liés à la réécriture du texte de loi comme un moyen de justifier \n",
    "les changements opérés sur le texte de loi qui eux n'ont pas été bien stockés."
   ]
  },
  {
   "cell_type": "code",
   "execution_count": 25,
   "metadata": {
    "collapsed": false
   },
   "outputs": [
    {
     "name": "stdout",
     "output_type": "stream",
     "text": [
      "108 commentaires de versions\n",
      "commentaire de v 1 \t\t 174 \tmots\n",
      "commentaire de v 2 \t\t 104 \tmots\n",
      "commentaire de v 3 \t\t 578 \tmots\n",
      "commentaire de v 4 \t\t 46 \tmots\n",
      "commentaire de v 5 \t\t 27 \tmots\n",
      "commentaire de v 6 \t\t 54 \tmots\n",
      "commentaire de v 7 \t\t 1 \tmots\n",
      "commentaire de v 8 \t\t 1 \tmots\n",
      "commentaire de v 9 \t\t 1 \tmots\n",
      "commentaire de v 10 \t\t 1 \tmots\n",
      "commentaire de v 11 \t\t 105 \tmots\n",
      "commentaire de v 12 \t\t 88 \tmots\n",
      "commentaire de v 13 \t\t 23 \tmots\n",
      "commentaire de v 14 \t\t 56 \tmots\n",
      "commentaire de v 15 \t\t 22 \tmots\n",
      "commentaire de v 16 \t\t 460 \tmots\n",
      "commentaire de v 17 \t\t 172 \tmots\n",
      "commentaire de v 18 \t\t 756 \tmots\n",
      "commentaire de v 19 \t\t 1 \tmots\n",
      "commentaire de v 20 \t\t 1 \tmots\n",
      "commentaire de v 21 \t\t 164 \tmots\n",
      "commentaire de v 22 \t\t 3 \tmots\n",
      "commentaire de v 23 \t\t 62 \tmots\n",
      "commentaire de v 24 \t\t 136 \tmots\n",
      "commentaire de v 25 \t\t 34 \tmots\n",
      "commentaire de v 26 \t\t 1 \tmots\n",
      "commentaire de v 27 \t\t 1 \tmots\n",
      "commentaire de v 28 \t\t 394 \tmots\n",
      "commentaire de v 29 \t\t 34 \tmots\n",
      "commentaire de v 30 \t\t 357 \tmots\n",
      "commentaire de v 31 \t\t 40 \tmots\n",
      "commentaire de v 32 \t\t 349 \tmots\n",
      "commentaire de v 33 \t\t 394 \tmots\n",
      "commentaire de v 34 \t\t 63 \tmots\n",
      "commentaire de v 35 \t\t 19 \tmots\n",
      "commentaire de v 36 \t\t 86 \tmots\n",
      "commentaire de v 37 \t\t 168 \tmots\n",
      "commentaire de v 38 \t\t 1 \tmots\n",
      "commentaire de v 39 \t\t 27 \tmots\n",
      "commentaire de v 40 \t\t 371 \tmots\n",
      "commentaire de v 41 \t\t 1 \tmots\n",
      "commentaire de v 42 \t\t 108 \tmots\n",
      "commentaire de v 43 \t\t 42 \tmots\n",
      "commentaire de v 44 \t\t 1 \tmots\n",
      "commentaire de v 45 \t\t 273 \tmots\n",
      "commentaire de v 46 \t\t 213 \tmots\n",
      "commentaire de v 47 \t\t 241 \tmots\n",
      "commentaire de v 48 \t\t 10 \tmots\n",
      "commentaire de v 49 \t\t 59 \tmots\n",
      "commentaire de v 50 \t\t 31 \tmots\n",
      "commentaire de v 51 \t\t 1 \tmots\n",
      "commentaire de v 52 \t\t 219 \tmots\n",
      "commentaire de v 53 \t\t 34 \tmots\n",
      "commentaire de v 54 \t\t 1220 \tmots\n",
      "commentaire de v 55 \t\t 83 \tmots\n",
      "commentaire de v 56 \t\t 91 \tmots\n",
      "commentaire de v 57 \t\t 91 \tmots\n",
      "commentaire de v 58 \t\t 32 \tmots\n",
      "commentaire de v 59 \t\t 206 \tmots\n",
      "commentaire de v 60 \t\t 227 \tmots\n",
      "commentaire de v 61 \t\t 287 \tmots\n",
      "commentaire de v 62 \t\t 26 \tmots\n",
      "commentaire de v 63 \t\t 114 \tmots\n",
      "commentaire de v 64 \t\t 53 \tmots\n",
      "commentaire de v 65 \t\t 47 \tmots\n",
      "commentaire de v 66 \t\t 1 \tmots\n",
      "commentaire de v 67 \t\t 85 \tmots\n",
      "commentaire de v 68 \t\t 334 \tmots\n",
      "commentaire de v 69 \t\t 1 \tmots\n",
      "commentaire de v 70 \t\t 52 \tmots\n",
      "commentaire de v 71 \t\t 141 \tmots\n",
      "commentaire de v 72 \t\t 1 \tmots\n",
      "commentaire de v 73 \t\t 1 \tmots\n",
      "commentaire de v 74 \t\t 90 \tmots\n",
      "commentaire de v 75 \t\t 392 \tmots\n",
      "commentaire de v 76 \t\t 254 \tmots\n",
      "commentaire de v 77 \t\t 1 \tmots\n",
      "commentaire de v 78 \t\t 20 \tmots\n",
      "commentaire de v 79 \t\t 1 \tmots\n",
      "commentaire de v 80 \t\t 9 \tmots\n",
      "commentaire de v 81 \t\t 761 \tmots\n",
      "commentaire de v 82 \t\t 423 \tmots\n",
      "commentaire de v 83 \t\t 181 \tmots\n",
      "commentaire de v 84 \t\t 160 \tmots\n",
      "commentaire de v 85 \t\t 426 \tmots\n",
      "commentaire de v 86 \t\t 218 \tmots\n",
      "commentaire de v 87 \t\t 34 \tmots\n",
      "commentaire de v 88 \t\t 15 \tmots\n",
      "commentaire de v 89 \t\t 23 \tmots\n",
      "commentaire de v 90 \t\t 83 \tmots\n",
      "commentaire de v 91 \t\t 313 \tmots\n",
      "commentaire de v 92 \t\t 110 \tmots\n",
      "commentaire de v 93 \t\t 68 \tmots\n",
      "commentaire de v 94 \t\t 137 \tmots\n",
      "commentaire de v 95 \t\t 109 \tmots\n",
      "commentaire de v 96 \t\t 120 \tmots\n",
      "commentaire de v 97 \t\t 64 \tmots\n",
      "commentaire de v 98 \t\t 93 \tmots\n",
      "commentaire de v 99 \t\t 245 \tmots\n",
      "commentaire de v 100 \t\t 70 \tmots\n",
      "commentaire de v 101 \t\t 1 \tmots\n",
      "commentaire de v 102 \t\t 30 \tmots\n",
      "commentaire de v 103 \t\t 267 \tmots\n",
      "commentaire de v 104 \t\t 23 \tmots\n",
      "commentaire de v 105 \t\t 42 \tmots\n",
      "commentaire de v 106 \t\t 78 \tmots\n",
      "commentaire de v 107 \t\t 115 \tmots\n",
      "commentaire de v 108 \t\t 20 \tmots\n"
     ]
    }
   ],
   "source": [
    "comments_v = [get_words(str(v[\"comment\"])) for v in versions[1:]]\n",
    "print(len(comments_v),\"commentaires de versions\")\n",
    "for i,co in enumerate(comments_v):\n",
    "    print (\"commentaire de v\", i+1,\"\\t\\t\", len(co), \"\\tmots\")"
   ]
  },
  {
   "cell_type": "code",
   "execution_count": 58,
   "metadata": {
    "collapsed": false
   },
   "outputs": [],
   "source": [
    "stats_modifications = []\n",
    "with open(\"liste_des_commentaires.csv\", \"w\") as f:\n",
    "    header = [\"version_\"+str(i+1), \"commentaire\",\"mots\", \"nb_mots\", \"auteur\", \"votes_pour\", \"votes_contre\", \"votes_neutre\", \"votes_total\", \"arguments_pour\", \"arguments_contre\", \"arguments_total\"]\n",
    "    f.write(\"\\t\".join(header))\n",
    "    \n",
    "    for i,v in enumerate(versions[1:]):\n",
    "        auteur = v[\"author\"]\n",
    "        votes_total = v[\"votes_total\"]\n",
    "        #votes_pour = v[\"votes_ok\"]\n",
    "        votes_contre = v[\"votes_nok\"]\n",
    "        votes_neutre = v[\"votes_mitige\"]\n",
    "        votes_pour = votes_total-(votes_contre+votes_neutre)\n",
    "        commentaire = v[\"comment\"]\n",
    "        words = get_words(str(v[\"comment\"]))\n",
    "        arguments_total = v[\"arguments_count\"]\n",
    "        arguments_pour = v[\"arguments_yes_count\"]\n",
    "        arguments_contre = v[\"arguments_no_count\"]\n",
    "        #print(\"version_\"+str(i+1),str(len(get_words(v[\"comment\"]))),  v[\"author\"], str(v[\"votes_total\"])) \n",
    "        row = [\"version_\"+str(i+1), commentaire, len(words), auteur, votes_pour, votes_contre, votes_neutre, votes_total, arguments_pour, arguments_contre, arguments_total]\n",
    "        f.write(\"\\t\".join([str(n) for n in row]))\n",
    "        stats_modifications.append(row)"
   ]
  },
  {
   "cell_type": "code",
   "execution_count": 28,
   "metadata": {
    "collapsed": false
   },
   "outputs": [
    {
     "ename": "ValueError",
     "evalue": "could not convert string to float: 'ne'",
     "output_type": "error",
     "traceback": [
      "\u001b[0;31m---------------------------------------------------------------------------\u001b[0m",
      "\u001b[0;31mValueError\u001b[0m                                Traceback (most recent call last)",
      "\u001b[0;32m<ipython-input-28-251542e0759d>\u001b[0m in \u001b[0;36m<module>\u001b[0;34m()\u001b[0m\n\u001b[1;32m     11\u001b[0m     \u001b[0mdiff\u001b[0m \u001b[0;34m=\u001b[0m \u001b[0mlist\u001b[0m\u001b[0;34m(\u001b[0m\u001b[0mset\u001b[0m\u001b[0;34m(\u001b[0m\u001b[0mcomments_v\u001b[0m\u001b[0;34m[\u001b[0m\u001b[0mi\u001b[0m\u001b[0;34m+\u001b[0m\u001b[0;36m1\u001b[0m\u001b[0;34m]\u001b[0m\u001b[0;34m)\u001b[0m \u001b[0;34m^\u001b[0m \u001b[0mset\u001b[0m\u001b[0;34m(\u001b[0m\u001b[0mcomments_v\u001b[0m\u001b[0;34m[\u001b[0m\u001b[0mi\u001b[0m\u001b[0;34m]\u001b[0m\u001b[0;34m)\u001b[0m\u001b[0;34m)\u001b[0m\u001b[0;34m\u001b[0m\u001b[0m\n\u001b[1;32m     12\u001b[0m     \u001b[0mmodif\u001b[0m \u001b[0;34m=\u001b[0m \u001b[0;34m[\u001b[0m\u001b[0mcommun\u001b[0m\u001b[0;34m,\u001b[0m \u001b[0mdiff\u001b[0m\u001b[0;34m]\u001b[0m\u001b[0;34m\u001b[0m\u001b[0m\n\u001b[0;32m---> 13\u001b[0;31m     \u001b[0mplt\u001b[0m\u001b[0;34m.\u001b[0m\u001b[0mplot\u001b[0m\u001b[0;34m(\u001b[0m\u001b[0mcommun\u001b[0m\u001b[0;34m,\u001b[0m \u001b[0mcolor\u001b[0m\u001b[0;34m=\u001b[0m\u001b[0;34m\"b\"\u001b[0m\u001b[0;34m)\u001b[0m\u001b[0;34m\u001b[0m\u001b[0m\n\u001b[0m\u001b[1;32m     14\u001b[0m     \u001b[0;31m#plt.plot(diff, color=\"b\")\u001b[0m\u001b[0;34m\u001b[0m\u001b[0;34m\u001b[0m\u001b[0m\n\u001b[1;32m     15\u001b[0m     \u001b[0;31m#modif_stats = [len(ajout), len(supp), len(commun), len(diff)]\u001b[0m\u001b[0;34m\u001b[0m\u001b[0;34m\u001b[0m\u001b[0m\n",
      "\u001b[0;32m/home/c24b/.local/lib/python3.5/site-packages/matplotlib/pyplot.py\u001b[0m in \u001b[0;36mplot\u001b[0;34m(*args, **kwargs)\u001b[0m\n\u001b[1;32m   3152\u001b[0m         \u001b[0max\u001b[0m\u001b[0;34m.\u001b[0m\u001b[0mhold\u001b[0m\u001b[0;34m(\u001b[0m\u001b[0mhold\u001b[0m\u001b[0;34m)\u001b[0m\u001b[0;34m\u001b[0m\u001b[0m\n\u001b[1;32m   3153\u001b[0m     \u001b[0;32mtry\u001b[0m\u001b[0;34m:\u001b[0m\u001b[0;34m\u001b[0m\u001b[0m\n\u001b[0;32m-> 3154\u001b[0;31m         \u001b[0mret\u001b[0m \u001b[0;34m=\u001b[0m \u001b[0max\u001b[0m\u001b[0;34m.\u001b[0m\u001b[0mplot\u001b[0m\u001b[0;34m(\u001b[0m\u001b[0;34m*\u001b[0m\u001b[0margs\u001b[0m\u001b[0;34m,\u001b[0m \u001b[0;34m**\u001b[0m\u001b[0mkwargs\u001b[0m\u001b[0;34m)\u001b[0m\u001b[0;34m\u001b[0m\u001b[0m\n\u001b[0m\u001b[1;32m   3155\u001b[0m     \u001b[0;32mfinally\u001b[0m\u001b[0;34m:\u001b[0m\u001b[0;34m\u001b[0m\u001b[0m\n\u001b[1;32m   3156\u001b[0m         \u001b[0max\u001b[0m\u001b[0;34m.\u001b[0m\u001b[0mhold\u001b[0m\u001b[0;34m(\u001b[0m\u001b[0mwashold\u001b[0m\u001b[0;34m)\u001b[0m\u001b[0;34m\u001b[0m\u001b[0m\n",
      "\u001b[0;32m/home/c24b/.local/lib/python3.5/site-packages/matplotlib/__init__.py\u001b[0m in \u001b[0;36minner\u001b[0;34m(ax, *args, **kwargs)\u001b[0m\n\u001b[1;32m   1810\u001b[0m                     warnings.warn(msg % (label_namer, func.__name__),\n\u001b[1;32m   1811\u001b[0m                                   RuntimeWarning, stacklevel=2)\n\u001b[0;32m-> 1812\u001b[0;31m             \u001b[0;32mreturn\u001b[0m \u001b[0mfunc\u001b[0m\u001b[0;34m(\u001b[0m\u001b[0max\u001b[0m\u001b[0;34m,\u001b[0m \u001b[0;34m*\u001b[0m\u001b[0margs\u001b[0m\u001b[0;34m,\u001b[0m \u001b[0;34m**\u001b[0m\u001b[0mkwargs\u001b[0m\u001b[0;34m)\u001b[0m\u001b[0;34m\u001b[0m\u001b[0m\n\u001b[0m\u001b[1;32m   1813\u001b[0m         \u001b[0mpre_doc\u001b[0m \u001b[0;34m=\u001b[0m \u001b[0minner\u001b[0m\u001b[0;34m.\u001b[0m\u001b[0m__doc__\u001b[0m\u001b[0;34m\u001b[0m\u001b[0m\n\u001b[1;32m   1814\u001b[0m         \u001b[0;32mif\u001b[0m \u001b[0mpre_doc\u001b[0m \u001b[0;32mis\u001b[0m \u001b[0;32mNone\u001b[0m\u001b[0;34m:\u001b[0m\u001b[0;34m\u001b[0m\u001b[0m\n",
      "\u001b[0;32m/home/c24b/.local/lib/python3.5/site-packages/matplotlib/axes/_axes.py\u001b[0m in \u001b[0;36mplot\u001b[0;34m(self, *args, **kwargs)\u001b[0m\n\u001b[1;32m   1423\u001b[0m \u001b[0;34m\u001b[0m\u001b[0m\n\u001b[1;32m   1424\u001b[0m         \u001b[0;32mfor\u001b[0m \u001b[0mline\u001b[0m \u001b[0;32min\u001b[0m \u001b[0mself\u001b[0m\u001b[0;34m.\u001b[0m\u001b[0m_get_lines\u001b[0m\u001b[0;34m(\u001b[0m\u001b[0;34m*\u001b[0m\u001b[0margs\u001b[0m\u001b[0;34m,\u001b[0m \u001b[0;34m**\u001b[0m\u001b[0mkwargs\u001b[0m\u001b[0;34m)\u001b[0m\u001b[0;34m:\u001b[0m\u001b[0;34m\u001b[0m\u001b[0m\n\u001b[0;32m-> 1425\u001b[0;31m             \u001b[0mself\u001b[0m\u001b[0;34m.\u001b[0m\u001b[0madd_line\u001b[0m\u001b[0;34m(\u001b[0m\u001b[0mline\u001b[0m\u001b[0;34m)\u001b[0m\u001b[0;34m\u001b[0m\u001b[0m\n\u001b[0m\u001b[1;32m   1426\u001b[0m             \u001b[0mlines\u001b[0m\u001b[0;34m.\u001b[0m\u001b[0mappend\u001b[0m\u001b[0;34m(\u001b[0m\u001b[0mline\u001b[0m\u001b[0;34m)\u001b[0m\u001b[0;34m\u001b[0m\u001b[0m\n\u001b[1;32m   1427\u001b[0m \u001b[0;34m\u001b[0m\u001b[0m\n",
      "\u001b[0;32m/home/c24b/.local/lib/python3.5/site-packages/matplotlib/axes/_base.py\u001b[0m in \u001b[0;36madd_line\u001b[0;34m(self, line)\u001b[0m\n\u001b[1;32m   1706\u001b[0m             \u001b[0mline\u001b[0m\u001b[0;34m.\u001b[0m\u001b[0mset_clip_path\u001b[0m\u001b[0;34m(\u001b[0m\u001b[0mself\u001b[0m\u001b[0;34m.\u001b[0m\u001b[0mpatch\u001b[0m\u001b[0;34m)\u001b[0m\u001b[0;34m\u001b[0m\u001b[0m\n\u001b[1;32m   1707\u001b[0m \u001b[0;34m\u001b[0m\u001b[0m\n\u001b[0;32m-> 1708\u001b[0;31m         \u001b[0mself\u001b[0m\u001b[0;34m.\u001b[0m\u001b[0m_update_line_limits\u001b[0m\u001b[0;34m(\u001b[0m\u001b[0mline\u001b[0m\u001b[0;34m)\u001b[0m\u001b[0;34m\u001b[0m\u001b[0m\n\u001b[0m\u001b[1;32m   1709\u001b[0m         \u001b[0;32mif\u001b[0m \u001b[0;32mnot\u001b[0m \u001b[0mline\u001b[0m\u001b[0;34m.\u001b[0m\u001b[0mget_label\u001b[0m\u001b[0;34m(\u001b[0m\u001b[0;34m)\u001b[0m\u001b[0;34m:\u001b[0m\u001b[0;34m\u001b[0m\u001b[0m\n\u001b[1;32m   1710\u001b[0m             \u001b[0mline\u001b[0m\u001b[0;34m.\u001b[0m\u001b[0mset_label\u001b[0m\u001b[0;34m(\u001b[0m\u001b[0;34m'_line%d'\u001b[0m \u001b[0;34m%\u001b[0m \u001b[0mlen\u001b[0m\u001b[0;34m(\u001b[0m\u001b[0mself\u001b[0m\u001b[0;34m.\u001b[0m\u001b[0mlines\u001b[0m\u001b[0;34m)\u001b[0m\u001b[0;34m)\u001b[0m\u001b[0;34m\u001b[0m\u001b[0m\n",
      "\u001b[0;32m/home/c24b/.local/lib/python3.5/site-packages/matplotlib/axes/_base.py\u001b[0m in \u001b[0;36m_update_line_limits\u001b[0;34m(self, line)\u001b[0m\n\u001b[1;32m   1728\u001b[0m         \u001b[0mFigures\u001b[0m \u001b[0mout\u001b[0m \u001b[0mthe\u001b[0m \u001b[0mdata\u001b[0m \u001b[0mlimit\u001b[0m \u001b[0mof\u001b[0m \u001b[0mthe\u001b[0m \u001b[0mgiven\u001b[0m \u001b[0mline\u001b[0m\u001b[0;34m,\u001b[0m \u001b[0mupdating\u001b[0m \u001b[0mself\u001b[0m\u001b[0;34m.\u001b[0m\u001b[0mdataLim\u001b[0m\u001b[0;34m.\u001b[0m\u001b[0;34m\u001b[0m\u001b[0m\n\u001b[1;32m   1729\u001b[0m         \"\"\"\n\u001b[0;32m-> 1730\u001b[0;31m         \u001b[0mpath\u001b[0m \u001b[0;34m=\u001b[0m \u001b[0mline\u001b[0m\u001b[0;34m.\u001b[0m\u001b[0mget_path\u001b[0m\u001b[0;34m(\u001b[0m\u001b[0;34m)\u001b[0m\u001b[0;34m\u001b[0m\u001b[0m\n\u001b[0m\u001b[1;32m   1731\u001b[0m         \u001b[0;32mif\u001b[0m \u001b[0mpath\u001b[0m\u001b[0;34m.\u001b[0m\u001b[0mvertices\u001b[0m\u001b[0;34m.\u001b[0m\u001b[0msize\u001b[0m \u001b[0;34m==\u001b[0m \u001b[0;36m0\u001b[0m\u001b[0;34m:\u001b[0m\u001b[0;34m\u001b[0m\u001b[0m\n\u001b[1;32m   1732\u001b[0m             \u001b[0;32mreturn\u001b[0m\u001b[0;34m\u001b[0m\u001b[0m\n",
      "\u001b[0;32m/home/c24b/.local/lib/python3.5/site-packages/matplotlib/lines.py\u001b[0m in \u001b[0;36mget_path\u001b[0;34m(self)\u001b[0m\n\u001b[1;32m    923\u001b[0m         \"\"\"\n\u001b[1;32m    924\u001b[0m         \u001b[0;32mif\u001b[0m \u001b[0mself\u001b[0m\u001b[0;34m.\u001b[0m\u001b[0m_invalidy\u001b[0m \u001b[0;32mor\u001b[0m \u001b[0mself\u001b[0m\u001b[0;34m.\u001b[0m\u001b[0m_invalidx\u001b[0m\u001b[0;34m:\u001b[0m\u001b[0;34m\u001b[0m\u001b[0m\n\u001b[0;32m--> 925\u001b[0;31m             \u001b[0mself\u001b[0m\u001b[0;34m.\u001b[0m\u001b[0mrecache\u001b[0m\u001b[0;34m(\u001b[0m\u001b[0;34m)\u001b[0m\u001b[0;34m\u001b[0m\u001b[0m\n\u001b[0m\u001b[1;32m    926\u001b[0m         \u001b[0;32mreturn\u001b[0m \u001b[0mself\u001b[0m\u001b[0;34m.\u001b[0m\u001b[0m_path\u001b[0m\u001b[0;34m\u001b[0m\u001b[0m\n\u001b[1;32m    927\u001b[0m \u001b[0;34m\u001b[0m\u001b[0m\n",
      "\u001b[0;32m/home/c24b/.local/lib/python3.5/site-packages/matplotlib/lines.py\u001b[0m in \u001b[0;36mrecache\u001b[0;34m(self, always)\u001b[0m\n\u001b[1;32m    619\u001b[0m                 \u001b[0my\u001b[0m \u001b[0;34m=\u001b[0m \u001b[0mma\u001b[0m\u001b[0;34m.\u001b[0m\u001b[0masarray\u001b[0m\u001b[0;34m(\u001b[0m\u001b[0myconv\u001b[0m\u001b[0;34m,\u001b[0m \u001b[0mnp\u001b[0m\u001b[0;34m.\u001b[0m\u001b[0mfloat_\u001b[0m\u001b[0;34m)\u001b[0m\u001b[0;34m.\u001b[0m\u001b[0mfilled\u001b[0m\u001b[0;34m(\u001b[0m\u001b[0mnp\u001b[0m\u001b[0;34m.\u001b[0m\u001b[0mnan\u001b[0m\u001b[0;34m)\u001b[0m\u001b[0;34m\u001b[0m\u001b[0m\n\u001b[1;32m    620\u001b[0m             \u001b[0;32melse\u001b[0m\u001b[0;34m:\u001b[0m\u001b[0;34m\u001b[0m\u001b[0m\n\u001b[0;32m--> 621\u001b[0;31m                 \u001b[0my\u001b[0m \u001b[0;34m=\u001b[0m \u001b[0mnp\u001b[0m\u001b[0;34m.\u001b[0m\u001b[0masarray\u001b[0m\u001b[0;34m(\u001b[0m\u001b[0myconv\u001b[0m\u001b[0;34m,\u001b[0m \u001b[0mnp\u001b[0m\u001b[0;34m.\u001b[0m\u001b[0mfloat_\u001b[0m\u001b[0;34m)\u001b[0m\u001b[0;34m\u001b[0m\u001b[0m\n\u001b[0m\u001b[1;32m    622\u001b[0m             \u001b[0my\u001b[0m \u001b[0;34m=\u001b[0m \u001b[0my\u001b[0m\u001b[0;34m.\u001b[0m\u001b[0mravel\u001b[0m\u001b[0;34m(\u001b[0m\u001b[0;34m)\u001b[0m\u001b[0;34m\u001b[0m\u001b[0m\n\u001b[1;32m    623\u001b[0m         \u001b[0;32melse\u001b[0m\u001b[0;34m:\u001b[0m\u001b[0;34m\u001b[0m\u001b[0m\n",
      "\u001b[0;32m/usr/local/lib/python3.5/dist-packages/numpy/core/numeric.py\u001b[0m in \u001b[0;36masarray\u001b[0;34m(a, dtype, order)\u001b[0m\n\u001b[1;32m    472\u001b[0m \u001b[0;34m\u001b[0m\u001b[0m\n\u001b[1;32m    473\u001b[0m     \"\"\"\n\u001b[0;32m--> 474\u001b[0;31m     \u001b[0;32mreturn\u001b[0m \u001b[0marray\u001b[0m\u001b[0;34m(\u001b[0m\u001b[0ma\u001b[0m\u001b[0;34m,\u001b[0m \u001b[0mdtype\u001b[0m\u001b[0;34m,\u001b[0m \u001b[0mcopy\u001b[0m\u001b[0;34m=\u001b[0m\u001b[0;32mFalse\u001b[0m\u001b[0;34m,\u001b[0m \u001b[0morder\u001b[0m\u001b[0;34m=\u001b[0m\u001b[0morder\u001b[0m\u001b[0;34m)\u001b[0m\u001b[0;34m\u001b[0m\u001b[0m\n\u001b[0m\u001b[1;32m    475\u001b[0m \u001b[0;34m\u001b[0m\u001b[0m\n\u001b[1;32m    476\u001b[0m \u001b[0;32mdef\u001b[0m \u001b[0masanyarray\u001b[0m\u001b[0;34m(\u001b[0m\u001b[0ma\u001b[0m\u001b[0;34m,\u001b[0m \u001b[0mdtype\u001b[0m\u001b[0;34m=\u001b[0m\u001b[0;32mNone\u001b[0m\u001b[0;34m,\u001b[0m \u001b[0morder\u001b[0m\u001b[0;34m=\u001b[0m\u001b[0;32mNone\u001b[0m\u001b[0;34m)\u001b[0m\u001b[0;34m:\u001b[0m\u001b[0;34m\u001b[0m\u001b[0m\n",
      "\u001b[0;31mValueError\u001b[0m: could not convert string to float: 'ne'"
     ]
    },
    {
     "data": {
      "image/png": "[encoded data removed]",
      "text/plain": [
       "<matplotlib.figure.Figure at 0x7f4460a887b8>"
      ]
     },
     "metadata": {},
     "output_type": "display_data"
    }
   ],
   "source": [
    "modifs_comments = []\n",
    "#modifs_stats = []\n",
    "for i in range(len(comments_v)-1):\n",
    "    #ajout = list(set(comments_v[i+1])- set(comments_v[i]))\n",
    "    #supp = list(set(comments_v[i]) - set(comments_v[i+1]))\n",
    "    commun = list(set(comments_v[i+1]) & set(comments_v[i]))\n",
    "    diff = list(set(comments_v[i+1]) ^ set(comments_v[i]))\n",
    "    modif = [commun, diff]\n",
    "    #modif_stats = [len(ajout), len(supp), len(commun), len(diff)]\n",
    "    modifs_comments.append(modif)\n",
    "    #modifs_stats.append(modif_stats)\n",
    "\n",
    "for i, v in enumerate(modifs_comments):\n",
    "    print(\"*comparaison de version\", str(i+2),\"avec\", str(i+1), \":\") \n",
    "    print(\"\\t-nombre de mots communs\", len(v[0]))\n",
    "    print(\"\\t-nombre de mots differents\", len(v[1]))\n",
    "  \n",
    "    \n"
   ]
  },
  {
   "cell_type": "code",
   "execution_count": null,
   "metadata": {
    "collapsed": true
   },
   "outputs": [],
   "source": [
    "### Vérifions donc la repartition des \n",
    "\n",
    "def show_nb_votes_by_versions(vs):\n",
    "    #for k,v in vs.items():\n",
    "    #    print(len(v[\"votes\"]),\"votes sur la version:\" , k )\n",
    "    N = len(vs)\n",
    "    votes_nb = [len(v[\"votes\"])  for v in vs.values()]\n",
    "    \n",
    "    plt.title(\"Repartition des votes simples par version\")\n",
    "    plt.ylabel('Nb votes')\n",
    "    #pylab.xlim([0,108])\n",
    "    #pylab.xlim([0,N])\n",
    "    plt.plot(votes_nb,color='r')\n",
    "    #votes_declares = [v[\"total_votes\"] for v in vs.values()]\n",
    "        \n",
    "    #votes_declares = [len(v[\"total_votes\"]) for v in vs.values()]\n",
    "    #plt.plot(votes_declares,color='b')\n",
    "    plt.show()\n",
    "    \n",
    "    return\n",
    "show_nb_votes_by_versions(versions)"
   ]
  }
 ],
 "metadata": {
  "kernelspec": {
   "display_name": "Python 3",
   "language": "python",
   "name": "python3"
  },
  "language_info": {
   "codemirror_mode": {
    "name": "ipython",
    "version": 3
   },
   "file_extension": ".py",
   "mimetype": "text/x-python",
   "name": "python",
   "nbconvert_exporter": "python",
   "pygments_lexer": "ipython3",
   "version": "3.5.2"
  }
 },
 "nbformat": 4,
 "nbformat_minor": 0
}
