{
 "cells": [
  {
   "cell_type": "markdown",
   "metadata": {},
   "source": [
    "## Analyse textuelle du débat sur l'Article 9"
   ]
  },
  {
   "cell_type": "code",
   "execution_count": null,
   "metadata": {
    "collapsed": true
   },
   "outputs": [],
   "source": [
    "#coding: utf-8\n",
    "#importing modules\n",
    "#lecture des json\n",
    "import json\n",
    "#text-minig\n",
    "import re\n",
    "#viz\n",
    "import matplotlib\n",
    "import matplotlib.pyplot as plt\n",
    "#calcul\n",
    "import numpy as np\n",
    "from itertools import combinations\n",
    "%matplotlib inline"
   ]
  },
  {
   "cell_type": "markdown",
   "metadata": {},
   "source": [
    "## Article 9: version originale"
   ]
  },
  {
   "cell_type": "code",
   "execution_count": null,
   "metadata": {
    "collapsed": true
   },
   "outputs": [],
   "source": [
    "def load_vo(art_file = \"./article_9.json\"):\n",
    "    with open(art_file, \"r\") as f:\n",
    "        article9 = json.load(f)\n",
    "    return article9\n",
    "article9 = load_vo()\n"
   ]
  },
  {
   "cell_type": "markdown",
   "metadata": {},
   "source": [
    "* **découvrir les informations disponibles dans l'article9**"
   ]
  },
  {
   "cell_type": "code",
   "execution_count": null,
   "metadata": {
    "collapsed": false
   },
   "outputs": [],
   "source": [
    "# toutes les clés du dictionnaire de l'article9\n",
    "print(\"Clés de l'ARTICLE 9:\")\n",
    "for clé, valeur in list(article9.items()):\n",
    "    print(\"-\"+clé, type(valeur))"
   ]
  },
  {
   "cell_type": "markdown",
   "metadata": {},
   "source": [
    "L'article9 stocke à la fois les informations contextuelles sur l'article dans sa version originale mais encore\n",
    "tous les **arguments**, les **sources** et toutes les **versions** de cet article.\n",
    "On note que les **votes** sont pour le moment dans un fichier à part.\n",
    "Nous allons garder de coté les arguments, sources et versions pour les manipuler "
   ]
  },
  {
   "cell_type": "code",
   "execution_count": null,
   "metadata": {
    "collapsed": true
   },
   "outputs": [],
   "source": [
    "#on stocke les informations dans des variables simples\n",
    "versions = article9[\"versions\"] #toutes les versions sans la version originale\n",
    "arguments = article9[\"arguments\"] #tous les arguments (version orginale+ versions complémentaires??? a verifier)\n",
    "sources = article9[\"sources\"] #toutes les sources\n"
   ]
  },
  {
   "cell_type": "markdown",
   "metadata": {},
   "source": [
    "### Versions de l'article 9\n",
    "\n",
    "Ici nous allons nous concentrer sur les différentes versions (amendements) de l'article \n",
    "ainsi que les **commentaires** qui justifient ces modifications\n"
   ]
  },
  {
   "cell_type": "markdown",
   "metadata": {},
   "source": [
    "* **découvrir les informations contenues dans les versions**:\n",
    "\n",
    "*pour l'exemple nous allons prendre la première version de ses versions complémentaires (soit V1)*\n"
   ]
  },
  {
   "cell_type": "code",
   "execution_count": null,
   "metadata": {
    "collapsed": false
   },
   "outputs": [],
   "source": [
    "v1 = versions[0]\n",
    "print(\"Les informations pour une version\")\n",
    "for clé, valeur in v1.items():\n",
    "    print(\"-\"+clé, type(valeur))"
   ]
  },
  {
   "cell_type": "markdown",
   "metadata": {},
   "source": [
    "Les valeurs qui vont nous intéresser dans un premier temps vont etre:\n",
    "* le titre\n",
    "* le comment"
   ]
  },
  {
   "cell_type": "markdown",
   "metadata": {},
   "source": [
    "* ** combien de versions? **\n"
   ]
  },
  {
   "cell_type": "code",
   "execution_count": null,
   "metadata": {
    "collapsed": false
   },
   "outputs": [],
   "source": [
    "print(len(versions), \"versions complémentaires + 1 version originale\")  "
   ]
  },
  {
   "cell_type": "markdown",
   "metadata": {},
   "source": [
    "### Formater la version originale\n",
    "Nous allons dans un premier temps formatter la version originale de la même manière que les versions complémentaire.\n",
    "avec les mêmes informations disponibles dans chaque version\n",
    "La version originale avec les informations qui nous intéressent sous forme de dictionnaire (de la même manière que les autres versions)\n",
    "\n",
    "En sachant que :\n",
    "* la version originale n'a pas de comment mais une explication de l'article (body) ainsi qu'une réponse aux multiples arguments (answer)\n",
    "* le titre complet n'est pas stocké dans l'article on se servira dans un premier temps du subtitle\n",
    "* les votes mitigés ne sont pas comptabilisés\n",
    "* la repartition des arguments entre ok et pas ok n'est pas disponible (il faudrait mapper chaque argument de cette version pour en avoir le coeur net (plus tard)\n",
    "\n"
   ]
  },
  {
   "cell_type": "code",
   "execution_count": null,
   "metadata": {
    "collapsed": true
   },
   "outputs": [],
   "source": [
    "v0 = {\"link\": article9[\"article_link\"], \n",
    "      \"title\": article9[\"subtitle\"], \n",
    "      \"after\": article9[\"body\"], \n",
    "      \"comment\": article9[\"answer\"], \n",
    "      \"votes_ok\": article9[\"votes_ok\"],\n",
    "      \"votes_nok\": article9[\"votes_nok\"],\n",
    "      \"votes_mitige\": article9[\"votes_total\"] - (article9[\"votes_ok\"]+article9[\"votes_nok\"]),\n",
    "      \"votes_total\": article9[\"votes_total\"], \n",
    "      \"created_at\": article9[\"created_at\"],\n",
    "      \"udpated_at\": article9[\"updated_at\"],\n",
    "      \"author\": \"gouvernement\",\n",
    "      \"id\": article9[\"article_id\"],\n",
    "      \"arguments_count\": article9[\"arguments_count\"],\n",
    "      #manque \n",
    "      #arguments_yes_count\n",
    "      #arguments_no_count\n",
    "     }"
   ]
  },
  {
   "cell_type": "markdown",
   "metadata": {},
   "source": [
    "### Rappatrier la version originale dans les versions\n",
    "\n",
    "Nous allons donc rappatrier **v0** (notre version originale) dans notre variable **versions** qui est une *liste*.\n",
    "La variable version est une liste ordonnée qui respecte l'ordre chronologique des version:\n",
    "nous allons donc insérer en position 0"
   ]
  },
  {
   "cell_type": "code",
   "execution_count": null,
   "metadata": {
    "collapsed": true
   },
   "outputs": [],
   "source": [
    "versions.insert(0, v0)\n"
   ]
  },
  {
   "cell_type": "code",
   "execution_count": null,
   "metadata": {
    "collapsed": false
   },
   "outputs": [],
   "source": [
    "print(versions[0])"
   ]
  },
  {
   "cell_type": "code",
   "execution_count": null,
   "metadata": {
    "collapsed": false
   },
   "outputs": [],
   "source": [
    "print(versions[1])"
   ]
  },
  {
   "cell_type": "markdown",
   "metadata": {},
   "source": [
    "* ** Combien de versions?**:"
   ]
  },
  {
   "cell_type": "code",
   "execution_count": null,
   "metadata": {
    "collapsed": false
   },
   "outputs": [],
   "source": [
    "print(len(versions),\"versions\")"
   ]
  },
  {
   "cell_type": "markdown",
   "metadata": {},
   "source": [
    "* **Combien de votes et d'arguments par version?**"
   ]
  },
  {
   "cell_type": "code",
   "execution_count": null,
   "metadata": {
    "collapsed": false
   },
   "outputs": [],
   "source": [
    "print (\"version_nb\\t|votes nb\\t|arguments nb\\t|auteur\")\n",
    "print(\"---------------------------------------------------------------------\")\n",
    "for i,v in enumerate(versions):\n",
    "    print (\"version_\"+str(i)+\"\\t|\", v[\"votes_total\"], \"\\t\\t|\", v[\"arguments_count\"], \"\\t\\t|\", v[\"author\"])"
   ]
  },
  {
   "cell_type": "markdown",
   "metadata": {},
   "source": [
    "Ecrivons ces données dans un fichier pour plus tard (on ne sait jamais)\n",
    "ici une version minimale:"
   ]
  },
  {
   "cell_type": "code",
   "execution_count": null,
   "metadata": {
    "collapsed": false
   },
   "outputs": [],
   "source": [
    "\n",
    "with open(\"liste_des_versions.csv\", \"w\") as f:\n",
    "    f.write(\"version_nb\\tvotes nb\\targuments nb\\tauteur\\n\")\n",
    "    for i,v in enumerate(versions):\n",
    "        f.write(\"version_\"+str(i)+\"\\t\"+str(v[\"votes_total\"])+\"\\t\"+str(v[\"arguments_count\"])+\"\\t\"+v[\"author\"]+\"\\n\")\n",
    "#NB: vu qu'on manipule des listes on pourrait l'écrire grace à la fonction join() qui va avec les listes\n",
    "#Si on voulait faire de la visualisation le Notebook \n",
    "#Cartographie%20des%20comportements%20des%20electeurs.ipynb\n"
   ]
  },
  {
   "cell_type": "markdown",
   "metadata": {},
   "source": [
    "#### Les commentaires des versions\n",
    "L'objectif ici est de faire un état des lieux des mots employés pour justifier les modifications apportés à la version originale \n",
    "dans une version complémentaire:\n",
    "\n",
    "Dans un premier temps, il s'agit de vérifier l'état des modifications:\n",
    "* Y-a-t-il eu beaucoup de modification du texte original? \n",
    "* Combien de mots d'une version à l'autre ?\n",
    "* Combien de mots au total de la version initiale à la version finale?\n",
    "\n",
    "Dans un deuxième temps, il s'agira de plonger dans le détail des *commentaires justificatifs* \n",
    "et regarder les mots communs et différents à chaque versions\n",
    "* Combien de mots en commun de version a version+1\n",
    "* Combien de mots différents de version a version+1\n",
    "* Combien de mots communs/différents au total de la version initiale à la version finale?\n",
    "\n",
    "\n",
    "Dans un troisième temps, il faudra plonger dans le détail des auteurs\n",
    "en effet un auteur a parfois fait plusieurs modifications.\n",
    "* Combien d'auteur unique?\n",
    "* Combien de versions par auteurs?\n",
    "* Chaque auteur a-t-il un vocabulaire particulier? \n",
    "* Analyser la proximité/distance lexicale des auteurs entre eux (mots communs/mots différents)\n",
    "\n",
    "\n",
    "\n",
    "Dans un quatrième temps, il faudra rappatrier tous les electeurs qui ont voté pour la modification de versions\n",
    "* Quels sont les auteur les plus populaires en nombre de votes absolus?\n",
    "* Quels sont les auteurs les plus proches (en regardant les electeurs qui ont voté pour la même personne)\n",
    "\n"
   ]
  },
  {
   "cell_type": "markdown",
   "metadata": {
    "collapsed": true
   },
   "source": [
    "### Etat des modifications de l'article par versions\n",
    "\n",
    "Nous allons donc dans un premier temps vérifier les modifications du texte original.\n",
    "Nous avons besoin d'une fonction qui transforme un texte en une liste de mots une opération qu'on appelle **chunking**\n",
    "i.e découper le texte en petit bout. Ici on va découper les mots simplement en utilisant le caractère distinctif de l'espace ou de la ponctuation.\n",
    "Un mot est donc ici défini comme une suite de lettres ou de chiffres séparés par un espace, ou un point de ponctuation.\n",
    "Créons notre fonction **get_words** \n",
    "qui nous servira à multiples reprises: elle prend en entrée un texte (n'importe lequel l'avantage de créer une fonction) et renvoie une liste de mots\n"
   ]
  },
  {
   "cell_type": "code",
   "execution_count": null,
   "metadata": {
    "collapsed": true
   },
   "outputs": [],
   "source": [
    "def get_words(text):\n",
    "    #on se sert du module regex trèèèèèès puissant\n",
    "    #avec une notation propre W\n",
    "    #tout ce qui est un espace et tout ce qui n'est pas une lettre\n",
    "    words = re.split('\\W', text)\n",
    "    #print(words)\n",
    "    return words\n",
    "    "
   ]
  },
  {
   "cell_type": "code",
   "execution_count": null,
   "metadata": {
    "collapsed": false
   },
   "outputs": [],
   "source": [
    "#test\n",
    "get_words(\"La vie n'est pas un long fleuve tranquille\")"
   ]
  },
  {
   "cell_type": "markdown",
   "metadata": {},
   "source": [
    "* **Transformons la version 0 et la version 109 en liste de mots**\n",
    "\n",
    "Le texte dans sa version transformé est stocké dans ```'after'```"
   ]
  },
  {
   "cell_type": "code",
   "execution_count": null,
   "metadata": {
    "collapsed": false
   },
   "outputs": [],
   "source": [
    "#print (versions[0][\"after\"])\n",
    "#la premiere\n",
    "motsv0 = get_words(versions[0][\"after\"])\n",
    "print(motsv0)\n",
    "#la derniere\n",
    "motsv109 = get_words(versions[-1][\"after\"])\n",
    "print(motsv109)"
   ]
  },
  {
   "cell_type": "markdown",
   "metadata": {},
   "source": [
    "On remarque ici qu'il y a des élements vides dans la liste. \n",
    "On va donc affiner notre fonction préalable en filtrant les élements vides:"
   ]
  },
  {
   "cell_type": "code",
   "execution_count": null,
   "metadata": {
    "collapsed": true
   },
   "outputs": [],
   "source": [
    "def get_words(text):\n",
    "    #on se sert du module regex trèèèèèès puissant\n",
    "    #avec une notation propre W\n",
    "    #tout ce qui est un espace et tout ce qui n'est pas une lettre\n",
    "    words = re.split('\\W', text)\n",
    "    #print(words)\n",
    "    return [w for w in words if w != \"\"]"
   ]
  },
  {
   "cell_type": "code",
   "execution_count": null,
   "metadata": {
    "collapsed": false
   },
   "outputs": [],
   "source": [
    "motsv0 = get_words(versions[0][\"after\"])\n",
    "print(motsv0)\n",
    "#la derniere on commence à 0 donc c'est la version 1O8 ;)\n",
    "motsv108 = get_words(versions[-1][\"after\"])\n",
    "print(motsv108)"
   ]
  },
  {
   "cell_type": "markdown",
   "metadata": {},
   "source": [
    "* **Combien de mots?**"
   ]
  },
  {
   "cell_type": "code",
   "execution_count": null,
   "metadata": {
    "collapsed": false
   },
   "outputs": [],
   "source": [
    "\n",
    "\n",
    "print(\"La version 0 compte\", len(motsv0), \"mots\")\n",
    "print(\"La version 108 compte\", len(motsv108), \"mots\")\n",
    "print(len(motsv108) - len(motsv0))\n"
   ]
  },
  {
   "cell_type": "markdown",
   "metadata": {},
   "source": [
    "Il y a donc des mots qui ont été enlevés plus qu'ajoutés entre les deux versions:\n",
    "quels sont_il?"
   ]
  },
  {
   "cell_type": "code",
   "execution_count": null,
   "metadata": {
    "collapsed": false
   },
   "outputs": [],
   "source": [
    "diff = set(motsv0) - set(motsv109)\n",
    "symetric_diff = set(motsv0) ^ set(motsv109)\n",
    "print(list(diff))\n",
    "print(list(symetric_diff))\n"
   ]
  },
  {
   "cell_type": "markdown",
   "metadata": {},
   "source": [
    "On remarque ici que les seuls mots retirés de la version sont des mots liés au contexte dans lequel s'ajoute la loi.\n",
    "On vérifie cette assertion en regarder la variation des mots versions par version"
   ]
  },
  {
   "cell_type": "code",
   "execution_count": null,
   "metadata": {
    "collapsed": false
   },
   "outputs": [],
   "source": [
    "#on fait une liste avec tout les mots de la même manière que précédemment\n",
    "mots_v = [get_words(v[\"after\"]) for v in versions]\n",
    "#et on compare v a v+1\n",
    "diff_v = [[list(set(mots_v[i+1])- set(mots_v[i])), list(set(mots_v[i]) - set(mots_v[i+1]))] for i in range(len(mots_v)-1)]\n",
    "#symetric_diff_v = [set(mots_v[i+1]) ^ set(mots_v[i]) for i in range(len(mots_v)-1)]\n",
    "for i, diff in enumerate(diff_v):\n",
    "    ajout, supp = diff\n",
    "    print(\"version\", i+1,\"a ajouté\", ajout,\"et retiré\", supp)\n",
    "    \n",
    "    \n",
    "    "
   ]
  },
  {
   "cell_type": "markdown",
   "metadata": {},
   "source": [
    "Très peu de changement comme on peut le voir...\n",
    "\n",
    "Ce n'est donc pas dans le texte lui même que le débat sur l'article de loi c'est joué"
   ]
  },
  {
   "cell_type": "markdown",
   "metadata": {},
   "source": [
    "### Commentaires des versions\n",
    "La première version n'a pas de commentaire en revanche certaines modifications ont fait l'objet de commentaires\n",
    "\n",
    "stockées dans ```'comment'```"
   ]
  },
  {
   "cell_type": "code",
   "execution_count": 55,
   "metadata": {
    "collapsed": false
   },
   "outputs": [
    {
     "name": "stdout",
     "output_type": "stream",
     "text": [
      "Version 0 {}\n",
      "Version 108 La recherche financée par l'Etat appartient à tous, tous doivent pouvoir l'utiliser à des fins commerciales ou non !\n"
     ]
    }
   ],
   "source": [
    "#ici on compare v0 et V108\n",
    "print(\"Version 0\", versions[0][\"comment\"])\n",
    "print(\"Version 108\", versions[-1][\"comment\"])\n"
   ]
  },
  {
   "cell_type": "code",
   "execution_count": null,
   "metadata": {
    "collapsed": true
   },
   "outputs": [],
   "source": [
    "On remarque que la version originale n'a pas de commentaire. Ce qui est logique!\n",
    "On va se concentrer donc sur les commentaires liés à la réécriture du texte de loi comme un moyen de justifier \n",
    "\n",
    "les changements opérés sur le texte de loi qui eux n'ont pas été bien stockés."
   ]
  },
  {
   "cell_type": "code",
   "execution_count": 59,
   "metadata": {
    "collapsed": false
   },
   "outputs": [
    {
     "name": "stdout",
     "output_type": "stream",
     "text": [
      "108 commentaires de versions\n",
      "commentaire de v 1 \t\t 174 \tmots\n",
      "commentaire de v 2 \t\t 104 \tmots\n",
      "commentaire de v 3 \t\t 578 \tmots\n",
      "commentaire de v 4 \t\t 46 \tmots\n",
      "commentaire de v 5 \t\t 27 \tmots\n",
      "commentaire de v 6 \t\t 54 \tmots\n",
      "commentaire de v 7 \t\t 1 \tmots\n",
      "commentaire de v 8 \t\t 1 \tmots\n",
      "commentaire de v 9 \t\t 1 \tmots\n",
      "commentaire de v 10 \t\t 1 \tmots\n",
      "commentaire de v 11 \t\t 105 \tmots\n",
      "commentaire de v 12 \t\t 88 \tmots\n",
      "commentaire de v 13 \t\t 23 \tmots\n",
      "commentaire de v 14 \t\t 56 \tmots\n",
      "commentaire de v 15 \t\t 22 \tmots\n",
      "commentaire de v 16 \t\t 460 \tmots\n",
      "commentaire de v 17 \t\t 172 \tmots\n",
      "commentaire de v 18 \t\t 756 \tmots\n",
      "commentaire de v 19 \t\t 1 \tmots\n",
      "commentaire de v 20 \t\t 1 \tmots\n",
      "commentaire de v 21 \t\t 164 \tmots\n",
      "commentaire de v 22 \t\t 3 \tmots\n",
      "commentaire de v 23 \t\t 62 \tmots\n",
      "commentaire de v 24 \t\t 136 \tmots\n",
      "commentaire de v 25 \t\t 34 \tmots\n",
      "commentaire de v 26 \t\t 1 \tmots\n",
      "commentaire de v 27 \t\t 1 \tmots\n",
      "commentaire de v 28 \t\t 394 \tmots\n",
      "commentaire de v 29 \t\t 34 \tmots\n",
      "commentaire de v 30 \t\t 357 \tmots\n",
      "commentaire de v 31 \t\t 40 \tmots\n",
      "commentaire de v 32 \t\t 349 \tmots\n",
      "commentaire de v 33 \t\t 394 \tmots\n",
      "commentaire de v 34 \t\t 63 \tmots\n",
      "commentaire de v 35 \t\t 19 \tmots\n",
      "commentaire de v 36 \t\t 86 \tmots\n",
      "commentaire de v 37 \t\t 168 \tmots\n",
      "commentaire de v 38 \t\t 1 \tmots\n",
      "commentaire de v 39 \t\t 27 \tmots\n",
      "commentaire de v 40 \t\t 371 \tmots\n",
      "commentaire de v 41 \t\t 1 \tmots\n",
      "commentaire de v 42 \t\t 108 \tmots\n",
      "commentaire de v 43 \t\t 42 \tmots\n",
      "commentaire de v 44 \t\t 1 \tmots\n",
      "commentaire de v 45 \t\t 273 \tmots\n",
      "commentaire de v 46 \t\t 213 \tmots\n",
      "commentaire de v 47 \t\t 241 \tmots\n",
      "commentaire de v 48 \t\t 10 \tmots\n",
      "commentaire de v 49 \t\t 59 \tmots\n",
      "commentaire de v 50 \t\t 31 \tmots\n",
      "commentaire de v 51 \t\t 1 \tmots\n",
      "commentaire de v 52 \t\t 219 \tmots\n",
      "commentaire de v 53 \t\t 34 \tmots\n",
      "commentaire de v 54 \t\t 1220 \tmots\n",
      "commentaire de v 55 \t\t 83 \tmots\n",
      "commentaire de v 56 \t\t 91 \tmots\n",
      "commentaire de v 57 \t\t 91 \tmots\n",
      "commentaire de v 58 \t\t 32 \tmots\n",
      "commentaire de v 59 \t\t 206 \tmots\n",
      "commentaire de v 60 \t\t 227 \tmots\n",
      "commentaire de v 61 \t\t 287 \tmots\n",
      "commentaire de v 62 \t\t 26 \tmots\n",
      "commentaire de v 63 \t\t 114 \tmots\n",
      "commentaire de v 64 \t\t 53 \tmots\n",
      "commentaire de v 65 \t\t 47 \tmots\n",
      "commentaire de v 66 \t\t 1 \tmots\n",
      "commentaire de v 67 \t\t 85 \tmots\n",
      "commentaire de v 68 \t\t 334 \tmots\n",
      "commentaire de v 69 \t\t 1 \tmots\n",
      "commentaire de v 70 \t\t 52 \tmots\n",
      "commentaire de v 71 \t\t 141 \tmots\n",
      "commentaire de v 72 \t\t 1 \tmots\n",
      "commentaire de v 73 \t\t 1 \tmots\n",
      "commentaire de v 74 \t\t 90 \tmots\n",
      "commentaire de v 75 \t\t 392 \tmots\n",
      "commentaire de v 76 \t\t 254 \tmots\n",
      "commentaire de v 77 \t\t 1 \tmots\n",
      "commentaire de v 78 \t\t 20 \tmots\n",
      "commentaire de v 79 \t\t 1 \tmots\n",
      "commentaire de v 80 \t\t 9 \tmots\n",
      "commentaire de v 81 \t\t 761 \tmots\n",
      "commentaire de v 82 \t\t 423 \tmots\n",
      "commentaire de v 83 \t\t 181 \tmots\n",
      "commentaire de v 84 \t\t 160 \tmots\n",
      "commentaire de v 85 \t\t 426 \tmots\n",
      "commentaire de v 86 \t\t 218 \tmots\n",
      "commentaire de v 87 \t\t 34 \tmots\n",
      "commentaire de v 88 \t\t 15 \tmots\n",
      "commentaire de v 89 \t\t 23 \tmots\n",
      "commentaire de v 90 \t\t 83 \tmots\n",
      "commentaire de v 91 \t\t 313 \tmots\n",
      "commentaire de v 92 \t\t 110 \tmots\n",
      "commentaire de v 93 \t\t 68 \tmots\n",
      "commentaire de v 94 \t\t 137 \tmots\n",
      "commentaire de v 95 \t\t 109 \tmots\n",
      "commentaire de v 96 \t\t 120 \tmots\n",
      "commentaire de v 97 \t\t 64 \tmots\n",
      "commentaire de v 98 \t\t 93 \tmots\n",
      "commentaire de v 99 \t\t 245 \tmots\n",
      "commentaire de v 100 \t\t 70 \tmots\n",
      "commentaire de v 101 \t\t 1 \tmots\n",
      "commentaire de v 102 \t\t 30 \tmots\n",
      "commentaire de v 103 \t\t 267 \tmots\n",
      "commentaire de v 104 \t\t 23 \tmots\n",
      "commentaire de v 105 \t\t 42 \tmots\n",
      "commentaire de v 106 \t\t 78 \tmots\n",
      "commentaire de v 107 \t\t 115 \tmots\n",
      "commentaire de v 108 \t\t 20 \tmots\n"
     ]
    }
   ],
   "source": [
    "comments_v = [get_words(str(v[\"comment\"])) for v in versions[1:]]\n",
    "print(len(comments_v),\"commentaires de versions\")\n",
    "for i,co in enumerate(comments_v):\n",
    "    print (\"commentaire de v\", i+1,\"\\t\\t\", len(co), \"\\tmots\") "
   ]
  },
  {
   "cell_type": "code",
   "execution_count": 67,
   "metadata": {
    "collapsed": false
   },
   "outputs": [
    {
     "name": "stdout",
     "output_type": "stream",
     "text": [
      "*comparaison de version 2 avec 1 :\n",
      "\t-nombre de mots communs 21\n",
      "\t-nombre de mots differents 146\n",
      "*comparaison de version 3 avec 2 :\n",
      "\t-nombre de mots communs 36\n",
      "\t-nombre de mots differents 290\n",
      "*comparaison de version 4 avec 3 :\n",
      "\t-nombre de mots communs 21\n",
      "\t-nombre de mots differents 292\n",
      "*comparaison de version 5 avec 4 :\n",
      "\t-nombre de mots communs 5\n",
      "\t-nombre de mots differents 54\n",
      "*comparaison de version 6 avec 5 :\n",
      "\t-nombre de mots communs 5\n",
      "\t-nombre de mots differents 62\n",
      "*comparaison de version 7 avec 6 :\n",
      "\t-nombre de mots communs 0\n",
      "\t-nombre de mots differents 48\n",
      "*comparaison de version 8 avec 7 :\n",
      "\t-nombre de mots communs 1\n",
      "\t-nombre de mots differents 0\n",
      "*comparaison de version 9 avec 8 :\n",
      "\t-nombre de mots communs 1\n",
      "\t-nombre de mots differents 0\n",
      "*comparaison de version 10 avec 9 :\n",
      "\t-nombre de mots communs 1\n",
      "\t-nombre de mots differents 0\n",
      "*comparaison de version 11 avec 10 :\n",
      "\t-nombre de mots communs 0\n",
      "\t-nombre de mots differents 76\n",
      "*comparaison de version 12 avec 11 :\n",
      "\t-nombre de mots communs 14\n",
      "\t-nombre de mots differents 116\n",
      "*comparaison de version 13 avec 12 :\n",
      "\t-nombre de mots communs 5\n",
      "\t-nombre de mots differents 80\n",
      "*comparaison de version 14 avec 13 :\n",
      "\t-nombre de mots communs 7\n",
      "\t-nombre de mots differents 54\n",
      "*comparaison de version 15 avec 14 :\n",
      "\t-nombre de mots communs 3\n",
      "\t-nombre de mots differents 61\n",
      "*comparaison de version 16 avec 15 :\n",
      "\t-nombre de mots communs 9\n",
      "\t-nombre de mots differents 187\n",
      "*comparaison de version 17 avec 16 :\n",
      "\t-nombre de mots communs 36\n",
      "\t-nombre de mots differents 234\n",
      "*comparaison de version 18 avec 17 :\n",
      "\t-nombre de mots communs 47\n",
      "\t-nombre de mots differents 350\n",
      "*comparaison de version 19 avec 18 :\n",
      "\t-nombre de mots communs 0\n",
      "\t-nombre de mots differents 324\n",
      "*comparaison de version 20 avec 19 :\n",
      "\t-nombre de mots communs 1\n",
      "\t-nombre de mots differents 0\n",
      "*comparaison de version 21 avec 20 :\n",
      "\t-nombre de mots communs 0\n",
      "\t-nombre de mots differents 103\n",
      "*comparaison de version 22 avec 21 :\n",
      "\t-nombre de mots communs 1\n",
      "\t-nombre de mots differents 103\n",
      "*comparaison de version 23 avec 22 :\n",
      "\t-nombre de mots communs 1\n",
      "\t-nombre de mots differents 47\n",
      "*comparaison de version 24 avec 23 :\n",
      "\t-nombre de mots communs 15\n",
      "\t-nombre de mots differents 102\n",
      "*comparaison de version 25 avec 24 :\n",
      "\t-nombre de mots communs 11\n",
      "\t-nombre de mots differents 91\n",
      "*comparaison de version 26 avec 25 :\n",
      "\t-nombre de mots communs 0\n",
      "\t-nombre de mots differents 28\n",
      "*comparaison de version 27 avec 26 :\n",
      "\t-nombre de mots communs 1\n",
      "\t-nombre de mots differents 0\n",
      "*comparaison de version 28 avec 27 :\n",
      "\t-nombre de mots communs 0\n",
      "\t-nombre de mots differents 201\n",
      "*comparaison de version 29 avec 28 :\n",
      "\t-nombre de mots communs 11\n",
      "\t-nombre de mots differents 210\n",
      "*comparaison de version 30 avec 29 :\n",
      "\t-nombre de mots communs 14\n",
      "\t-nombre de mots differents 195\n",
      "*comparaison de version 31 avec 30 :\n",
      "\t-nombre de mots communs 19\n",
      "\t-nombre de mots differents 187\n",
      "*comparaison de version 32 avec 31 :\n",
      "\t-nombre de mots communs 18\n",
      "\t-nombre de mots differents 201\n",
      "*comparaison de version 33 avec 32 :\n",
      "\t-nombre de mots communs 55\n",
      "\t-nombre de mots differents 293\n",
      "*comparaison de version 34 avec 33 :\n",
      "\t-nombre de mots communs 20\n",
      "\t-nombre de mots differents 213\n",
      "*comparaison de version 35 avec 34 :\n",
      "\t-nombre de mots communs 7\n",
      "\t-nombre de mots differents 58\n",
      "*comparaison de version 36 avec 35 :\n",
      "\t-nombre de mots communs 5\n",
      "\t-nombre de mots differents 68\n",
      "*comparaison de version 37 avec 36 :\n",
      "\t-nombre de mots communs 25\n",
      "\t-nombre de mots differents 123\n",
      "*comparaison de version 38 avec 37 :\n",
      "\t-nombre de mots communs 0\n",
      "\t-nombre de mots differents 115\n",
      "*comparaison de version 39 avec 38 :\n",
      "\t-nombre de mots communs 0\n",
      "\t-nombre de mots differents 25\n",
      "*comparaison de version 40 avec 39 :\n",
      "\t-nombre de mots communs 10\n",
      "\t-nombre de mots differents 209\n",
      "*comparaison de version 41 avec 40 :\n",
      "\t-nombre de mots communs 0\n",
      "\t-nombre de mots differents 206\n",
      "*comparaison de version 42 avec 41 :\n",
      "\t-nombre de mots communs 0\n",
      "\t-nombre de mots differents 82\n",
      "*comparaison de version 43 avec 42 :\n",
      "\t-nombre de mots communs 3\n",
      "\t-nombre de mots differents 111\n",
      "*comparaison de version 44 avec 43 :\n",
      "\t-nombre de mots communs 0\n",
      "\t-nombre de mots differents 37\n",
      "*comparaison de version 45 avec 44 :\n",
      "\t-nombre de mots communs 0\n",
      "\t-nombre de mots differents 157\n",
      "*comparaison de version 46 avec 45 :\n",
      "\t-nombre de mots communs 45\n",
      "\t-nombre de mots differents 201\n",
      "*comparaison de version 47 avec 46 :\n",
      "\t-nombre de mots communs 34\n",
      "\t-nombre de mots differents 210\n",
      "*comparaison de version 48 avec 47 :\n",
      "\t-nombre de mots communs 2\n",
      "\t-nombre de mots differents 149\n",
      "*comparaison de version 49 avec 48 :\n",
      "\t-nombre de mots communs 2\n",
      "\t-nombre de mots differents 55\n",
      "*comparaison de version 50 avec 49 :\n",
      "\t-nombre de mots communs 6\n",
      "\t-nombre de mots differents 66\n",
      "*comparaison de version 51 avec 50 :\n",
      "\t-nombre de mots communs 0\n",
      "\t-nombre de mots differents 30\n",
      "*comparaison de version 52 avec 51 :\n",
      "\t-nombre de mots communs 0\n",
      "\t-nombre de mots differents 141\n",
      "*comparaison de version 53 avec 52 :\n",
      "\t-nombre de mots communs 8\n",
      "\t-nombre de mots differents 155\n",
      "*comparaison de version 54 avec 53 :\n",
      "\t-nombre de mots communs 17\n",
      "\t-nombre de mots differents 530\n",
      "*comparaison de version 55 avec 54 :\n",
      "\t-nombre de mots communs 40\n",
      "\t-nombre de mots differents 516\n",
      "*comparaison de version 56 avec 55 :\n",
      "\t-nombre de mots communs 15\n",
      "\t-nombre de mots differents 110\n",
      "*comparaison de version 57 avec 56 :\n",
      "\t-nombre de mots communs 17\n",
      "\t-nombre de mots differents 109\n",
      "*comparaison de version 58 avec 57 :\n",
      "\t-nombre de mots communs 7\n",
      "\t-nombre de mots differents 83\n",
      "*comparaison de version 59 avec 58 :\n",
      "\t-nombre de mots communs 9\n",
      "\t-nombre de mots differents 131\n",
      "*comparaison de version 60 avec 59 :\n",
      "\t-nombre de mots communs 29\n",
      "\t-nombre de mots differents 190\n",
      "*comparaison de version 61 avec 60 :\n",
      "\t-nombre de mots communs 40\n",
      "\t-nombre de mots differents 208\n",
      "*comparaison de version 62 avec 61 :\n",
      "\t-nombre de mots communs 12\n",
      "\t-nombre de mots differents 159\n",
      "*comparaison de version 63 avec 62 :\n",
      "\t-nombre de mots communs 6\n",
      "\t-nombre de mots differents 93\n",
      "*comparaison de version 64 avec 63 :\n",
      "\t-nombre de mots communs 15\n",
      "\t-nombre de mots differents 93\n",
      "*comparaison de version 65 avec 64 :\n",
      "\t-nombre de mots communs 11\n",
      "\t-nombre de mots differents 62\n",
      "*comparaison de version 66 avec 65 :\n",
      "\t-nombre de mots communs 0\n",
      "\t-nombre de mots differents 42\n",
      "*comparaison de version 67 avec 66 :\n",
      "\t-nombre de mots communs 0\n",
      "\t-nombre de mots differents 69\n",
      "*comparaison de version 68 avec 67 :\n",
      "\t-nombre de mots communs 35\n",
      "\t-nombre de mots differents 185\n",
      "*comparaison de version 69 avec 68 :\n",
      "\t-nombre de mots communs 0\n",
      "\t-nombre de mots differents 188\n",
      "*comparaison de version 70 avec 69 :\n",
      "\t-nombre de mots communs 0\n",
      "\t-nombre de mots differents 45\n",
      "*comparaison de version 71 avec 70 :\n",
      "\t-nombre de mots communs 12\n",
      "\t-nombre de mots differents 115\n",
      "*comparaison de version 72 avec 71 :\n",
      "\t-nombre de mots communs 0\n",
      "\t-nombre de mots differents 96\n",
      "*comparaison de version 73 avec 72 :\n",
      "\t-nombre de mots communs 1\n",
      "\t-nombre de mots differents 0\n",
      "*comparaison de version 74 avec 73 :\n",
      "\t-nombre de mots communs 0\n",
      "\t-nombre de mots differents 59\n",
      "*comparaison de version 75 avec 74 :\n",
      "\t-nombre de mots communs 24\n",
      "\t-nombre de mots differents 185\n",
      "*comparaison de version 76 avec 75 :\n",
      "\t-nombre de mots communs 39\n",
      "\t-nombre de mots differents 234\n",
      "*comparaison de version 77 avec 76 :\n",
      "\t-nombre de mots communs 0\n",
      "\t-nombre de mots differents 138\n",
      "*comparaison de version 78 avec 77 :\n",
      "\t-nombre de mots communs 0\n",
      "\t-nombre de mots differents 21\n",
      "*comparaison de version 79 avec 78 :\n",
      "\t-nombre de mots communs 0\n",
      "\t-nombre de mots differents 21\n",
      "*comparaison de version 80 avec 79 :\n",
      "\t-nombre de mots communs 0\n",
      "\t-nombre de mots differents 10\n",
      "*comparaison de version 81 avec 80 :\n",
      "\t-nombre de mots communs 8\n",
      "\t-nombre de mots differents 323\n",
      "*comparaison de version 82 avec 81 :\n",
      "\t-nombre de mots communs 65\n",
      "\t-nombre de mots differents 438\n",
      "*comparaison de version 83 avec 82 :\n",
      "\t-nombre de mots communs 41\n",
      "\t-nombre de mots differents 264\n",
      "*comparaison de version 84 avec 83 :\n",
      "\t-nombre de mots communs 26\n",
      "\t-nombre de mots differents 161\n",
      "*comparaison de version 85 avec 84 :\n",
      "\t-nombre de mots communs 35\n",
      "\t-nombre de mots differents 264\n",
      "*comparaison de version 86 avec 85 :\n",
      "\t-nombre de mots communs 37\n",
      "\t-nombre de mots differents 305\n",
      "*comparaison de version 87 avec 86 :\n",
      "\t-nombre de mots communs 12\n",
      "\t-nombre de mots differents 159\n",
      "*comparaison de version 88 avec 87 :\n",
      "\t-nombre de mots communs 3\n",
      "\t-nombre de mots differents 41\n",
      "*comparaison de version 89 avec 88 :\n",
      "\t-nombre de mots communs 4\n",
      "\t-nombre de mots differents 27\n",
      "*comparaison de version 90 avec 89 :\n",
      "\t-nombre de mots communs 7\n",
      "\t-nombre de mots differents 63\n",
      "*comparaison de version 91 avec 90 :\n",
      "\t-nombre de mots communs 19\n",
      "\t-nombre de mots differents 188\n",
      "*comparaison de version 92 avec 91 :\n",
      "\t-nombre de mots communs 31\n",
      "\t-nombre de mots differents 191\n",
      "*comparaison de version 93 avec 92 :\n",
      "\t-nombre de mots communs 14\n",
      "\t-nombre de mots differents 112\n",
      "*comparaison de version 94 avec 93 :\n",
      "\t-nombre de mots communs 19\n",
      "\t-nombre de mots differents 120\n",
      "*comparaison de version 95 avec 94 :\n",
      "\t-nombre de mots communs 19\n",
      "\t-nombre de mots differents 150\n",
      "*comparaison de version 96 avec 95 :\n",
      "\t-nombre de mots communs 15\n",
      "\t-nombre de mots differents 134\n",
      "*comparaison de version 97 avec 96 :\n",
      "\t-nombre de mots communs 14\n",
      "\t-nombre de mots differents 101\n",
      "*comparaison de version 98 avec 97 :\n",
      "\t-nombre de mots communs 12\n",
      "\t-nombre de mots differents 97\n",
      "*comparaison de version 99 avec 98 :\n",
      "\t-nombre de mots communs 28\n",
      "\t-nombre de mots differents 166\n",
      "*comparaison de version 100 avec 99 :\n",
      "\t-nombre de mots communs 23\n",
      "\t-nombre de mots differents 158\n",
      "*comparaison de version 101 avec 100 :\n",
      "\t-nombre de mots communs 0\n",
      "\t-nombre de mots differents 52\n",
      "*comparaison de version 102 avec 101 :\n",
      "\t-nombre de mots communs 0\n",
      "\t-nombre de mots differents 29\n",
      "*comparaison de version 103 avec 102 :\n",
      "\t-nombre de mots communs 12\n",
      "\t-nombre de mots differents 162\n",
      "*comparaison de version 104 avec 103 :\n",
      "\t-nombre de mots communs 13\n",
      "\t-nombre de mots differents 154\n",
      "*comparaison de version 105 avec 104 :\n",
      "\t-nombre de mots communs 3\n",
      "\t-nombre de mots differents 49\n",
      "*comparaison de version 106 avec 105 :\n",
      "\t-nombre de mots communs 8\n",
      "\t-nombre de mots differents 79\n",
      "*comparaison de version 107 avec 106 :\n",
      "\t-nombre de mots communs 16\n",
      "\t-nombre de mots differents 112\n",
      "*comparaison de version 108 avec 107 :\n",
      "\t-nombre de mots communs 4\n",
      "\t-nombre de mots differents 91\n"
     ]
    }
   ],
   "source": [
    "modifs_comments = []\n",
    "#modifs_stats = []\n",
    "for i in range(len(comments_v)-1):\n",
    "    #ajout = list(set(comments_v[i+1])- set(comments_v[i]))\n",
    "    #supp = list(set(comments_v[i]) - set(comments_v[i+1]))\n",
    "    commun = list(set(comments_v[i+1]) & set(comments_v[i]))\n",
    "    diff = list(set(comments_v[i+1]) ^ set(comments_v[i]))\n",
    "    modif = [commun, diff]\n",
    "    #modif_stats = [len(ajout), len(supp), len(commun), len(diff)]\n",
    "    modifs_comments.append(modif)\n",
    "    #modifs_stats.append(modif_stats)\n",
    "    \n",
    "for i, v in enumerate(modifs_comments):\n",
    "    print(\"*comparaison de version\", str(i+2),\"avec\", str(i+1), \":\") \n",
    "    print(\"\\t-nombre de mots communs\", len(v[0]))\n",
    "    print(\"\\t-nombre de mots differents\", len(v[1]))\n",
    "    \n",
    "    \n"
   ]
  },
  {
   "cell_type": "code",
   "execution_count": null,
   "metadata": {
    "collapsed": true
   },
   "outputs": [],
   "source": []
  }
 ],
 "metadata": {
  "kernelspec": {
   "display_name": "Python 3",
   "language": "python",
   "name": "python3"
  },
  "language_info": {
   "codemirror_mode": {
    "name": "ipython",
    "version": 3
   },
   "file_extension": ".py",
   "mimetype": "text/x-python",
   "name": "python",
   "nbconvert_exporter": "python",
   "pygments_lexer": "ipython3",
   "version": "3.5.2"
  }
 },
 "nbformat": 4,
 "nbformat_minor": 0
}
