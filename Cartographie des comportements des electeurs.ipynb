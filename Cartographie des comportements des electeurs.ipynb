{
 "cells": [
  {
   "cell_type": "markdown",
   "metadata": {},
   "source": [
    "# Comportement des électeurs de l'article 9\n"
   ]
  },
  {
   "cell_type": "code",
   "execution_count": 2,
   "metadata": {
    "collapsed": true
   },
   "outputs": [],
   "source": [
    "#coding: utf-8\n",
    "\n",
    "#import des modules\n",
    "#lecture des json\n",
    "import json \n",
    "#affichage des dictionnaires avec idententation\n",
    "import pprint\n",
    "pp = pprint.PrettyPrinter(indent=4, )\n",
    "#librairie des graphes\n",
    "import networkx as nx\n",
    "#affichage des graphs\n",
    "import matplotlib\n",
    "import matplotlib.pyplot as plt\n",
    "#calcul\n",
    "import numpy as np\n",
    "from itertools import combinations\n",
    "%matplotlib inline"
   ]
  },
  {
   "cell_type": "markdown",
   "metadata": {},
   "source": [
    "##    La version originale de l'article 9"
   ]
  },
  {
   "cell_type": "code",
   "execution_count": 3,
   "metadata": {
    "collapsed": false
   },
   "outputs": [],
   "source": [
    "def load_vo(art_file = \"./article_9.json\"):\n",
    "    with open(art_file, \"r\") as f:\n",
    "        article9 = json.load(f)\n",
    "    return article9\n",
    "article_9 = load_vo()"
   ]
  },
  {
   "cell_type": "code",
   "execution_count": 4,
   "metadata": {
    "collapsed": false
   },
   "outputs": [
    {
     "name": "stdout",
     "output_type": "stream",
     "text": [
      "3334 votes\n",
      "132 arguments\n",
      "22 sources\n"
     ]
    }
   ],
   "source": [
    "#votes dans l'article 9\n",
    "\n",
    "print(article_9[\"votes_total\"], \"votes\")\n",
    "print(len(article_9[\"arguments\"]), \"arguments\")\n",
    "print(len(article_9[\"sources\"]), \"sources\")\n",
    "\n"
   ]
  },
  {
   "cell_type": "markdown",
   "metadata": {},
   "source": [
    "## Toutes les  versions de l'article 9\n",
    "\n",
    "Nous allons charger les informations contenues dans le fichier article 9:\n",
    "* la version originale (qui correspond aux statistiques finales de votes sur l'article)\n",
    "* les versions complémentaires (soit les 108 modifications additionnelles proposées au vote)\n",
    "selon la même nomenclature (les versions complémentaires de l'article 9 sont identifiées par le slug de l'article)\n",
    "elles contiennent un ensemble de votes la modification apportée et un ensemble d'arguments "
   ]
  },
  {
   "cell_type": "markdown",
   "metadata": {},
   "source": [
    "#### Une petite explication sur la génération des slugs\n",
    "Ils servent de clés au dictionnaire de versions:\n",
    "Notre but étant de rappatrier les votes de chaque versions  pour chaque participant\n",
    "il faut identifier de quelle version il s'agit.\n",
    "Ici pour faciliter le travail et comme on peut voir plus haut\n",
    "la version originale correspond au nom de générique de l'article\n",
    "\n",
    "Recapitulons:\n",
    "\n",
    "L'url de la version originale se présente sous cette forme:\n",
    "```\n",
    "urlV_0 = \"http://www.republique-numerique.fr/projects/projet-de-loi-numerique/consultation/consultation/opinions/section-2-travaux-de-recherche-et-de-statistique/article-9-acces-aux-travaux-de-la-recherche-financee-par-des-fonds-publics\"\n",
    "```\n",
    "L'url des versions se présentent toujours sous cette formes\n",
    "```\n",
    "urlV_add = \"http://www.republique-numerique.fr/projects/projet-de-loi-numerique/consultation/consultation/opinions/section-2-travaux-de-recherche-et-de-statistique/article-9-acces-aux-travaux-de-la-recherche-financee-par-des-fonds-publics/versions/mise-a-disposition-systematique-des-resultats-de-la-recherche-financee-par-des-fonds-publics\"\n",
    "```\n",
    "\n",
    "Le slug (raccourci) est produit de la manière suivante:\n",
    "* on découpe les urls en morceaux a partir de \"/\" et on prend le dernier element de la liste de la manière suivante\n",
    "```\n",
    "liste_element_url = url.split(\"/\")\n",
    "slug = liste_element_url[-1]\n",
    "```\n",
    "    * vérifions pour la version originale:\n",
    "```\n",
    "liste_element_url = urlV_O.split(\"/\")\n",
    "print(liste_element _url)\n",
    "slug = liste_element_url[-1]\n",
    "print(slug)\n",
    "```\n",
    "On est censé avoir:\n",
    "```\n",
    ">>> ['http:', '', 'www.republique-numerique.fr', 'projects', 'projet-de-loi-numerique', 'consultation', 'consultation', 'opinions', 'section-2-travaux-de-recherche-et-de-statistique', 'article-9-acces-aux-travaux-de-la-recherche-financee-par-des-fonds-publics']\n",
    ">>>'article-9-acces-aux-travaux-de-la-recherche-financee-par-des-fonds-publics'\n",
    "```\n",
    "    * vérifions pour une autre version:\n",
    "```\n",
    "liste_element_url = urlV_add.split(\"/\")\n",
    "print(liste_element _url)\n",
    "slug = liste_element_url[-1]\n",
    "print(slug)\n",
    "```\n",
    "On est censé avoir:\n",
    "```\n",
    ">>> ['http:', '', 'www.republique-numerique.fr', 'projects', 'projet-de-loi-numerique', 'consultation', 'consultation', 'opinions', 'section-2-travaux-de-recherche-et-de-statistique', 'article-9-acces-aux-travaux-de-la-recherche-financee-par-des-fonds-publics', 'versions', 'mise-a-disposition-systematique-des-resultats-de-la-recherche-financee-par-des-fonds-publics']\n",
    ">>>'mise-a-disposition-systematique-des-resultats-de-la-recherche-financee-par-des-fonds-publics'\n",
    "```"
   ]
  },
  {
   "cell_type": "code",
   "execution_count": 5,
   "metadata": {
    "collapsed": true
   },
   "outputs": [],
   "source": [
    "def load_versions(art_file=\"article9.json\"):\n",
    "    '''charger l'ensemble des versions de l'article'''\n",
    "    versions_d = {}\n",
    "    with open(art_file, \"r\") as f:\n",
    "        article9 = json.load(f)\n",
    "    \n",
    "    #Pour rappel\n",
    "    #print article9.keys()\n",
    "    versions_d[article9[\"article_link\"].split(\"/\")[-1]] = {\n",
    "                \"id\": 0,\n",
    "                \"date\": article9[\"created_at\"],\n",
    "                \"link\": article9[\"article_link\"],\n",
    "                \"slug\": article9[\"article_link\"].split(\"/\")[-1],\n",
    "                \"title\": article9[\"article_link\"].split(\"/\")[-1].replace(\"-\", \" \"),\n",
    "                \"text\": article9['body'],\n",
    "                \"author\": article9[\"author\"],\n",
    "                \"votes\":[],                                               #<= rappatriés par la suite\n",
    "                \"arguments\":article9[\"arguments\"], #<= les arguments de l'article\n",
    "                \"votes_arguments\": [],                                    #<= rappatriés par la suite\n",
    "                \"sources\":article9[\"sources\"],#<= les sources de l'article\n",
    "                \"votes_sources\": [],                                      #<= rappatriés par la suite\n",
    "                \"total_votes\": article9[\"votes_total\"],#<= les votes comptabilisés\n",
    "                #les décomptes de votes sur les arguments ne sont pas disponible dans l'article9\n",
    "                  # seulement le nombre d'arguments\n",
    "                \"total_arguments_votes\": article9[\"arguments_count\"]\n",
    "               }\n",
    "    #les versions de l'article sont stockés dans le fichier à \"versions\"\n",
    "    versions = article9[\"versions\"]\n",
    "    \n",
    "    #on construit une liste de versions\n",
    "    for i,v in enumerate(versions):\n",
    "        #pour rappel\n",
    "        #print v.keys()\n",
    "        versions_d[v[\"slug\"]] = {\"date\":v[\"created_at\"],\n",
    "                \"id\": i+1,\n",
    "                \"link\":v[\"link\"],\n",
    "                #\"slug\":v[\"slug\"],\n",
    "                \"title\":v[\"title\"],\n",
    "                \"text\": v['comment'],\n",
    "                \"author\": v[\"author\"],\n",
    "                \"votes\":[], \n",
    "                \"arguments\":[], \n",
    "                \"votes_arguments\": [],\n",
    "                \"sources\":[],\n",
    "                \"votes_sources\": [],\n",
    "                \"total_votes\":v[\"votes_total\"],\n",
    "              #ici il s'agit bien du nombre de votes sur un argument\n",
    "                \"total_arguments_votes\": v[\"arguments_count\"]\n",
    "             }\n",
    "    print(len(versions_d), \"versions de l'article 9\")\n",
    "    return versions_d"
   ]
  },
  {
   "cell_type": "code",
   "execution_count": 6,
   "metadata": {
    "collapsed": false
   },
   "outputs": [
    {
     "name": "stdout",
     "output_type": "stream",
     "text": [
      "109 versions de l'article 9\n"
     ]
    }
   ],
   "source": [
    "#les versions\n",
    "versions = load_versions(\"./article_9.json\")"
   ]
  },
  {
   "cell_type": "markdown",
   "metadata": {},
   "source": [
    "On a donc maintenant un référentiel de versions successives pour l'article9"
   ]
  },
  {
   "cell_type": "markdown",
   "metadata": {},
   "source": [
    "# Les participants\n",
    "\n",
    "Nous allons maintenant récupérer l'ensemble de la liste des participants au *projet de loi*\n",
    "avec leurs votes respectifs qui sont dans le fichier participants.json\n",
    "Pour cela, nous allons construire un dictionnaire participants_d\n",
    "{username: [vote1, vote2, vote3,...]}\n"
   ]
  },
  {
   "cell_type": "code",
   "execution_count": 7,
   "metadata": {
    "collapsed": false
   },
   "outputs": [],
   "source": [
    "def load_participants():\n",
    "    #charger les votes des participants\n",
    "    with open(\"./participants.json\", \"r\") as f:\n",
    "        data = json.load(f)\n",
    "        participants = data[\"participants\"]\n",
    "    \n",
    "    participants_d = {}\n",
    "    for part in participants:\n",
    "        for k,v in part.items():\n",
    "            \n",
    "            participants_d[k] = v[\"votes\"]\n",
    "        \n",
    "    print (len(participants_d), \"participants sur l'ensemble des articles\")\n",
    "    return participants_d"
   ]
  },
  {
   "cell_type": "code",
   "execution_count": 8,
   "metadata": {
    "collapsed": false
   },
   "outputs": [
    {
     "name": "stdout",
     "output_type": "stream",
     "text": [
      "21329 participants sur l'ensemble des articles\n"
     ]
    }
   ],
   "source": [
    "# les participants\n",
    "participants = load_participants()"
   ]
  },
  {
   "cell_type": "markdown",
   "metadata": {},
   "source": [
    "### Les electeurs de l'article 9\n",
    "\n",
    "Nous allons dans `update_version`\n",
    "mettre à jour notre référentiel de version en ajoutant les votes de chaque participants\n",
    "Rappelez vous dans notre dictionnaire de versions pour l'article9, les votes, votes_arguments, votes_sources sont des listes encore vides\n",
    "\n",
    "Le détail des votes est disponible dans participants et sont organisés par electeurs\n",
    "Nous allons donc regarder pour chaque electeur et pour chaque vote:\n",
    "    - s'il a voté pour une des versions de l'article 9\n",
    "    identifiable par son nom générique \n",
    "```\n",
    "art = \"article-9-acces-aux-travaux-de-la-recherche-financee-par-des-fonds-publics\"\n",
    "``` \n",
    "    - vérifier pour quelle version il a voté:\n",
    "    identifiable par le slug (cf. plus haut)\n",
    "    - vérifier ensuite s'il s'agit d'un vote sur une source argument ou la version elle même\n",
    "    identifiable par #source-<id> ou #arg-<id> ou s'il n'en a pas il s'agit de la version elle même\n",
    "    "
   ]
  },
  {
   "cell_type": "code",
   "execution_count": 9,
   "metadata": {
    "collapsed": false
   },
   "outputs": [],
   "source": [
    "def update_versions(participants, versions_d, art=\"article-9-acces-aux-travaux-de-la-recherche-financee-par-des-fonds-publics\"):\n",
    "    #pour chaque participant\n",
    "    for user, votes in participants.items():\n",
    "        #pour chaque vote du participants\n",
    "        for vote in votes:            \n",
    "            link = vote[\"link\"]\n",
    "            #a-t-il voté pour notre article?\n",
    "            if art in link:\n",
    "                \n",
    "                date =  vote[\"date\"]\n",
    "                opinion = vote[\"opinion\"]\n",
    "                #pour quelle version?\n",
    "                slug = link.split(\"/\")[-1]\n",
    "                \n",
    "                #est ce qu'on peut découper avec #?\n",
    "                # = y a t'il une info complémentaire du type #arg #source\n",
    "                try:\n",
    "                    #oui: c'est un vote sur un arg ou une source\n",
    "                    slug_, tid = slug.split(\"#\") \n",
    "                    \n",
    "                    #exemple:\n",
    "                    \n",
    "                    if tid.startswith(\"arg-\"):\n",
    "                        #print(tid)\n",
    "                        #dans notre dictionnaire de référence sur les versions\n",
    "                        #c'est un argument on stocke dans les votes pour les arguments\n",
    "                        versions_d[slug_][\"votes_arguments\"].append({\"electeur\":user,\"vote\": opinion, \"date\":date, \"id\":tid})\n",
    "                    elif tid.startswith(\"source-\"):\n",
    "                        #c'est une sources on stocke dans les votes pour les sources\n",
    "                        versions_d[slug_][\"votes_sources\"].append({\"electeur\":user,\"vote\": opinion, \"date\":date, \"id\":tid})\n",
    "                    else:\n",
    "                        #au cas ou il y aurait un #autrechose mais ne s'applique pas ici\n",
    "                        print(slug_)\n",
    "                except:\n",
    "                                         #non: c'est donc un vote simple sur une version (originale ou autre)\n",
    "                    versions_d[slug][\"votes\"].append({\"electeur\":user,\"vote\": opinion, \"date\":date})\n",
    "    \n",
    "    return versions_d\n",
    "    "
   ]
  },
  {
   "cell_type": "code",
   "execution_count": 10,
   "metadata": {
    "collapsed": false
   },
   "outputs": [],
   "source": [
    "#mise à jour des versions en intégrants les votes des participants\n",
    "full_versions = update_versions(participants, versions)\n"
   ]
  },
  {
   "cell_type": "markdown",
   "metadata": {},
   "source": [
    "Notre référentiel de versions est mis à jour et contient désormais \n",
    "le détail des votes pour chaque version.\n",
    "\n",
    "Petit rappel de repartition des votes par types:\n",
    "    * votes sur les versions \"votes\":[]\n",
    "    * votes sur les arguments de chaque versions \"votes_arguments\":[]\n",
    "    * votes sur les sources de chaque versions \"votes_sources\"\n",
    "\n",
    "Les votes sont rangés par version dans des listes. Chaque vote est ensuite caractérisé par une date, l'electeur, le vote et son id unique dans un dictionnaire. {\"date\":XXXX, \"electeur\": \"username\", \"id\": XXX, \"vote\":(1|0|-1)}\n",
    "\n",
    "Nous allons commencer par faire quelques verifications du nombre de votes total toutes versions confondues."
   ]
  },
  {
   "cell_type": "code",
   "execution_count": 11,
   "metadata": {
    "collapsed": false
   },
   "outputs": [
    {
     "data": {
      "image/png": "[encoded data removed]",
      "text/plain": [
       "<matplotlib.figure.Figure at 0x7f9fd8936780>"
      ]
     },
     "metadata": {},
     "output_type": "display_data"
    }
   ],
   "source": [
    "### Vérifions donc la repartition des votes simple par version\n",
    "\n",
    "def show_nb_votes_by_versions(vs):\n",
    "    #for k,v in vs.items():\n",
    "    #    print(len(v[\"votes\"]),\"votes sur la version:\" , k )\n",
    "    N = len(vs)\n",
    "    votes_nb = [len(v[\"votes\"])  for v in vs.values()]\n",
    "    \n",
    "    plt.title(\"Repartition des votes simples par version\")\n",
    "    plt.ylabel('Nb votes')\n",
    "    #pylab.xlim([0,108])\n",
    "    #pylab.xlim([0,N])\n",
    "    plt.plot(votes_nb,color='r')\n",
    "    #votes_declares = [v[\"total_votes\"] for v in vs.values()]\n",
    "        \n",
    "    #votes_declares = [len(v[\"total_votes\"]) for v in vs.values()]\n",
    "    #plt.plot(votes_declares,color='b')\n",
    "    plt.show()\n",
    "    \n",
    "    return\n",
    "show_nb_votes_by_versions(versions)"
   ]
  },
  {
   "cell_type": "code",
   "execution_count": 12,
   "metadata": {
    "collapsed": false
   },
   "outputs": [
    {
     "data": {
      "image/png": "[encoded data removed]",
      "text/plain": [
       "<matplotlib.figure.Figure at 0x7f9fcb8b2780>"
      ]
     },
     "metadata": {},
     "output_type": "display_data"
    }
   ],
   "source": [
    "#verifions maintenant les votes par arguments\n",
    "def show_nb_votes_args_by_versions(vs):\n",
    "    #for k,v in vs.items():\n",
    "    #    print(len(v[\"votes\"]),\"votes sur la version:\" , k )\n",
    "    N = len(vs)\n",
    "    votes_nb = [len(v[\"votes_arguments\"])  for v in vs.values()]\n",
    "    \n",
    "    plt.title(\"Repartition des votes sur les arguments par version\")\n",
    "    plt.ylabel('Nb votes')\n",
    "    #pylab.xlim([0,108])\n",
    "    #pylab.xlim([0,N])\n",
    "    plt.plot(votes_nb,color='b')\n",
    "\n",
    "    plt.show()\n",
    "    \n",
    "    return\n",
    "show_nb_votes_args_by_versions(versions)"
   ]
  },
  {
   "cell_type": "code",
   "execution_count": 13,
   "metadata": {
    "collapsed": false
   },
   "outputs": [
    {
     "data": {
      "image/png": "[encoded data removed]",
      "text/plain": [
       "<matplotlib.figure.Figure at 0x7f9fc9eb97f0>"
      ]
     },
     "metadata": {},
     "output_type": "display_data"
    }
   ],
   "source": [
    "#verifions maintenant les votes sur les sources pour chaque version\n",
    "def show_nb_votes_args_by_sources(vs):\n",
    "    #for k,v in vs.items():\n",
    "    #    print(len(v[\"votes\"]),\"votes sur la version:\" , k )\n",
    "    N = len(vs)\n",
    "    votes_nb = [len(v[\"votes_sources\"])  for v in vs.values()]\n",
    "    \n",
    "    plt.title(\"Repartition des votes sur les sources par version\")\n",
    "    plt.ylabel('Nb votes')\n",
    "    #pylab.xlim([0,108])\n",
    "    #pylab.xlim([0,N])\n",
    "    plt.plot(votes_nb,color='g')\n",
    "\n",
    "    plt.show()\n",
    "    \n",
    "    return\n",
    "show_nb_votes_args_by_sources(versions)"
   ]
  },
  {
   "cell_type": "markdown",
   "metadata": {},
   "source": [
    "On voit donc une modification particulière a cristallisé les réactions des électeurs entrainant un vote massif\n",
    "aussi bien sur les arguments, les sources utilisées que les opinions simples (pour, contre, neutre) il s'agit enr éalité de l'article dans sa version originale\n",
    "\n",
    "Elles correspondent aussi au moment fort de la consultation. \n",
    "Voyons donc le nombre de votes total\n"
   ]
  },
  {
   "cell_type": "code",
   "execution_count": 14,
   "metadata": {
    "collapsed": false
   },
   "outputs": [
    {
     "name": "stdout",
     "output_type": "stream",
     "text": [
      "3334 votes maximum\n",
      "12851 votes total\n",
      "1155 votes args maximum\n",
      "2522 votes args total\n",
      "130 votes sources maximum\n",
      "174 votes sources total\n",
      "15547 votes au total\n",
      "===========\n",
      "Les votes comptabilisés:\n",
      "3334 votes\n"
     ]
    }
   ],
   "source": [
    "votes_simples = [len(v[\"votes\"]) for k, v in versions.items()]\n",
    "print(max(votes_simples), \"votes maximum\")\n",
    "print(sum(votes_simples), \"votes total\")\n",
    "votes_args = [len(v[\"votes_arguments\"]) for k, v in versions.items()]\n",
    "print(max(votes_args), \"votes args maximum\")\n",
    "print(sum(votes_args), \"votes args total\")\n",
    "\n",
    "votes_sources = [len(v[\"votes_sources\"]) for k, v in versions.items()]\n",
    "print(max(votes_sources), \"votes sources maximum\")\n",
    "print(sum(votes_sources), \"votes sources total\")\n",
    "\n",
    "print(sum(votes_simples)+sum(votes_args)+sum(votes_sources), \"votes au total\")\n",
    "print (\"===========\")\n",
    "print(\"Les votes comptabilisés:\")\n",
    "print(article_9[\"votes_total\"], \"votes\")\n"
   ]
  },
  {
   "cell_type": "markdown",
   "metadata": {},
   "source": [
    "On note donc une différence entre les votes compatibilisés de la version originale et les votes réels émis.\n",
    "On découvre en passant donc que les votes comptabilisés par le gouvernement ne prend en compte que le nombre de **votes de la versions originale**. \n",
    "\n",
    "La proposition d'amender un article et de voter pour cette version de texte n'a eu une aucune incidence sur le choix de réécriture des articles ni sur le droit de réponse ouvert par le gouvernement sur la base des articles les plus votés.\n",
    "Les systèmes de votes multiples (article, amendements, arguments) n'est donc pas intégré au processus de validation de consultation final dans un souci de s'assurer sans doute qu'un électeur n'a voté qu'une seule fois."
   ]
  },
  {
   "cell_type": "code",
   "execution_count": 15,
   "metadata": {
    "collapsed": false
   },
   "outputs": [
    {
     "data": {
      "text/plain": [
       "<matplotlib.figure.Figure at 0x7f9fc8973e80>"
      ]
     },
     "metadata": {},
     "output_type": "display_data"
    },
    {
     "data": {
      "image/png": "[encoded data removed]",
      "text/plain": [
       "<matplotlib.figure.Figure at 0x7f9fc8973cc0>"
      ]
     },
     "metadata": {},
     "output_type": "display_data"
    }
   ],
   "source": [
    "\n",
    "\n",
    "fig = plt.figure()\n",
    "x = [0, 1, 2]\n",
    "y = [sum(votes_simples), sum(votes_args), max(votes_sources)]\n",
    "fig, ax = plt.subplots()\n",
    "rects1 = ax.bar(x, y, 1, color='r')\n",
    "# add some text for labels, title and axes ticks\n",
    "ax.set_ylabel('Max Votes')\n",
    "ax.set_title('Max votes by interaction type')\n",
    "plt.show()\n"
   ]
  },
  {
   "cell_type": "markdown",
   "metadata": {},
   "source": [
    "## Concentrons nous sur les electeurs de l'article 9\n",
    "\n",
    "Maintenant que nous avons nos votes par versions \n",
    "nous allons charger le **détail** des votes pour l\\'article9 qui nous intéresse ici soit:\n",
    "* l'électeur \n",
    "* la version \n",
    "* le vote\n",
    "* la date\n",
    " aussi bien sur l'original que sur les modifications proposées"
   ]
  },
  {
   "cell_type": "code",
   "execution_count": 16,
   "metadata": {
    "collapsed": false
   },
   "outputs": [],
   "source": [
    "def load_votes(participants,art =\"article-9-acces-aux-travaux-de-la-recherche-financee-par-des-fonds-publics\"):\n",
    "    #charger les votes des electeurs de l'article 9\n",
    "    votes_v = []\n",
    "    votes_args = []\n",
    "    votes_src = []\n",
    "    for user, votes in participants.items():\n",
    "        for vote in votes:\n",
    "            link = vote[\"link\"]\n",
    "            if art in link:\n",
    "                date =  vote[\"date\"]\n",
    "                opinion = vote[\"opinion\"]\n",
    "                slug = link.split(\"/\")[-1]\n",
    "                try:\n",
    "                    slug, tid = slug.split(\"#\") \n",
    "                    if \"arg-\" in tid:\n",
    "                        votes_args.append({\"electeur\":user,\"vote\": opinion, \"slug\":slug, \"date\":date, \"id\":tid})\n",
    "                    elif \"source-\" in tid:\n",
    "                        votes_src.append({\"electeur\":user,\"vote\": opinion, \"slug\":slug, \"date\":date, \"id\":tid})\n",
    "                    else:\n",
    "                        pass\n",
    "                        #votes_v.append({\"electeur\":user,\"vote\": opinion, \"slug\":slug, \"date\":date})\n",
    "                except:\n",
    "                    #s'il n'a pas d\"identifiant il s'agit d'un vote simple\n",
    "                    votes_v.append({\"electeur\":user,\"vote\": opinion, \"slug\":slug, \"date\":date})\n",
    "            \n",
    "    print(len(votes_v),\"votes\", len(votes_args),\"votes sur les arg\", len(votes_src), \"votes sur les sources\")\n",
    "    return votes_v, votes_args, votes_src\n",
    "    "
   ]
  },
  {
   "cell_type": "code",
   "execution_count": 17,
   "metadata": {
    "collapsed": false
   },
   "outputs": [
    {
     "name": "stdout",
     "output_type": "stream",
     "text": [
      "12851 votes 2522 votes sur les arg 174 votes sur les sources\n"
     ]
    }
   ],
   "source": [
    "votes9, votes_args9, votes_sources9 = load_votes(participants)"
   ]
  },
  {
   "cell_type": "markdown",
   "metadata": {},
   "source": [
    "# Filtrer les electeurs les plus actifs\n",
    "\n",
    "* Premier objectif : calculer combien de fois un electeur a voté au total (c'est à dire sur toutes les versions de l'article) on se concentre uniquement sur les votes simples\n"
   ]
  },
  {
   "cell_type": "code",
   "execution_count": 18,
   "metadata": {
    "collapsed": false
   },
   "outputs": [
    {
     "name": "stdout",
     "output_type": "stream",
     "text": [
      "syndicatnationaldeledition voted 44 times\n",
      "syndicatnationaldeledition contributes at 0.34238580655201933 % of total votes\n"
     ]
    },
    {
     "data": {
      "text/plain": [
       "0.34238580655201933"
      ]
     },
     "execution_count": 18,
     "metadata": {},
     "output_type": "execute_result"
    }
   ],
   "source": [
    "def count_votes_electeurs(votes):\n",
    "    #ici on compte simplement le nombre de nom d'electeur dans  la liste de votes \n",
    "    #soit pour chaque electeur son nombre de vote total peut importe la version\n",
    "    from collections import Counter, defaultdict\n",
    "    electeur_nb_votes = dict(Counter([data[\"electeur\"] for data in votes]))\n",
    "    return electeur_nb_votes\n",
    "    \n",
    "electeur_nb_votes  = count_votes_electeurs(votes9)\n",
    "\n",
    "def how_many_votes_for(username):\n",
    "    electeur_nb_votes  = count_votes_electeurs(votes9)\n",
    "    nb_votes = electeur_nb_votes[username] \n",
    "    print (username, \"voted\", nb_votes, \"times\" )\n",
    "    return nb_votes\n",
    "def weight_of_contribution(username):\n",
    "    '''in pourcentage'''\n",
    "    electeur_nb_votes  = count_votes_electeurs(votes9)\n",
    "    pourcent = (electeur_nb_votes[username]/len(votes9))*100\n",
    "    print (username, \"contributes at\", pourcent, \"% of total votes\" )\n",
    "    return pourcent\n",
    "    \n",
    "\n",
    "how_many_votes_for(\"syndicatnationaldeledition\")\n",
    "weight_of_contribution(\"syndicatnationaldeledition\")\n",
    "\n"
   ]
  },
  {
   "cell_type": "markdown",
   "metadata": {},
   "source": [
    "* Deuxième objectif: qui sont les électeurs les plus actifs?"
   ]
  },
  {
   "cell_type": "code",
   "execution_count": 19,
   "metadata": {
    "collapsed": false
   },
   "outputs": [
    {
     "name": "stdout",
     "output_type": "stream",
     "text": [
      "[('jeannevarasco', 88), ('vincentreverdy', 80), ('duflotjeanluc', 55), ('syndicatnationaldeledition', 44), ('charlesruelle', 43)]\n"
     ]
    }
   ],
   "source": [
    "\n",
    "\n",
    "import operator\n",
    "nb_votes = sorted(electeur_nb_votes.items(), key=operator.itemgetter(1))[::-1]\n",
    "\n",
    "#les 5 electeurs les plus actifs avec leur nombre de votes\n",
    "print(nb_votes[:5])\n"
   ]
  },
  {
   "cell_type": "markdown",
   "metadata": {},
   "source": [
    "* Troisième objectif: evaluer le seuil critique de participations a partir de la fréquence de votes\n",
    "\n",
    "A partir de quel moment la participation d'un électeur compte?\n",
    "\n",
    "Les participants pouvaient voter plusieurs fois, \n",
    "on peut analyser le poid de l'ensemble des participants \n",
    "dans le vote pour mieux évaluer les relations.\n",
    "\n",
    "Soit x nb d'electeurs on contribué à x % des votes.\n",
    "\n",
    "\n",
    "Si on analyse la répartition des electeurs / X le nombre de votes, on se rend compte comme la plupart des datasets que 80% des electeurs ont compté pour moins de 20 % des votes\n",
    "\n",
    "## Fréquence de votes"
   ]
  },
  {
   "cell_type": "code",
   "execution_count": 20,
   "metadata": {
    "collapsed": false
   },
   "outputs": [
    {
     "data": {
      "image/png": "[encoded data removed]",
      "text/plain": [
       "<matplotlib.figure.Figure at 0x7f9fcb811080>"
      ]
     },
     "metadata": {},
     "output_type": "display_data"
    }
   ],
   "source": [
    "from collections import Counter, defaultdict\n",
    "repartition = dict(Counter(elem[1] for elem in nb_votes))\n",
    "#for nb_vote, total in repartition.items():\n",
    "#    print (\"%i electeurs ont votés %i fois\"%(total,nb_vote))\n",
    "#    print (\"soit %i votes qui représentent %i pourcent des votes\" %(nb_vote*total,nb_vote*total/len(votes9)*100))\n",
    "\n",
    "fig = plt.figure()\n",
    "total_votes = [k*v for k,v in repartition.items()]\n",
    "\n",
    "#plt.plot(list(repartition.values()),color='g')\n",
    "plt.plot(list(repartition.values()), 'r')\n",
    "# You can specify a rotation for the tick labels in degrees or with keywords.\n",
    "plt.xticks(x, list(repartition.keys()))\n",
    "#plt.plot(total_votes, \"g\")\n",
    "# Pad margins so that markers don't get clipped by the axes\n",
    "plt.margins(0.1)\n",
    "# Tweak spacing to prevent clipping of tick-labels\n",
    "plt.subplots_adjust(bottom=0.1)\n",
    "#fig.set_xlabel('Nb d electeur')\n",
    "#fig.set_ylabel('nb de votes')\n",
    "plt.xlabel('Nb of time voted')\n",
    "plt.ylabel('Frequency of vote')\n",
    "plt.title('repartition des frequences de votes')\n",
    "#plt.show()\n",
    "plt.show()\n",
    "    \n",
    "\n",
    "\n"
   ]
  },
  {
   "cell_type": "markdown",
   "metadata": {},
   "source": [
    "## Top électeurs\n",
    "\n",
    "Si on veut analyser le comportement des électeurs, \n",
    "il s'agit de se concentrer sur les électeurs les plus engagés et actifs.\n",
    "\n",
    "On va donc établir un filtre d'activité. \n",
    "\n",
    "Ici on va filtrer les electeurs les plus actifs selon un nb_votes_min\n",
    "qui veut dire l'electeur doit avoir voté au moins X fois\n",
    "On récupère la liste des votes correspondants.\n"
   ]
  },
  {
   "cell_type": "code",
   "execution_count": 21,
   "metadata": {
    "collapsed": false
   },
   "outputs": [
    {
     "name": "stdout",
     "output_type": "stream",
     "text": [
      "- % des votes: 35.592560890203096\n",
      "- % des participants: 8.553682342502219\n"
     ]
    }
   ],
   "source": [
    "def filter_top_electeurs(nb_votes, votes9, nb_votes_min):\n",
    "    top_electeurs = []\n",
    "    sum_votes = []\n",
    "    for electeur, nb in nb_votes:\n",
    "        if nb >= nb_votes_min:\n",
    "            top_electeurs.append(electeur)\n",
    "            sum_votes.append(nb)\n",
    "    #from collections import Counter, defaultdict\n",
    "    #on recupère le nom des electeurs\n",
    "    #qui ont voté au moins x fois\n",
    "    votes_f = []\n",
    "    sum_votes = sum(sum_votes)\n",
    "    \n",
    "    for el in top_electeurs:\n",
    "        for vote in votes9:\n",
    "            if vote[\"electeur\"] == el:\n",
    "                votes_f.append(vote)\n",
    "        #On déroule la liste des votes \n",
    "        \n",
    "            #print(vote)\n",
    "            \n",
    "    \n",
    "    part_votes = len(votes_f)/len(votes9)*100\n",
    "    part_electeurs = len(top_electeurs)/len(nb_votes)*100\n",
    "    print (\"- % des votes:\",part_votes)\n",
    "    print (\"- % des participants:\",part_electeurs)\n",
    "    return votes_f\n",
    "\n",
    "NB_VOTES_MIN = 5\n",
    "top_votes = filter_top_electeurs(nb_votes, votes9, NB_VOTES_MIN)\n"
   ]
  },
  {
   "cell_type": "markdown",
   "metadata": {
    "collapsed": true
   },
   "source": [
    "## Les similarités de comportements\n",
    "\n",
    "Calc_similarity\n",
    "on calcule la similarité entre les top_electeurs sur l'ensemble des versions\n",
    "on definit grace au SEUIL que les electeurs sont similaires\n",
    "à partir du moment où ils ont votés x fois sur la même version\n"
   ]
  },
  {
   "cell_type": "code",
   "execution_count": 38,
   "metadata": {
    "collapsed": false
   },
   "outputs": [
    {
     "name": "stdout",
     "output_type": "stream",
     "text": [
      "- % des votes: 35.592560890203096\n",
      "- % des participants: 8.553682342502219\n",
      "41495\n"
     ]
    }
   ],
   "source": [
    "def get_votes(top_votes, user):\n",
    "    #filtrer les votes d'un utilisateur\n",
    "    return [v for v in top_votes if v[\"electeur\"] == user]\n",
    "                \n",
    "def get_version(top_votes, slug):\n",
    "    #filter une version\n",
    "    return [v for v in top_votes if v[\"slug\"] == slug]\n",
    "def get_opinions(top_votes):\n",
    "    #filtrer les opinions\n",
    "    return [v[\"opinion\"] for v in top_votes]\n",
    "    \n",
    "def calc_similarity(nb_votes, votes9, nb_votes_min, nb_votes_simil=0):\n",
    "    #Rappel:definition du score de similarité\n",
    "    #un electeur est similaire à un autre\n",
    "    #dans la mesure où ils ont voté X fois de la même manière\n",
    "    \n",
    "    top_votes = filter_top_electeurs(nb_votes, votes9, nb_votes_min)\n",
    "    electeurs= set([v[\"electeur\"] for v in top_votes])\n",
    "    \n",
    "    \n",
    "    from itertools import combinations\n",
    "    \n",
    "    #pour chaque version\n",
    "    #for v, k in versions_d.items():\n",
    "        #j'ajoute les votes de chaque utilisateur:\n",
    "        #versionA = [{\"user x\": 1}, {\"user Y\": -1}, {\"user B\": 0}]\n",
    "    #    votes_by_version[v] = {e[\"electeur\"]:e[\"vote\"] for e in k[\"votes\"]}\n",
    "    \n",
    "    #mon score de similarité est un dictionnaire de couple possible\n",
    "    #avec un score à 0 au début\n",
    "    similarity_score = {}\n",
    "    #tous les couples uniques possibles \n",
    "    #(sans permutation c'est à dire sans distinction d'orientation)\n",
    "    # soit pour une combinaison de couple(2)\n",
    "    #[\"A\",\"B\", \"C\"]\n",
    "    #combo = [(A, B), (A,C), (B,C)]\n",
    "    #et non pas\n",
    "    #permut = [(A, B),(B,A), (A,C),(C,A), (B,C), (C,B)]\n",
    "    #notre graphe sera non dirigée le sens n'a aucune importance\n",
    "    #vu qu'il s'agit de savoir s'ils ont un comportement identique dans leur vote\n",
    "    \n",
    "    for couple in combinations(electeurs, 2):\n",
    "        userA, userB = couple\n",
    "        #recuperer les votes de chaque user\n",
    "        votesA= [(v['slug'], v['vote']) for v in get_votes(top_votes, userA)]\n",
    "        votesB= [(v['slug'], v['vote']) for v in get_votes(top_votes, userB)]\n",
    "        #récupérer la taille l'intersection soit des elements similaires des deux listes\n",
    "        score = len(set(votesA).intersection(votesB))\n",
    "        if score >= nb_votes_simil:\n",
    "            similarity_score[couple] = score\n",
    "        \n",
    "        \n",
    "    #on recupère nos couples de top electeur potes si leur score de similarité\n",
    "    # est superieur ou égal au nb de votes similaires nb_votes_simil\n",
    "    print (len(similarity_score), \"couples\")\n",
    "    return similarity_score\n",
    "SEUIL = (5, 3)\n",
    "similar_couples = calc_similarity(nb_votes,votes9, nb_votes_min=SEUIL[0], nb_votes_simil=SEUIL[1])\n",
    "print(len(similar_couples))"
   ]
  },
  {
   "cell_type": "code",
   "execution_count": 39,
   "metadata": {
    "collapsed": false
   },
   "outputs": [
    {
     "name": "stdout",
     "output_type": "stream",
     "text": [
      "- % des votes: 35.592560890203096\n",
      "- % des participants: 8.553682342502219\n"
     ]
    }
   ],
   "source": [
    "def build_dataset(nb_votes,votes9, nb_votes_min=5, nb_votes_simil=3):\n",
    "    similar_couple = calc_similarity(nb_votes,votes9, nb_votes_min=5, nb_votes_simil=3)\n",
    "    with open(\"new_families.csv\", \"w\") as f:\n",
    "        f.write(\"userA\\tuserB\\tscore\\n\")\n",
    "        for couple, score in similar_couple.items():\n",
    "            userA, userB = couple\n",
    "            f.write(\"\\t\".join([userA, userB, str(score)])+\"\\n\")\n",
    "    return similar_couple\n",
    "\n",
    "new_file = build_dataset(nb_votes,votes9, nb_votes_min=5, nb_votes_simil=3)"
   ]
  },
  {
   "cell_type": "code",
   "execution_count": 84,
   "metadata": {
    "collapsed": false
   },
   "outputs": [
    {
     "data": {
      "image/png": "[encoded data removed]",
      "text/plain": [
       "<matplotlib.figure.Figure at 0x7f9fc22cf5f8>"
      ]
     },
     "metadata": {},
     "output_type": "display_data"
    }
   ],
   "source": [
    "## Cartographie des électeurs similaires\n",
    "def build_graph(simil, top_users, name=\"families5_3VFF.gexf\"):\n",
    "    #instancier mon graph non dirigé\n",
    "    g = nx.Graph()\n",
    "    labels = {}\n",
    "    #spatialisation selon l'algo Fruchterman Reingold\n",
    "    pos = nx.spring_layout(g)\n",
    "    \n",
    "    \n",
    "    for couple, score in simil.items():\n",
    "        #print(couple)\n",
    "        g.add_node(couple[1], nb_votes=top_users[couple[1]])\n",
    "        g.add_node(couple[0], nb_votes=top_users[couple[0]])\n",
    "        \n",
    "    g.add_edges_from([(k[0],k[1],{\"weight\":v}) for k, v in simil.items()])\n",
    "    \n",
    "                           \n",
    "    \n",
    "        #print(couple)\n",
    "        #j'ajoute un noeud \n",
    "        #qui a pour poids le nombre de votes de l'utilisateur\n",
    "        #g.add_node(couple[0],label=couple[0] nb_votes=top_users[couple[0]])\n",
    "        \n",
    "        #g.add_node(couple[1], nb_votes=top_users[couple[1]])\n",
    "        #j'ajoute le lien entre les noeuds\n",
    "        #qui a pour poids le score de similarité\n",
    "        #g.add_edge(couple[0], couple[1], width=score, edge_color='g')\n",
    "    \n",
    "    for node in nx.isolates(g):\n",
    "        print (\"Isolé\", node)\n",
    "        g.remove_node(node)\n",
    "    name = \"graph_similarity_TOP5_SCORE_3_OTHER.gexf\"\n",
    "    nx.write_gexf(g, name)\n",
    "    nx.draw(g)\n",
    "    plt.axis('off')\n",
    "    plt.savefig(\"family.png\") # save as png\n",
    "    plt.show()\n",
    "    return\n",
    "graph = build_graph(similar_couples, electeur_nb_votes)"
   ]
  }
 ],
 "metadata": {
  "kernelspec": {
   "display_name": "Python 3",
   "language": "python",
   "name": "python3"
  },
  "language_info": {
   "codemirror_mode": {
    "name": "ipython",
    "version": 3
   },
   "file_extension": ".py",
   "mimetype": "text/x-python",
   "name": "python",
   "nbconvert_exporter": "python",
   "pygments_lexer": "ipython3",
   "version": "3.5.2"
  }
 },
 "nbformat": 4,
 "nbformat_minor": 0
}
