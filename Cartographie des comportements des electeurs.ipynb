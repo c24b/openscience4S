{
 "cells": [
  {
   "cell_type": "code",
   "execution_count": 16,
   "metadata": {
    "collapsed": true
   },
   "outputs": [],
   "source": [
    "#coding: utf-8\n",
    "\n",
    "#import des modules\n",
    "#lecture des json\n",
    "import json \n",
    "#affichage des dictionnaires avec idententation\n",
    "import pprint\n",
    "pp = pprint.PrettyPrinter(indent=4, )\n",
    "#librairie des graphes\n",
    "import networkx as nx\n",
    "#affichage des graphs\n",
    "import matplotlib\n",
    "import matplotlib.pyplot as plt\n",
    "#calcul\n",
    "import numpy as np\n",
    "from itertools import combinations\n",
    "%matplotlib inline"
   ]
  },
  {
   "cell_type": "markdown",
   "metadata": {},
   "source": [
    "# Toutes les  versions de l'article 9\n",
    "\n",
    "Nous allons charger les informations contenues dans le fichier article 9:\n",
    "* la version originale (qui correspond aux statistiques finales de votes sur l'article)\n",
    "* les versions complémentaires (soit les 108 modifications additionnelles proposées au vote)\n",
    "selon la même nomenclature (les versions complémentaires de l'article 9 sont identifiées par le slug de l'article)\n",
    "elles contiennent un ensemble de votes la modification apportée et un ensemble d'arguments "
   ]
  },
  {
   "cell_type": "markdown",
   "metadata": {},
   "source": [
    "#### Une petite explication sur la génération des slugs\n",
    "Ils servent de clés au dictionnaire de versions:\n",
    "Notre but étant de rappatrier les votes de chaque versions  pour chaque participant\n",
    "il faut identifier de quelle version il s'agit.\n",
    "Ici pour faciliter le travail et comme on peut voir plus haut\n",
    "la version originale correspond au nom de générique de l'article\n",
    "\n",
    "Recapitulons:\n",
    "\n",
    "L'url de la version originale se présente sous cette forme:\n",
    "```\n",
    "urlV_0 = \"http://www.republique-numerique.fr/projects/projet-de-loi-numerique/consultation/consultation/opinions/section-2-travaux-de-recherche-et-de-statistique/article-9-acces-aux-travaux-de-la-recherche-financee-par-des-fonds-publics\"\n",
    "```\n",
    "L'url des versions se présentent toujours sous cette formes\n",
    "```\n",
    "urlV_add = \"http://www.republique-numerique.fr/projects/projet-de-loi-numerique/consultation/consultation/opinions/section-2-travaux-de-recherche-et-de-statistique/article-9-acces-aux-travaux-de-la-recherche-financee-par-des-fonds-publics/versions/mise-a-disposition-systematique-des-resultats-de-la-recherche-financee-par-des-fonds-publics\"\n",
    "```\n",
    "\n",
    "Le slug (raccourci) est produit de la manière suivante:\n",
    "* on découpe les urls en morceaux a partir de \"/\" et on prend le dernier element de la liste de la manière suivante\n",
    "```\n",
    "liste_element_url = url.split(\"/\")\n",
    "slug = liste_element_url[-1]\n",
    "```\n",
    "    * vérifions pour la version originale:\n",
    "```\n",
    "liste_element_url = urlV_O.split(\"/\")\n",
    "print(liste_element _url)\n",
    "slug = liste_element_url[-1]\n",
    "print(slug)\n",
    "```\n",
    "On est censé avoir:\n",
    "```\n",
    ">>> ['http:', '', 'www.republique-numerique.fr', 'projects', 'projet-de-loi-numerique', 'consultation', 'consultation', 'opinions', 'section-2-travaux-de-recherche-et-de-statistique', 'article-9-acces-aux-travaux-de-la-recherche-financee-par-des-fonds-publics']\n",
    ">>>'article-9-acces-aux-travaux-de-la-recherche-financee-par-des-fonds-publics'\n",
    "```\n",
    "    * vérifions pour une autre version:\n",
    "```\n",
    "liste_element_url = urlV_add.split(\"/\")\n",
    "print(liste_element _url)\n",
    "slug = liste_element_url[-1]\n",
    "print(slug)\n",
    "```\n",
    "On est censé avoir:\n",
    "```\n",
    ">>> ['http:', '', 'www.republique-numerique.fr', 'projects', 'projet-de-loi-numerique', 'consultation', 'consultation', 'opinions', 'section-2-travaux-de-recherche-et-de-statistique', 'article-9-acces-aux-travaux-de-la-recherche-financee-par-des-fonds-publics', 'versions', 'mise-a-disposition-systematique-des-resultats-de-la-recherche-financee-par-des-fonds-publics']\n",
    ">>>'mise-a-disposition-systematique-des-resultats-de-la-recherche-financee-par-des-fonds-publics'\n",
    "```"
   ]
  },
  {
   "cell_type": "code",
   "execution_count": 45,
   "metadata": {
    "collapsed": true
   },
   "outputs": [],
   "source": [
    "def load_versions(art_file=\"article9.json\"):\n",
    "    '''charger l'ensemble des versions de l'article'''\n",
    "    versions_d = {}\n",
    "    with open(art_file, \"r\") as f:\n",
    "        article9 = json.load(f)\n",
    "    \n",
    "    #Pour rappel\n",
    "    #print article9.keys()\n",
    "    versions_d[article9[\"article_link\"].split(\"/\")[-1]] = {\n",
    "                \"id\": 0,\n",
    "                \"date\": article9[\"created_at\"],\n",
    "                \"link\": article9[\"article_link\"],\n",
    "                \"slug\": article9[\"article_link\"].split(\"/\")[-1],\n",
    "                \"title\": article9[\"article_link\"].split(\"/\")[-1].replace(\"-\", \" \"),\n",
    "                \"text\": article9['body'],\n",
    "                \"author\": article9[\"author\"],\n",
    "                \"votes\":[], \n",
    "                \"arguments\":article9[\"arguments\"], \n",
    "                \"votes_arguments\": [],\n",
    "                \"sources\":article9[\"sources\"],\n",
    "                \"votes_sources\": [],\n",
    "                \"total_votes\": article9[\"votes_total\"],\n",
    "                #les décomptes de votes sur les arguments ne sont pas disponible dans l'article9\n",
    "                  # seulement le nombre d'arguments\n",
    "                \"total_arguments_votes\": article9[\"arguments_count\"]\n",
    "               }\n",
    "    \n",
    "    versions = article9[\"versions\"]\n",
    "    \n",
    "    #on construit une liste de versions\n",
    "    for i,v in enumerate(versions):\n",
    "        #pour rappel\n",
    "        #print v.keys()\n",
    "        versions_d[v[\"slug\"]] = {\"date\":v[\"created_at\"],\n",
    "                \"id\": i+1,\n",
    "                \"link\":v[\"link\"],\n",
    "                #\"slug\":v[\"slug\"],\n",
    "                \"title\":v[\"title\"],\n",
    "                \"text\": v['comment'],\n",
    "                \"author\": v[\"author\"],\n",
    "                \"votes\":[], \n",
    "                \"arguments\":[], \n",
    "                \"votes_arguments\": [],\n",
    "                \"sources\":[],\n",
    "                \"votes_sources\": [],\n",
    "                \"total_votes\":v[\"votes_total\"],\n",
    "              #ici il s'agit bien du nombre de votes sur un argument\n",
    "                \"total_arguments_votes\": v[\"arguments_count\"]\n",
    "             }\n",
    "    print(len(versions_d), \"versions de l'article 9\")\n",
    "    return versions_d"
   ]
  },
  {
   "cell_type": "code",
   "execution_count": 46,
   "metadata": {
    "collapsed": false
   },
   "outputs": [
    {
     "name": "stdout",
     "output_type": "stream",
     "text": [
      "109 versions de l'article 9\n"
     ]
    }
   ],
   "source": [
    "#les versions\n",
    "vs = load_versions(\"./article_9.json\")"
   ]
  },
  {
   "cell_type": "markdown",
   "metadata": {},
   "source": [
    "# Les participants\n",
    "Nous allons maintenant récupérer l'ensemble de la liste des participants au *projet de loi*"
   ]
  },
  {
   "cell_type": "code",
   "execution_count": 18,
   "metadata": {
    "collapsed": false
   },
   "outputs": [],
   "source": [
    "def load_participants():\n",
    "    #charger les votes des participants\n",
    "    with open(\"./participants.json\", \"r\") as f:\n",
    "        data = json.load(f)\n",
    "        participants = data[\"participants\"]\n",
    "    \n",
    "    participants_d = {}\n",
    "    for part in participants:\n",
    "        for k,v in part.items():\n",
    "            \n",
    "            participants_d[k] = v[\"votes\"]\n",
    "        \n",
    "    print (len(participants_d), \"participants sur l'ensemble des articles\")\n",
    "    return participants_d"
   ]
  },
  {
   "cell_type": "code",
   "execution_count": 47,
   "metadata": {
    "collapsed": false
   },
   "outputs": [
    {
     "name": "stdout",
     "output_type": "stream",
     "text": [
      "21329 participants sur l'ensemble des articles\n"
     ]
    }
   ],
   "source": [
    "# les participants\n",
    "part = load_participants()"
   ]
  },
  {
   "cell_type": "markdown",
   "metadata": {},
   "source": [
    "### Les electeurs de l'article 9\n",
    "\n",
    "Nous allons dans `update_version`\n",
    "mettre à jour les version en ajoutant les votes de chaque participants\n",
    "Mais comme les votes sont organisés par electeurs\n",
    "nous allons regarder chaque electeur:\n",
    "    - verifier qu'il a voté pour une des versions de l'article 9\n",
    "    identifiable par son nom générique \n",
    "```\n",
    "art = \"article-9-acces-aux-travaux-de-la-recherche-financee-par-des-fonds-publics\"\n",
    "``` \n",
    "    - vérifier pour quelle version il a voté:\n",
    "    identifiable par le slug (cf. plus haut)\n",
    "    - vérifier ensuite s'il s'agit d'un vote sur une source argument ou la version elle même\n",
    "    identifiable par #source-<id> ou #arg-<id> ou s'il n'en a pas il s'agit de la version elle même\n",
    "    "
   ]
  },
  {
   "cell_type": "code",
   "execution_count": 53,
   "metadata": {
    "collapsed": false
   },
   "outputs": [],
   "source": [
    "def update_versions(participants, versions_d, art=\"article-9-acces-aux-travaux-de-la-recherche-financee-par-des-fonds-publics\"):\n",
    "    #pour chaque participant\n",
    "    for user, votes in participants.items():\n",
    "        #pour chaque vote du participants\n",
    "        for vote in votes:            \n",
    "            link = vote[\"link\"]\n",
    "            #a-t-il voté pour notre article?\n",
    "            if art in link:\n",
    "                date =  vote[\"date\"]\n",
    "                opinion = vote[\"opinion\"]\n",
    "                #pour quelle version?\n",
    "                slug = link.split(\"/\")[-1]\n",
    "                \n",
    "                #est ce qu'on peut découper avec #?\n",
    "                # = y a t'il une info complémentaire du type #arg #source\n",
    "                try:\n",
    "                    #oui: c'est un vote sur un arg ou une source\n",
    "                    slug, tid = slug.split(\"#\") \n",
    "                    #exemple:\n",
    "                    \n",
    "                    if \"arg-\" in tid:\n",
    "                        #dans notre dictionnaire de référence sur les versions\n",
    "                        #c'est un argument on stocke dans les votes pour les arguments\n",
    "                        versions_d[slug][\"votes_arguments\"].append({\"electeur\":user,\"vote\": opinion, \"date\":date, \"id\":tid})\n",
    "                    elif \"source-\" in tid:\n",
    "                        #c'est une sources on stocke dans les votes pour les sources\n",
    "                        versions_d[slug][\"votes_sources\"].append({\"electeur\":user,\"vote\": opinion, \"date\":date, \"id\":tid})\n",
    "                    else:\n",
    "                        #au cas ou il y aurait un #autrechose mais ne s'applique pas ici\n",
    "                        print(slug)\n",
    "                except:\n",
    "                    #non: c'est donc un vote simple sur une version (originale ou autre)\n",
    "                    versions_d[slug][\"votes\"].append({\"electeur\":user,\"vote\": opinion, \"date\":date})\n",
    "    \n",
    "    return versions_d\n",
    "    "
   ]
  },
  {
   "cell_type": "markdown",
   "metadata": {},
   "source": [
    "Ici il s'agit d'une simple fonction pour faciliter les statistiques \n",
    "et pour ne garder que ce qui nous interesse on verra ici que on ne s'intéresse qu'aux votes sur les versions\n",
    "\n",
    "Petit rappel de repartition des votes par types:\n",
    "    * votes sur les versions\n",
    "    * votes sur les arguments de chaque versions\n",
    "    * votes sur les sources de chaque versions\n",
    "\n",
    "Rangés dans des listes qui contiennent la date, l'electeur, le vote et son id unique\n",
    "mis à plat dans `load_votes()` dans des listes de votes."
   ]
  },
  {
   "cell_type": "code",
   "execution_count": 58,
   "metadata": {
    "collapsed": false
   },
   "outputs": [],
   "source": [
    "#mise à jour des versions en intégrants les votes des participants\n",
    "vs = update_versions(part, vs)\n"
   ]
  },
  {
   "cell_type": "code",
   "execution_count": 60,
   "metadata": {
    "collapsed": false
   },
   "outputs": [
    {
     "data": {
      "image/png": "[encoded data removed]",
      "text/plain": [
       "<matplotlib.figure.Figure at 0x7f7bbcbdcf28>"
      ]
     },
     "metadata": {},
     "output_type": "display_data"
    }
   ],
   "source": [
    "### Vérifions donc la repartition des votes simple par version\n",
    "\n",
    "def show_nb_votes_by_versions(vs):\n",
    "    #for k,v in vs.items():\n",
    "    #    print(len(v[\"votes\"]),\"votes sur la version:\" , k )\n",
    "    N = len(vs)\n",
    "    votes_nb = [len(v[\"votes\"])  for v in vs.values()]\n",
    "    \n",
    "    plt.title(\"Repartition des votes simples par version\")\n",
    "    plt.ylabel('Nb votes')\n",
    "    #pylab.xlim([0,108])\n",
    "    #pylab.xlim([0,N])\n",
    "    plt.plot(votes_nb,color='r')\n",
    "\n",
    "    plt.show()\n",
    "    \n",
    "    return\n",
    "show_nb_votes_by_versions(vs)"
   ]
  },
  {
   "cell_type": "code",
   "execution_count": 61,
   "metadata": {
    "collapsed": false
   },
   "outputs": [
    {
     "data": {
      "image/png": "[encoded data removed]",
      "text/plain": [
       "<matplotlib.figure.Figure at 0x7f7bbc061e10>"
      ]
     },
     "metadata": {},
     "output_type": "display_data"
    }
   ],
   "source": [
    "#verifions maintenant les votes par arguments\n",
    "def show_nb_votes_args_by_versions(vs):\n",
    "    #for k,v in vs.items():\n",
    "    #    print(len(v[\"votes\"]),\"votes sur la version:\" , k )\n",
    "    N = len(vs)\n",
    "    votes_nb = [len(v[\"votes_arguments\"])  for v in vs.values()]\n",
    "    \n",
    "    plt.title(\"Repartition des votes sur les arguments par version\")\n",
    "    plt.ylabel('Nb votes')\n",
    "    #pylab.xlim([0,108])\n",
    "    #pylab.xlim([0,N])\n",
    "    plt.plot(votes_nb,color='b')\n",
    "\n",
    "    plt.show()\n",
    "    \n",
    "    return\n",
    "show_nb_votes_args_by_versions(vs)"
   ]
  },
  {
   "cell_type": "code",
   "execution_count": 63,
   "metadata": {
    "collapsed": false
   },
   "outputs": [
    {
     "data": {
      "image/png": "[encoded data removed]",
      "text/plain": [
       "<matplotlib.figure.Figure at 0x7f7bbd5e50b8>"
      ]
     },
     "metadata": {},
     "output_type": "display_data"
    }
   ],
   "source": [
    "#verifions maintenant les votes sur les sources pour chaque version\n",
    "def show_nb_votes_args_by_versions(vs):\n",
    "    #for k,v in vs.items():\n",
    "    #    print(len(v[\"votes\"]),\"votes sur la version:\" , k )\n",
    "    N = len(vs)\n",
    "    votes_nb = [len(v[\"votes_sources\"])  for v in vs.values()]\n",
    "    \n",
    "    plt.title(\"Repartition des votes sur les sourcess par version\")\n",
    "    plt.ylabel('Nb votes')\n",
    "    #pylab.xlim([0,108])\n",
    "    #pylab.xlim([0,N])\n",
    "    plt.plot(votes_nb,color='g')\n",
    "\n",
    "    plt.show()\n",
    "    \n",
    "    return\n",
    "show_nb_votes_args_by_versions(vs)"
   ]
  },
  {
   "cell_type": "markdown",
   "metadata": {},
   "source": [
    "On voit donc une modification particulière a cristallisé les réactions des électeurs entrainant un vote massif\n",
    "aussi bien sur les arguments, les sources utilisées que les opinions simples (pour, contre, neutre) \n",
    "\n",
    "Elles correspondent aussi au moment fort de la consultation. \n",
    "Voyons donc le nombre de votes total\n"
   ]
  },
  {
   "cell_type": "code",
   "execution_count": 112,
   "metadata": {
    "collapsed": false
   },
   "outputs": [
    {
     "name": "stdout",
     "output_type": "stream",
     "text": [
      "(16670, 'votes sur', 'article-9-acces-aux-travaux-de-la-recherche-financee-par-des-fonds-publics')\n",
      "(5775, 'votes sur les arguments de', 'article-9-acces-aux-travaux-de-la-recherche-financee-par-des-fonds-publics')\n",
      "(650, 'votes sur les sources de', 'article-9-acces-aux-travaux-de-la-recherche-financee-par-des-fonds-publics')\n"
     ]
    },
    {
     "data": {
      "text/plain": [
       "<matplotlib.figure.Figure at 0x7f7bb814aef0>"
      ]
     },
     "metadata": {},
     "output_type": "display_data"
    },
    {
     "data": {
      "image/png": "[encoded data removed]",
      "text/plain": [
       "<matplotlib.figure.Figure at 0x7f7bb814ab70>"
      ]
     },
     "metadata": {},
     "output_type": "display_data"
    }
   ],
   "source": [
    "votes_simples = [(len(v[\"votes\"]),\"votes sur\", k)  for k, v in vs.items()]\n",
    "print(max(votes_simples))\n",
    "votes_args = [(len(v[\"votes_arguments\"]),\"votes sur les arguments de\", k)  for k, v in vs.items()]\n",
    "print(max(votes_args))\n",
    "\n",
    "votes_sources = [(len(v[\"votes_sources\"]),\"votes sur les sources de\", k)  for k, v in vs.items()]\n",
    "print(max(votes_sources))\n",
    "\n",
    "fig = plt.figure()\n",
    "\n",
    "x = [0, 1, 2]\n",
    "y = [max(votes_simples)[0], max(votes_args)[0], max(votes_sources)[0]]\n",
    "#plt.hist(y)\n",
    "#from numpy.random import normal\n",
    "#gaussian_numbers = normal(size=1000)\n",
    "#print(gaussian_numbers)\n",
    "#plt.hist(y, 50, histtype=\"stepfilled\", alpha=.7)\n",
    "fig, ax = plt.subplots()\n",
    "rects1 = ax.bar(x, y, 1, color='r')\n",
    "# add some text for labels, title and axes ticks\n",
    "ax.set_ylabel('Max Votes')\n",
    "ax.set_title('Max votes by interaction type')\n",
    "#ax.set_xticks(0.35)\n",
    "#ax.set_xticklabels(['Votes', 'Args', 'Sources'])\n",
    "plt.show()\n",
    "\n",
    "#ax.legend((rects1[0], rects2[0]), ('Men', 'Women'))\n",
    "\n",
    "#votes_max = [max(votes_simples), max(votes_args), max(votes_sources)]\n",
    "    \n",
    "#plt.title(\"Maximum du nb de votes\")\n",
    "#plt.ylabel('Nb votes')\n",
    "#plt.xlabel([\"votes simple\", \"votes args\", \"votes sources\"])\n",
    "    #pylab.xlim([0,108])\n",
    "    #pylab.xlim([0,N])\n",
    "#plt.hist(votes_nb)\n",
    "\n",
    "plt.show()\n",
    "    "
   ]
  },
  {
   "cell_type": "markdown",
   "metadata": {},
   "source": [
    "On voit bien ici qu'on est loin des votes comptabilisés au final sur cet article\n"
   ]
  },
  {
   "cell_type": "markdown",
   "metadata": {},
   "source": [
    "## Concentrons nous sur les electeurs de l'article 9\n",
    "\n",
    "Maintenant que nous avons nos votes par versions \n",
    "nous allons charger le **détail** des votes pour l\\'article9 qui nous intéresse ici soit:\n",
    "* l'électeur \n",
    "* la version \n",
    "* le vote\n",
    "* la date\n",
    " aussi bien sur l'original que sur les modifications proposées"
   ]
  },
  {
   "cell_type": "code",
   "execution_count": 20,
   "metadata": {
    "collapsed": false
   },
   "outputs": [],
   "source": [
    "def load_votes(participants,art =\"article-9-acces-aux-travaux-de-la-recherche-financee-par-des-fonds-publics\"):\n",
    "    #charger les votes des electeurs de l'article 9\n",
    "    votes_v = []\n",
    "    votes_args = []\n",
    "    votes_src = []\n",
    "    for user, votes in participants.items():\n",
    "        for vote in votes:\n",
    "            link = vote[\"link\"]\n",
    "            if art in link:\n",
    "                date =  vote[\"date\"]\n",
    "                opinion = vote[\"opinion\"]\n",
    "                slug = link.split(\"/\")[-1]\n",
    "                try:\n",
    "                    slug, tid = slug.split(\"#\") \n",
    "                    if \"arg-\" in tid:\n",
    "                        votes_args.append({\"electeur\":user,\"vote\": opinion, \"slug\":slug, \"date\":date, \"id\":tid})\n",
    "                    elif \"source-\" in tid:\n",
    "                        votes_src.append({\"electeur\":user,\"vote\": opinion, \"slug\":slug, \"date\":date, \"id\":tid})\n",
    "                    else:\n",
    "                        print(slug)\n",
    "                except:\n",
    "                    votes_v.append({\"electeur\":user,\"vote\": opinion, \"slug\":slug, \"date\":date})\n",
    "            \n",
    "    print(len(votes_v),\"votes\", len(votes_args),\"votes sur les arg\", len(votes_src), \"votes sur les sources\")\n",
    "    return votes_v, votes_args, votes_src\n",
    "    "
   ]
  },
  {
   "cell_type": "markdown",
   "metadata": {},
   "source": [
    "# Filter top_electeur\n",
    "* Premier objectif : calculer combien de fois un electeur a voté pour l'article (c'est à dire sur toutes les versions)\n",
    "\n",
    "On découvre en passant que les votes comptabilisés par le gouvernement ne prend en compte que le nombre de **votes de la versions originale**. \n",
    "\n",
    "La proposition d'amender un article et de voter pour cette version de texte n'a eu une aucune incidence sur le choix de réécriture des articles ni sur le droit de réponse ouvert par le gouvernement sur la base des articles les plus votés.\n",
    "Les systèmes de votes multiples (article, amendements, arguments) n'est donc pas intégré au processus de validation de consultation final."
   ]
  },
  {
   "cell_type": "code",
   "execution_count": 38,
   "metadata": {
    "collapsed": false
   },
   "outputs": [
    {
     "name": "stdout",
     "output_type": "stream",
     "text": [
      "defaultdict(None, {1: 3043, 2: 1359, 3: 488, 4: 263, 5: 117, 6: 95, 7: 63, 8: 48, 9: 33, 10: 21, 11: 22, 12: 14, 13: 12, 14: 10, 15: 5, 16: 4, 17: 2, 18: 3, 19: 4, 20: 2, 21: 1, 22: 1, 88: 1, 25: 2, 26: 1, 28: 1, 30: 1, 32: 1, 33: 2, 35: 4, 36: 2, 38: 1, 39: 2, 80: 1, 41: 1, 42: 2, 43: 1, 44: 1, 55: 1})\n"
     ]
    }
   ],
   "source": [
    "def count_votes_electeurs(votes):\n",
    "    #ici on compte simplement le nombre de nom d'electeur dans  la liste de votes \n",
    "    #soit pour chaque electeur son nombre de vote total peut importe le type de vote\n",
    "    from collections import Counter, defaultdict\n",
    "    electeur_nb_votes = dict(Counter([data[\"electeur\"] for data in votes]))\n",
    "    nb_votes_distrib = defaultdict.fromkeys(electeur_nb_votes.values(), 0)\n",
    "    for electeur, votes in electeur_nb_votes.items():\n",
    "        nb_votes_distrib[votes]+=1\n",
    "        \n",
    "    #print(electeur_nb_votes)\n",
    "    print(dict(nb_votes_distrib)\n",
    "    #import operator\n",
    "    #nb_votes = sorted(voteurs.items(), key=operator.itemgetter(1))\n",
    "    #print(nb_votes)\n",
    "    #nb_votes_stats = {k:len(v) for k,v in nb_votes_d.items()}\n",
    "    #print(sorted(nb_votes_stats.items()))\n",
    "    '''\n",
    "    from collections import Counter, defaultdict\n",
    "    #ici je crée la liste des electeurs uniques qui ont votés\n",
    "    electeur_names = list(set([v[\"electeur\"] for v in votes]))\n",
    "    #ici je crée un dictionnaire pour chaque electeur qui contient une liste vide\n",
    "    electeurs_d = defaultdict.fromkeys(electeur_names, [])\n",
    "    \n",
    "    \n",
    "    #On déroule la liste des votes pour rappatrier le vote de chacun \n",
    "    for vote in votes:\n",
    "        # chaque vote est un dictionnaire\n",
    "        #qui contient le nom de l'electeur + ...\n",
    "        # vote = {\"electeur\": \"cdequatrebarbes\", \"opinion\":1, \"date\": XXX, \"slug\": XXX, \"id\":5}\n",
    "        #pour chaque electeur on lui ajoute son vote (ici un type de vote choisi (cf.votes))\n",
    "        electeurs_d[vote[\"electeur\"]].append(vote)\n",
    "    '''\n",
    "    \n",
    "count_votes_electeurs(votes)"
   ]
  },
  {
   "cell_type": "markdown",
   "metadata": {},
   "source": [
    "* Deuxième objectif: qui sont les electeurs les plus actifs? \n",
    "\n",
    "Si on analyse la répartition des electeurs / X le nombre de votes, on se rend compte comme la plupart des datasets que 80% des electeurs ont compté pour moins de 20 % des votes\n",
    "\n",
    "Ici on filtre les electeurs les plus actifs selon un nb_votes_min\n",
    "qui veut dire l'electeur doit avoir voté au moins X fois\n",
    "\n",
    "On génère donc un nouveau dictionnaire de référence d'électeurs qui correspond aux électeurs ayant votés au moins X fois"
   ]
  },
  {
   "cell_type": "code",
   "execution_count": 22,
   "metadata": {
    "collapsed": false
   },
   "outputs": [],
   "source": [
    "def filter_top_electeurs(votes, nb_votes_min):\n",
    "    from collections import Counter, defaultdict\n",
    "    #ici je crée la liste des electeurs uniques qui ont votés\n",
    "    electeur_names = list(set([v[\"electeur\"] for v in votes]))\n",
    "    #ici je crée un dictionnaire pour chaque electeur qui contient une liste vide\n",
    "    electeurs_d = defaultdict.fromkeys(electeur_names, [])\n",
    "    \n",
    "    #On déroule la liste des votes \n",
    "    for vote in votes:\n",
    "        # chaque vote est un dictionnaire\n",
    "        #qui contient le nom de l'electeur + ...\n",
    "        # vote = {\"electeur\": \"cdequatrebarbes\", \"opinion\":1, \"date\": XXX, \"slug\": XXX, \"id\":5}\n",
    "        #pour chaque electeur on lui ajoute son vote (ici un type de vote choisi (cf.votes))\n",
    "        electeurs_d[vote[\"electeur\"]].append(vote)\n",
    "    \n",
    "    #ici on compte simplement le nombre de nom dans la liste \n",
    "    f = Counter([data[\"electeur\"] for data in votes])\n",
    "    nb_votes_top_users = 0\n",
    "    #f[\"vincentreverdy\"] x fois dans la liste\n",
    "    \n",
    "    for name,nb_votes in f.items():\n",
    "        if nb_votes < nb_votes_min:\n",
    "            del electeurs_d[name]\n",
    "            nb_votes_top_users +=nb_votes\n",
    "    #Quelques stats pour justifier le seuil de participation\n",
    "    nb_top_users =  len(electeurs_d)\n",
    "    #on a aussi nb_votes_top_users\n",
    "    nb_votes_total = len(votes)\n",
    "    \n",
    "    nb_total_users = len(electeur_names)\n",
    "    \n",
    "    \n",
    "    print (\"TOTAL ===============\")\n",
    "    print (\"Nb Total de votes sur les versions\", str(nb_votes_total))\n",
    "    print (\"Nb Total d'electeurs sur les versions\", str(nb_total_users))\n",
    "    print (\"TOP USERS ===============\")\n",
    "    print (\"Nb d'electeur ayant votés\", nb_votes_min, \"fois:\", nb_top_users)\n",
    "    print (\"Nb de votes des electeurs ayant votés\", nb_votes_min, \"fois:\", nb_votes_top_users)\n",
    "    print (\"POURCENTAGE ===============\")\n",
    "    print (\"Ces electeurs ayant votés au moins\", nb_votes_min, \"fois\\n représentent:\")\n",
    "    part_users = float(float(nb_top_users)/nb_total_users)*100\n",
    "    part_votes = (float(nb_votes_top_users)/nb_votes_total)*100\n",
    "    print (\"- % des electeurs:\", part_users)\n",
    "    print (\"- % des votes:\",part_votes)\n",
    "    return electeurs_d\n",
    "    "
   ]
  },
  {
   "cell_type": "code",
   "execution_count": 23,
   "metadata": {
    "collapsed": true
   },
   "outputs": [],
   "source": [
    "## Calc_similarity\n",
    "#on calcule la similarité entre les top_electeurs sur l'ensemble des versions\n",
    "#on definit grace au SEUIL que les electeurs sont similaires\n",
    "#a partir du moment où ils ont votés x fois sur la même version\n"
   ]
  },
  {
   "cell_type": "code",
   "execution_count": 11,
   "metadata": {
    "collapsed": true
   },
   "outputs": [],
   "source": [
    "def calc_similarity(electeurs, versions_d, nb_votes_simil=0):\n",
    "    #Rappel:definition du score de similarité\n",
    "    #un electeur est similaire à un autre\n",
    "    #dans la mesure où ils ont voté X fois de la même manière\n",
    "    \n",
    "    from itertools import combinations\n",
    "    votes_by_version = {}\n",
    "    #pour chaque version\n",
    "    for v, k in versions_d.items():\n",
    "        #j'ajoute les votes de chaque utilisateur:\n",
    "        #versionA = [{\"user x\": 1}, {\"user Y\": -1}, {\"user B\": 0}]\n",
    "        votes_by_version[v] = {e[\"electeur\"]:e[\"vote\"] for e in k[\"votes\"]}\n",
    "    \n",
    "    #mon score de similarité est un dictionnaire de couple possible\n",
    "    #avec un score à 0 au début\n",
    "    similarity_score = {}\n",
    "    #tous les couples uniques possibles \n",
    "    #(sans permutation c'est à dire sans distinction d'orientation)\n",
    "    # soit pour une combinaison de couple(2)\n",
    "    #[\"A\",\"B\", \"C\"]\n",
    "    #combo = [(A, B), (A,C), (B,C)]\n",
    "    #et non pas\n",
    "    #permut = [(A, B),(B,A), (A,C),(C,A), (B,C), (C,B)]\n",
    "    #notre graphe sera non dirigée le sens n'a aucune importance\n",
    "    #vu qu'il s'agit de savoir s'ils ont un comportement identique dans leur vote\n",
    "    for couple in combinations(electeurs.keys(), 2):\n",
    "        userA, userB = couple\n",
    "        \n",
    "        similarity_score[couple] = 0\n",
    "        #pour chaque version\n",
    "        for k,v in votes_by_version.items():\n",
    "            #verifier si A et B ont tous les deux votés pour cette version\n",
    "            if userA in v.keys() and userB in v.keys():\n",
    "                #si A a voté comme B\n",
    "                if v[userA] == v[userB]:\n",
    "                    #alors on ajoute 1\n",
    "                    similarity_score[couple] += 1\n",
    "                \n",
    "    #on recupère nos couples de potes si leur score de similarité\n",
    "    # est superieur ou égal au nb de votes similaires nb_votes_simil\n",
    "    return {couple:score for couple,score in similarity_score.items() if score >= nb_votes_simil}\n"
   ]
  },
  {
   "cell_type": "code",
   "execution_count": 24,
   "metadata": {
    "collapsed": true
   },
   "outputs": [],
   "source": [
    "def build_histogram(versions_nb):\n",
    "    import pylab\n",
    "    %matplotlib inline\n",
    "    N = len(versions_nb)\n",
    "    votes_infos = [v[\"total_votes\"]  for v in versions_nb.values()]\n",
    "    \n",
    "    args_infos = [v[\"total_arguments_votes\"]  for v in versions_nb.values()]\n",
    "    plt.title(\"Historique des votes et votes d'arguments par version\")\n",
    "    plt.ylabel('Nb votes')\n",
    "    #pylab.xlim([0,108])\n",
    "    plt.plot(votes_infos,color='r')\n",
    "    plt.plot(args_infos,color='b')\n",
    "\n",
    "    plt.show()\n",
    "    plt.title(\"historique des votes des arguments par version\")\n",
    "    plt.ylabel('Nb votes sur les arguments')\n",
    "    pylab.xlim([0,len(versions_nb)])\n",
    "    plt.plot(args_infos,color='b')\n",
    "    plt.show()\n",
    "    return"
   ]
  },
  {
   "cell_type": "code",
   "execution_count": 31,
   "metadata": {
    "collapsed": false
   },
   "outputs": [],
   "source": [
    "def build_distrib(freq):\n",
    "    '''build repartition votes'''\n",
    "    N = len(freq)\n",
    "    print(sorted(freq.items()))\n",
    "    plt.title(\"Nombre de votes par auteurs\")\n",
    "    plt.plot(sorted(freq.values()),color='r')\n",
    "    plt.show()\n",
    "    plt.title(\"historique des votes des arguments par version\")\n",
    "    plt.ylabel('Nb votes sur les arguments')\n",
    "    pylab.xlim([0,N])\n",
    "    pylab.ylim([1,50])\n",
    "    plt.show()\n",
    "    return "
   ]
  },
  {
   "cell_type": "code",
   "execution_count": 32,
   "metadata": {
    "collapsed": false
   },
   "outputs": [],
   "source": [
    "def build_dataset(top_electeurs, vs, SEUIL=1):\n",
    "    similar_couple = calc_similarity(top_electeurs, vs, SEUIL=SEUIL)\n",
    "    with open(\"families.csv\", \"w\") as f:\n",
    "        f.write(\"userA\\tuserB\\tscore\\n\")\n",
    "        for couple, score in similar_couple.items():\n",
    "            userA, userB = couple\n",
    "            f.write(\"\\t\".join([userA, userB, str(score)])+\"\\n\")\n",
    "    return similar_couple"
   ]
  },
  {
   "cell_type": "code",
   "execution_count": 33,
   "metadata": {
    "collapsed": false
   },
   "outputs": [],
   "source": [
    "def build_graph(simil, top_users, SEUIL, name=\"test.gexf\"):\n",
    "    #instancier mon graph non dirigé\n",
    "    g = nx.Graph()\n",
    "    #spatialisation selon l'algo Fruchterman Reingold\n",
    "    pos = nx.spring_layout(g)\n",
    "    #pour chaque user du couple\n",
    "    for couple, score in simil.keys():\n",
    "        #j'ajoute un noeud \n",
    "        #qui a pour poids le nombre de votes de l'utilisateur\n",
    "        g.add_node(couple[0], nb_votes=str(len(top_users[couple[0]])))\n",
    "        g.add_node(couple[1], nb_votes=str(len(top_users[couple[1]])))\n",
    "        #j'ajoute le lien entre les noeuds\n",
    "        #qui a pour poids le score de similarité\n",
    "        g.add_edge(couple[0], couple[1], score=str(score))\n",
    "    \n",
    "    for node in nx.isolates(g):\n",
    "        print (\"Isolé\", node)\n",
    "        g.remove_node(node)\n",
    "    #name = \"graph_similarity_TOP%i_SCORE_%i.gexf\" %(SEUIL)\n",
    "    nx.write_gexf(g, name)\n",
    "    nx.draw(g)\n",
    "    plt.show()\n",
    "    return"
   ]
  },
  {
   "cell_type": "code",
   "execution_count": 34,
   "metadata": {
    "collapsed": false
   },
   "outputs": [],
   "source": [
    "def build_graph_from_db(top_users, SEUIL, ):\n",
    "    name = \"./carto_%i_%i.gexf\" %SEUIL\n",
    "    import csv\n",
    "    import networkx as nx\n",
    "    g = nx.Graph()\n",
    "    pos = nx.spring_layout(g)\n",
    "    with open(\"families.csv\", \"r\") as f:\n",
    "        r = csv.reader(f, delimiter=\"\\t\")\n",
    "        for i, row in enumerate(r):\n",
    "            if i == 0:\n",
    "                pass\n",
    "            else:\n",
    "                if int(row[2]) >= SEUIL[1]:\n",
    "                    if (row[0] in top_users.keys() & row[1] in top_users.keys()):\n",
    "                        poid_userA = len(top_users[row[0]])\n",
    "                        poid_userB = len(top_users[row[1]])\n",
    "                    \n",
    "                        g.add_node(row[0], votes_nb=len(top_users[row[0]]))\n",
    "                        g.add_node(row[1], votes_nb=len(top_users[row[1]]))\n",
    "                        g.add_edge(row[0], row[1], score=row[2])\n",
    "                    else:\n",
    "                        print(row[0], row[1], row[2])\n",
    "                    \n",
    "                        \n",
    "    \n",
    "    print (name)\n",
    "    nx.write_gexf(g, name)\n",
    "    return name\n",
    "                    "
   ]
  },
  {
   "cell_type": "code",
   "execution_count": null,
   "metadata": {
    "collapsed": false
   },
   "outputs": [],
   "source": [
    "if __name__ == \"__main__\":\n",
    "    #versions_d = build_versions()\n",
    "    #votes, electeurs_d = load_electeurs()\n",
    "    \n",
    "    part = load_participants()\n",
    "    vs = update_versions(part, vs)\n",
    "    votes, vvargs, vsources= load_votes(part)\n",
    "    build_histogram(vs)\n",
    "    build_distrib(vs)\n",
    "    \n",
    "    #SEUIL\n",
    "    SEUIL = (10, 3)\n",
    "    #seuil 0 : Qui on considère comme top_user (i.i combine de votes minimum?, \n",
    "    #seuil1: A partir de combien de votes on peut dire qu'ils ont un comportement similaire?\n",
    "    #Top electeurs (ont votes x fois au minimum)\n",
    "    top_electeurs = filter_top_electeurs(votes, SEUIL[0])\n",
    "    print(len(top_electeurs))\n",
    "    #On stocke les couples similaires \n",
    "    #(les couples de top_electeur ont votés 1 fois pareil au minimum)\n",
    "    #similar_couples = build_dataset(top_electeurs, vs)\n",
    "    #build_graph_from_db(top_electeurs, SEUIL)\n",
    "    \n",
    "                    \n",
    "                    \n",
    "            \n",
    "        \n",
    "    #filtered_sim_couples = {k: v for k,v in similar_couples.items() if v >= SEUIL[1]}\n",
    "    #graph = build_graph(filtered_sim_couple, top_electeurs)"
   ]
  },
  {
   "cell_type": "code",
   "execution_count": null,
   "metadata": {
    "collapsed": true
   },
   "outputs": [],
   "source": []
  },
  {
   "cell_type": "code",
   "execution_count": null,
   "metadata": {
    "collapsed": true
   },
   "outputs": [],
   "source": []
  }
 ],
 "metadata": {
  "kernelspec": {
   "display_name": "Python 3",
   "language": "python",
   "name": "python3"
  },
  "language_info": {
   "codemirror_mode": {
    "name": "ipython",
    "version": 3
   },
   "file_extension": ".py",
   "mimetype": "text/x-python",
   "name": "python",
   "nbconvert_exporter": "python",
   "pygments_lexer": "ipython3",
   "version": "3.5.2"
  }
 },
 "nbformat": 4,
 "nbformat_minor": 0
}
